{
 "cells": [
  {
   "cell_type": "markdown",
   "id": "19cfa8a2",
   "metadata": {},
   "source": [
    "# **Context, Question, Answer Dataset Creation**"
   ]
  },
  {
   "cell_type": "markdown",
   "id": "4e10ea00",
   "metadata": {},
   "source": [
    "## **Import Libraries**"
   ]
  },
  {
   "cell_type": "code",
   "execution_count": 31,
   "id": "9f4eeffb",
   "metadata": {},
   "outputs": [],
   "source": [
    "import os\n",
    "import json\n",
    "import fitz\n",
    "import math\n",
    "from paddleocr import PaddleOCR\n",
    "import pandas as pd\n",
    "from openai import OpenAI\n",
    "from dotenv import load_dotenv\n",
    "from tqdm.auto import tqdm\n",
    "import paddle\n",
    "\n",
    "pd.set_option('display.max_colwidth', None)"
   ]
  },
  {
   "cell_type": "code",
   "execution_count": 32,
   "id": "95be23ef",
   "metadata": {},
   "outputs": [
    {
     "name": "stdout",
     "output_type": "stream",
     "text": [
      "CUDA available: True\n"
     ]
    }
   ],
   "source": [
    "import paddle\n",
    "print(\"CUDA available:\", paddle.is_compiled_with_cuda())"
   ]
  },
  {
   "cell_type": "code",
   "execution_count": 33,
   "id": "81f4a61f",
   "metadata": {},
   "outputs": [
    {
     "name": "stdout",
     "output_type": "stream",
     "text": [
      "[2025/05/01 16:15:27] ppocr WARNING: The first GPU is used for inference by default, GPU ID: 0\n",
      "[2025/05/01 16:15:28] ppocr WARNING: The first GPU is used for inference by default, GPU ID: 0\n",
      "[2025/05/01 16:15:30] ppocr WARNING: The first GPU is used for inference by default, GPU ID: 0\n"
     ]
    }
   ],
   "source": [
    "# 1. Load env\n",
    "load_dotenv()\n",
    "\n",
    "# 2. Init new OpenAI client (it picks up OPENAI_API_KEY automatically)\n",
    "client = OpenAI(api_key=os.getenv(\"OPENAI_API_KEY\"))\n",
    "\n",
    "# 3. Init OCR\n",
    "ocr = PaddleOCR(use_angle_cls=True, lang=\"id\", show_log=False, use_gpu=True)\n",
    "\n",
    "# 4. pdf root\n",
    "pdf_root = \"pojk-main-documents-filtered\""
   ]
  },
  {
   "cell_type": "markdown",
   "id": "e2e0a871",
   "metadata": {},
   "source": [
    "## **Load Metadata**"
   ]
  },
  {
   "cell_type": "code",
   "execution_count": 34,
   "id": "d21e501b",
   "metadata": {},
   "outputs": [
    {
     "name": "stdout",
     "output_type": "stream",
     "text": [
      "Jumlah Dokumen: 206\n"
     ]
    }
   ],
   "source": [
    "df_metadata = pd.read_csv('METADATA_USED.csv')\n",
    "print(\"Jumlah Dokumen:\", len(df_metadata))"
   ]
  },
  {
   "cell_type": "code",
   "execution_count": 35,
   "id": "509cb8df",
   "metadata": {},
   "outputs": [
    {
     "name": "stdout",
     "output_type": "stream",
     "text": [
      "   Count  count\n",
      "0    0-5      1\n",
      "1   6-10     34\n",
      "2  11-15     46\n",
      "3  16-20     42\n",
      "4  21-25     33\n",
      "5  26-30     23\n",
      "6  31-35     27\n",
      "7  36-40      0\n"
     ]
    }
   ],
   "source": [
    "# 1. Pastikan 'pages' sudah ada di df_metadata\n",
    "# 2. Hitung nilai maksimum (dibulatkan ke atas jika perlu)\n",
    "max_page = int(math.ceil(df_metadata['pages'].max()))\n",
    "\n",
    "# 3. Buat bins dengan lebar 5: 0, 5, 10, ..., sampai melewati max_page\n",
    "bins = list(range(0, (max_page // 5 + 2) * 5, 5))\n",
    "\n",
    "# 4. Siapkan label: \"0-5\", \"6-10\", \"11-15\", dst.\n",
    "labels = []\n",
    "for i in range(len(bins) - 1):\n",
    "    start, end = bins[i], bins[i+1]\n",
    "    if i == 0:\n",
    "        labels.append(f\"{start}-{end}\")\n",
    "    else:\n",
    "        labels.append(f\"{start+1}-{end}\")\n",
    "\n",
    "# 5. Tambahkan kolom 'page_range' dengan interval 5 halaman\n",
    "df_metadata['page_range'] = pd.cut(\n",
    "    df_metadata['pages'],\n",
    "    bins=bins,\n",
    "    labels=labels,\n",
    "    include_lowest=True,\n",
    "    right=True\n",
    ")\n",
    "\n",
    "# 6. Hitung frekuensi tiap rentang dan tampilkan sebagai tabel\n",
    "table = (\n",
    "    df_metadata['page_range']\n",
    "      .value_counts(sort=False)\n",
    "      .reset_index()\n",
    "      .rename(columns={'index': 'Page Range', 'page_range': 'Count'})\n",
    ")\n",
    "\n",
    "print(table)"
   ]
  },
  {
   "cell_type": "code",
   "execution_count": 36,
   "id": "5f099596",
   "metadata": {},
   "outputs": [
    {
     "name": "stdout",
     "output_type": "stream",
     "text": [
      "📄 Satu Contoh Dokumen OCR:\n",
      "pojk-main-documents-filtered\\ojk-peraturan_ojk-18_pojk_03_2014-19112014-pojk_tentang_penerapan_tata_kelola_terintegrasi_bagi_konglomerasi_keuangan.pdf\n",
      "\n",
      "📄 Satu Contoh Dokumen Non-OCR:\n",
      "pojk-main-documents-filtered\\ojk-peraturan_ojk-6_tahun_2024-02052024-pembiayaan_transaksi_efek_oleh_perusahaan_efek_bagi_nasabah_dan_transaksi_short_selling_oleh_perusahaan_efek.pdf\n"
     ]
    }
   ],
   "source": [
    "# Path folder tempat file PDF disimpan\n",
    "pdf_root = \"pojk-main-documents-filtered\"\n",
    "\n",
    "# Cetak satu path lengkap dokumen OCR\n",
    "print(\"📄 Satu Contoh Dokumen OCR:\")\n",
    "fn_ocr = df_metadata[df_metadata['is_scanned'] == True]['new_filename'].iloc[0]\n",
    "print(os.path.join(pdf_root, fn_ocr))\n",
    "\n",
    "# Cetak satu path lengkap dokumen Non-OCR\n",
    "print(\"\\n📄 Satu Contoh Dokumen Non-OCR:\")\n",
    "fn_non_ocr = df_metadata[df_metadata['is_scanned'] == False]['new_filename'].iloc[0]\n",
    "print(os.path.join(pdf_root, fn_non_ocr))\n"
   ]
  },
  {
   "cell_type": "markdown",
   "id": "b351ca2f",
   "metadata": {},
   "source": [
    "## **Context, Question, Answer Dataset Generation**"
   ]
  },
  {
   "cell_type": "markdown",
   "id": "589253a4",
   "metadata": {},
   "source": [
    "### **Helper Functions**"
   ]
  },
  {
   "cell_type": "code",
   "execution_count": 37,
   "id": "ddca3570",
   "metadata": {},
   "outputs": [],
   "source": [
    "def extract_text_from_pdf(file_path: str, ocr, threshold: float = 0.95) -> str:\n",
    "    doc = fitz.open(file_path)\n",
    "    all_pages_text = []\n",
    "\n",
    "    for page in doc:\n",
    "        # 1) Text‐layer\n",
    "        text = page.get_text(\"text\") or \"\"\n",
    "\n",
    "        # 2) OCR pada gambar\n",
    "        for img in page.get_images(full=True):\n",
    "            xref = img[0]\n",
    "            pix  = fitz.Pixmap(doc, xref)\n",
    "            img_bytes = pix.tobytes()\n",
    "\n",
    "            # jalankan OCR\n",
    "            ocr_results = ocr.ocr(img_bytes)\n",
    "            if not ocr_results:\n",
    "                continue\n",
    "\n",
    "            for line in ocr_results:\n",
    "                if not line:\n",
    "                    continue\n",
    "                for word in line:\n",
    "                    txt, conf = word[1]\n",
    "                    if conf >= threshold:\n",
    "                        text += \" \" + txt\n",
    "\n",
    "        all_pages_text.append(text.strip())\n",
    "\n",
    "    return \"\\n\\n\".join([p for p in all_pages_text if p])\n"
   ]
  },
  {
   "cell_type": "code",
   "execution_count": 38,
   "id": "5cd96675",
   "metadata": {},
   "outputs": [],
   "source": [
    "## **Helper: jumlah QA pairs berdasarkan halaman**\n",
    "def get_num_pairs(page_count: int) -> int:\n",
    "    if   page_count <=  5: return 1\n",
    "    elif page_count <= 10: return 2\n",
    "    elif page_count <= 15: return 3\n",
    "    elif page_count <= 20: return 4\n",
    "    elif page_count <= 25: return 5\n",
    "    elif page_count <= 30: return 6\n",
    "    else:                  return 7"
   ]
  },
  {
   "cell_type": "code",
   "execution_count": 39,
   "id": "64e5e007",
   "metadata": {},
   "outputs": [],
   "source": [
    "def generate_cqa(full_text: str,\n",
    "                 n_pairs: int,\n",
    "                 model: str = \"gpt-4o-mini-2024-07-18\",\n",
    "                 max_tokens: int = 2048) -> list[dict]:\n",
    "    prompt = f\"\"\"\n",
    "Anda adalah pakar regulasi keuangan Indonesia.\n",
    "\n",
    "Teks dokumen:\n",
    "\\\"\\\"\\\"{full_text}\\\"\\\"\\\"\n",
    "\n",
    "1) Jika teks **tidak bermakna** (hanya boilerplate seperti \"Cukup jelas\", header/footer), \n",
    "   balas dengan: []\n",
    "\n",
    "2) Jika **bermakna**, bagi menjadi **{n_pairs}** konteks dengan panjang **sekitar 500–1000 karakter** per konteks,\n",
    "   lalu untuk tiap konteks buat:\n",
    "   - context\n",
    "   - question\n",
    "   - answer\n",
    "\n",
    "3) Buat **answer** dengan **panjang sekitar 64 token** (tidak terlalu pendek, tidak lebih dari 70 token), dan **pastikan jawaban berakhir di akhir kalimat** (tidak terpotong).\n",
    "\n",
    "Keluarkan **hanya** JSON array, misalnya:\n",
    "[\n",
    "  {{ \"context\":\"…\",\"question\":\"…\",\"answer\":\"…\" }},\n",
    "  …\n",
    "]\n",
    "\"\"\"\n",
    "    resp = client.chat.completions.create(\n",
    "        model=model,\n",
    "        messages=[\n",
    "            {\"role\":\"system\", \"content\":\"Anda membuat QA dataset atau [] jika tidak bermakna.\"},\n",
    "            {\"role\":\"user\",   \"content\":prompt}\n",
    "        ],\n",
    "        temperature=0.7,\n",
    "        max_tokens=max_tokens\n",
    "    )\n",
    "    return json.loads(resp.choices[0].message.content)\n"
   ]
  },
  {
   "cell_type": "markdown",
   "id": "be10c6cd",
   "metadata": {},
   "source": [
    "### **Extract Text Results**"
   ]
  },
  {
   "cell_type": "markdown",
   "id": "c70d09af",
   "metadata": {},
   "source": [
    "#### **OCR**"
   ]
  },
  {
   "cell_type": "code",
   "execution_count": 40,
   "id": "e58d516e",
   "metadata": {},
   "outputs": [],
   "source": [
    "# # 1. Tentukan file PDF yang akan diekstrak\n",
    "# fn = fn_ocr\n",
    "# pdf_path = os.path.join(pdf_root, fn)\n",
    "\n",
    "# # 2. Panggil fungsi\n",
    "# full_text = extract_text_from_pdf(pdf_path, ocr, threshold=0.8)\n",
    "\n",
    "# # 3. Tampilkan cuplikan hasil—misal 500 karakter pertama\n",
    "# print(\"=== Cuplikan 500 karakter pertama ===\")\n",
    "# print(full_text[:500] + \"…\\n\")\n",
    "\n",
    "# # 4. (Opsional) Simpan ke file teks agar mudah ditinjau\n",
    "# with open(\"extracted_text_ocr.txt\", \"w\", encoding=\"utf-8\") as f:\n",
    "#     f.write(full_text)\n",
    "\n",
    "# print(f\"Hasil ekstraksi disimpan di 'extracted_text.txt'\")"
   ]
  },
  {
   "cell_type": "markdown",
   "id": "72b0003c",
   "metadata": {},
   "source": [
    "#### **Non-OCR**"
   ]
  },
  {
   "cell_type": "code",
   "execution_count": 41,
   "id": "66cd4c0e",
   "metadata": {},
   "outputs": [],
   "source": [
    "# # 1. Tentukan file PDF yang akan diekstrak\n",
    "# fn = fn_non_ocr\n",
    "# pdf_path = os.path.join(pdf_root, fn)\n",
    "\n",
    "# # 2. Panggil fungsi\n",
    "# full_text = extract_text_from_pdf(pdf_path, ocr, threshold=0.90)\n",
    "\n",
    "# # 3. Tampilkan cuplikan hasil—misal 500 karakter pertama\n",
    "# print(\"=== Cuplikan 500 karakter pertama ===\")\n",
    "# print(full_text[:500] + \"…\\n\")\n",
    "\n",
    "# # 4. (Opsional) Simpan ke file teks agar mudah ditinjau\n",
    "# with open(\"extracted_text_non_ocr.txt\", \"w\", encoding=\"utf-8\") as f:\n",
    "#     f.write(full_text)\n",
    "\n",
    "# print(f\"Hasil ekstraksi disimpan di 'extracted_text.txt'\")"
   ]
  },
  {
   "cell_type": "markdown",
   "id": "5d72f038",
   "metadata": {},
   "source": [
    "### **Building the Dataset**"
   ]
  },
  {
   "cell_type": "code",
   "execution_count": 42,
   "id": "73f82c74",
   "metadata": {},
   "outputs": [
    {
     "name": "stdout",
     "output_type": "stream",
     "text": [
      "Jumlah Dokumen: 206\n"
     ]
    },
    {
     "data": {
      "text/html": [
       "<div>\n",
       "<style scoped>\n",
       "    .dataframe tbody tr th:only-of-type {\n",
       "        vertical-align: middle;\n",
       "    }\n",
       "\n",
       "    .dataframe tbody tr th {\n",
       "        vertical-align: top;\n",
       "    }\n",
       "\n",
       "    .dataframe thead th {\n",
       "        text-align: right;\n",
       "    }\n",
       "</style>\n",
       "<table border=\"1\" class=\"dataframe\">\n",
       "  <thead>\n",
       "    <tr style=\"text-align: right;\">\n",
       "      <th></th>\n",
       "      <th>title</th>\n",
       "      <th>page_url</th>\n",
       "      <th>sektor</th>\n",
       "      <th>subsektor</th>\n",
       "      <th>jenis_regulasi</th>\n",
       "      <th>nomor_regulasi</th>\n",
       "      <th>tanggal_berlaku</th>\n",
       "      <th>filename</th>\n",
       "      <th>file_url</th>\n",
       "      <th>new_filename</th>\n",
       "      <th>pages</th>\n",
       "      <th>page_range</th>\n",
       "      <th>is_scanned</th>\n",
       "    </tr>\n",
       "  </thead>\n",
       "  <tbody>\n",
       "    <tr>\n",
       "      <th>0</th>\n",
       "      <td>Pembiayaan Transaksi Efek Oleh Perusahaan Efek Bagi Nasabah dan Transaksi Short Selling Oleh Perusahaan Efek</td>\n",
       "      <td>https://www.ojk.go.id/id/regulasi/Pages/Pembiayaan-Transaksi-Efek-Perusahaan-Efek-Bagi-Nasabah-dan-Transaksi-Short-Selling-Oleh-Perusahaan-Efek-POJK-6-Tahun-2024.aspx</td>\n",
       "      <td>Pasar Modal</td>\n",
       "      <td>Perusahaan Efek</td>\n",
       "      <td>Peraturan OJK</td>\n",
       "      <td>6 Tahun 2024</td>\n",
       "      <td>2 Mei 2024</td>\n",
       "      <td>Pembiayaan-Transaksi-Efek-Perusahaan-Efek-Bagi-Nasabah-dan-Transaksi-Short-Selling-Oleh-Perusahaan-Efek-POJK-6-Tahun- -- POJK 6 Tahun 2024 Pembiayaan Transaksi Efek Oleh Perusahaan Efek Bagi Nasabah dan Transaksi Short Selling Oleh Perusahaan Efek.pdf</td>\n",
       "      <td>https://www.ojk.go.id/id/regulasi/Documents/Pages/Pembiayaan-Transaksi-Efek-Perusahaan-Efek-Bagi-Nasabah-dan-Transaksi-Short-Selling-Oleh-Perusahaan-Efek-POJK-6-Tahun-2024/POJK%206%20Tahun%202024%20Pembiayaan%20Transaksi%20Efek%20Oleh%20Perusahaan%20Efek%20Bagi%20Nasabah%20dan%20Transaksi%20Short%20Selling%20Oleh%20Perusahaan%20Efek.pdf</td>\n",
       "      <td>ojk-peraturan_ojk-6_tahun_2024-02052024-pembiayaan_transaksi_efek_oleh_perusahaan_efek_bagi_nasabah_dan_transaksi_short_selling_oleh_perusahaan_efek.pdf</td>\n",
       "      <td>28</td>\n",
       "      <td>26-30</td>\n",
       "      <td>False</td>\n",
       "    </tr>\n",
       "    <tr>\n",
       "      <th>1</th>\n",
       "      <td>Laporan Kepemilikan atau Setiap Perubahan Kepemilikan Saham Perusahaan Terbuka dan Aktivitas Menjaminkan Saham Perusahaan Terbuka</td>\n",
       "      <td>https://www.ojk.go.id/id/regulasi/Pages/POJK-4-Tahun-2024-Laporan-Kepemilikan-atau-Setiap-Perubahan-Kepemilikan-Saham-Perusahaan-Terbuka-dan-Aktivitas-Menjaminkan.aspx</td>\n",
       "      <td>Pasar Modal</td>\n",
       "      <td>Peraturan Lainnya</td>\n",
       "      <td>Peraturan OJK</td>\n",
       "      <td>4 Tahun 2024</td>\n",
       "      <td>28 Februari 2024</td>\n",
       "      <td>POJK-4-Tahun-2024-Laporan-Kepemilikan-atau-Setiap-Perubahan-Kepemilikan-Saham-Perusahaan-Terbuka-dan-Aktivitas-Menjaminkan -- POJK 4 Tahun 2024 Laporan Kepemilikan atau Setiap Perubahan Kepemilik.pdf</td>\n",
       "      <td>https://www.ojk.go.id/id/regulasi/Documents/Pages/POJK-4-Tahun-2024-Laporan-Kepemilikan-atau-Setiap-Perubahan-Kepemilikan-Saham-Perusahaan-Terbuka-dan-Aktivitas-Menjaminkan/POJK%204%20Tahun%202024%20Laporan%20Kepemilikan%20atau%20Setiap%20Perubahan%20Kepemilik.pdf</td>\n",
       "      <td>ojk-peraturan_ojk-4_tahun_2024-28022024-laporan_kepemilikan_atau_setiap_perubahan_kepemilikan_saham_perusahaan_terbuka_dan_aktivitas_menjaminkan_saham_perusahaan_terbuka.pdf</td>\n",
       "      <td>21</td>\n",
       "      <td>21-25</td>\n",
       "      <td>False</td>\n",
       "    </tr>\n",
       "    <tr>\n",
       "      <th>2</th>\n",
       "      <td>Pembelian Kembali Saham yang Dikeluarkan oleh Perusahaan Terbuka</td>\n",
       "      <td>https://www.ojk.go.id/id/regulasi/Pages/Pembelian-Kembali-Saham-yang-Dikeluarkan-oleh-Perusahaan-Terbuka-.aspx</td>\n",
       "      <td>Pasar Modal</td>\n",
       "      <td>Peraturan Lainnya</td>\n",
       "      <td>Peraturan OJK</td>\n",
       "      <td>29 Tahun 2023</td>\n",
       "      <td>29 Desember 2023</td>\n",
       "      <td>Pembelian-Kembali-Saham-yang-Dikeluarkan-oleh-Perusahaan-Terbuka- -- POJK 29 Tahun 2023 Pembelian Kembali Saham Yang Dikeluarkan Oleh Perusahaan Terbuka.pdf</td>\n",
       "      <td>https://www.ojk.go.id/id/regulasi/Documents/Pages/Pembelian-Kembali-Saham-yang-Dikeluarkan-oleh-Perusahaan-Terbuka-/POJK%2029%20Tahun%202023%20Pembelian%20Kembali%20Saham%20Yang%20Dikeluarkan%20Oleh%20Perusahaan%20Terbuka.pdf</td>\n",
       "      <td>ojk-peraturan_ojk-29_tahun_2023-29122023-pembelian_kembali_saham_yang_dikeluarkan_oleh_perusahaan_terbuka.pdf</td>\n",
       "      <td>29</td>\n",
       "      <td>26-30</td>\n",
       "      <td>False</td>\n",
       "    </tr>\n",
       "  </tbody>\n",
       "</table>\n",
       "</div>"
      ],
      "text/plain": [
       "                                                                                                                               title  \\\n",
       "0                       Pembiayaan Transaksi Efek Oleh Perusahaan Efek Bagi Nasabah dan Transaksi Short Selling Oleh Perusahaan Efek   \n",
       "1  Laporan Kepemilikan atau Setiap Perubahan Kepemilikan Saham Perusahaan Terbuka dan Aktivitas Menjaminkan Saham Perusahaan Terbuka   \n",
       "2                                                                   Pembelian Kembali Saham yang Dikeluarkan oleh Perusahaan Terbuka   \n",
       "\n",
       "                                                                                                                                                                  page_url  \\\n",
       "0   https://www.ojk.go.id/id/regulasi/Pages/Pembiayaan-Transaksi-Efek-Perusahaan-Efek-Bagi-Nasabah-dan-Transaksi-Short-Selling-Oleh-Perusahaan-Efek-POJK-6-Tahun-2024.aspx   \n",
       "1  https://www.ojk.go.id/id/regulasi/Pages/POJK-4-Tahun-2024-Laporan-Kepemilikan-atau-Setiap-Perubahan-Kepemilikan-Saham-Perusahaan-Terbuka-dan-Aktivitas-Menjaminkan.aspx   \n",
       "2                                                           https://www.ojk.go.id/id/regulasi/Pages/Pembelian-Kembali-Saham-yang-Dikeluarkan-oleh-Perusahaan-Terbuka-.aspx   \n",
       "\n",
       "        sektor          subsektor jenis_regulasi nomor_regulasi  \\\n",
       "0  Pasar Modal    Perusahaan Efek  Peraturan OJK   6 Tahun 2024   \n",
       "1  Pasar Modal  Peraturan Lainnya  Peraturan OJK   4 Tahun 2024   \n",
       "2  Pasar Modal  Peraturan Lainnya  Peraturan OJK  29 Tahun 2023   \n",
       "\n",
       "    tanggal_berlaku  \\\n",
       "0        2 Mei 2024   \n",
       "1  28 Februari 2024   \n",
       "2  29 Desember 2023   \n",
       "\n",
       "                                                                                                                                                                                                                                                      filename  \\\n",
       "0  Pembiayaan-Transaksi-Efek-Perusahaan-Efek-Bagi-Nasabah-dan-Transaksi-Short-Selling-Oleh-Perusahaan-Efek-POJK-6-Tahun- -- POJK 6 Tahun 2024 Pembiayaan Transaksi Efek Oleh Perusahaan Efek Bagi Nasabah dan Transaksi Short Selling Oleh Perusahaan Efek.pdf   \n",
       "1                                                      POJK-4-Tahun-2024-Laporan-Kepemilikan-atau-Setiap-Perubahan-Kepemilikan-Saham-Perusahaan-Terbuka-dan-Aktivitas-Menjaminkan -- POJK 4 Tahun 2024 Laporan Kepemilikan atau Setiap Perubahan Kepemilik.pdf   \n",
       "2                                                                                                 Pembelian-Kembali-Saham-yang-Dikeluarkan-oleh-Perusahaan-Terbuka- -- POJK 29 Tahun 2023 Pembelian Kembali Saham Yang Dikeluarkan Oleh Perusahaan Terbuka.pdf   \n",
       "\n",
       "                                                                                                                                                                                                                                                                                                                                             file_url  \\\n",
       "0  https://www.ojk.go.id/id/regulasi/Documents/Pages/Pembiayaan-Transaksi-Efek-Perusahaan-Efek-Bagi-Nasabah-dan-Transaksi-Short-Selling-Oleh-Perusahaan-Efek-POJK-6-Tahun-2024/POJK%206%20Tahun%202024%20Pembiayaan%20Transaksi%20Efek%20Oleh%20Perusahaan%20Efek%20Bagi%20Nasabah%20dan%20Transaksi%20Short%20Selling%20Oleh%20Perusahaan%20Efek.pdf   \n",
       "1                                                                            https://www.ojk.go.id/id/regulasi/Documents/Pages/POJK-4-Tahun-2024-Laporan-Kepemilikan-atau-Setiap-Perubahan-Kepemilikan-Saham-Perusahaan-Terbuka-dan-Aktivitas-Menjaminkan/POJK%204%20Tahun%202024%20Laporan%20Kepemilikan%20atau%20Setiap%20Perubahan%20Kepemilik.pdf   \n",
       "2                                                                                                                   https://www.ojk.go.id/id/regulasi/Documents/Pages/Pembelian-Kembali-Saham-yang-Dikeluarkan-oleh-Perusahaan-Terbuka-/POJK%2029%20Tahun%202023%20Pembelian%20Kembali%20Saham%20Yang%20Dikeluarkan%20Oleh%20Perusahaan%20Terbuka.pdf   \n",
       "\n",
       "                                                                                                                                                                    new_filename  \\\n",
       "0                       ojk-peraturan_ojk-6_tahun_2024-02052024-pembiayaan_transaksi_efek_oleh_perusahaan_efek_bagi_nasabah_dan_transaksi_short_selling_oleh_perusahaan_efek.pdf   \n",
       "1  ojk-peraturan_ojk-4_tahun_2024-28022024-laporan_kepemilikan_atau_setiap_perubahan_kepemilikan_saham_perusahaan_terbuka_dan_aktivitas_menjaminkan_saham_perusahaan_terbuka.pdf   \n",
       "2                                                                  ojk-peraturan_ojk-29_tahun_2023-29122023-pembelian_kembali_saham_yang_dikeluarkan_oleh_perusahaan_terbuka.pdf   \n",
       "\n",
       "   pages page_range  is_scanned  \n",
       "0     28      26-30       False  \n",
       "1     21      21-25       False  \n",
       "2     29      26-30       False  "
      ]
     },
     "execution_count": 42,
     "metadata": {},
     "output_type": "execute_result"
    }
   ],
   "source": [
    "# df_metadata = df_metadata.sample(100, random_state=42).reset_index(drop=True)\n",
    "\n",
    "print(\"Jumlah Dokumen:\", len(df_metadata))\n",
    "df_metadata.head(3)"
   ]
  },
  {
   "cell_type": "code",
   "execution_count": 43,
   "id": "cfb229f3",
   "metadata": {},
   "outputs": [
    {
     "name": "stderr",
     "output_type": "stream",
     "text": [
      "Dokumen:   0%|          | 1/206 [00:21<1:13:30, 21.51s/it]"
     ]
    },
    {
     "name": "stdout",
     "output_type": "stream",
     "text": [
      "✅ 6 QA untuk ojk-peraturan_ojk-6_tahun_2024-02052024-pembiayaan_transaksi_efek_oleh_perusahaan_efek_bagi_nasabah_dan_transaksi_short_selling_oleh_perusahaan_efek.pdf\n"
     ]
    },
    {
     "name": "stderr",
     "output_type": "stream",
     "text": [
      "Dokumen:   1%|          | 2/206 [00:41<1:09:58, 20.58s/it]"
     ]
    },
    {
     "name": "stdout",
     "output_type": "stream",
     "text": [
      "✅ 5 QA untuk ojk-peraturan_ojk-4_tahun_2024-28022024-laporan_kepemilikan_atau_setiap_perubahan_kepemilikan_saham_perusahaan_terbuka_dan_aktivitas_menjaminkan_saham_perusahaan_terbuka.pdf\n",
      "⏭️ Skip (sudah diproses): ojk-peraturan_ojk-29_tahun_2023-29122023-pembelian_kembali_saham_yang_dikeluarkan_oleh_perusahaan_terbuka.pdf\n"
     ]
    },
    {
     "name": "stderr",
     "output_type": "stream",
     "text": [
      "Dokumen:   2%|▏         | 4/206 [00:51<36:20, 10.80s/it]  "
     ]
    },
    {
     "name": "stdout",
     "output_type": "stream",
     "text": [
      "✅ 3 QA untuk ojk-peraturan_ojk-26_tahun_2023-22122023-pengguna_standar_akuntansi_keuangan_internasional_di_pasar_modal.pdf\n"
     ]
    },
    {
     "name": "stderr",
     "output_type": "stream",
     "text": [
      "Dokumen:   2%|▏         | 5/206 [01:11<46:01, 13.74s/it]"
     ]
    },
    {
     "name": "stdout",
     "output_type": "stream",
     "text": [
      "✅ 7 QA untuk ojk-peraturan_ojk-21_tahun_2023-22122023-layanan_digital_oleh_bank_umum.pdf\n",
      "⏭️ Skip (sudah diproses): ojk-peraturan_ojk-19_tahun_2023-01112023-pengembangan_kualitas_sumber_daya_manusia_bank_perekonomian_rakyat_dan_bank_perekonomian_rakyat_syariah.pdf\n"
     ]
    },
    {
     "name": "stderr",
     "output_type": "stream",
     "text": [
      "Dokumen:   3%|▎         | 7/206 [01:30<38:49, 11.71s/it]"
     ]
    },
    {
     "name": "stdout",
     "output_type": "stream",
     "text": [
      "✅ 4 QA untuk ojk-peraturan_ojk-15_tahun_2023-08082023-penyelenggaraan_layanan_administrasi_prinsip_mengenali_nasabah.pdf\n"
     ]
    },
    {
     "name": "stderr",
     "output_type": "stream",
     "text": [
      "Dokumen:   4%|▍         | 8/206 [01:50<45:43, 13.85s/it]"
     ]
    },
    {
     "name": "stdout",
     "output_type": "stream",
     "text": [
      "✅ 4 QA untuk ojk-peraturan_ojk-16_tahun_2023-07082023-penyidikan_tindak_pidana_di_sektor_jasa_keuangan.pdf\n"
     ]
    },
    {
     "name": "stderr",
     "output_type": "stream",
     "text": [
      "Dokumen:   4%|▍         | 9/206 [02:05<46:03, 14.03s/it]"
     ]
    },
    {
     "name": "stdout",
     "output_type": "stream",
     "text": [
      "✅ 5 QA untuk ojk-peraturan_ojk-14_tahun_2023-02082023-perdagangan_karbon_melalui_bursa_karbon.pdf\n",
      "⏭️ Skip (sudah diproses): ojk-peraturan_ojk-13_tahun_2023-20072023-kebijakan_dalam_menjaga_kinerja_dan_stabilitas_pasar_modal_dalam_kondisi_pasar_yang_berfluktuasi_secara_signifikan.pdf\n"
     ]
    },
    {
     "name": "stderr",
     "output_type": "stream",
     "text": [
      "Dokumen:   5%|▌         | 11/206 [02:20<36:16, 11.16s/it]"
     ]
    },
    {
     "name": "stdout",
     "output_type": "stream",
     "text": [
      "✅ 4 QA untuk ojk-peraturan_ojk-11_tahun_2023-11072023-pemisahan_unit_syariah_perusahaan_asuransi_dan_perusahaan_reasuransi.pdf\n"
     ]
    },
    {
     "name": "stderr",
     "output_type": "stream",
     "text": [
      "Dokumen:   6%|▌         | 12/206 [02:30<35:42, 11.04s/it]"
     ]
    },
    {
     "name": "stdout",
     "output_type": "stream",
     "text": [
      "✅ 3 QA untuk ojk-peraturan_ojk-10_tahun_2023-11072023-pemisahan_unit_usaha_syariah_perusahaan_penjaminan.pdf\n",
      "⏭️ Skip (sudah diproses): ojk-peraturan_ojk-4_tahun_2023-31032023-perubahan_kedua_atas_peraturan_otoritas_jasa_keuangan_nomor_23_pojk_04_2016_tentang_reksa_dana_berbentuk_kontrak_investasi_kolektif.pdf\n"
     ]
    },
    {
     "name": "stderr",
     "output_type": "stream",
     "text": [
      "Dokumen:   7%|▋         | 14/206 [02:42<28:46,  8.99s/it]"
     ]
    },
    {
     "name": "stdout",
     "output_type": "stream",
     "text": [
      "✅ 4 QA untuk ojk-peraturan_ojk-pojk_2_tahun_2023-21022023-penerapan_tata_kelola_manajer_investasi.pdf\n"
     ]
    },
    {
     "name": "stderr",
     "output_type": "stream",
     "text": [
      "Dokumen:   7%|▋         | 15/206 [02:55<31:11,  9.80s/it]"
     ]
    },
    {
     "name": "stdout",
     "output_type": "stream",
     "text": [
      "✅ 4 QA untuk ojk-peraturan_ojk-1_tahun_2023-10022023-perubahan_atas_peraturan_otoritas_jasa_keuangan_nomor_5_pojk_05_2013_tentang_pengawasan_badan_penyelenggara_jaminan_sosial_oleh_otoritas_jasa_keuangan.pdf\n",
      "⏭️ Skip (sudah diproses): ojk-peraturan_ojk-27_tahun_2022-28122022-perubahan_kedua_atas_peraturan_otoritas_jasa_keuangan_nomor_11_pojk_03_2016_tentang_kewajiban_penyediaan_modal_minimum_bank_umum.pdf\n",
      "⏭️ Skip (sudah diproses): ojk-peraturan_ojk-24_tahun_2022-05122022-pengembangan_kualitas_sumber_daya_manusia_bank_umum.pdf\n"
     ]
    },
    {
     "name": "stderr",
     "output_type": "stream",
     "text": [
      "Dokumen:   9%|▊         | 18/206 [03:21<29:02,  9.27s/it]"
     ]
    },
    {
     "name": "stdout",
     "output_type": "stream",
     "text": [
      "✅ 7 QA untuk ojk-peraturan_ojk-23_tahun_2022-23112022-batas_maksimum_pemberian_kredit_bank_perkreditan_rakyat_dan_batas_maksimum_penyaluran_dana_bank_pembiayaan_rakyat_syariah.pdf\n",
      "⏭️ Skip (sudah diproses): ojk-peraturan_ojk-21_tahun_2022-11112022-tata_cara_pengajuan_permohonan_pernyataan_kepailitan_dan_penundaan_kewajiban_pembayaran_utang_perusahaan_efek.pdf\n",
      "⏭️ Skip (sudah diproses): ojk-peraturan_ojk-22_tahun_2022-02112022-kegiatan_penyertaan_modal_oleh_bank_umum.pdf\n"
     ]
    },
    {
     "name": "stderr",
     "output_type": "stream",
     "text": [
      "Dokumen:  10%|█         | 21/206 [03:37<23:41,  7.68s/it]"
     ]
    },
    {
     "name": "stdout",
     "output_type": "stream",
     "text": [
      "✅ 5 QA untuk ojk-peraturan_ojk-20_tahun_2022-28102022-pengawasan_badan_pengelola_tabungan_perumahan_rakyat_oleh_otoritas_jasa_keuangan.pdf\n"
     ]
    },
    {
     "name": "stderr",
     "output_type": "stream",
     "text": [
      "Dokumen:  11%|█         | 22/206 [03:51<26:28,  8.63s/it]"
     ]
    },
    {
     "name": "stdout",
     "output_type": "stream",
     "text": [
      "✅ 4 QA untuk ojk-peraturan_ojk-19_tahun_2022-28102022-perlakuan_khusus_untuk_lembaga_jasa_keuangan_pada_daerah_dan_sektor_tertentu_di_indonesia_yang_terkena_dampak_bencana.pdf\n",
      "⏭️ Skip (sudah diproses): ojk-peraturan_ojk-18_tahun_2022-17102022-perintah_tertulis.pdf\n"
     ]
    },
    {
     "name": "stderr",
     "output_type": "stream",
     "text": [
      "Dokumen:  12%|█▏        | 24/206 [04:16<30:02,  9.90s/it]"
     ]
    },
    {
     "name": "stdout",
     "output_type": "stream",
     "text": [
      "✅ 6 QA untuk ojk-peraturan_ojk-15_pojk_04_2022-22082022-pemecahan_saham_dan_penggabungan_saham_oleh_perusahaan_terbuka.pdf\n",
      "⏭️ Skip (sudah diproses): ojk-peraturan_ojk-14_pojk_04_2022-22082022-penyampaian_laporan_keuangan_berkala_emiten_atau_perusahaan_publik.pdf\n",
      "⏭️ Skip (sudah diproses): ojk-peraturan_ojk-12_pojk_05_2022-07072022-perubahan_atas_peraturan_otoritas_jasa_keuangan_nomor_4_pojk_05_2018_tentang_perusahaan_pembiayaan_sekunder_perumahan.pdf\n",
      "⏭️ Skip (sudah diproses): ojk-peraturan_ojk-7_pojk_05_2022-18052022-perubahan_atas_peraturan_otoritas_jasa_keuangan_nomor_35_pojk_05_2018_tentang_penyelenggaraan_usaha_perusahaan_pembiayaan.pdf\n"
     ]
    },
    {
     "name": "stderr",
     "output_type": "stream",
     "text": [
      "Dokumen:  14%|█▎        | 28/206 [04:25<18:33,  6.26s/it]"
     ]
    },
    {
     "name": "stdout",
     "output_type": "stream",
     "text": [
      "✅ 2 QA untuk ojk-peraturan_ojk-4_pojk_04_2022-22032022-perubahan_atas_peraturan_otoritas_jasa_keuangan_nomor_7_pojk_04_2021_tentang_kebijakan_dalam_menjaga_kinerja_dan_stabilitas_pasar_modal_akibat_penyebaran_corona_virus_disease_2019.pdf\n"
     ]
    },
    {
     "name": "stderr",
     "output_type": "stream",
     "text": [
      "Dokumen:  14%|█▍        | 29/206 [04:47<25:14,  8.55s/it]"
     ]
    },
    {
     "name": "stdout",
     "output_type": "stream",
     "text": [
      "✅ 6 QA untuk ojk-peraturan_ojk-30_pojk_05_2021-31122021-perubahan_kedua_atas_peraturan_otoritas_jasa_keuangan_nomor_14_pojk_05_2020_tentang_kebijakan_countercyclical_dampak_penyebaran_coronavirus_disease_2019_bagi_lembaga_jasa_keuangan_nonbank.pdf\n",
      "⏭️ Skip (sudah diproses): ojk-peraturan_ojk-29_pojk_04_2021-30122021-penawaran_yang_bukan_merupakan_penawaran_umum.pdf\n",
      "⏭️ Skip (sudah diproses): ojk-peraturan_ojk-27_pojk_04_2021-24122021-perubahan_atas_peraturan_otoritas_jasa_keuangan_nomor_25_pojk_04_2018_tentang_lembaga_pendanaan_efek.pdf\n",
      "⏭️ Skip (sudah diproses): ojk-peraturan_ojk-23_pojk_04_2021-01122021-tindak_lanjut_pengawasan_di_bidang_pasar_modal.pdf\n"
     ]
    },
    {
     "name": "stderr",
     "output_type": "stream",
     "text": [
      "Dokumen:  16%|█▌        | 33/206 [04:57<16:47,  5.82s/it]"
     ]
    },
    {
     "name": "stdout",
     "output_type": "stream",
     "text": [
      "✅ 3 QA untuk ojk-peraturan_ojk-20_pojk_04_2021-21092021-penyusunan_laporan_keuangan_perusahaan_efek.pdf\n",
      "⏭️ Skip (sudah diproses): ojk-peraturan_ojk-18_pojk_03_2021-10092021-peraturan_ojk_tentang_perubahan_kedua_atas_peraturan_ojk_nomor_34_pojk_03_2020.pdf\n"
     ]
    },
    {
     "name": "stderr",
     "output_type": "stream",
     "text": [
      "Dokumen:  17%|█▋        | 35/206 [05:05<15:21,  5.39s/it]"
     ]
    },
    {
     "name": "stdout",
     "output_type": "stream",
     "text": [
      "✅ 2 QA untuk ojk-peraturan_ojk-17_pojk_03_2021-10092021-peraturan_ojk_tentang_perubahan_kedua_atas_peraturan_ojk_nomor_11_pojk_03_2020.pdf\n",
      "⏭️ Skip (sudah diproses): ojk-peraturan_ojk-pojk_nomor_16_pojk_04_2021-25082021-peraturan_otoritas_jasa_keuangan_tentang_perubahan_atas_pojk_penawaran_efek_melalui_layanan_urun_dana_berbasis_ti.pdf\n",
      "⏭️ Skip (sudah diproses): ojk-peraturan_ojk-15_pojk_03_2021-24082021-rencana_bisnis_bank_perkreditan_rakyat_dan_bank_pembiayaan_rakyat_syariah.pdf\n"
     ]
    },
    {
     "name": "stderr",
     "output_type": "stream",
     "text": [
      "Dokumen:  18%|█▊        | 38/206 [05:28<17:18,  6.18s/it]"
     ]
    },
    {
     "name": "stdout",
     "output_type": "stream",
     "text": [
      "✅ 7 QA untuk ojk-peraturan_ojk-14_pojk_03_2021-30072021-perubahan_atas_peraturan_otoritas_jasa_keuangan_nomor_34_pojk_03_2018_tentang_penilaian_kembali_bagi_pihak_utama_lembaga_jasa_keuangan.pdf\n",
      "⏭️ Skip (sudah diproses): ojk-peraturan_ojk-11_pojk_02_2021-30062021-penatalaksanaan_lembaga_sertifikasi_profesi_di_sektor_jasa_keuangan.pdf\n"
     ]
    },
    {
     "name": "stderr",
     "output_type": "stream",
     "text": [
      "Dokumen:  19%|█▉        | 40/206 [05:49<20:02,  7.24s/it]"
     ]
    },
    {
     "name": "stdout",
     "output_type": "stream",
     "text": [
      "✅ 7 QA untuk ojk-peraturan_ojk-9_pojk_05_2021-22062021-penetapan_status_dan_tindak_lanjut_pengawasan_lembaga_jasa_keuangan_nonbank.pdf\n"
     ]
    },
    {
     "name": "stderr",
     "output_type": "stream",
     "text": [
      "Dokumen:  20%|█▉        | 41/206 [05:57<20:01,  7.28s/it]"
     ]
    },
    {
     "name": "stdout",
     "output_type": "stream",
     "text": [
      "✅ 2 QA untuk ojk-peraturan_ojk-7_pojk_04_2021-19032021-kebijakan_dalam_menjaga_kinerja_dan_stabilitas_pasar_modal_akibat_penyebaran_corona_virus_disease_2019.pdf\n",
      "⏭️ Skip (sudah diproses): ojk-peraturan_ojk-6_pojk_04_2021-17032021-penerapan_manajemen_risiko_bagi_perusahaan_efek_yang_melakukan_kegiatan_usaha_sebagai_penjamin_emisi_efek_dan_perantara_pedagang_efek_yang_merupakan_anggota_bursa_efek.pdf\n",
      "⏭️ Skip (sudah diproses): ojk-peraturan_ojk-2_pojk_03_2021-18022021-perubahan_atas_peraturan_otoritas_jasa_keuangan_nomor_34_pojk_03_2020_tentang_kebijakan_bagi_bank_perkreditan_rakyat_dan_bank_pembiayaan_rakyat_syariah_sebagai_dampak_penyebaran_coronavirus_disease_2019.pdf\n"
     ]
    },
    {
     "name": "stderr",
     "output_type": "stream",
     "text": [
      "Dokumen:  21%|██▏       | 44/206 [06:12<17:33,  6.50s/it]"
     ]
    },
    {
     "name": "stdout",
     "output_type": "stream",
     "text": [
      "✅ 3 QA untuk ojk-peraturan_ojk-1_pojk_04_2021-19012021-kualitas_pendanaan_perusahaan_efek.pdf\n"
     ]
    },
    {
     "name": "stderr",
     "output_type": "stream",
     "text": [
      "Dokumen:  22%|██▏       | 45/206 [06:30<22:04,  8.23s/it]"
     ]
    },
    {
     "name": "stdout",
     "output_type": "stream",
     "text": [
      "✅ 6 QA untuk ojk-peraturan_ojk-65_pojk_04_2020-30122020-pengembalian_keuntungan_tidak_sah_dan_dana_kompensasi_kerugian_investor_di_bidang_pasar_modal.pdf\n",
      "⏭️ Skip (sudah diproses): ojk-peraturan_ojk-63_pojk_03_2020-22122020-pelaporan_bank_umum_melalui_sistem_pelaporan_otoritas_jasa_keuangan.pdf\n",
      "⏭️ Skip (sudah diproses): ojk-peraturan_ojk-59_pojk_03_2020-16122020-persyaratan_dan_tata_cara_pemisahan_unit_usaha_syariah.pdf\n"
     ]
    },
    {
     "name": "stderr",
     "output_type": "stream",
     "text": [
      "Dokumen:  23%|██▎       | 48/206 [06:46<18:26,  7.01s/it]"
     ]
    },
    {
     "name": "stdout",
     "output_type": "stream",
     "text": [
      "✅ 7 QA untuk ojk-peraturan_ojk-56_pojk_04_2020-11122020-pelaporan_dan_pedoman_akuntansi_reksa_dana.pdf\n"
     ]
    },
    {
     "name": "stderr",
     "output_type": "stream",
     "text": [
      "Dokumen:  24%|██▍       | 49/206 [07:05<23:37,  9.03s/it]"
     ]
    },
    {
     "name": "stdout",
     "output_type": "stream",
     "text": [
      "✅ 7 QA untuk ojk-peraturan_ojk-55_pojk_04_2020-11122020-pembiayaan_transaksi_efek_oleh_perusahaan_efek_bagi_nasabah_dan_transaksi_short_selling_oleh_perusahaan_efek.pdf\n"
     ]
    },
    {
     "name": "stderr",
     "output_type": "stream",
     "text": [
      "Dokumen:  24%|██▍       | 50/206 [07:24<28:21, 10.90s/it]"
     ]
    },
    {
     "name": "stdout",
     "output_type": "stream",
     "text": [
      "✅ 5 QA untuk ojk-peraturan_ojk-54_pojk_04_2020-11122020-pengendalian_dan_perlindungan_efek_yang_disimpan_oleh_perusahaan_efek.pdf\n"
     ]
    },
    {
     "name": "stderr",
     "output_type": "stream",
     "text": [
      "Dokumen:  25%|██▍       | 51/206 [07:41<31:10, 12.07s/it]"
     ]
    },
    {
     "name": "stdout",
     "output_type": "stream",
     "text": [
      "✅ 5 QA untuk ojk-peraturan_ojk-53_pojk_04_2020-11122020-rekening_efek_pada_kustodian.pdf\n",
      "⏭️ Skip (sudah diproses): ojk-peraturan_ojk-51_pojk_04_2020-11122020-pemeliharaan_dokumen_oleh_bank_umum_sebagai_kustodian.pdf\n"
     ]
    },
    {
     "name": "stderr",
     "output_type": "stream",
     "text": [
      "Dokumen:  26%|██▌       | 53/206 [07:55<26:15, 10.30s/it]"
     ]
    },
    {
     "name": "stdout",
     "output_type": "stream",
     "text": [
      "✅ 4 QA untuk ojk-peraturan_ojk-49_pojk_04_2020-11122020-pemeringkatan_efek_bersifat_utang_dan_atau_sukuk.pdf\n"
     ]
    },
    {
     "name": "stderr",
     "output_type": "stream",
     "text": [
      "Dokumen:  26%|██▌       | 54/206 [08:09<27:46, 10.96s/it]"
     ]
    },
    {
     "name": "stdout",
     "output_type": "stream",
     "text": [
      "✅ 3 QA untuk ojk-peraturan_ojk-45_pojk_03_2020-16102020-konglomerasi_keuangan.pdf\n"
     ]
    },
    {
     "name": "stderr",
     "output_type": "stream",
     "text": [
      "Dokumen:  27%|██▋       | 55/206 [08:24<30:13, 12.01s/it]"
     ]
    },
    {
     "name": "stdout",
     "output_type": "stream",
     "text": [
      "✅ 4 QA untuk ojk-peraturan_ojk-43_pojk_04_2020-02072020-kewajiban_keterbukaan_informasi_dan_tata_kelola_perusahaan_bagi_emiten_atau_perusahaan_publik_yang_memenuhi_kriteria_emiten_dengan_aset_skala_kecil_dan_emiten_dengan_aset_skala_menengah.pdf\n",
      "⏭️ Skip (sudah diproses): ojk-peraturan_ojk-40_pojk_05_2020-18062020-perintah_tertulis_untuk_penanganan_permasalahan_lembaga_jasa_keuangan_nonbank.pdf\n",
      "⏭️ Skip (sudah diproses): ojk-peraturan_ojk-39_pojk_05_2020-18062020-perubahan_kedua_atas_peraturan_otoritas_jasa_keuangan_nomor_14_pojk_05_2015_tentang_retensi_sendiri_dan_dukungan_reasuransi_dalam_negeri.pdf\n"
     ]
    },
    {
     "name": "stderr",
     "output_type": "stream",
     "text": [
      "Dokumen:  28%|██▊       | 58/206 [08:34<18:59,  7.70s/it]"
     ]
    },
    {
     "name": "stdout",
     "output_type": "stream",
     "text": [
      "✅ 3 QA untuk ojk-peraturan_ojk-38_pojk_05_2020-18062020-perubahan_atas_peraturan_otoritas_jasa_keuangan_nomor_69_pojk_05_2016_tentang_penyelenggaraan_usaha_perusahaan_asuransi_perusahaan_asuransi_syariah_perusahaan_reasuransi_dan_perusahaan_reasuransi_syariah.pdf\n"
     ]
    },
    {
     "name": "stderr",
     "output_type": "stream",
     "text": [
      "Dokumen:  29%|██▊       | 59/206 [08:49<21:54,  8.94s/it]"
     ]
    },
    {
     "name": "stdout",
     "output_type": "stream",
     "text": [
      "✅ 3 QA untuk ojk-peraturan_ojk-37_pojk_04_2020-10062020-tata_cara_pengecualian_pemenuhan_prinsip_keterbukaan_bagi_emiten_atau_perusahaan_publik_yang_merupakan_lembaga_jasa_keuangan_dalam_rangka_pencegahan_dan_penanganan_krisis_sistem_keuangan.pdf\n"
     ]
    },
    {
     "name": "stderr",
     "output_type": "stream",
     "text": [
      "Dokumen:  29%|██▉       | 60/206 [08:55<20:13,  8.31s/it]"
     ]
    },
    {
     "name": "stdout",
     "output_type": "stream",
     "text": [
      "✅ 2 QA untuk ojk-peraturan_ojk-36_pojk_02_2020-02062020-perubahan_ketiga_atas_peraturan_otoritas_jasa_keuangan_nomor_4_pojk_04_2014_tentang_tata_cara_penagihan_sanksi_administratif_berupa_denda_di_sektor_jasa_keuangan.pdf\n",
      "⏭️ Skip (sudah diproses): ojk-peraturan_ojk-33_pojk_04_2020-02062020-penyusunan_laporan_keuangan_produk_investasi_berbentuk_kontrak_investasi_kolektif.pdf\n",
      "⏭️ Skip (sudah diproses): ojk-peraturan_ojk-34_pojk_03_2020-02062020-kebijakan_bagi_bank_perkreditan_rakyat_dan_bank_pembiayaan_rakyat_syariah_sebagai_dampak_penyebaran_coronavirus_disease_2019.pdf\n"
     ]
    },
    {
     "name": "stderr",
     "output_type": "stream",
     "text": [
      "Dokumen:  31%|███       | 63/206 [09:11<16:35,  6.96s/it]"
     ]
    },
    {
     "name": "stdout",
     "output_type": "stream",
     "text": [
      "✅ 5 QA untuk ojk-peraturan_ojk-32_pojk_04_2020-06052020-kontrak_derivatif_efek.pdf\n"
     ]
    },
    {
     "name": "stderr",
     "output_type": "stream",
     "text": [
      "Dokumen:  31%|███       | 64/206 [09:23<18:52,  7.98s/it]"
     ]
    },
    {
     "name": "stdout",
     "output_type": "stream",
     "text": [
      "✅ 4 QA untuk ojk-peraturan_ojk-30_pojk_05_2020-29042020-perubahan_kedua_atas_peraturan_otoritas_jasa_keuangan_nomor_11_pojk_05_2014_tentang_pemeriksaan_langsung_lembaga_jasa_keuangan_nonbank.pdf\n"
     ]
    },
    {
     "name": "stderr",
     "output_type": "stream",
     "text": [
      "Dokumen:  32%|███▏      | 65/206 [09:44<25:04, 10.67s/it]"
     ]
    },
    {
     "name": "stdout",
     "output_type": "stream",
     "text": [
      "✅ 6 QA untuk ojk-peraturan_ojk-29_pojk_05_2020-29042020-perubahan_atas_peraturan_otoritas_jasa_keuangan_nomor_30_pojk_05_2014_tentang_tata_kelola_perusahaan_yang_baik_bagi_perusahaan_pembiayaan.pdf\n",
      "⏭️ Skip (sudah diproses): ojk-peraturan_ojk-28_pojk_05_2020-29042020-penilaian_tingkat_kesehatan_lembaga_jasa_keuangan_nonbank.pdf\n",
      "⏭️ Skip (sudah diproses): ojk-peraturan_ojk-24_pojk_04_2020-23042020-pedoman_penyusunan_surat_pernyataan_manajemen_dalam_bidang_akuntansi.pdf\n",
      "⏭️ Skip (sudah diproses): ojk-peraturan_ojk-23_pojk_04_2020-23042020-tata_cara_penyusunan_serta_pengajuan_rencana_anggaran_dan_penggunaan_laba_lembaga_kliring_dan_penjaminan.pdf\n",
      "⏭️ Skip (sudah diproses): ojk-peraturan_ojk-22_pojk_04_2020-23042020-tata_cara_penyusunan_serta_pengajuan_rencana_anggaran_dan_penggunaan_laba_lembaga_penyimpanan_dan_penyelesaian.pdf\n",
      "⏭️ Skip (sudah diproses): ojk-peraturan_ojk-21_pojk_04_2020-23042020-tata_cara_penyusunan_serta_pengajuan_rencana_anggaran_dan_penggunaan_laba_bursa_efek.pdf\n"
     ]
    },
    {
     "name": "stderr",
     "output_type": "stream",
     "text": [
      "Dokumen:  34%|███▍      | 71/206 [10:05<13:38,  6.06s/it]"
     ]
    },
    {
     "name": "stdout",
     "output_type": "stream",
     "text": [
      "✅ 7 QA untuk ojk-peraturan_ojk-19_pojk_04_2020-23042020-bank_umum_yang_melakukan_kegiatan_sebagai_wali_amanat.pdf\n"
     ]
    },
    {
     "name": "stderr",
     "output_type": "stream",
     "text": [
      "Dokumen:  35%|███▍      | 72/206 [10:25<17:29,  7.83s/it]"
     ]
    },
    {
     "name": "stdout",
     "output_type": "stream",
     "text": [
      "✅ 3 QA untuk ojk-peraturan_ojk-27_pojk_04_2020-23042020-saham_bonus.pdf\n"
     ]
    },
    {
     "name": "stderr",
     "output_type": "stream",
     "text": [
      "Dokumen:  35%|███▌      | 73/206 [10:32<17:06,  7.72s/it]"
     ]
    },
    {
     "name": "stdout",
     "output_type": "stream",
     "text": [
      "✅ 2 QA untuk ojk-peraturan_ojk-26_pojk_04_2020-23042020-penawaran_yang_bukan_merupakan_penawaran_umum.pdf\n",
      "⏭️ Skip (sudah diproses): ojk-peraturan_ojk-25_pojk_04_2020-23042020-pedoman_bentuk_dan_isi_prospektus_dalam_rangka_penawaran_umum_reksa_dana.pdf\n"
     ]
    },
    {
     "name": "stderr",
     "output_type": "stream",
     "text": [
      "Dokumen:  36%|███▋      | 75/206 [10:45<15:59,  7.33s/it]"
     ]
    },
    {
     "name": "stdout",
     "output_type": "stream",
     "text": [
      "✅ 4 QA untuk ojk-peraturan_ojk-18_pojk_03_2020-21042020-perintah_tertulis_untuk_penanganan_permasalahan_bank.pdf\n",
      "⏭️ Skip (sudah diproses): ojk-peraturan_ojk-16_pojk_04_2020-20042020-pelaksanaan_rapat_umum_pemegang_saham_perusahaan_terbuka_secara_elektronik.pdf\n",
      "⏭️ Skip (sudah diproses): ojk-peraturan_ojk-13_pojk_03_2020-24032020-perubahan_atas_peraturan_otoritas_jasa_keuangan_nomor_38_pojk_03_2016_tentang_penerapan_manajemen_risiko_dalam_penggunaan_teknologi_informasi_oleh_bank_umum.pdf\n",
      "⏭️ Skip (sudah diproses): ojk-peraturan_ojk-12_pojk_03_2020-17032020-konsolidasi_bank_umum.pdf\n",
      "⏭️ Skip (sudah diproses): ojk-peraturan_ojk-11_pojk_03_2020-16032020-stimulus_perekonomian_nasional_sebagai_kebijakan_countercyclical_dampak_penyebaran_coronavirus_disease_2019.pdf\n",
      "⏭️ Skip (sudah diproses): ojk-peraturan_ojk-10_pojk_04_2020-19022020-laporan_biro_administrasi_efek_atau_emiten_dan_perusahaan_publik_yang_menyelenggarakan_administrasi_efek_sendiri.pdf\n"
     ]
    },
    {
     "name": "stderr",
     "output_type": "stream",
     "text": [
      "Dokumen:  39%|███▉      | 81/206 [10:52<08:02,  3.86s/it]"
     ]
    },
    {
     "name": "stdout",
     "output_type": "stream",
     "text": [
      "✅ 3 QA untuk ojk-peraturan_ojk-9_pojk_04_2020-19022020-perizinan_biro_administrasi_efek.pdf\n"
     ]
    },
    {
     "name": "stderr",
     "output_type": "stream",
     "text": [
      "Dokumen:  40%|███▉      | 82/206 [11:00<08:53,  4.30s/it]"
     ]
    },
    {
     "name": "stdout",
     "output_type": "stream",
     "text": [
      "✅ 2 QA untuk ojk-peraturan_ojk-8_pojk_04_2020-19022020-penerbitan_foreign_depositary_receipts.pdf\n",
      "⏭️ Skip (sudah diproses): ojk-peraturan_ojk-7_pojk_04_2020-19022020-penawaran_umum_efek_bersifat_utang_dan_atau_sukuk_dalam_denominasi_mata_uang_selain_rupiah.pdf\n"
     ]
    },
    {
     "name": "stderr",
     "output_type": "stream",
     "text": [
      "Dokumen:  41%|████      | 84/206 [11:20<11:38,  5.73s/it]"
     ]
    },
    {
     "name": "stdout",
     "output_type": "stream",
     "text": [
      "✅ 5 QA untuk ojk-peraturan_ojk-6_pojk_04_2020-19022020-penawaran_umum_sertifikat_penitipan_efek_indonesia.pdf\n",
      "⏭️ Skip (sudah diproses): ojk-peraturan_ojk-5_pojk_04_2020-19022020-pembuatan_nomor_tunggal_identitas_pemodal_pada_lembaga_penyimpanan_dan_penyelesaian_oleh_biro_administrasi_efek_atau_emiten_dan_perusahaan_publik_yang_menyelenggarakan_administrasi_efek_sendiri.pdf\n",
      "⏭️ Skip (sudah diproses): ojk-peraturan_ojk-4_pojk_04_2020-19022020-perilaku_perusahaan_efek_yang_melakukan_kegiatan_usaha_sebagai_penjamin_emisi_efek.pdf\n",
      "⏭️ Skip (sudah diproses): ojk-peraturan_ojk-3_pojk_04_2020-19022020-perilaku_perusahaan_efek_yang_melakukan_kegiatan_usaha_sebagai_perantara_pedagang_efek.pdf\n"
     ]
    },
    {
     "name": "stderr",
     "output_type": "stream",
     "text": [
      "Dokumen:  43%|████▎     | 88/206 [11:38<10:15,  5.22s/it]"
     ]
    },
    {
     "name": "stdout",
     "output_type": "stream",
     "text": [
      "✅ 3 QA untuk ojk-peraturan_ojk-2_pojk_04_2020-09012020-perubahan_atas_peraturan_otoritas_jasa_keuangan_nomor_23_pojk_04_2016_tentang_reksa_dana_berbentuk_kontrak_investasi_kolektif.pdf\n"
     ]
    },
    {
     "name": "stderr",
     "output_type": "stream",
     "text": [
      "Dokumen:  43%|████▎     | 89/206 [11:45<10:39,  5.47s/it]"
     ]
    },
    {
     "name": "stdout",
     "output_type": "stream",
     "text": [
      "✅ 2 QA untuk ojk-peraturan_ojk-1_pojk_04_2020-03012020-penyusunan_laporan_keuangan_perusahaan_efek.pdf\n"
     ]
    },
    {
     "name": "stderr",
     "output_type": "stream",
     "text": [
      "Dokumen:  44%|████▎     | 90/206 [11:53<11:31,  5.96s/it]"
     ]
    },
    {
     "name": "stdout",
     "output_type": "stream",
     "text": [
      "✅ 2 QA untuk ojk-peraturan_ojk-43_pojk_05_2019-31122019-perubahan_atas_peraturan_otoritas_jasa_keuangan_nomor_73_pojk_05_2016_tentang_tata_kelola_perusahaan_yang_baik_bagi_perusahaan_perasuransian.pdf\n",
      "⏭️ Skip (sudah diproses): ojk-peraturan_ojk-44_pojk_05_2019-27122019-peraturan_otoritas_jasa_keuangan_nomor_44_pojk_05_2019_tentang_perubahan_atas_peraturan_otoritas_jasa_keuangan_nomor_41_pojk_05_2015_tentang_tata_cara_penetapan_pengelola_statuter_pada_lembaga_jasa_keuangan.pdf\n"
     ]
    },
    {
     "name": "stderr",
     "output_type": "stream",
     "text": [
      "Dokumen:  45%|████▍     | 92/206 [12:02<10:12,  5.37s/it]"
     ]
    },
    {
     "name": "stdout",
     "output_type": "stream",
     "text": [
      "✅ 2 QA untuk ojk-peraturan_ojk-36_pojk_03_2019-18122019-penyampaian_laporan_melalui_portal_pelaporan_terintegrasi.pdf\n"
     ]
    },
    {
     "name": "stderr",
     "output_type": "stream",
     "text": [
      "Dokumen:  45%|████▌     | 93/206 [12:18<13:56,  7.41s/it]"
     ]
    },
    {
     "name": "stdout",
     "output_type": "stream",
     "text": [
      "✅ 5 QA untuk ojk-peraturan_ojk-35_pojk_03_2019-13122019-transparansi_kondisi_keuangan_bank_pembiayaan_rakyat_syariah.pdf\n",
      "⏭️ Skip (sudah diproses): ojk-peraturan_ojk-32_pojk_03_2019-12122019-perubahan_atas_peraturan_otoritas_jasa_keuangan_nomor_19_pojk_03_2017_tentang_penetapan_status_dan_tindak_lanjut_pengawasan_bank_perkreditan_rakyat_dan_bank_pembiayaan_rakyat_syariah.pdf\n"
     ]
    },
    {
     "name": "stderr",
     "output_type": "stream",
     "text": [
      "Dokumen:  46%|████▌     | 95/206 [12:35<14:11,  7.67s/it]"
     ]
    },
    {
     "name": "stdout",
     "output_type": "stream",
     "text": [
      "✅ 6 QA untuk ojk-peraturan_ojk-28_pojk_03_2019-25112019-sinergi_perbankan_dalam_satu_kepemilikan_untuk_pengembangan_perbankan_syariah.pdf\n",
      "⏭️ Skip (sudah diproses): ojk-peraturan_ojk-27_pojk_04_2019-05112019-persetujuan_bank_umum_sebagai_kustodian.pdf\n",
      "⏭️ Skip (sudah diproses): ojk-peraturan_ojk-26_pojk_01_2019-24102019-perizinan_secara_elektronik_di_sektor_jasa_keuangan.pdf\n",
      "⏭️ Skip (sudah diproses): ojk-peraturan_ojk-25_pojk_03_2019-15102019-pelaporan_informasi_nasabah_asing_terkait_perpajakan_kepada_negara_mitra_atau_yurisdiksi_mitra.pdf\n",
      "⏭️ Skip (sudah diproses): ojk-peraturan_ojk-24_pojk_05_2019-19092019-rencana_bisnis_lembaga_jasa_keuangan_non_bank.pdf\n"
     ]
    },
    {
     "name": "stderr",
     "output_type": "stream",
     "text": [
      "Dokumen:  49%|████▊     | 100/206 [12:53<09:35,  5.43s/it]"
     ]
    },
    {
     "name": "stdout",
     "output_type": "stream",
     "text": [
      "✅ 6 QA untuk ojk-peraturan_ojk-22_pojk_04_2019-12092019-transaksi_efek.pdf\n",
      "⏭️ Skip (sudah diproses): ojk-peraturan_ojk-20_pojk_03_2019-02092019-sistem_penilaian_tingkat_kesehatan_bank_pembiayaan_rakyat_syariah.pdf\n",
      "⏭️ Skip (sudah diproses): ojk-peraturan_ojk-19_pojk_05_2019-30082019-perubahan_atas_peraturan_otoritas_jasa_keuangan_nomor_14_pojk_05_2015_tentang_retensi_sendiri_dan_dukungan_reasuransi_dalam_negeri.pdf\n"
     ]
    },
    {
     "name": "stderr",
     "output_type": "stream",
     "text": [
      "Dokumen:  50%|█████     | 103/206 [13:07<09:04,  5.29s/it]"
     ]
    },
    {
     "name": "stdout",
     "output_type": "stream",
     "text": [
      "✅ 6 QA untuk ojk-peraturan_ojk-17_pojk_04_2019-05072019-perizinan_wakil_agen_penjual_efek_reksa_dana.pdf\n"
     ]
    },
    {
     "name": "stderr",
     "output_type": "stream",
     "text": [
      "Dokumen:  50%|█████     | 104/206 [13:21<10:44,  6.31s/it]"
     ]
    },
    {
     "name": "stdout",
     "output_type": "stream",
     "text": [
      "✅ 7 QA untuk ojk-peraturan_ojk-16_pojk_05_2019-19062019-pengawasan_pt_permodalan_nasional_madani_persero_.pdf\n",
      "⏭️ Skip (sudah diproses): ojk-peraturan_ojk-14_pojk_04_2019-30042019-perubahan_atas_peraturan_otoritas_jasa_keuangan_nomor_32_pojk_04_2015_tentang_penambahan_modal_perusahaan_terbuka_dengan_memberikan_hak_memesan_efek_terlebih_dahulu.pdf\n"
     ]
    },
    {
     "name": "stderr",
     "output_type": "stream",
     "text": [
      "Dokumen:  51%|█████▏    | 106/206 [13:43<12:40,  7.61s/it]"
     ]
    },
    {
     "name": "stdout",
     "output_type": "stream",
     "text": [
      "✅ 6 QA untuk ojk-peraturan_ojk-13_pojk_03_2019-30042019-pelaporan_bank_perkreditan_rakyat_dan_bank_pembiayaan_rakyat_syariah_melalui_sistem_pelaporan_otoritas_jasa_keuangan.pdf\n"
     ]
    },
    {
     "name": "stderr",
     "output_type": "stream",
     "text": [
      "Dokumen:  52%|█████▏    | 107/206 [13:52<12:56,  7.84s/it]"
     ]
    },
    {
     "name": "stdout",
     "output_type": "stream",
     "text": [
      "✅ 2 QA untuk ojk-peraturan_ojk-7_pojk_04_2019-08022019-promosi_pemasaran_efek_termasuk_iklan_brosur_atau_komunikasi_lainnya_kepada_publik.pdf\n"
     ]
    },
    {
     "name": "stderr",
     "output_type": "stream",
     "text": [
      "Dokumen:  52%|█████▏    | 108/206 [13:58<12:21,  7.57s/it]"
     ]
    },
    {
     "name": "stdout",
     "output_type": "stream",
     "text": [
      "✅ 2 QA untuk ojk-peraturan_ojk-6_pojk_04_2019-08022019-stabilisasi_harga_untuk_mempermudah_penawaran_umum.pdf\n",
      "⏭️ Skip (sudah diproses): ojk-peraturan_ojk-5_pojk_04_2019-08022019-perilaku_yang_dilarang_bagi_penasihat_investasi.pdf\n",
      "⏭️ Skip (sudah diproses): ojk-peraturan_ojk-4_pojk_04_2019-08022019-tata_cara_pemberian_persetujuan_anggaran_dasar_lembaga_penyimpanan_dan_penyelesaian.pdf\n"
     ]
    },
    {
     "name": "stderr",
     "output_type": "stream",
     "text": [
      "Dokumen:  54%|█████▍    | 111/206 [14:08<09:04,  5.74s/it]"
     ]
    },
    {
     "name": "stdout",
     "output_type": "stream",
     "text": [
      "✅ 3 QA untuk ojk-peraturan_ojk-3_pojk_04_2019-08022019-tata_cara_pemberian_persetujuan_anggaran_dasar_lembaga_kliring_dan_penjaminan.pdf\n"
     ]
    },
    {
     "name": "stderr",
     "output_type": "stream",
     "text": [
      "Dokumen:  54%|█████▍    | 112/206 [14:17<09:43,  6.21s/it]"
     ]
    },
    {
     "name": "stdout",
     "output_type": "stream",
     "text": [
      "✅ 3 QA untuk ojk-peraturan_ojk-2_pojk_04_2019-08022019-tata_cara_pemberian_persetujuan_anggaran_dasar_bursa_efek.pdf\n",
      "⏭️ Skip (sudah diproses): ojk-peraturan_ojk-1_pojk_03_2019-29012019-penerapan_fungsi_audit_intern_pada_bank_umum.pdf\n",
      "⏭️ Skip (sudah diproses): ojk-peraturan_ojk-36_pojk_04_2018-27122018-tata_cara_pemeriksaan_di_sektor_pasar_modal.pdf\n",
      "⏭️ Skip (sudah diproses): ojk-peraturan_ojk-31_pojk_04_2018-11122018-perizinan_wakil_manajer_investasi.pdf\n",
      "⏭️ Skip (sudah diproses): ojk-peraturan_ojk-30_pojk_05_2018-10122018-perubahan_atas_pojk_tentang_penyelenggaraan_usaha_lembaga_penjamin.pdf\n"
     ]
    },
    {
     "name": "stderr",
     "output_type": "stream",
     "text": [
      "Dokumen:  57%|█████▋    | 117/206 [14:27<05:47,  3.91s/it]"
     ]
    },
    {
     "name": "stdout",
     "output_type": "stream",
     "text": [
      "✅ 4 QA untuk ojk-peraturan_ojk-29_pojk_05_2018-10122018-perubahan_atas_pojk_tentang_investasi_dana_pensiun.pdf\n"
     ]
    },
    {
     "name": "stderr",
     "output_type": "stream",
     "text": [
      "Dokumen:  57%|█████▋    | 118/206 [14:41<07:42,  5.26s/it]"
     ]
    },
    {
     "name": "stdout",
     "output_type": "stream",
     "text": [
      "✅ 4 QA untuk ojk-peraturan_ojk-28_pojk_05_2018-10122018-perubahan_atas_pojk_tentang_kesehatan_keuangan_perusahaan_asuransi_dan_perusahaan_reasuransi_dengan_prinsip_syariah.pdf\n",
      "⏭️ Skip (sudah diproses): ojk-peraturan_ojk-27_pojk_05_2018-10122018-perubahan_atas_pojk_tentang_kesehatan_keuangan_perusahaan_asuransi_dan_perusahaan_reasuransi.pdf\n",
      "⏭️ Skip (sudah diproses): ojk-peraturan_ojk-26_pojk_02_2018-10122018-perubahan_kedua_pojk_tentang_tata_cara_penagihan_sanksi_administratif_berupa_denda_di_sektor_jasa_keuangan.pdf\n"
     ]
    },
    {
     "name": "stderr",
     "output_type": "stream",
     "text": [
      "Dokumen:  59%|█████▊    | 121/206 [14:57<07:24,  5.23s/it]"
     ]
    },
    {
     "name": "stdout",
     "output_type": "stream",
     "text": [
      "✅ 3 QA untuk ojk-peraturan_ojk-22_pojk_02_2018-10122018-perubahan_atas_pojk_nomor_3_pojk_02_2014_tentang_tata_cara_pelaksanaan_pungutan_oleh_otoritas_jasa_keuangan.pdf\n"
     ]
    },
    {
     "name": "stderr",
     "output_type": "stream",
     "text": [
      "Dokumen:  59%|█████▉    | 122/206 [15:04<07:47,  5.57s/it]"
     ]
    },
    {
     "name": "stdout",
     "output_type": "stream",
     "text": [
      "✅ 3 QA untuk ojk-peraturan_ojk-21_pojk_04_2018-21112018-waktu_penyelesaian_transaksi_bursa.pdf\n",
      "⏭️ Skip (sudah diproses): ojk-peraturan_ojk-19_pojk_03_2018-20092018-perubahan_pojk_tentang_penilaian_kualitas_aset_bank_umum_syariah_dan_unit_usaha_syariah.pdf\n"
     ]
    },
    {
     "name": "stderr",
     "output_type": "stream",
     "text": [
      "Dokumen:  60%|██████    | 124/206 [15:24<09:29,  6.95s/it]"
     ]
    },
    {
     "name": "stdout",
     "output_type": "stream",
     "text": [
      "✅ 7 QA untuk ojk-peraturan_ojk-18_pojk_07_2018-10092018-layanan_pengaduan_konsumen_di_sektor_jasa_keuangan.pdf\n",
      "⏭️ Skip (sudah diproses): ojk-peraturan_ojk-17_pojk_03_2018-16082018-perubahan_atas_pojk_nomor_6_pojk_03_2016_tentang_kegiatan_usaha_dan_jaringan_kantor_berdasarkan_modal_inti_bank.pdf\n",
      "⏭️ Skip (sudah diproses): ojk-peraturan_ojk-16_pojk_03_2018-16082018-perubahan_pojk_nomor_44_pojk_03_2017_tentang_pembatasan_pemberian_kredit_atau_pembiayaan_oleh_bank_umum_untuk_pengadaan_tanah_dan_atau_pengolahan_tanah.pdf\n",
      "⏭️ Skip (sudah diproses): ojk-peraturan_ojk-15_pojk_03_2018-16082018-batas_maksimum_pemberian_kredit_atau_batas_maksimum_penyaluran_dana_bank_untuk_mendorong_pertumbuhan_sektor_pariwisata_dan_peningkatan_devisa.pdf\n",
      "⏭️ Skip (sudah diproses): ojk-peraturan_ojk-14_pojk_03_2018-16082018-penilaian_kualitas_aset_bank_umum_untuk_mendorong_pertumbuhan_sektor_perumahan_dan_peningkatan_devisa.pdf\n"
     ]
    },
    {
     "name": "stderr",
     "output_type": "stream",
     "text": [
      "Dokumen:  63%|██████▎   | 129/206 [15:42<06:38,  5.17s/it]"
     ]
    },
    {
     "name": "stdout",
     "output_type": "stream",
     "text": [
      "✅ 7 QA untuk ojk-peraturan_ojk-11_pojk_04_2018-01082018-penawaran_umum_efek_bersifat_utang_dan_atau_sukuk_kepada_pemodal_profesional.pdf\n"
     ]
    },
    {
     "name": "stderr",
     "output_type": "stream",
     "text": [
      "Dokumen:  63%|██████▎   | 130/206 [15:53<07:33,  5.96s/it]"
     ]
    },
    {
     "name": "stdout",
     "output_type": "stream",
     "text": [
      "✅ 4 QA untuk ojk-peraturan_ojk-7_pojk_04_2018-25042018-penyampaian_laporan_melalui_sistem_pelaporan_elektronik_emiten_atau_perusahaan_publik.pdf\n"
     ]
    },
    {
     "name": "stderr",
     "output_type": "stream",
     "text": [
      "Dokumen:  64%|██████▎   | 131/206 [16:05<08:34,  6.86s/it]"
     ]
    },
    {
     "name": "stdout",
     "output_type": "stream",
     "text": [
      "✅ 3 QA untuk ojk-peraturan_ojk-6_pojk_03_2018-22042018-perubahan_pojk_nomor_7_pojk_03_2016_tentang_prinsip_kehati_hatian_dalam_melaksanakan_kegiatan_structured_product_bagi_bank_umum.pdf\n"
     ]
    },
    {
     "name": "stderr",
     "output_type": "stream",
     "text": [
      "Dokumen:  64%|██████▍   | 132/206 [16:19<10:04,  8.17s/it]"
     ]
    },
    {
     "name": "stdout",
     "output_type": "stream",
     "text": [
      "✅ 5 QA untuk ojk-peraturan_ojk-5_pojk_05_2018-04042018-laporan_berkala_dana_pensiun.pdf\n",
      "⏭️ Skip (sudah diproses): ojk-peraturan_ojk-3_pojk_04_2018-26032018-perubahan_atas_pojk_nomor_18_pojk_04_2015_tentang_penerbitan_dan_persyaratan_sukuk.pdf\n"
     ]
    },
    {
     "name": "stderr",
     "output_type": "stream",
     "text": [
      "Dokumen:  65%|██████▌   | 134/206 [16:35<09:45,  8.13s/it]"
     ]
    },
    {
     "name": "stdout",
     "output_type": "stream",
     "text": [
      "✅ 4 QA untuk ojk-peraturan_ojk-2_pojk_03_2018-26032018-penetapan_bank_sistemik_dan_capital_surcharge.pdf\n"
     ]
    },
    {
     "name": "stderr",
     "output_type": "stream",
     "text": [
      "Dokumen:  66%|██████▌   | 135/206 [16:45<09:55,  8.39s/it]"
     ]
    },
    {
     "name": "stdout",
     "output_type": "stream",
     "text": [
      "✅ 3 QA untuk ojk-peraturan_ojk-58_pojk_04_2017-08122017-penyampaian_pernyataan_pendaftaran_atau_pengajuan_aksi_korporasi_secara_elektronik.pdf\n"
     ]
    },
    {
     "name": "stderr",
     "output_type": "stream",
     "text": [
      "Dokumen:  66%|██████▌   | 136/206 [16:54<10:05,  8.66s/it]"
     ]
    },
    {
     "name": "stdout",
     "output_type": "stream",
     "text": [
      "✅ 4 QA untuk ojk-peraturan_ojk-38_pojk_03_2017-12072017-penerapan_manajemen_risiko_secara_konsolidasi_bagi_bank_yang_melakukan_pengendalian_terhadap_perusahaan_anak.pdf\n",
      "⏭️ Skip (sudah diproses): ojk-peraturan_ojk-66_pojk_03_2016-28122016-pojk_tentang_kewajiban_penyediaan_modal_minimum_dan_pemenuhan_modal_inti_minimum_bank_pembiayaan_rakyat_syariah.pdf\n",
      "⏭️ Skip (sudah diproses): ojk-peraturan_ojk-62_pojk_03_2016-28122016-pojk_tentang_transformasi_lembaga_keuangan_mikro_konvensional_menjadi_bank_perkreditan_rakyat_dan_lembaga_keuangan_mikro_syariah_menjadi_bank_pembiayaan_rakyat_syariah.pdf\n",
      "⏭️ Skip (sudah diproses): ojk-peraturan_ojk-63_pojk_05_2016-27122016-pojk_tentang_perubahan_atas_peraturan_otoritas_jasa_keuangan_nomor_11_pojk_05_2016_tentang_pemeriksaaan_langsung_lembaga_jasa_keuangan_non_bank.pdf\n",
      "⏭️ Skip (sudah diproses): ojk-peraturan_ojk-24_pojk_04_2014-20122016-pojk_tentang_pedoman_pelaksanaan_fungsi_fungsi_manajer_investasi.pdf\n",
      "⏭️ Skip (sudah diproses): ojk-peraturan_ojk-46_pojk_04_2016-07122016-pojk_tentang_tata_cara_pembuatan_peraturan_oleh_bursa_efek.pdf\n",
      "⏭️ Skip (sudah diproses): ojk-peraturan_ojk-48_pojk_04_2016-07122016-pojk_tentang_tata_cara_pembuatan_peraturan_oleh_lembaga_penyimpanan_dan_penyelesaian.pdf\n"
     ]
    },
    {
     "name": "stderr",
     "output_type": "stream",
     "text": [
      "Dokumen:  69%|██████▉   | 143/206 [17:02<03:37,  3.45s/it]"
     ]
    },
    {
     "name": "stdout",
     "output_type": "stream",
     "text": [
      "✅ 2 QA untuk ojk-peraturan_ojk-36_pojk_05_2016-14112016-pojk_tentang_perubahan_atas_peraturan_jasa_keuangan_nomor_1_pojk_05_2016_tentang_investasi_surat_berharga_negara_bagi_lembaga_jasa_keuangan_non_bank.pdf\n"
     ]
    },
    {
     "name": "stderr",
     "output_type": "stream",
     "text": [
      "Dokumen:  70%|██████▉   | 144/206 [17:09<04:02,  3.91s/it]"
     ]
    },
    {
     "name": "stdout",
     "output_type": "stream",
     "text": [
      "✅ 2 QA untuk ojk-peraturan_ojk-35_pojk_05_2016-25102016-pojk_tentang_tata_cara_penetapan_perintah_tertulis_pada_sektor_perasuransian.pdf\n",
      "⏭️ Skip (sudah diproses): ojk-peraturan_ojk-33_pojk_05_2016-26092016-penyelenggaraan_program_pensiun_berdasarkan_prinsip_syariah.pdf\n",
      "⏭️ Skip (sudah diproses): ojk-peraturan_ojk-30_pojk_04_2016-29072016-dana_investasi_real_estate_syariah_berbentuk_kontrak_investasi_kolektif.pdf\n",
      "⏭️ Skip (sudah diproses): ojk-peraturan_ojk-30_pojk_04_2016-29072016-pojk_tentang_dana_investasi_real_estat_syariah_berbentuk_kontrak_investasi_kolektif.pdf\n",
      "⏭️ Skip (sudah diproses): ojk-peraturan_ojk-28_pojk_04_2016-29072016-pojk_tentang_sistem_pengelolaan_investasi_terpadu.pdf\n",
      "⏭️ Skip (sudah diproses): ojk-peraturan_ojk-21_pojk_04_2016-18042016-pojk_tentang_pendaftaran_penilai_pemerintah_untuk_tujuan_revaluasi_aset_bagi_badan_usaha_milik_negara_atau_badan_usaha_milik_daerah_yang_melakukan_penawaran_umum_di_pasar_modal.pdf\n"
     ]
    },
    {
     "name": "stderr",
     "output_type": "stream",
     "text": [
      "Dokumen:  73%|███████▎  | 150/206 [17:16<02:19,  2.48s/it]"
     ]
    },
    {
     "name": "stdout",
     "output_type": "stream",
     "text": [
      "✅ 2 QA untuk ojk-peraturan_ojk-17_pojk_05_2016-01032016-pojk_tentang_laporan_teknis_dana_pensiun.pdf\n"
     ]
    },
    {
     "name": "stderr",
     "output_type": "stream",
     "text": [
      "Dokumen:  73%|███████▎  | 151/206 [17:23<02:46,  3.03s/it]"
     ]
    },
    {
     "name": "stdout",
     "output_type": "stream",
     "text": [
      "✅ 2 QA untuk ojk-peraturan_ojk-15_pojk_05_2016-01032016-pojk_tentang_persyaratan_pengurus_dan_dewan_pengawas_dana_pensiun_pemberi_kerja_dan_pelaksana_tugas_pengurus_dana_pensiun_lembaga_keuangan.pdf\n"
     ]
    },
    {
     "name": "stderr",
     "output_type": "stream",
     "text": [
      "Dokumen:  74%|███████▍  | 152/206 [17:33<03:35,  3.99s/it]"
     ]
    },
    {
     "name": "stdout",
     "output_type": "stream",
     "text": [
      "✅ 3 QA untuk ojk-peraturan_ojk-13_pojk_03_2016-01032016-pojk_tentang_tata_cara_permohonan_pengesahan_pembentukan_dana_pensiun_pemberi_kerja_dan_pengesahan_atas_perubahan_peraturan.pdf\n"
     ]
    },
    {
     "name": "stderr",
     "output_type": "stream",
     "text": [
      "Dokumen:  74%|███████▍  | 153/206 [17:53<05:46,  6.53s/it]"
     ]
    },
    {
     "name": "stdout",
     "output_type": "stream",
     "text": [
      "✅ 6 QA untuk ojk-peraturan_ojk-4_pojk_03_2016-27012016-pojk_tentang_penilaian_tingkat_kesehatan_bank_umum.pdf\n",
      "⏭️ Skip (sudah diproses): ojk-peraturan_ojk-1_pojk_05_2016-12012016-pojk_tentang_investasi_surat_berharga_negara_bagi_lembaga_jasa_keuangan_non_bank.pdf\n",
      "⏭️ Skip (sudah diproses): ojk-peraturan_ojk-62_pojk_05_2015-29122015-pojk_tentang_perubahan_atas_peraturan_otoritas_jasa_keuangan_tentang_penyelenggaraan_usaha_lembaga_keuangan_mikro.pdf\n",
      "⏭️ Skip (sudah diproses): ojk-peraturan_ojk-44_pojk_03_2015-29122015-pojk_tentang_sertifikasi_kompetensi_kerja_bagi_anggota_direksi_dan_anggota_dewan_komisaris_bank_perkreditan_rakyat_dan_bank_perkreditan_rakyat_syariah.pdf\n"
     ]
    },
    {
     "name": "stderr",
     "output_type": "stream",
     "text": [
      "Dokumen:  76%|███████▌  | 157/206 [18:08<04:15,  5.22s/it]"
     ]
    },
    {
     "name": "stdout",
     "output_type": "stream",
     "text": [
      "✅ 4 QA untuk ojk-peraturan_ojk-41_pojk_05_2015-28122015-pojk_tentang_tata_cara_penetapan_pengelola_statuter_pada_lembaga_jasa_keuangan.pdf\n"
     ]
    },
    {
     "name": "stderr",
     "output_type": "stream",
     "text": [
      "Dokumen:  77%|███████▋  | 158/206 [18:26<05:39,  7.08s/it]"
     ]
    },
    {
     "name": "stdout",
     "output_type": "stream",
     "text": [
      "✅ 7 QA untuk ojk-peraturan_ojk-38_pojk_05_2015-28122015-pojk_tentang_pendaftaran_dan_pengawasan_konsultan_aktuaria_akuntan_publik_dan_penilai_yang_melakukan_kegiatan_di_industri_keuangan_non_bank.pdf\n"
     ]
    },
    {
     "name": "stderr",
     "output_type": "stream",
     "text": [
      "Dokumen:  77%|███████▋  | 159/206 [18:40<06:28,  8.26s/it]"
     ]
    },
    {
     "name": "stdout",
     "output_type": "stream",
     "text": [
      "✅ 5 QA untuk ojk-peraturan_ojk-37_pojk_05_2015-28122015-pojk_tentang_pemeriksaan_langsung_perusahaan_modal_ventura.pdf\n"
     ]
    },
    {
     "name": "stderr",
     "output_type": "stream",
     "text": [
      "Dokumen:  78%|███████▊  | 160/206 [18:53<06:59,  9.11s/it]"
     ]
    },
    {
     "name": "stdout",
     "output_type": "stream",
     "text": [
      "✅ 3 QA untuk ojk-peraturan_ojk-29_pojk_04_2015-22122015-pojk_tentang_emiten_atau_perusahaan_publik_yang_dikecualikan_dari_kewajiban_pelaporan_dan_pengumuman.pdf\n"
     ]
    },
    {
     "name": "stderr",
     "output_type": "stream",
     "text": [
      "Dokumen:  78%|███████▊  | 161/206 [19:06<07:34, 10.09s/it]"
     ]
    },
    {
     "name": "stdout",
     "output_type": "stream",
     "text": [
      "✅ 5 QA untuk ojk-peraturan_ojk-24_pojk_03_2015-27112015-produk_dan_aktivitas_bank_syariah_dan_unit_usaha_syariah.pdf\n"
     ]
    },
    {
     "name": "stderr",
     "output_type": "stream",
     "text": [
      "Dokumen:  79%|███████▊  | 162/206 [19:13<06:48,  9.30s/it]"
     ]
    },
    {
     "name": "stdout",
     "output_type": "stream",
     "text": [
      "✅ 2 QA untuk ojk-peraturan_ojk-21_pojk_04_2014-17112015-penerapan_pedoman_tata_kelola_perusahaan_terbuka.pdf\n"
     ]
    },
    {
     "name": "stderr",
     "output_type": "stream",
     "text": [
      "Dokumen:  79%|███████▉  | 163/206 [19:25<07:08,  9.96s/it]"
     ]
    },
    {
     "name": "stdout",
     "output_type": "stream",
     "text": [
      "✅ 3 QA untuk ojk-peraturan_ojk-20_pojk_04_2015-10112015-penerbitan_dan_persyaratan_efek_beragun_aset_syariah.pdf\n",
      "⏭️ Skip (sudah diproses): ojk-peraturan_ojk-17_pojk_04_2015-10112015-penerbitan_dan_persyaratan_efek_syariah_berupa_saham_oleh_emiten_syariah_atau_perusahaan_publik_syariah.pdf\n"
     ]
    },
    {
     "name": "stderr",
     "output_type": "stream",
     "text": [
      "Dokumen:  80%|████████  | 165/206 [19:42<06:26,  9.43s/it]"
     ]
    },
    {
     "name": "stdout",
     "output_type": "stream",
     "text": [
      "✅ 5 QA untuk ojk-peraturan_ojk-18_pojk_04_2015-10112015-penerbitan_dan_persyaratan_sukuk.pdf\n",
      "⏭️ Skip (sudah diproses): ojk-peraturan_ojk-14_pojk_05_2015-10112015-pojk_tentang_retensi_sendiri_dan_dukungan_reasuransi_dalam_negeri.pdf\n",
      "⏭️ Skip (sudah diproses): ojk-peraturan_ojk-12_pojk_03_2015-24082015-pojk_tentang_ketentuan_kehati_hatian_dalam_rangka_stimulus_perekonomian_nasional_bagi_bus_dan_uus.pdf\n",
      "⏭️ Skip (sudah diproses): ojk-peraturan_ojk-11_pojk_03_2015-24082015-pojk_tentang_ketentuan_kehati_hatian_dalam_rangka_stimulus_perekonomian_nasional_bagi_bank_umum.pdf\n",
      "⏭️ Skip (sudah diproses): ojk-peraturan_ojk-10_pojk_03_2015-14072015-pojk_tentang_penerbitan_sertifikat_deposito_oleh_bank.pdf\n"
     ]
    },
    {
     "name": "stderr",
     "output_type": "stream",
     "text": [
      "Dokumen:  83%|████████▎ | 170/206 [19:49<02:42,  4.51s/it]"
     ]
    },
    {
     "name": "stdout",
     "output_type": "stream",
     "text": [
      "✅ 2 QA untuk ojk-peraturan_ojk-9_pojk_04_2015-26062015-pojk_tentang_pedoman_transaksi_repurchase_agreement_bagi_lembaga_jasa_keuangan.pdf\n",
      "⏭️ Skip (sudah diproses): ojk-peraturan_ojk-8_pojk_04_2015-26062015-pojk_tentang_situs_web_emiten_atau_perusahaan_publik.pdf\n"
     ]
    },
    {
     "name": "stderr",
     "output_type": "stream",
     "text": [
      "Dokumen:  83%|████████▎ | 172/206 [19:56<02:28,  4.36s/it]"
     ]
    },
    {
     "name": "stdout",
     "output_type": "stream",
     "text": [
      "✅ 2 QA untuk ojk-peraturan_ojk-7_pojk_04_2015-05052015-pojk_tentang_perubahan_atas_peraturan_otoritas_jasa_keuangan_tentang_tata_cara_penagihan_sanksi_administratif_berupa_denda_di_sektor_jasa_keuangan.pdf\n"
     ]
    },
    {
     "name": "stderr",
     "output_type": "stream",
     "text": [
      "Dokumen:  84%|████████▍ | 173/206 [20:12<03:23,  6.16s/it]"
     ]
    },
    {
     "name": "stdout",
     "output_type": "stream",
     "text": [
      "✅ 5 QA untuk ojk-peraturan_ojk-5_pojk_03_2015-01042015-pojk_tentang_kewajiban_penyediaan_modal_minimum_dan_pemenuhan_modal_inti_minimum_bank_perkreditan_rakyat.pdf\n"
     ]
    },
    {
     "name": "stderr",
     "output_type": "stream",
     "text": [
      "Dokumen:  84%|████████▍ | 174/206 [20:22<03:35,  6.74s/it]"
     ]
    },
    {
     "name": "stdout",
     "output_type": "stream",
     "text": [
      "✅ 3 QA untuk ojk-peraturan_ojk-2_pojk_05_2015-31032015-pojk_tentang_pemeliharaan_dan_pelaporan_data_asuransi.pdf\n",
      "⏭️ Skip (sudah diproses): ojk-peraturan_ojk-1_pojk_05_2015-20032015-pojk_tentang_penerapan_manajemen_risiko_bagi_lembaga_jasa_keuangan_non_bank.pdf\n",
      "⏭️ Skip (sudah diproses): ojk-peraturan_ojk-38_pojk_04_2014-30122014-penambahan_modal_perusahaan_terbuka_tanpa_memberi_hak_memesan_efek_terlebih_dahulu.pdf\n",
      "⏭️ Skip (sudah diproses): ojk-peraturan_ojk-38_pojk_04_2014-30122014-pojk_tentang_penambahan_modal_perusahaan_terbuka_tanpa_memberikan_hak_memesan_efek_terlebih_dahulu.pdf\n"
     ]
    },
    {
     "name": "stderr",
     "output_type": "stream",
     "text": [
      "Dokumen:  86%|████████▋ | 178/206 [20:29<01:58,  4.24s/it]"
     ]
    },
    {
     "name": "stdout",
     "output_type": "stream",
     "text": [
      "✅ 2 QA untuk ojk-peraturan_ojk-35_pojk_04_2014-08122014-sekretaris_perusahaan_emiten_atau_perusahaan_publik.pdf\n",
      "⏭️ Skip (sudah diproses): ojk-peraturan_ojk-36_pojk_04_2014-08122014-pojk_tentang_penawaran_umum_berkelanjutan_efek_bersifat_utang_dan_atau_sukuk.pdf\n"
     ]
    },
    {
     "name": "stderr",
     "output_type": "stream",
     "text": [
      "Dokumen:  87%|████████▋ | 180/206 [20:38<01:50,  4.25s/it]"
     ]
    },
    {
     "name": "stdout",
     "output_type": "stream",
     "text": [
      "✅ 2 QA untuk ojk-peraturan_ojk-32_pojk_04_2014-08122014-pojk_tentang_sekretaris_perusahaan_emiten_atau_perusahaan_publik.pdf\n",
      "⏭️ Skip (sudah diproses): ojk-peraturan_ojk-34_pojk_04_2014-08122014-pojk_tentang_komite_nominasi_dan_remunerasi_emiten_atau_perusahaan_publik.pdf\n"
     ]
    },
    {
     "name": "stderr",
     "output_type": "stream",
     "text": [
      "Dokumen:  88%|████████▊ | 182/206 [20:51<01:56,  4.86s/it]"
     ]
    },
    {
     "name": "stdout",
     "output_type": "stream",
     "text": [
      "✅ 5 QA untuk ojk-peraturan_ojk-33_pojk_04_2014-08122014-pojk_tentang_direksi_dan_dewan_komisaris_emiten_atau_perusahaan_publik.pdf\n"
     ]
    },
    {
     "name": "stderr",
     "output_type": "stream",
     "text": [
      "Dokumen:  89%|████████▉ | 183/206 [21:07<02:36,  6.80s/it]"
     ]
    },
    {
     "name": "stdout",
     "output_type": "stream",
     "text": [
      "✅ 7 QA untuk ojk-peraturan_ojk-32_pojk_04_2014-08122014-pojk_tentang_rencana_dan_penyelenggaraan_rapat_umum_pemegang_saham_perusahaan_terbuka.pdf\n",
      "⏭️ Skip (sudah diproses): ojk-peraturan_ojk-24_pojk_04_2014-19112014-pedoman_pelaksanaan_fungsi_fungsi_manajer_investasi.pdf\n",
      "⏭️ Skip (sudah diproses): ojk-peraturan_ojk-26_pojk_04_2014-19112014-pojk_tentang_penjaminan_penyelesaian_transaksi_bursa.pdf\n"
     ]
    },
    {
     "name": "stderr",
     "output_type": "stream",
     "text": [
      "Dokumen:  90%|█████████ | 186/206 [21:54<03:29, 10.49s/it]"
     ]
    },
    {
     "name": "stdout",
     "output_type": "stream",
     "text": [
      "✅ 7 QA untuk ojk-peraturan_ojk-18_pojk_03_2014-19112014-pojk_tentang_penerapan_tata_kelola_terintegrasi_bagi_konglomerasi_keuangan.pdf\n"
     ]
    },
    {
     "name": "stderr",
     "output_type": "stream",
     "text": [
      "Dokumen:  91%|█████████ | 187/206 [22:11<03:38, 11.49s/it]"
     ]
    },
    {
     "name": "stdout",
     "output_type": "stream",
     "text": [
      "✅ 5 QA untuk ojk-peraturan_ojk-15_pojk_04_2014-11112014-pojk_tentang_laporan_bulanan_kontrak_investasi_kolektif_efek_beragun_aset.pdf\n"
     ]
    },
    {
     "name": "stderr",
     "output_type": "stream",
     "text": [
      "Dokumen:  91%|█████████▏| 188/206 [22:22<03:24, 11.34s/it]"
     ]
    },
    {
     "name": "stdout",
     "output_type": "stream",
     "text": [
      "✅ 3 QA untuk ojk-peraturan_ojk-14_pojk_05_2014-11112014-pojk_tentang_pembinaan_dan_pengawasan_lembaga_keuangan_mikro.pdf\n"
     ]
    },
    {
     "name": "stderr",
     "output_type": "stream",
     "text": [
      "Dokumen:  92%|█████████▏| 189/206 [22:39<03:32, 12.52s/it]"
     ]
    },
    {
     "name": "stdout",
     "output_type": "stream",
     "text": [
      "✅ 6 QA untuk ojk-peraturan_ojk-13_pojk_05_2014-11112014-pojk_tentang_penyelenggaraan_usaha_lembaga_keuangan_mikro.pdf\n"
     ]
    },
    {
     "name": "stderr",
     "output_type": "stream",
     "text": [
      "Dokumen:  92%|█████████▏| 190/206 [22:46<02:59, 11.24s/it]"
     ]
    },
    {
     "name": "stdout",
     "output_type": "stream",
     "text": [
      "✅ 3 QA untuk ojk-peraturan_ojk-11_pojk_05_2014-28082014-pemeriksaan_langsung_lembaga_jasa_keuangan_non_bank.pdf\n"
     ]
    },
    {
     "name": "stderr",
     "output_type": "stream",
     "text": [
      "Dokumen:  93%|█████████▎| 191/206 [22:56<02:44, 10.98s/it]"
     ]
    },
    {
     "name": "stdout",
     "output_type": "stream",
     "text": [
      "✅ 4 QA untuk ojk-peraturan_ojk-10_pojk_05_2014-28082014-penilaian_tingkat_risiko_lembaga_jasa_keuangan_non_bank.pdf\n"
     ]
    },
    {
     "name": "stderr",
     "output_type": "stream",
     "text": [
      "Dokumen:  93%|█████████▎| 192/206 [23:06<02:29, 10.69s/it]"
     ]
    },
    {
     "name": "stdout",
     "output_type": "stream",
     "text": [
      "✅ 4 QA untuk ojk-peraturan_ojk-11_pojk_05_2014-28082014-pojk_tentang_pemeriksaan_langsung_lembaga_jasa_keuangan_non_bank.pdf\n",
      "⏭️ Skip (sudah diproses): ojk-peraturan_ojk-10_pojk_05_2014-28082014-pojk_tentang_penilaian_tingkat_risiko_lembaga_jasa_keuangan_non_bank.pdf\n",
      "⏭️ Skip (sudah diproses): ojk-peraturan_ojk-9_pojk_05_2014-21072014-pojk_tentang_pembubaran_dan_likuidasi_dana_pensiun.pdf\n"
     ]
    },
    {
     "name": "stderr",
     "output_type": "stream",
     "text": [
      "Dokumen:  95%|█████████▍| 195/206 [23:22<01:26,  7.84s/it]"
     ]
    },
    {
     "name": "stdout",
     "output_type": "stream",
     "text": [
      "✅ 6 QA untuk ojk-peraturan_ojk-8_pojk_03_2014-13062014-penilaian_tingkat_kesehatan_bank_umum_syariah_dan_unit_usaha_syariah.pdf\n",
      "⏭️ Skip (sudah diproses): ojk-peraturan_ojk-8_pojk_03_2014-13062014-pojk_tentang_penilaian_tingkat_kesehatan_bank_umum_syariah_dan_unit_usaha_syariah.pdf\n",
      "⏭️ Skip (sudah diproses): ojk-peraturan_ojk-6_pojk_05_2014-08042014-penyelenggaraan_usaha_lembaga_penjaminan.pdf\n"
     ]
    },
    {
     "name": "stderr",
     "output_type": "stream",
     "text": [
      "Dokumen:  96%|█████████▌| 198/206 [23:31<00:46,  5.78s/it]"
     ]
    },
    {
     "name": "stdout",
     "output_type": "stream",
     "text": [
      "✅ 3 QA untuk ojk-peraturan_ojk-7_pojk_05_2014-08042014-pojk_tentang_pemeriksaan_lembaga_penjaminan.pdf\n"
     ]
    },
    {
     "name": "stderr",
     "output_type": "stream",
     "text": [
      "Dokumen:  97%|█████████▋| 199/206 [23:51<00:57,  8.21s/it]"
     ]
    },
    {
     "name": "stdout",
     "output_type": "stream",
     "text": [
      "✅ 7 QA untuk ojk-peraturan_ojk-6_pojk_05_2014-08042014-pojk_tentang_penyelanggaraan_usaha_lembaga_penjaminan.pdf\n"
     ]
    },
    {
     "name": "stderr",
     "output_type": "stream",
     "text": [
      "Dokumen:  97%|█████████▋| 200/206 [23:58<00:47,  7.98s/it]"
     ]
    },
    {
     "name": "stdout",
     "output_type": "stream",
     "text": [
      "✅ 2 QA untuk ojk-peraturan_ojk-4_pojk_04_2014-01042014-pojk_tentang_tata_cara_penagihan_sanksi_administratif_berupa_denda_di_sektor_jasa_keuangan.pdf\n"
     ]
    },
    {
     "name": "stderr",
     "output_type": "stream",
     "text": [
      "Dokumen:  98%|█████████▊| 201/206 [24:09<00:43,  8.77s/it]"
     ]
    },
    {
     "name": "stdout",
     "output_type": "stream",
     "text": [
      "✅ 4 QA untuk ojk-peraturan_ojk-1_pojk_07_2014-23012014-pojk_tentang_lembaga_alternatif_penyelesaian_sengketa_di_sektor_jasa_keuangan.pdf\n",
      "⏭️ Skip (sudah diproses): ojk-peraturan_ojk-5_pojk_05_2013-31122013-pojk_tentang_pengawasan_badan_penyelenggara_jaminan_sosial_oleh_otoritas_jasa_keuangan.pdf\n"
     ]
    },
    {
     "name": "stderr",
     "output_type": "stream",
     "text": [
      "Dokumen:  99%|█████████▊| 203/206 [24:21<00:22,  7.55s/it]"
     ]
    },
    {
     "name": "stdout",
     "output_type": "stream",
     "text": [
      "✅ 6 QA untuk ojk-peraturan_ojk-4_pojk_05_2013-23122013-pojk_tentang_penilaian_kemampuan_dan_kepatutan_bagi_pihak_utama_pada_lembaga_jasa_keuangan_non_bank.pdf\n",
      "⏭️ Skip (sudah diproses): ojk-peraturan_ojk-3_pojk_05_2013-12092013-pojk_tentang_laporan_bulanan_lembaga_jasa_keuangan_non_bank.pdf\n",
      "⏭️ Skip (sudah diproses): ojk-peraturan_ojk-2_pojk_04_2013-26082013-pojk_tentang_pembelian_kembali_saham_yang_dikeluarkan_oleh_emiten_atau_perusahaan_publik_dalam_kondisi_pasar_yang_berfluktuasi_secara_signifikan.pdf\n"
     ]
    },
    {
     "name": "stderr",
     "output_type": "stream",
     "text": [
      "Dokumen: 100%|██████████| 206/206 [24:41<00:00,  7.19s/it]"
     ]
    },
    {
     "name": "stdout",
     "output_type": "stream",
     "text": [
      "✅ 7 QA untuk ojk-peraturan_ojk-1_pojk_07_2013-06082013-pojk_tentang_perlindungan_konsumen_sektor_jasa_keuangan.pdf\n",
      "🎉 Semua dokumen selesai diproses!\n",
      "   • Dokumen sudah ada di dataset sebelum run: 100\n",
      "   • Dokumen baru ditambahkan di run ini : 106\n"
     ]
    },
    {
     "name": "stderr",
     "output_type": "stream",
     "text": [
      "\n"
     ]
    }
   ],
   "source": [
    "out_file = \"cqa_datasets.jsonl\"\n",
    "\n",
    "# 1. Muat daftar dokumen yang sudah pernah diproses\n",
    "processed = set()\n",
    "if os.path.exists(out_file):\n",
    "    with open(out_file, \"r\", encoding=\"utf-8\") as f:\n",
    "        for line in f:\n",
    "            try:\n",
    "                entry = json.loads(line)\n",
    "                processed.add(entry[\"filename\"])\n",
    "            except Exception:\n",
    "                continue\n",
    "\n",
    "initial_count = len(processed)  # simpan berapa yang sudah ada\n",
    "\n",
    "# 2. Open file append\n",
    "interrupted = False\n",
    "with open(out_file, \"a\", encoding=\"utf-8\") as fout:\n",
    "    try:\n",
    "        for _, row in tqdm(df_metadata.iterrows(), total=len(df_metadata), desc=\"Dokumen\"):\n",
    "            fn = row[\"new_filename\"]\n",
    "            if fn in processed:\n",
    "                print(f\"⏭️ Skip (sudah diproses): {fn}\")\n",
    "                continue\n",
    "\n",
    "            pdf_path = os.path.join(pdf_root, fn)\n",
    "            if not os.path.exists(pdf_path):\n",
    "                tqdm.write(f\"⚠️ File tidak ditemukan: {fn}\")\n",
    "                processed.add(fn)\n",
    "                continue\n",
    "\n",
    "            full_text = extract_text_from_pdf(pdf_path, ocr)\n",
    "            if not full_text.strip():\n",
    "                processed.add(fn)\n",
    "                continue\n",
    "\n",
    "            n_pairs = get_num_pairs(int(row[\"pages\"]))\n",
    "            try:\n",
    "                cqa_list = generate_cqa(full_text, n_pairs=n_pairs)\n",
    "            except Exception as e:\n",
    "                tqdm.write(f\"⚠️ Error generate QA {fn}: {e}\")\n",
    "                processed.add(fn)\n",
    "                continue\n",
    "\n",
    "            if not cqa_list:\n",
    "                tqdm.write(f\"⏭️ Skip (tidak bermakna): {fn}\")\n",
    "                processed.add(fn)\n",
    "                continue\n",
    "\n",
    "            # Tulis hasil per‐dokumen langsung\n",
    "            for cqa in cqa_list:\n",
    "                cqa.update({\n",
    "                    \"file_url\":           row[\"file_url\"],\n",
    "                    \"regulation_number\":  row[\"nomor_regulasi\"],\n",
    "                    \"title\":              row[\"title\"],\n",
    "                    \"filename\":           fn,\n",
    "                    \"n_pairs_requested\":  n_pairs\n",
    "                })\n",
    "                fout.write(json.dumps(cqa, ensure_ascii=False) + \"\\n\")\n",
    "            fout.flush()\n",
    "            processed.add(fn)\n",
    "            tqdm.write(f\"✅ {len(cqa_list)} QA untuk {fn}\")\n",
    "\n",
    "    except KeyboardInterrupt:\n",
    "        interrupted = True\n",
    "        print(\"\\n⏸️ Proses dihentikan oleh pengguna. Progress sudah tersimpan.\")\n",
    "\n",
    "    finally:\n",
    "        total_count = len(processed)\n",
    "        added = total_count - initial_count\n",
    "        if interrupted:\n",
    "            print(f\"🎉 Selesai sementara. {total_count} dokumen terproses total.\")\n",
    "        else:\n",
    "            print(f\"🎉 Semua dokumen selesai diproses!\")\n",
    "        print(f\"   • Dokumen sudah ada di dataset sebelum run: {initial_count}\")\n",
    "        print(f\"   • Dokumen baru ditambahkan di run ini : {added}\")"
   ]
  },
  {
   "cell_type": "markdown",
   "id": "5bceb45a",
   "metadata": {},
   "source": [
    "### **Check Dataset**"
   ]
  },
  {
   "cell_type": "code",
   "execution_count": 46,
   "id": "ee770710",
   "metadata": {},
   "outputs": [
    {
     "name": "stdout",
     "output_type": "stream",
     "text": [
      "Total QA pairs: 868\n"
     ]
    },
    {
     "data": {
      "text/html": [
       "<div>\n",
       "<style scoped>\n",
       "    .dataframe tbody tr th:only-of-type {\n",
       "        vertical-align: middle;\n",
       "    }\n",
       "\n",
       "    .dataframe tbody tr th {\n",
       "        vertical-align: top;\n",
       "    }\n",
       "\n",
       "    .dataframe thead th {\n",
       "        text-align: right;\n",
       "    }\n",
       "</style>\n",
       "<table border=\"1\" class=\"dataframe\">\n",
       "  <thead>\n",
       "    <tr style=\"text-align: right;\">\n",
       "      <th></th>\n",
       "      <th>context</th>\n",
       "      <th>question</th>\n",
       "      <th>answer</th>\n",
       "    </tr>\n",
       "  </thead>\n",
       "  <tbody>\n",
       "    <tr>\n",
       "      <th>625</th>\n",
       "      <td>Peraturan Otoritas Jasa Keuangan Republik Indonesia Nomor 35/POJK.03/2019 mengatur tentang transparansi kondisi keuangan Bank Pembiayaan Rakyat Syariah (BPRS). Tujuan dari peraturan ini adalah untuk meningkatkan transparansi dengan mengharuskan BPRS untuk mengumumkan laporan keuangan secara lengkap, akurat, dan dapat diperbandingkan. Laporan ini harus disusun sesuai dengan standar akuntansi keuangan yang berlaku dan disampaikan kepada Otoritas Jasa Keuangan dalam waktu yang telah ditetapkan.</td>\n",
       "      <td>Apa tujuan dari Peraturan Otoritas Jasa Keuangan Nomor 35/POJK.03/2019?</td>\n",
       "      <td>Tujuan dari peraturan ini adalah untuk meningkatkan transparansi kondisi keuangan BPRS dengan mewajibkan mereka mengumumkan laporan keuangan secara lengkap dan akurat.</td>\n",
       "    </tr>\n",
       "    <tr>\n",
       "      <th>616</th>\n",
       "      <td>Peraturan Otoritas Jasa Keuangan Republik Indonesia Nomor 2/POJK.04/2020 mengatur tentang perubahan atas Peraturan Otoritas Jasa Keuangan Nomor 23/POJK.04/2016 mengenai Reksa Dana Berbentuk Kontrak Investasi Kolektif. Dalam peraturan ini, terdapat penekanan pada perlindungan investor Reksa Dana dan profesionalisme Manajer Investasi. Pengaturan ini juga mempertimbangkan manajemen risiko diversifikasi Efek dalam portofolio investasi Reksa Dana yang sebelumnya dinilai tidak sesuai dengan upaya perlindungan investor.</td>\n",
       "      <td>Apa tujuan dari Peraturan Otoritas Jasa Keuangan Nomor 2/POJK.04/2020?</td>\n",
       "      <td>Tujuan dari Peraturan ini adalah untuk meningkatkan perlindungan investor Reksa Dana dan profesionalisme Manajer Investasi dalam pengelolaan Reksa Dana serta memperbaiki manajemen risiko diversifikasi Efek.</td>\n",
       "    </tr>\n",
       "    <tr>\n",
       "      <th>204</th>\n",
       "      <td>Peraturan Otoritas Jasa Keuangan Republik Indonesia Nomor 14/POJK.04/2022 bertujuan untuk mengatur penyampaian laporan keuangan berkala oleh emiten atau perusahaan publik. Dalam pertimbangan, diungkapkan bahwa perlu ada penyesuaian terhadap regulasi yang ada untuk meningkatkan efisiensi dan memenuhi kebutuhan pasar saat ini. Perubahan ini juga untuk mencerminkan praktik terbaik yang berlaku di negara lain, agar laporan keuangan dapat diakses dengan cepat oleh publik, terutama pemegang saham.</td>\n",
       "      <td>Apa tujuan dari Peraturan OJK Nomor 14/POJK.04/2022?</td>\n",
       "      <td>Tujuan dari Peraturan OJK Nomor 14/POJK.04/2022 adalah untuk mengatur penyampaian laporan keuangan berkala emiten atau perusahaan publik agar lebih efisien dan sesuai dengan perkembangan pasar saat ini.</td>\n",
       "    </tr>\n",
       "    <tr>\n",
       "      <th>402</th>\n",
       "      <td>Tim Likuidasi memiliki peran penting dalam proses likuidasi dana pensiun sesuai dengan ketentuan dalam Peraturan OJK. Tim ini bertugas menyusun rencana kerja, melakukan inventarisasi kekayaan dan kewajiban, serta menyampaikan informasi kepada peserta dan pensiunan. Anggota tim harus memiliki kompetensi yang sesuai dan tidak memiliki catatan pelanggaran dalam sektor jasa keuangan. Tanggung jawab Tim Likuidasi juga meliputi menyelesaikan kewajiban keuangan dana pensiun dan melaporkan perkembangan likuidasi kepada OJK.</td>\n",
       "      <td>Apa saja tugas Tim Likuidasi dalam proses likuidasi dana pensiun?</td>\n",
       "      <td>Tugas Tim Likuidasi antara lain menyusun rencana kerja, melakukan inventarisasi kekayaan, menyampaikan informasi kepada peserta, dan menyelesaikan kewajiban keuangan dana pensiun serta melaporkan kepada OJK.</td>\n",
       "    </tr>\n",
       "    <tr>\n",
       "      <th>415</th>\n",
       "      <td>Peraturan ini juga mengatur sanksi bagi BPRS yang tidak memenuhi kewajiban modal. Sanksi administratif dapat berupa teguran tertulis, penurunan tingkat kesehatan, larangan pembukaan jaringan kantor, hingga penghentian sementara sebagian kegiatan operasional. Hal ini bertujuan untuk mendorong kepatuhan terhadap ketentuan yang berlaku.</td>\n",
       "      <td>Apa sanksi yang dapat dikenakan pada BPRS yang tidak memenuhi kewajiban modal?</td>\n",
       "      <td>Sanksi yang dapat dikenakan pada BPRS yang tidak memenuhi kewajiban modal meliputi teguran tertulis, penurunan tingkat kesehatan, dan larangan pembukaan jaringan kantor.</td>\n",
       "    </tr>\n",
       "  </tbody>\n",
       "</table>\n",
       "</div>"
      ],
      "text/plain": [
       "                                                                                                                                                                                                                                                                                                                                                                                                                                                                                                                                       context  \\\n",
       "625                           Peraturan Otoritas Jasa Keuangan Republik Indonesia Nomor 35/POJK.03/2019 mengatur tentang transparansi kondisi keuangan Bank Pembiayaan Rakyat Syariah (BPRS). Tujuan dari peraturan ini adalah untuk meningkatkan transparansi dengan mengharuskan BPRS untuk mengumumkan laporan keuangan secara lengkap, akurat, dan dapat diperbandingkan. Laporan ini harus disusun sesuai dengan standar akuntansi keuangan yang berlaku dan disampaikan kepada Otoritas Jasa Keuangan dalam waktu yang telah ditetapkan.   \n",
       "616     Peraturan Otoritas Jasa Keuangan Republik Indonesia Nomor 2/POJK.04/2020 mengatur tentang perubahan atas Peraturan Otoritas Jasa Keuangan Nomor 23/POJK.04/2016 mengenai Reksa Dana Berbentuk Kontrak Investasi Kolektif. Dalam peraturan ini, terdapat penekanan pada perlindungan investor Reksa Dana dan profesionalisme Manajer Investasi. Pengaturan ini juga mempertimbangkan manajemen risiko diversifikasi Efek dalam portofolio investasi Reksa Dana yang sebelumnya dinilai tidak sesuai dengan upaya perlindungan investor.   \n",
       "204                           Peraturan Otoritas Jasa Keuangan Republik Indonesia Nomor 14/POJK.04/2022 bertujuan untuk mengatur penyampaian laporan keuangan berkala oleh emiten atau perusahaan publik. Dalam pertimbangan, diungkapkan bahwa perlu ada penyesuaian terhadap regulasi yang ada untuk meningkatkan efisiensi dan memenuhi kebutuhan pasar saat ini. Perubahan ini juga untuk mencerminkan praktik terbaik yang berlaku di negara lain, agar laporan keuangan dapat diakses dengan cepat oleh publik, terutama pemegang saham.   \n",
       "402  Tim Likuidasi memiliki peran penting dalam proses likuidasi dana pensiun sesuai dengan ketentuan dalam Peraturan OJK. Tim ini bertugas menyusun rencana kerja, melakukan inventarisasi kekayaan dan kewajiban, serta menyampaikan informasi kepada peserta dan pensiunan. Anggota tim harus memiliki kompetensi yang sesuai dan tidak memiliki catatan pelanggaran dalam sektor jasa keuangan. Tanggung jawab Tim Likuidasi juga meliputi menyelesaikan kewajiban keuangan dana pensiun dan melaporkan perkembangan likuidasi kepada OJK.   \n",
       "415                                                                                                                                                                                            Peraturan ini juga mengatur sanksi bagi BPRS yang tidak memenuhi kewajiban modal. Sanksi administratif dapat berupa teguran tertulis, penurunan tingkat kesehatan, larangan pembukaan jaringan kantor, hingga penghentian sementara sebagian kegiatan operasional. Hal ini bertujuan untuk mendorong kepatuhan terhadap ketentuan yang berlaku.   \n",
       "\n",
       "                                                                           question  \\\n",
       "625         Apa tujuan dari Peraturan Otoritas Jasa Keuangan Nomor 35/POJK.03/2019?   \n",
       "616          Apa tujuan dari Peraturan Otoritas Jasa Keuangan Nomor 2/POJK.04/2020?   \n",
       "204                            Apa tujuan dari Peraturan OJK Nomor 14/POJK.04/2022?   \n",
       "402               Apa saja tugas Tim Likuidasi dalam proses likuidasi dana pensiun?   \n",
       "415  Apa sanksi yang dapat dikenakan pada BPRS yang tidak memenuhi kewajiban modal?   \n",
       "\n",
       "                                                                                                                                                                                                              answer  \n",
       "625                                          Tujuan dari peraturan ini adalah untuk meningkatkan transparansi kondisi keuangan BPRS dengan mewajibkan mereka mengumumkan laporan keuangan secara lengkap dan akurat.  \n",
       "616   Tujuan dari Peraturan ini adalah untuk meningkatkan perlindungan investor Reksa Dana dan profesionalisme Manajer Investasi dalam pengelolaan Reksa Dana serta memperbaiki manajemen risiko diversifikasi Efek.  \n",
       "204       Tujuan dari Peraturan OJK Nomor 14/POJK.04/2022 adalah untuk mengatur penyampaian laporan keuangan berkala emiten atau perusahaan publik agar lebih efisien dan sesuai dengan perkembangan pasar saat ini.  \n",
       "402  Tugas Tim Likuidasi antara lain menyusun rencana kerja, melakukan inventarisasi kekayaan, menyampaikan informasi kepada peserta, dan menyelesaikan kewajiban keuangan dana pensiun serta melaporkan kepada OJK.  \n",
       "415                                        Sanksi yang dapat dikenakan pada BPRS yang tidak memenuhi kewajiban modal meliputi teguran tertulis, penurunan tingkat kesehatan, dan larangan pembukaan jaringan kantor.  "
      ]
     },
     "execution_count": 46,
     "metadata": {},
     "output_type": "execute_result"
    }
   ],
   "source": [
    "# Baca seluruh JSONL ke DataFrame\n",
    "df_results = pd.read_json(\"cqa_datasets.jsonl\", lines=True)\n",
    "\n",
    "# Cek ukuran dan beberapa baris pertama\n",
    "print(\"Total QA pairs:\", len(df_results))\n",
    "df_results[[\"context\", \"question\", \"answer\"]].sample(5)"
   ]
  }
 ],
 "metadata": {
  "kernelspec": {
   "display_name": "ta-datasets-creation",
   "language": "python",
   "name": "python3"
  },
  "language_info": {
   "codemirror_mode": {
    "name": "ipython",
    "version": 3
   },
   "file_extension": ".py",
   "mimetype": "text/x-python",
   "name": "python",
   "nbconvert_exporter": "python",
   "pygments_lexer": "ipython3",
   "version": "3.10.16"
  }
 },
 "nbformat": 4,
 "nbformat_minor": 5
}
