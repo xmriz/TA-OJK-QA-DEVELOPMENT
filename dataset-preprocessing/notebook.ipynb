{
 "cells": [
  {
   "cell_type": "markdown",
   "id": "88305073",
   "metadata": {},
   "source": [
    "# **Dataset Preprocessing**"
   ]
  },
  {
   "cell_type": "markdown",
   "id": "4de6ee39",
   "metadata": {},
   "source": [
    "## **Import Libraries**"
   ]
  },
  {
   "cell_type": "code",
   "execution_count": 45,
   "id": "cba98e8d",
   "metadata": {},
   "outputs": [],
   "source": [
    "import json\n",
    "import pandas as pd\n",
    "import numpy as np\n",
    "from tqdm.auto import tqdm\n",
    "from sklearn.feature_extraction.text import TfidfVectorizer\n",
    "from sklearn.metrics.pairwise import cosine_similarity\n",
    "from sklearn.model_selection import train_test_split\n",
    "import nltk\n",
    "from nltk.corpus import stopwords\n",
    "\n",
    "pd.set_option('display.max_colwidth', None)"
   ]
  },
  {
   "cell_type": "code",
   "execution_count": 46,
   "id": "4afc0dee",
   "metadata": {},
   "outputs": [
    {
     "name": "stderr",
     "output_type": "stream",
     "text": [
      "[nltk_data] Downloading package stopwords to\n",
      "[nltk_data]     C:\\Users\\acer\\AppData\\Roaming\\nltk_data...\n",
      "[nltk_data]   Package stopwords is already up-to-date!\n"
     ]
    },
    {
     "data": {
      "text/plain": [
       "True"
      ]
     },
     "execution_count": 46,
     "metadata": {},
     "output_type": "execute_result"
    }
   ],
   "source": [
    "# jika belum pernah:\n",
    "nltk.download('stopwords')"
   ]
  },
  {
   "cell_type": "markdown",
   "id": "b0ed410a",
   "metadata": {},
   "source": [
    "## **Load Dataset**"
   ]
  },
  {
   "cell_type": "code",
   "execution_count": 47,
   "id": "b27986c2",
   "metadata": {},
   "outputs": [
    {
     "name": "stdout",
     "output_type": "stream",
     "text": [
      "Total QA pairs: 1696\n"
     ]
    },
    {
     "data": {
      "text/html": [
       "<div>\n",
       "<style scoped>\n",
       "    .dataframe tbody tr th:only-of-type {\n",
       "        vertical-align: middle;\n",
       "    }\n",
       "\n",
       "    .dataframe tbody tr th {\n",
       "        vertical-align: top;\n",
       "    }\n",
       "\n",
       "    .dataframe thead th {\n",
       "        text-align: right;\n",
       "    }\n",
       "</style>\n",
       "<table border=\"1\" class=\"dataframe\">\n",
       "  <thead>\n",
       "    <tr style=\"text-align: right;\">\n",
       "      <th></th>\n",
       "      <th>context</th>\n",
       "      <th>question_answerable</th>\n",
       "      <th>answer_answerable</th>\n",
       "      <th>category_answerable</th>\n",
       "      <th>question_unanswerable</th>\n",
       "      <th>answer_unanswerable</th>\n",
       "      <th>category_unanswerable</th>\n",
       "      <th>file_url</th>\n",
       "      <th>regulation_number</th>\n",
       "      <th>title</th>\n",
       "      <th>filename</th>\n",
       "      <th>n_pairs_requested</th>\n",
       "    </tr>\n",
       "  </thead>\n",
       "  <tbody>\n",
       "    <tr>\n",
       "      <th>0</th>\n",
       "      <td>Pasal 1 Dalam Peraturan Otoritas Jasa Keuangan ini yang dimaksud dengan: 1. Emiten adalah Pihak yang melakukan Penawaran Umum. 2. Perusahaan Publik adalah Perseroan yang sahamnya telah dimiliki paling sedikit oleh 300 (tiga ratus) pemegang saham dan memiliki modal disetor paling sedikit Rp3.000.000.000,00 (tiga miliar rupiah) atau suatu jumlah pemegang saham dan modal disetor yang ditetapkan dengan Peraturan Pemerintah. 3. Laporan adalah laporan, keterbukaan informasi, atau dokumen yang wajib disampaikan oleh Emiten atau Perusahaan Publik kepada Otoritas Jasa Keuangan sebagaimana dimaksud dalam ketentuan peraturan perundang-undangan di sektor pasar modal. 4. Sistem Pelaporan Elektronik yang selanjutnya disingkat SPE adalah sistem informasi yang digunakan sebagai sarana penyampaian Laporan secara elektronik oleh Emiten atau Perusahaan Publik kepada Otoritas Jasa Keuangan.</td>\n",
       "      <td>Apa pengertian Sistem Pelaporan Elektronik (SPE) menurut peraturan ini?</td>\n",
       "      <td>Sistem Pelaporan Elektronik adalah sistem informasi yang digunakan sebagai sarana penyampaian Laporan secara elektronik oleh Emiten atau Perusahaan Publik kepada Otoritas Jasa Keuangan.</td>\n",
       "      <td>Pengertian</td>\n",
       "      <td>Apa pengertian SRO menurut peraturan ini?</td>\n",
       "      <td>Saya tidak tahu terkait pengertian SRO menurut peraturan ini.</td>\n",
       "      <td>Pengertian</td>\n",
       "      <td>https://www.ojk.go.id/id/regulasi/Documents/Pages/Penyampaian-Laporan-melalui-Sistem-Pelaporan-Elektronik-Emiten-atau-Perusahaan-Publik/POJK%207-2018.pdf</td>\n",
       "      <td>7/POJK.04/2018</td>\n",
       "      <td>Penyampaian Laporan melalui Sistem Pelaporan Elektronik Emiten atau Perusahaan Publik</td>\n",
       "      <td>ojk-peraturan_ojk-7_pojk_04_2018-25042018-penyampaian_laporan_melalui_sistem_pelaporan_elektronik_emiten_atau_perusahaan_publik.pdf</td>\n",
       "      <td>8</td>\n",
       "    </tr>\n",
       "    <tr>\n",
       "      <th>1</th>\n",
       "      <td>Pasal 2 (1) Emiten atau Perusahaan Publik wajib menyampaikan Laporan kepada Otoritas Jasa Keuangan melalui SPE.  (2) SPE sebagaimana dimaksud pada ayat (1) dapat diakses melalui situs web dengan alamat https://spe.ojk.go.id atau alamat lain yang ditetapkan Otoritas Jasa Keuangan.  (3) Laporan sebagaimana dimaksud pada ayat (1) meliputi Laporan yang diwajibkan berdasarkan ketentuan peraturan perundang-undangan di sektor pasar modal sebagai berikut: a.  peraturan mengenai rencana dan penyelenggaraan rapat umum pemegang saham; b.  peraturan mengenai laporan realisasi penggunaan dana hasil penawaran umum; c.  peraturan mengenai kewajiban penyampaian laporan keuangan berkala Emiten atau Perusahaan Publik; d.  peraturan mengenai penyampaian laporan tahunan Emiten atau Perusahaan Publik; e.  peraturan mengenai penggunaan jasa akuntan publik dan kantor akuntan publik dalam kegiatan jasa keuangan; f.  peraturan mengenai penerapan keuangan berkelanjutan bagi lembaga jasa keuangan, Emiten, dan Perusahaan Publik; g.  peraturan mengenai keterbukaan atas informasi atau fakta material oleh Emiten atau Perusahaan Publik; h.  peraturan mengenai transaksi afiliasi dan benturan kepentingan transaksi tertentu; i.  peraturan mengenai transaksi material dan perubahan kegiatan usaha utama;</td>\n",
       "      <td>Apa kewajiban yang ditetapkan bagi Emiten atau Perusahaan Publik dalam Pasal 2 ayat (1)?</td>\n",
       "      <td>Kewajiban yang ditetapkan adalah menyampaikan Laporan kepada Otoritas Jasa Keuangan melalui SPE.</td>\n",
       "      <td>Kewajiban yang Ditetapkan</td>\n",
       "      <td>Apa kewajiban yang ditetapkan bagi SRO dalam Pasal 2 ayat (1)?</td>\n",
       "      <td>Saya tidak tahu terkait kewajiban yang ditetapkan bagi SRO dalam Pasal 2 ayat (1).</td>\n",
       "      <td>Kewajiban yang Ditetapkan</td>\n",
       "      <td>https://www.ojk.go.id/id/regulasi/Documents/Pages/Penyampaian-Laporan-melalui-Sistem-Pelaporan-Elektronik-Emiten-atau-Perusahaan-Publik/POJK%207-2018.pdf</td>\n",
       "      <td>7/POJK.04/2018</td>\n",
       "      <td>Penyampaian Laporan melalui Sistem Pelaporan Elektronik Emiten atau Perusahaan Publik</td>\n",
       "      <td>ojk-peraturan_ojk-7_pojk_04_2018-25042018-penyampaian_laporan_melalui_sistem_pelaporan_elektronik_emiten_atau_perusahaan_publik.pdf</td>\n",
       "      <td>8</td>\n",
       "    </tr>\n",
       "    <tr>\n",
       "      <th>2</th>\n",
       "      <td>j.  peraturan mengenai kepemilikan atau setiap perubahan kepemilikan saham perusahaan terbuka; k.  peraturan mengenai sekretaris perusahaan Emiten atau Perusahaan Publik; l.  peraturan mengenai pembentukan dan pedoman penyusunan piagam unit audit internal; m.  peraturan mengenai pembentukan dan pedoman pelaksanaan kerja komite audit; n.  peraturan mengenai komite nominasi dan remunerasi Emiten atau Perusahaan Publik; o.  peraturan mengenai direksi dan dewan komisaris Emiten atau Perusahaan Publik;  p.  peraturan mengenai penambahan modal perusahaan terbuka dengan memberikan hak memesan efek terlebih dahulu; q.  peraturan mengenai pernyataan pendaftaran dalam rangka penawaran umum dan penambahan modal dengan memberikan hak memesan Efek terlebih dahulu oleh Emiten dengan aset skala kecil atau Emiten dengan aset skala menengah; r.  peraturan mengenai penambahan modal perusahaan terbuka tanpa memberikan hak memesan efek terlebih dahulu; s.  peraturan mengenai pembelian kembali saham yang dikeluarkan oleh Emiten atau Perusahaan Publik; t.  peraturan mengenai saham bonus; u.  peraturan mengenai pemeringkatan efek bersifat utang dan/atau sukuk; v.  peraturan mengenai keterbukaan informasi bagi Emiten atau Perusahaan Publik yang dimohonkan pernyataan pailit; w.  peraturan mengenai penerbitan dan persyaratan efek bersifat utang berwawasan lingkungan (green bond); x.  peraturan mengenai laporan dan pengumuman Emiten penerbit obligasi daerah dan/atau sukuk daerah; dan</td>\n",
       "      <td>Apa saja objek yang diatur dalam Pasal 2 ayat (3) huruf j sampai x?</td>\n",
       "      <td>Objek yang diatur meliputi peraturan mengenai kepemilikan atau perubahan kepemilikan saham, sekretaris perusahaan, piagam unit audit internal, komite audit, komite nominasi dan remunerasi, direksi dan dewan komisaris, penambahan modal, pembelian kembali saham, saham bonus, pemeringkatan efek, keterbukaan informasi pailit, green bond, dan laporan obligasi daerah.</td>\n",
       "      <td>Objek yang Diatur</td>\n",
       "      <td>Apa saja objek yang diatur terkait SRO dalam Pasal 2 ayat (3)?</td>\n",
       "      <td>Saya tidak tahu terkait objek yang diatur terkait SRO dalam Pasal 2 ayat (3).</td>\n",
       "      <td>Objek yang Diatur</td>\n",
       "      <td>https://www.ojk.go.id/id/regulasi/Documents/Pages/Penyampaian-Laporan-melalui-Sistem-Pelaporan-Elektronik-Emiten-atau-Perusahaan-Publik/POJK%207-2018.pdf</td>\n",
       "      <td>7/POJK.04/2018</td>\n",
       "      <td>Penyampaian Laporan melalui Sistem Pelaporan Elektronik Emiten atau Perusahaan Publik</td>\n",
       "      <td>ojk-peraturan_ojk-7_pojk_04_2018-25042018-penyampaian_laporan_melalui_sistem_pelaporan_elektronik_emiten_atau_perusahaan_publik.pdf</td>\n",
       "      <td>8</td>\n",
       "    </tr>\n",
       "  </tbody>\n",
       "</table>\n",
       "</div>"
      ],
      "text/plain": [
       "                                                                                                                                                                                                                                                                                                                                                                                                                                                                                                                                                                                                                                                                                                                                                                                                                                                                                                                                                                                                                                                                                                                                                                                                                                                                                                                                                                                                                                                                                                                                     context  \\\n",
       "0                                                                                                                                                                                                                                                                                                                                                                                                                                                                                                                                                                                                                        Pasal 1 Dalam Peraturan Otoritas Jasa Keuangan ini yang dimaksud dengan: 1. Emiten adalah Pihak yang melakukan Penawaran Umum. 2. Perusahaan Publik adalah Perseroan yang sahamnya telah dimiliki paling sedikit oleh 300 (tiga ratus) pemegang saham dan memiliki modal disetor paling sedikit Rp3.000.000.000,00 (tiga miliar rupiah) atau suatu jumlah pemegang saham dan modal disetor yang ditetapkan dengan Peraturan Pemerintah. 3. Laporan adalah laporan, keterbukaan informasi, atau dokumen yang wajib disampaikan oleh Emiten atau Perusahaan Publik kepada Otoritas Jasa Keuangan sebagaimana dimaksud dalam ketentuan peraturan perundang-undangan di sektor pasar modal. 4. Sistem Pelaporan Elektronik yang selanjutnya disingkat SPE adalah sistem informasi yang digunakan sebagai sarana penyampaian Laporan secara elektronik oleh Emiten atau Perusahaan Publik kepada Otoritas Jasa Keuangan.   \n",
       "1                                                                                                                                                                                                    Pasal 2 (1) Emiten atau Perusahaan Publik wajib menyampaikan Laporan kepada Otoritas Jasa Keuangan melalui SPE.  (2) SPE sebagaimana dimaksud pada ayat (1) dapat diakses melalui situs web dengan alamat https://spe.ojk.go.id atau alamat lain yang ditetapkan Otoritas Jasa Keuangan.  (3) Laporan sebagaimana dimaksud pada ayat (1) meliputi Laporan yang diwajibkan berdasarkan ketentuan peraturan perundang-undangan di sektor pasar modal sebagai berikut: a.  peraturan mengenai rencana dan penyelenggaraan rapat umum pemegang saham; b.  peraturan mengenai laporan realisasi penggunaan dana hasil penawaran umum; c.  peraturan mengenai kewajiban penyampaian laporan keuangan berkala Emiten atau Perusahaan Publik; d.  peraturan mengenai penyampaian laporan tahunan Emiten atau Perusahaan Publik; e.  peraturan mengenai penggunaan jasa akuntan publik dan kantor akuntan publik dalam kegiatan jasa keuangan; f.  peraturan mengenai penerapan keuangan berkelanjutan bagi lembaga jasa keuangan, Emiten, dan Perusahaan Publik; g.  peraturan mengenai keterbukaan atas informasi atau fakta material oleh Emiten atau Perusahaan Publik; h.  peraturan mengenai transaksi afiliasi dan benturan kepentingan transaksi tertentu; i.  peraturan mengenai transaksi material dan perubahan kegiatan usaha utama;   \n",
       "2  j.  peraturan mengenai kepemilikan atau setiap perubahan kepemilikan saham perusahaan terbuka; k.  peraturan mengenai sekretaris perusahaan Emiten atau Perusahaan Publik; l.  peraturan mengenai pembentukan dan pedoman penyusunan piagam unit audit internal; m.  peraturan mengenai pembentukan dan pedoman pelaksanaan kerja komite audit; n.  peraturan mengenai komite nominasi dan remunerasi Emiten atau Perusahaan Publik; o.  peraturan mengenai direksi dan dewan komisaris Emiten atau Perusahaan Publik;  p.  peraturan mengenai penambahan modal perusahaan terbuka dengan memberikan hak memesan efek terlebih dahulu; q.  peraturan mengenai pernyataan pendaftaran dalam rangka penawaran umum dan penambahan modal dengan memberikan hak memesan Efek terlebih dahulu oleh Emiten dengan aset skala kecil atau Emiten dengan aset skala menengah; r.  peraturan mengenai penambahan modal perusahaan terbuka tanpa memberikan hak memesan efek terlebih dahulu; s.  peraturan mengenai pembelian kembali saham yang dikeluarkan oleh Emiten atau Perusahaan Publik; t.  peraturan mengenai saham bonus; u.  peraturan mengenai pemeringkatan efek bersifat utang dan/atau sukuk; v.  peraturan mengenai keterbukaan informasi bagi Emiten atau Perusahaan Publik yang dimohonkan pernyataan pailit; w.  peraturan mengenai penerbitan dan persyaratan efek bersifat utang berwawasan lingkungan (green bond); x.  peraturan mengenai laporan dan pengumuman Emiten penerbit obligasi daerah dan/atau sukuk daerah; dan   \n",
       "\n",
       "                                                                        question_answerable  \\\n",
       "0                   Apa pengertian Sistem Pelaporan Elektronik (SPE) menurut peraturan ini?   \n",
       "1  Apa kewajiban yang ditetapkan bagi Emiten atau Perusahaan Publik dalam Pasal 2 ayat (1)?   \n",
       "2                       Apa saja objek yang diatur dalam Pasal 2 ayat (3) huruf j sampai x?   \n",
       "\n",
       "                                                                                                                                                                                                                                                                                                                                                              answer_answerable  \\\n",
       "0                                                                                                                                                                                     Sistem Pelaporan Elektronik adalah sistem informasi yang digunakan sebagai sarana penyampaian Laporan secara elektronik oleh Emiten atau Perusahaan Publik kepada Otoritas Jasa Keuangan.   \n",
       "1                                                                                                                                                                                                                                                                              Kewajiban yang ditetapkan adalah menyampaikan Laporan kepada Otoritas Jasa Keuangan melalui SPE.   \n",
       "2  Objek yang diatur meliputi peraturan mengenai kepemilikan atau perubahan kepemilikan saham, sekretaris perusahaan, piagam unit audit internal, komite audit, komite nominasi dan remunerasi, direksi dan dewan komisaris, penambahan modal, pembelian kembali saham, saham bonus, pemeringkatan efek, keterbukaan informasi pailit, green bond, dan laporan obligasi daerah.   \n",
       "\n",
       "         category_answerable  \\\n",
       "0                 Pengertian   \n",
       "1  Kewajiban yang Ditetapkan   \n",
       "2          Objek yang Diatur   \n",
       "\n",
       "                                            question_unanswerable  \\\n",
       "0                       Apa pengertian SRO menurut peraturan ini?   \n",
       "1  Apa kewajiban yang ditetapkan bagi SRO dalam Pasal 2 ayat (1)?   \n",
       "2  Apa saja objek yang diatur terkait SRO dalam Pasal 2 ayat (3)?   \n",
       "\n",
       "                                                                  answer_unanswerable  \\\n",
       "0                       Saya tidak tahu terkait pengertian SRO menurut peraturan ini.   \n",
       "1  Saya tidak tahu terkait kewajiban yang ditetapkan bagi SRO dalam Pasal 2 ayat (1).   \n",
       "2       Saya tidak tahu terkait objek yang diatur terkait SRO dalam Pasal 2 ayat (3).   \n",
       "\n",
       "       category_unanswerable  \\\n",
       "0                 Pengertian   \n",
       "1  Kewajiban yang Ditetapkan   \n",
       "2          Objek yang Diatur   \n",
       "\n",
       "                                                                                                                                                    file_url  \\\n",
       "0  https://www.ojk.go.id/id/regulasi/Documents/Pages/Penyampaian-Laporan-melalui-Sistem-Pelaporan-Elektronik-Emiten-atau-Perusahaan-Publik/POJK%207-2018.pdf   \n",
       "1  https://www.ojk.go.id/id/regulasi/Documents/Pages/Penyampaian-Laporan-melalui-Sistem-Pelaporan-Elektronik-Emiten-atau-Perusahaan-Publik/POJK%207-2018.pdf   \n",
       "2  https://www.ojk.go.id/id/regulasi/Documents/Pages/Penyampaian-Laporan-melalui-Sistem-Pelaporan-Elektronik-Emiten-atau-Perusahaan-Publik/POJK%207-2018.pdf   \n",
       "\n",
       "  regulation_number  \\\n",
       "0    7/POJK.04/2018   \n",
       "1    7/POJK.04/2018   \n",
       "2    7/POJK.04/2018   \n",
       "\n",
       "                                                                                   title  \\\n",
       "0  Penyampaian Laporan melalui Sistem Pelaporan Elektronik Emiten atau Perusahaan Publik   \n",
       "1  Penyampaian Laporan melalui Sistem Pelaporan Elektronik Emiten atau Perusahaan Publik   \n",
       "2  Penyampaian Laporan melalui Sistem Pelaporan Elektronik Emiten atau Perusahaan Publik   \n",
       "\n",
       "                                                                                                                              filename  \\\n",
       "0  ojk-peraturan_ojk-7_pojk_04_2018-25042018-penyampaian_laporan_melalui_sistem_pelaporan_elektronik_emiten_atau_perusahaan_publik.pdf   \n",
       "1  ojk-peraturan_ojk-7_pojk_04_2018-25042018-penyampaian_laporan_melalui_sistem_pelaporan_elektronik_emiten_atau_perusahaan_publik.pdf   \n",
       "2  ojk-peraturan_ojk-7_pojk_04_2018-25042018-penyampaian_laporan_melalui_sistem_pelaporan_elektronik_emiten_atau_perusahaan_publik.pdf   \n",
       "\n",
       "   n_pairs_requested  \n",
       "0                  8  \n",
       "1                  8  \n",
       "2                  8  "
      ]
     },
     "execution_count": 47,
     "metadata": {},
     "output_type": "execute_result"
    }
   ],
   "source": [
    "input_file = \"cqa_datasets.jsonl\"\n",
    "df = pd.read_json(input_file, lines=True)\n",
    "print(f\"Total QA pairs: {len(df)}\")\n",
    "df.head(3)"
   ]
  },
  {
   "cell_type": "markdown",
   "id": "30b47260",
   "metadata": {},
   "source": [
    "## **Filter Data with High Similarity Context**"
   ]
  },
  {
   "cell_type": "code",
   "execution_count": 48,
   "id": "1baf2d0d",
   "metadata": {},
   "outputs": [
    {
     "name": "stderr",
     "output_type": "stream",
     "text": [
      "c:\\Users\\acer\\miniconda3\\envs\\ta-datasets-creation\\lib\\site-packages\\sklearn\\feature_extraction\\text.py:402: UserWarning: Your stop_words may be inconsistent with your preprocessing. Tokenizing the stop words generated tokens ['baiknya', 'berkali', 'kali', 'kurangnya', 'mata', 'olah', 'sekurang', 'setidak', 'tama', 'tidaknya'] not in stop_words.\n",
      "  warnings.warn(\n",
      "Scanning context: 100%|██████████| 4/4 [00:00<00:00, 12.88it/s]\n",
      "Scanning question_answerable: 100%|██████████| 4/4 [00:00<00:00, 13.62it/s]\n",
      "Scanning question_unanswerable: 100%|██████████| 4/4 [00:00<00:00, 14.55it/s]"
     ]
    },
    {
     "name": "stdout",
     "output_type": "stream",
     "text": [
      "\n",
      "Found 2 pairs with high similarity in context, answerable & unanswerable questions\n",
      "\n"
     ]
    },
    {
     "name": "stderr",
     "output_type": "stream",
     "text": [
      "\n"
     ]
    }
   ],
   "source": [
    "## **Filter Data with High Similarity Context & Questions**\n",
    "\n",
    "# 3) Prepare TF-IDF & Stop-Words\n",
    "stop_id = set(stopwords.words(\"indonesian\"))\n",
    "\n",
    "# thresholds\n",
    "threshold_ctx = 0.90\n",
    "threshold_qa  = 0.95  # for question_answerable\n",
    "threshold_qu  = 0.95  # for question_unanswerable\n",
    "\n",
    "# TF-IDF untuk context\n",
    "vect_ctx = TfidfVectorizer(\n",
    "    max_features=5000,\n",
    "    stop_words=list(stop_id),\n",
    "    token_pattern=r\"(?u)\\b\\w+\\b\"\n",
    ")\n",
    "X_ctx = vect_ctx.fit_transform(df['context'])\n",
    "\n",
    "# TF-IDF untuk question_answerable\n",
    "vect_qa = TfidfVectorizer(\n",
    "    max_features=2000,\n",
    "    stop_words=list(stop_id),\n",
    "    token_pattern=r\"(?u)\\b\\w+\\b\"\n",
    ")\n",
    "X_qa = vect_qa.fit_transform(df['question_answerable'])\n",
    "\n",
    "# TF-IDF untuk question_unanswerable\n",
    "vect_qu = TfidfVectorizer(\n",
    "    max_features=2000,\n",
    "    stop_words=list(stop_id),\n",
    "    token_pattern=r\"(?u)\\b\\w+\\b\"\n",
    ")\n",
    "X_qu = vect_qu.fit_transform(df['question_unanswerable'])\n",
    "\n",
    "# 4) Find High-Similarity Pairs\n",
    "pairs_ctx = set()\n",
    "pairs_qa  = set()\n",
    "pairs_qu  = set()\n",
    "\n",
    "def find_pairs(X, thr, out_set, desc):\n",
    "    n = X.shape[0]\n",
    "    for start in tqdm(range(0, n, 500), desc=desc):\n",
    "        end   = min(start+500, n)\n",
    "        block = X[start:end]\n",
    "        sims  = cosine_similarity(block, X)\n",
    "        for i, row in enumerate(sims):\n",
    "            idx1 = start + i\n",
    "            for idx2, sim in enumerate(row):\n",
    "                if idx2 > idx1 and sim > thr:\n",
    "                    out_set.add((idx1, idx2))\n",
    "\n",
    "find_pairs(X_ctx, threshold_ctx, pairs_ctx, desc=\"Scanning context\")\n",
    "find_pairs(X_qa,  threshold_qa,  pairs_qa,  desc=\"Scanning question_answerable\")\n",
    "find_pairs(X_qu,  threshold_qu,  pairs_qu,  desc=\"Scanning question_unanswerable\")\n",
    "\n",
    "# intersect: hanya yang high similarity di ketiga bidang\n",
    "dup_pairs = pairs_ctx & pairs_qa & pairs_qu\n",
    "print(f\"\\nFound {len(dup_pairs)} pairs with high similarity in context, answerable & unanswerable questions\\n\")\n"
   ]
  },
  {
   "cell_type": "code",
   "execution_count": 49,
   "id": "37bbe990",
   "metadata": {},
   "outputs": [
    {
     "data": {
      "text/html": [
       "<div>\n",
       "<style scoped>\n",
       "    .dataframe tbody tr th:only-of-type {\n",
       "        vertical-align: middle;\n",
       "    }\n",
       "\n",
       "    .dataframe tbody tr th {\n",
       "        vertical-align: top;\n",
       "    }\n",
       "\n",
       "    .dataframe thead th {\n",
       "        text-align: right;\n",
       "    }\n",
       "</style>\n",
       "<table border=\"1\" class=\"dataframe\">\n",
       "  <thead>\n",
       "    <tr style=\"text-align: right;\">\n",
       "      <th></th>\n",
       "      <th>idx1</th>\n",
       "      <th>idx2</th>\n",
       "      <th>sim_ctx</th>\n",
       "      <th>sim_question_answerable</th>\n",
       "      <th>sim_question_unanswerable</th>\n",
       "      <th>context_1</th>\n",
       "      <th>context_2</th>\n",
       "      <th>question_answerable_1</th>\n",
       "      <th>question_answerable_2</th>\n",
       "      <th>question_unanswerable_1</th>\n",
       "      <th>question_unanswerable_2</th>\n",
       "      <th>file_url_1</th>\n",
       "      <th>file_url_2</th>\n",
       "    </tr>\n",
       "  </thead>\n",
       "  <tbody>\n",
       "    <tr>\n",
       "      <th>0</th>\n",
       "      <td>1021</td>\n",
       "      <td>1028</td>\n",
       "      <td>0.965131</td>\n",
       "      <td>1.0</td>\n",
       "      <td>1.0</td>\n",
       "      <td>Pasal II \\nPeraturan Otoritas Jasa Keuangan ini mulai berlaku pada tanggal diundangkan.\\n\\n-4- \\n\\n\\n\\nSalinan ini sesuai dengan aslinya \\nDirektur Hukum 1 \\nDepartemen Hukum \\n\\nttd \\n\\nYuliana \\nAgar \\nsetiap \\norang \\nmengetahuinya, \\nmemerintahkan \\npengundangan Peraturan Otoritas Jasa Keuangan ini dengan \\npenempatannya dalam Lembaran Negara Republik Indonesia \\n\\n\\nDitetapkan  di  Jakarta \\npada tanggal 5 Desember 2018 \\n\\nKETUA DEWAN KOMISIONER  \\nOTORITAS JASA KEUANGAN \\nREPUBLIK INDONESIA, \\n\\nttd \\n\\nWIMBOH SANTOSO \\n\\nDiundangkan di Jakarta \\npada tanggal 10 Desember 2018 \\n\\nMENTERI HUKUM DAN HAK ASASI MANUSIA \\nREPUBLIK INDONESIA \\n\\nttd \\n\\nYASONNA H. LAOLY \\n\\n\\nLEMBARAN NEGARA REPUBLIK INDONESIA TAHUN 2018 NOMOR 242</td>\n",
       "      <td>Pasal II Peraturan Otoritas Jasa Keuangan ini mulai berlaku pada tanggal diundangkan. -9- Salinan ini sesuai dengan aslinya Direktur Hukum 1 Departemen Hukum ttd Yuliana Agar setiap orang mengetahuinya, memerintahkan pengundangan Peraturan Otoritas Jasa Keuangan ini dengan penempatannya dalam Lembaran Negara Republik Indonesia. Ditetapkan  di  Jakarta pada tanggal 5 Desember 2018 KETUA DEWAN KOMISIONER  OTORITAS JASA KEUANGAN REPUBLIK INDONESIA, ttd WIMBOH SANTOSO Diundangkan di Jakarta pada tanggal 10 Desember 2018 MENTERI HUKUM DAN HAK ASASI MANUSIA REPUBLIK INDONESIA ttd YASONNA H. LAOLY LEMBARAN NEGARA REPUBLIK INDONESIA TAHUN 2018 NOMOR 240</td>\n",
       "      <td>Kapan peraturan ini mulai berlaku?</td>\n",
       "      <td>Kapan masa berlaku peraturan ini dimulai?</td>\n",
       "      <td>Sampai kapan masa berlaku peraturan ini untuk sektor perbankan?</td>\n",
       "      <td>Sampai kapan masa berlaku peraturan ini di sektor perbankan?</td>\n",
       "      <td>https://www.ojk.go.id/id/regulasi/Documents/Pages/Perubahan-Kedua-POJK-tentang-Tata-Cara-Penagihan-Sanksi-Administratif-Berupa-Denda-di-Sektor-Jasa-Keuangan/pojk%2026-2018.pdf</td>\n",
       "      <td>https://www.ojk.go.id/id/regulasi/Documents/Pages/Perubahan-POJK-Nomor-3-POJK.02-2014-tentang-Tata-Cara-Pelaksanaan-Pungutan-oleh-OJK/pojk%2022-2018.pdf</td>\n",
       "    </tr>\n",
       "    <tr>\n",
       "      <th>1</th>\n",
       "      <td>1602</td>\n",
       "      <td>1615</td>\n",
       "      <td>1.000000</td>\n",
       "      <td>1.0</td>\n",
       "      <td>1.0</td>\n",
       "      <td>Pasal 20 Peraturan Otoritas Jasa Keuangan ini mulai berlaku pada tanggal diundangkan. Agar setiap orang mengetahuinya, memerintahkan pengundangan Peraturan Otoritas Jasa Keuangan ini dengan penempatannya dalam Lembaran Negara Republik Indonesia.</td>\n",
       "      <td>Pasal 20 Peraturan Otoritas Jasa Keuangan ini mulai berlaku pada tanggal diundangkan. Agar setiap orang mengetahuinya, memerintahkan pengundangan Peraturan Otoritas Jasa Keuangan ini dengan penempatannya dalam Lembaran Negara Republik Indonesia.</td>\n",
       "      <td>Kapan masa berlaku peraturan ini dimulai menurut Pasal 20?</td>\n",
       "      <td>Kapan masa berlaku peraturan ini menurut Pasal 20?</td>\n",
       "      <td>Apa perubahan regulasi pada Pasal 20?</td>\n",
       "      <td>Apa saja perubahan regulasi dalam Pasal 20?</td>\n",
       "      <td>https://www.ojk.go.id/id/regulasi/Documents/Pages/Penilaian-Tingkat-Kesehatan-Bank-Umum-Syariah-dan-Unit-Usaha-Syariah/POJK_1404381860.pdf</td>\n",
       "      <td>https://www.ojk.go.id/id/regulasi/Documents/Pages/POJK-tentang-Penilaian-Tingkat-Kesehatan-Bank-Umum-Syariah-dan-Unit-Usaha-Syariah/pojk%208-2014.pdf</td>\n",
       "    </tr>\n",
       "  </tbody>\n",
       "</table>\n",
       "</div>"
      ],
      "text/plain": [
       "   idx1  idx2   sim_ctx  sim_question_answerable  sim_question_unanswerable  \\\n",
       "0  1021  1028  0.965131                      1.0                        1.0   \n",
       "1  1602  1615  1.000000                      1.0                        1.0   \n",
       "\n",
       "                                                                                                                                                                                                                                                                                                                                                                                                                                                                                                                                                                                                                                                                                                                                                               context_1  \\\n",
       "0  Pasal II \\nPeraturan Otoritas Jasa Keuangan ini mulai berlaku pada tanggal diundangkan.\\n\\n-4- \\n\\n\\n\\nSalinan ini sesuai dengan aslinya \\nDirektur Hukum 1 \\nDepartemen Hukum \\n\\nttd \\n\\nYuliana \\nAgar \\nsetiap \\norang \\nmengetahuinya, \\nmemerintahkan \\npengundangan Peraturan Otoritas Jasa Keuangan ini dengan \\npenempatannya dalam Lembaran Negara Republik Indonesia \\n\\n\\nDitetapkan  di  Jakarta \\npada tanggal 5 Desember 2018 \\n\\nKETUA DEWAN KOMISIONER  \\nOTORITAS JASA KEUANGAN \\nREPUBLIK INDONESIA, \\n\\nttd \\n\\nWIMBOH SANTOSO \\n\\nDiundangkan di Jakarta \\npada tanggal 10 Desember 2018 \\n\\nMENTERI HUKUM DAN HAK ASASI MANUSIA \\nREPUBLIK INDONESIA \\n\\nttd \\n\\nYASONNA H. LAOLY \\n\\n\\nLEMBARAN NEGARA REPUBLIK INDONESIA TAHUN 2018 NOMOR 242   \n",
       "1                                                                                                                                                                                                                                                                                                                                                                                                                                                                                                                  Pasal 20 Peraturan Otoritas Jasa Keuangan ini mulai berlaku pada tanggal diundangkan. Agar setiap orang mengetahuinya, memerintahkan pengundangan Peraturan Otoritas Jasa Keuangan ini dengan penempatannya dalam Lembaran Negara Republik Indonesia.   \n",
       "\n",
       "                                                                                                                                                                                                                                                                                                                                                                                                                                                                                                                                                                                                                                                                       context_2  \\\n",
       "0  Pasal II Peraturan Otoritas Jasa Keuangan ini mulai berlaku pada tanggal diundangkan. -9- Salinan ini sesuai dengan aslinya Direktur Hukum 1 Departemen Hukum ttd Yuliana Agar setiap orang mengetahuinya, memerintahkan pengundangan Peraturan Otoritas Jasa Keuangan ini dengan penempatannya dalam Lembaran Negara Republik Indonesia. Ditetapkan  di  Jakarta pada tanggal 5 Desember 2018 KETUA DEWAN KOMISIONER  OTORITAS JASA KEUANGAN REPUBLIK INDONESIA, ttd WIMBOH SANTOSO Diundangkan di Jakarta pada tanggal 10 Desember 2018 MENTERI HUKUM DAN HAK ASASI MANUSIA REPUBLIK INDONESIA ttd YASONNA H. LAOLY LEMBARAN NEGARA REPUBLIK INDONESIA TAHUN 2018 NOMOR 240   \n",
       "1                                                                                                                                                                                                                                                                                                                                                                                                                          Pasal 20 Peraturan Otoritas Jasa Keuangan ini mulai berlaku pada tanggal diundangkan. Agar setiap orang mengetahuinya, memerintahkan pengundangan Peraturan Otoritas Jasa Keuangan ini dengan penempatannya dalam Lembaran Negara Republik Indonesia.   \n",
       "\n",
       "                                        question_answerable_1  \\\n",
       "0                          Kapan peraturan ini mulai berlaku?   \n",
       "1  Kapan masa berlaku peraturan ini dimulai menurut Pasal 20?   \n",
       "\n",
       "                                question_answerable_2  \\\n",
       "0           Kapan masa berlaku peraturan ini dimulai?   \n",
       "1  Kapan masa berlaku peraturan ini menurut Pasal 20?   \n",
       "\n",
       "                                           question_unanswerable_1  \\\n",
       "0  Sampai kapan masa berlaku peraturan ini untuk sektor perbankan?   \n",
       "1                            Apa perubahan regulasi pada Pasal 20?   \n",
       "\n",
       "                                        question_unanswerable_2  \\\n",
       "0  Sampai kapan masa berlaku peraturan ini di sektor perbankan?   \n",
       "1                   Apa saja perubahan regulasi dalam Pasal 20?   \n",
       "\n",
       "                                                                                                                                                                        file_url_1  \\\n",
       "0  https://www.ojk.go.id/id/regulasi/Documents/Pages/Perubahan-Kedua-POJK-tentang-Tata-Cara-Penagihan-Sanksi-Administratif-Berupa-Denda-di-Sektor-Jasa-Keuangan/pojk%2026-2018.pdf   \n",
       "1                                       https://www.ojk.go.id/id/regulasi/Documents/Pages/Penilaian-Tingkat-Kesehatan-Bank-Umum-Syariah-dan-Unit-Usaha-Syariah/POJK_1404381860.pdf   \n",
       "\n",
       "                                                                                                                                                 file_url_2  \n",
       "0  https://www.ojk.go.id/id/regulasi/Documents/Pages/Perubahan-POJK-Nomor-3-POJK.02-2014-tentang-Tata-Cara-Pelaksanaan-Pungutan-oleh-OJK/pojk%2022-2018.pdf  \n",
       "1     https://www.ojk.go.id/id/regulasi/Documents/Pages/POJK-tentang-Penilaian-Tingkat-Kesehatan-Bank-Umum-Syariah-dan-Unit-Usaha-Syariah/pojk%208-2014.pdf  "
      ]
     },
     "execution_count": 49,
     "metadata": {},
     "output_type": "execute_result"
    }
   ],
   "source": [
    "## 5) (Optional) Inspect Top 10 Pairs\n",
    "pairs_list = []\n",
    "for a, b in list(dup_pairs)[:10]:\n",
    "    # similarity di ketiga bidang\n",
    "    sim_ctx = cosine_similarity(X_ctx[a], X_ctx[b])[0,0]\n",
    "    sim_qa  = cosine_similarity(X_qa[a],  X_qa[b])[0,0]\n",
    "    sim_qu  = cosine_similarity(X_qu[a],  X_qu[b])[0,0]\n",
    "\n",
    "    pairs_list.append({\n",
    "        \"idx1\": a,\n",
    "        \"idx2\": b,\n",
    "        \"sim_ctx\": sim_ctx,\n",
    "        \"sim_question_answerable\": sim_qa,\n",
    "        \"sim_question_unanswerable\": sim_qu,\n",
    "        \"context_1\": df.loc[a, \"context\"],\n",
    "        \"context_2\": df.loc[b, \"context\"],\n",
    "        \"question_answerable_1\": df.loc[a, \"question_answerable\"],\n",
    "        \"question_answerable_2\": df.loc[b, \"question_answerable\"],\n",
    "        \"question_unanswerable_1\": df.loc[a, \"question_unanswerable\"],\n",
    "        \"question_unanswerable_2\": df.loc[b, \"question_unanswerable\"],\n",
    "        \"file_url_1\": df.loc[a, \"file_url\"],\n",
    "        \"file_url_2\": df.loc[b, \"file_url\"],\n",
    "    })\n",
    "\n",
    "# Tampilkan sebagai DataFrame\n",
    "pd.DataFrame(pairs_list)\n"
   ]
  },
  {
   "cell_type": "code",
   "execution_count": 50,
   "id": "1960795e",
   "metadata": {},
   "outputs": [
    {
     "name": "stdout",
     "output_type": "stream",
     "text": [
      "\n",
      "After filtering clusters: 1694 pairs remain (from 1696)\n",
      "→ Saved cleaned data to cqa_datasets_clean.jsonl\n",
      "\n"
     ]
    }
   ],
   "source": [
    "## 6) Union-Find Clustering on dup_pairs\n",
    "parent = list(range(len(df)))\n",
    "\n",
    "def find(x):\n",
    "    while parent[x] != x:\n",
    "        parent[x] = parent[parent[x]]\n",
    "        x = parent[x]\n",
    "    return x\n",
    "\n",
    "def union(a, b):\n",
    "    ra, rb = find(a), find(b)\n",
    "    if ra != rb:\n",
    "        parent[rb] = ra\n",
    "\n",
    "for a, b in dup_pairs:\n",
    "    union(a, b)\n",
    "\n",
    "## 7) Build Clusters & Select Representatives\n",
    "clusters = {}\n",
    "for idx in range(len(df)):\n",
    "    root = find(idx)\n",
    "    clusters.setdefault(root, []).append(idx)\n",
    "\n",
    "to_keep = []\n",
    "for members in clusters.values():\n",
    "    if len(members) == 1:\n",
    "        to_keep.append(members[0])\n",
    "    else:\n",
    "        # pilih idx dengan context paling panjang\n",
    "        best = max(members, key=lambda i: len(df.loc[i, 'context']))\n",
    "        to_keep.append(best)\n",
    "\n",
    "## 8) Filter & Save Cleaned Data\n",
    "df_clean = df.loc[sorted(to_keep)].reset_index(drop=True)\n",
    "print(f\"\\nAfter filtering clusters: {len(df_clean)} pairs remain (from {len(df)})\")\n",
    "output_clean = \"cqa_datasets_clean.jsonl\"\n",
    "df_clean.to_json(output_clean, orient=\"records\", lines=True, force_ascii=False)\n",
    "print(f\"→ Saved cleaned data to {output_clean}\\n\")"
   ]
  },
  {
   "cell_type": "markdown",
   "id": "2e16ea46",
   "metadata": {},
   "source": [
    "## **EDA Preprocessing**"
   ]
  },
  {
   "cell_type": "code",
   "execution_count": 51,
   "id": "f94b42fd",
   "metadata": {},
   "outputs": [
    {
     "name": "stdout",
     "output_type": "stream",
     "text": [
      "Total QA pairs: 1694\n"
     ]
    }
   ],
   "source": [
    "df_clean = pd.read_json(\"cqa_datasets_clean.jsonl\", lines=True)\n",
    "print(f\"Total QA pairs: {len(df_clean)}\")"
   ]
  },
  {
   "cell_type": "code",
   "execution_count": 52,
   "id": "53ec984e",
   "metadata": {},
   "outputs": [
    {
     "data": {
      "text/plain": [
       "category_answerable\n",
       "Ketentuan Umum yang Ditetapkan    156\n",
       "Kewajiban yang Ditetapkan         152\n",
       "Cakupan Dokumen                   151\n",
       "Mekanisme Proses                  149\n",
       "Subjek yang Diatur                149\n",
       "Kategori Penilaian                148\n",
       "Objek yang Diatur                 147\n",
       "Waktu Berlaku                     138\n",
       "Perubahan Regulasi                128\n",
       "Pengertian                        127\n",
       "Mekanisme Pelaporan                85\n",
       "Dasar Hukum                        57\n",
       "Sanksi Hukum                       54\n",
       "Tujuan                             53\n",
       "Name: count, dtype: int64"
      ]
     },
     "execution_count": 52,
     "metadata": {},
     "output_type": "execute_result"
    }
   ],
   "source": [
    "df_clean['category_answerable'].value_counts()"
   ]
  },
  {
   "cell_type": "code",
   "execution_count": 53,
   "id": "63607426",
   "metadata": {},
   "outputs": [
    {
     "data": {
      "text/plain": [
       "category_unanswerable\n",
       "Tujuan                            159\n",
       "Mekanisme Pelaporan               151\n",
       "Sanksi Hukum                      148\n",
       "Dasar Hukum                       147\n",
       "Pengertian                        147\n",
       "Perubahan Regulasi                138\n",
       "Kategori Penilaian                134\n",
       "Waktu Berlaku                     131\n",
       "Mekanisme Proses                  123\n",
       "Ketentuan Umum yang Ditetapkan    105\n",
       "Kewajiban yang Ditetapkan          93\n",
       "Subjek yang Diatur                 88\n",
       "Cakupan Dokumen                    68\n",
       "Objek yang Diatur                  62\n",
       "Name: count, dtype: int64"
      ]
     },
     "execution_count": 53,
     "metadata": {},
     "output_type": "execute_result"
    }
   ],
   "source": [
    "df_clean['category_unanswerable'].value_counts()"
   ]
  },
  {
   "cell_type": "code",
   "execution_count": 54,
   "id": "dbee93ba",
   "metadata": {},
   "outputs": [],
   "source": [
    "# kategori = [\n",
    "#     \"Masa Berlaku\",\n",
    "#     \"Larangan\",\n",
    "#     \"Pengawasan\",\n",
    "#     \"Ketentuan Peralihan\",\n",
    "#     \"Tugas dan Tanggung Jawab\",\n",
    "#     \"Kriteria Penilaian/Status\",\n",
    "#     \"Tugas, Wewenang, Hak, dan Tanggung Jawab\",\n",
    "#     \"Hak\",\n",
    "#     \"Biaya\"\n",
    "# ]\n",
    "\n",
    "# df_clean[df_clean['category'].isin(kategori)]\n"
   ]
  },
  {
   "cell_type": "markdown",
   "id": "9f2990dd",
   "metadata": {},
   "source": [
    "## **Redefine Categories**"
   ]
  },
  {
   "cell_type": "code",
   "execution_count": 55,
   "id": "01ee61bb",
   "metadata": {},
   "outputs": [],
   "source": [
    "# Daftar kategori yang kita definisikan di prompt\n",
    "prompt_categories = [\n",
    "    \"Pengertian\", \"Tujuan\", \"Subjek yang Diatur\", \"Objek yang Diatur\",\n",
    "    \"Kewajiban yang Ditetapkan\", \"Ketentuan Umum yang Ditetapkan\",\n",
    "    \"Mekanisme Pelaporan\", \"Mekanisme Proses\", \"Kategori Penilaian\",\n",
    "    \"Sanksi Hukum\", \"Perubahan Regulasi\", \"Waktu Berlaku\",\n",
    "    \"Cakupan Dokumen\", \"Dasar Hukum\"\n",
    "]\n",
    "\n",
    "# Ganti semua kategori lain menjadi 'Others'\n",
    "df_clean['category_answerable'] = df_clean['category_answerable'].where(\n",
    "    df_clean['category_answerable'].isin(prompt_categories),\n",
    "    other=\"Others\"\n",
    ")\n",
    "\n",
    "df_clean['category_unanswerable'] = df_clean['category_unanswerable'].where(\n",
    "    df_clean['category_unanswerable'].isin(prompt_categories),\n",
    "    other=\"Others\"\n",
    ")"
   ]
  },
  {
   "cell_type": "code",
   "execution_count": 56,
   "id": "77bd0d98",
   "metadata": {},
   "outputs": [
    {
     "name": "stdout",
     "output_type": "stream",
     "text": [
      "Distribusi kategori setelah redefinisi:\n",
      "category_answerable\n",
      "Ketentuan Umum yang Ditetapkan    156\n",
      "Kewajiban yang Ditetapkan         152\n",
      "Cakupan Dokumen                   151\n",
      "Mekanisme Proses                  149\n",
      "Subjek yang Diatur                149\n",
      "Kategori Penilaian                148\n",
      "Objek yang Diatur                 147\n",
      "Waktu Berlaku                     138\n",
      "Perubahan Regulasi                128\n",
      "Pengertian                        127\n",
      "Mekanisme Pelaporan                85\n",
      "Dasar Hukum                        57\n",
      "Sanksi Hukum                       54\n",
      "Tujuan                             53\n",
      "Name: count, dtype: int64\n"
     ]
    }
   ],
   "source": [
    "# Tampilkan distribusi baru\n",
    "print(\"Distribusi kategori setelah redefinisi:\")\n",
    "print(df_clean['category_answerable'].value_counts())"
   ]
  },
  {
   "cell_type": "code",
   "execution_count": 57,
   "id": "44473923",
   "metadata": {},
   "outputs": [
    {
     "name": "stdout",
     "output_type": "stream",
     "text": [
      "Distribusi kategori setelah redefinisi:\n",
      "category_unanswerable\n",
      "Tujuan                            159\n",
      "Mekanisme Pelaporan               151\n",
      "Sanksi Hukum                      148\n",
      "Dasar Hukum                       147\n",
      "Pengertian                        147\n",
      "Perubahan Regulasi                138\n",
      "Kategori Penilaian                134\n",
      "Waktu Berlaku                     131\n",
      "Mekanisme Proses                  123\n",
      "Ketentuan Umum yang Ditetapkan    105\n",
      "Kewajiban yang Ditetapkan          93\n",
      "Subjek yang Diatur                 88\n",
      "Cakupan Dokumen                    68\n",
      "Objek yang Diatur                  62\n",
      "Name: count, dtype: int64\n"
     ]
    }
   ],
   "source": [
    "# Tampilkan distribusi baru\n",
    "print(\"Distribusi kategori setelah redefinisi:\")\n",
    "print(df_clean['category_unanswerable'].value_counts())"
   ]
  },
  {
   "cell_type": "code",
   "execution_count": 58,
   "id": "8d463e07",
   "metadata": {},
   "outputs": [
    {
     "name": "stdout",
     "output_type": "stream",
     "text": [
      "→ Saved recategorized data to cqa_datasets_clean_recat.jsonl\n"
     ]
    }
   ],
   "source": [
    "# (Opsional) Simpan hasilnya\n",
    "df_clean.to_json(\"cqa_datasets_clean_recat.jsonl\", orient=\"records\", lines=True, force_ascii=False)\n",
    "print(\"→ Saved recategorized data to cqa_datasets_clean_recat.jsonl\")"
   ]
  },
  {
   "cell_type": "markdown",
   "id": "3f37c7bb",
   "metadata": {},
   "source": [
    "## **Split Data into 3 Parts (SFT, RL, Test)**\n",
    "\n",
    "- SFT: 60% of the data\n",
    "- RL: 30% of the data\n",
    "- Testing: 10% of the data"
   ]
  },
  {
   "cell_type": "code",
   "execution_count": 59,
   "id": "ea2d2687",
   "metadata": {},
   "outputs": [
    {
     "name": "stdout",
     "output_type": "stream",
     "text": [
      "SFT:  338 (20.0%)\n",
      "RL:   1186 (70.0%)\n",
      "Test: 170 (10.0%)\n",
      "→ Saved sft (338)\n",
      "→ Saved rl (1186)\n",
      "→ Saved test (170)\n"
     ]
    }
   ],
   "source": [
    "# 0) Buat kolom gabungan\n",
    "df_clean['stratify_key'] = (\n",
    "    df_clean['category_answerable'].astype(str)\n",
    "    + \"_\"\n",
    "    + df_clean['category_unanswerable'].astype(str)\n",
    ")\n",
    "\n",
    "# 0.1) Group rare keys (<2) into 'Other_Other'\n",
    "key_counts = df_clean['stratify_key'].value_counts()\n",
    "df_clean['stratify_key'] = df_clean['stratify_key'].apply(\n",
    "    lambda k: k if key_counts[k] >= 2 else 'Other_Other'\n",
    ")\n",
    "\n",
    "# 1) Split train_val vs test (10%)\n",
    "train_val, test = train_test_split(\n",
    "    df_clean,\n",
    "    test_size=0.10,\n",
    "    random_state=42,\n",
    "    shuffle=True,\n",
    "    stratify=df_clean['stratify_key']\n",
    ")\n",
    "\n",
    "# 2) Split train_val → SFT (20%) & RL (70%)\n",
    "sft, rl = train_test_split(\n",
    "    train_val,\n",
    "    test_size=(0.70 / 0.90), # juga dilakukan SFT (45%) & RL (45%)\n",
    "    random_state=42,\n",
    "    shuffle=True,\n",
    "    stratify=train_val['stratify_key']\n",
    ")\n",
    "\n",
    "# 3) Laporkan\n",
    "print(f\"SFT:  {len(sft)} ({len(sft)/len(df_clean):.1%})\")\n",
    "print(f\"RL:   {len(rl)} ({len(rl)/len(df_clean):.1%})\")\n",
    "print(f\"Test: {len(test)} ({len(test)/len(df_clean):.1%})\")\n",
    "\n",
    "# 4) Drop kolom bantu dan simpan\n",
    "for df_split, name in [(sft, \"sft\"), (rl, \"rl\"), (test, \"test\")]:\n",
    "    df_split = df_split.drop(columns='stratify_key')\n",
    "    df_split.to_json(f\"cqa_{name}.jsonl\", orient=\"records\", lines=True, force_ascii=False)\n",
    "    print(f\"→ Saved {name} ({len(df_split)})\")"
   ]
  },
  {
   "cell_type": "code",
   "execution_count": 60,
   "id": "6cf014a9",
   "metadata": {},
   "outputs": [
    {
     "name": "stdout",
     "output_type": "stream",
     "text": [
      "\n",
      "=== SFT split ===\n",
      "-> category_answerable:\n",
      "                                count\n",
      "category_answerable                  \n",
      "Ketentuan Umum yang Ditetapkan     33\n",
      "Subjek yang Diatur                 32\n",
      "Mekanisme Proses                   31\n",
      "Cakupan Dokumen                    30\n",
      "Kategori Penilaian                 30\n",
      "Kewajiban yang Ditetapkan          29\n",
      "Objek yang Diatur                  29\n",
      "Waktu Berlaku                      29\n",
      "Pengertian                         25\n",
      "Perubahan Regulasi                 24\n",
      "Mekanisme Pelaporan                15\n",
      "Dasar Hukum                        11\n",
      "Tujuan                             10\n",
      "Sanksi Hukum                       10\n",
      "\n",
      "-> category_unanswerable:\n",
      "                                count\n",
      "category_unanswerable                \n",
      "Tujuan                             31\n",
      "Mekanisme Pelaporan                30\n",
      "Pengertian                         30\n",
      "Sanksi Hukum                       29\n",
      "Dasar Hukum                        29\n",
      "Kategori Penilaian                 29\n",
      "Waktu Berlaku                      28\n",
      "Perubahan Regulasi                 27\n",
      "Mekanisme Proses                   25\n",
      "Ketentuan Umum yang Ditetapkan     20\n",
      "Kewajiban yang Ditetapkan          20\n",
      "Subjek yang Diatur                 17\n",
      "Cakupan Dokumen                    13\n",
      "Objek yang Diatur                  10\n",
      "\n",
      "=== RL split ===\n",
      "-> category_answerable:\n",
      "                                count\n",
      "category_answerable                  \n",
      "Ketentuan Umum yang Ditetapkan    108\n",
      "Kewajiban yang Ditetapkan         106\n",
      "Kategori Penilaian                105\n",
      "Cakupan Dokumen                   105\n",
      "Mekanisme Proses                  104\n",
      "Subjek yang Diatur                103\n",
      "Objek yang Diatur                 102\n",
      "Waktu Berlaku                      97\n",
      "Perubahan Regulasi                 91\n",
      "Pengertian                         89\n",
      "Mekanisme Pelaporan                60\n",
      "Sanksi Hukum                       41\n",
      "Dasar Hukum                        38\n",
      "Tujuan                             37\n",
      "\n",
      "-> category_unanswerable:\n",
      "                                count\n",
      "category_unanswerable                \n",
      "Tujuan                            111\n",
      "Pengertian                        104\n",
      "Mekanisme Pelaporan               104\n",
      "Dasar Hukum                       102\n",
      "Sanksi Hukum                      102\n",
      "Perubahan Regulasi                 96\n",
      "Kategori Penilaian                 93\n",
      "Waktu Berlaku                      90\n",
      "Mekanisme Proses                   87\n",
      "Ketentuan Umum yang Ditetapkan     73\n",
      "Kewajiban yang Ditetapkan          65\n",
      "Subjek yang Diatur                 64\n",
      "Cakupan Dokumen                    49\n",
      "Objek yang Diatur                  46\n",
      "\n",
      "=== Test split ===\n",
      "-> category_answerable:\n",
      "                                count\n",
      "category_answerable                  \n",
      "Kewajiban yang Ditetapkan          17\n",
      "Objek yang Diatur                  16\n",
      "Cakupan Dokumen                    16\n",
      "Ketentuan Umum yang Ditetapkan     15\n",
      "Subjek yang Diatur                 14\n",
      "Mekanisme Proses                   14\n",
      "Perubahan Regulasi                 13\n",
      "Pengertian                         13\n",
      "Kategori Penilaian                 13\n",
      "Waktu Berlaku                      12\n",
      "Mekanisme Pelaporan                10\n",
      "Dasar Hukum                         8\n",
      "Tujuan                              6\n",
      "Sanksi Hukum                        3\n",
      "\n",
      "-> category_unanswerable:\n",
      "                                count\n",
      "category_unanswerable                \n",
      "Tujuan                             17\n",
      "Mekanisme Pelaporan                17\n",
      "Sanksi Hukum                       17\n",
      "Dasar Hukum                        16\n",
      "Perubahan Regulasi                 15\n",
      "Pengertian                         13\n",
      "Waktu Berlaku                      13\n",
      "Ketentuan Umum yang Ditetapkan     12\n",
      "Kategori Penilaian                 12\n",
      "Mekanisme Proses                   11\n",
      "Kewajiban yang Ditetapkan           8\n",
      "Subjek yang Diatur                  7\n",
      "Objek yang Diatur                   6\n",
      "Cakupan Dokumen                     6\n"
     ]
    }
   ],
   "source": [
    "# 1) Load kembali split kalau belum ada di memori\n",
    "sft  = pd.read_json(\"cqa_sft.jsonl\",  lines=True)\n",
    "rl   = pd.read_json(\"cqa_rl.jsonl\",   lines=True)\n",
    "test = pd.read_json(\"cqa_test.jsonl\", lines=True)\n",
    "\n",
    "# 2) Fungsi helper untuk print distribusi\n",
    "def print_dist(name, df):\n",
    "    print(f\"\\n=== {name} split ===\")\n",
    "    print(\"-> category_answerable:\")\n",
    "    print(df['category_answerable'].value_counts(dropna=False).to_frame('count'))\n",
    "    print(\"\\n-> category_unanswerable:\")\n",
    "    print(df['category_unanswerable'].value_counts(dropna=False).to_frame('count'))\n",
    "\n",
    "# 3) Cetak untuk semua split\n",
    "print_dist(\"SFT\",  sft)\n",
    "print_dist(\"RL\",   rl)\n",
    "print_dist(\"Test\", test)"
   ]
  },
  {
   "cell_type": "markdown",
   "id": "4febdb63",
   "metadata": {},
   "source": [
    "## **Separate Asnwerable and Unanswerable**\n",
    "Separate Asnwerable and Unanswerable [context, question_answerable, answer_answerable, question_unanswerable, answer_unanswerable] into [{context, question_answerable, answer_answerable}, {context, question_unanswerable, answer_unanswerable}, ...] for SFT, RL, and Test."
   ]
  },
  {
   "cell_type": "code",
   "execution_count": 61,
   "id": "a1b4a01a",
   "metadata": {},
   "outputs": [
    {
     "name": "stdout",
     "output_type": "stream",
     "text": [
      "→ Saved 676 entries for SFT to cqa_sft_expanded.jsonl\n",
      "→ Saved 2372 entries for RL to cqa_rl_expanded.jsonl\n",
      "→ Saved 340 entries for TEST to cqa_test_expanded.jsonl\n"
     ]
    }
   ],
   "source": [
    "# 1) Load the saved splits\n",
    "sft = pd.read_json(\"cqa_sft.jsonl\", lines=True)\n",
    "rl  = pd.read_json(\"cqa_rl.jsonl\",  lines=True)\n",
    "test= pd.read_json(\"cqa_test.jsonl\",lines=True)\n",
    "\n",
    "# 2) Define helper to expand each row into two entries\n",
    "def separate_entries(df_split):\n",
    "    records = []\n",
    "    for _, row in df_split.iterrows():\n",
    "        # answerable entry\n",
    "        records.append({\n",
    "            \"context\": row[\"context\"],\n",
    "            \"question\": row[\"question_answerable\"],\n",
    "            \"answer\":   row[\"answer_answerable\"],\n",
    "            \"category\": row[\"category_answerable\"]\n",
    "        })\n",
    "        # unanswerable entry\n",
    "        records.append({\n",
    "            \"context\": row[\"context\"],\n",
    "            \"question\": row[\"question_unanswerable\"],\n",
    "            \"answer\":   row[\"answer_unanswerable\"],\n",
    "            \"category\": row[\"category_unanswerable\"]\n",
    "        })\n",
    "    return records\n",
    "\n",
    "# 3) Expand and save each split\n",
    "for split_name, split_df in [(\"sft\", sft), (\"rl\", rl), (\"test\", test)]:\n",
    "    expanded = separate_entries(split_df)\n",
    "    out_file = f\"cqa_{split_name}_expanded.jsonl\"\n",
    "    with open(out_file, \"w\", encoding=\"utf-8\") as f:\n",
    "        for rec in expanded:\n",
    "            f.write(json.dumps(rec, ensure_ascii=False) + \"\\n\")\n",
    "    print(f\"→ Saved {len(expanded)} entries for {split_name.upper()} to {out_file}\")"
   ]
  },
  {
   "cell_type": "code",
   "execution_count": 62,
   "id": "47d6bad5",
   "metadata": {},
   "outputs": [
    {
     "name": "stdout",
     "output_type": "stream",
     "text": [
      "SFT expanded entries:  676\n",
      "RL  expanded entries:  2372\n",
      "Test expanded entries: 340\n"
     ]
    }
   ],
   "source": [
    "# Load the expanded datasets\n",
    "sft_expanded  = pd.read_json(\"cqa_sft_expanded.jsonl\",  lines=True)\n",
    "rl_expanded   = pd.read_json(\"cqa_rl_expanded.jsonl\",   lines=True)\n",
    "test_expanded = pd.read_json(\"cqa_test_expanded.jsonl\", lines=True)\n",
    "\n",
    "# Print the number of entries in each\n",
    "print(f\"SFT expanded entries:  {len(sft_expanded)}\")\n",
    "print(f\"RL  expanded entries:  {len(rl_expanded)}\")\n",
    "print(f\"Test expanded entries: {len(test_expanded)}\")"
   ]
  },
  {
   "cell_type": "code",
   "execution_count": 63,
   "id": "bbcee225",
   "metadata": {},
   "outputs": [
    {
     "name": "stdout",
     "output_type": "stream",
     "text": [
      "\n",
      "=== SFT ===\n",
      "Total entries: 676\n",
      "→ Answerable (genap index):     338 (50.0%)\n",
      "→ Unanswerable (ganjil index):  338 (50.0%)\n",
      "\n",
      "Distribusi kategori:\n",
      "                                count\n",
      "category                             \n",
      "Kategori Penilaian                 59\n",
      "Waktu Berlaku                      57\n",
      "Mekanisme Proses                   56\n",
      "Pengertian                         55\n",
      "Ketentuan Umum yang Ditetapkan     53\n",
      "Perubahan Regulasi                 51\n",
      "Subjek yang Diatur                 49\n",
      "Kewajiban yang Ditetapkan          49\n",
      "Mekanisme Pelaporan                45\n",
      "Cakupan Dokumen                    43\n",
      "Tujuan                             41\n",
      "Dasar Hukum                        40\n",
      "Objek yang Diatur                  39\n",
      "Sanksi Hukum                       39\n",
      "\n",
      "=== RL ===\n",
      "Total entries: 2372\n",
      "→ Answerable (genap index):     1186 (50.0%)\n",
      "→ Unanswerable (ganjil index):  1186 (50.0%)\n",
      "\n",
      "Distribusi kategori:\n",
      "                                count\n",
      "category                             \n",
      "Kategori Penilaian                198\n",
      "Pengertian                        193\n",
      "Mekanisme Proses                  191\n",
      "Waktu Berlaku                     187\n",
      "Perubahan Regulasi                187\n",
      "Ketentuan Umum yang Ditetapkan    181\n",
      "Kewajiban yang Ditetapkan         171\n",
      "Subjek yang Diatur                167\n",
      "Mekanisme Pelaporan               164\n",
      "Cakupan Dokumen                   154\n",
      "Objek yang Diatur                 148\n",
      "Tujuan                            148\n",
      "Sanksi Hukum                      143\n",
      "Dasar Hukum                       140\n",
      "\n",
      "=== TEST ===\n",
      "Total entries: 340\n",
      "→ Answerable (genap index):     170 (50.0%)\n",
      "→ Unanswerable (ganjil index):  170 (50.0%)\n",
      "\n",
      "Distribusi kategori:\n",
      "                                count\n",
      "category                             \n",
      "Perubahan Regulasi                 28\n",
      "Mekanisme Pelaporan                27\n",
      "Ketentuan Umum yang Ditetapkan     27\n",
      "Pengertian                         26\n",
      "Kewajiban yang Ditetapkan          25\n",
      "Mekanisme Proses                   25\n",
      "Kategori Penilaian                 25\n",
      "Waktu Berlaku                      25\n",
      "Dasar Hukum                        24\n",
      "Tujuan                             23\n",
      "Objek yang Diatur                  22\n",
      "Cakupan Dokumen                    22\n",
      "Subjek yang Diatur                 21\n",
      "Sanksi Hukum                       20\n"
     ]
    }
   ],
   "source": [
    "# Fungsi untuk menghitung jumlah answerable vs unanswerable berdasarkan urutan baris\n",
    "def count_answerability_by_order(df, name):\n",
    "    total = len(df)\n",
    "    answerable_count = total // 2\n",
    "    unanswerable_count = total // 2  # karena selalu 2 baris per QA-pair\n",
    "    \n",
    "    print(f\"\\n=== {name.upper()} ===\")\n",
    "    print(f\"Total entries: {total}\")\n",
    "    print(f\"→ Answerable (genap index):     {answerable_count} ({answerable_count / total:.1%})\")\n",
    "    print(f\"→ Unanswerable (ganjil index):  {unanswerable_count} ({unanswerable_count / total:.1%})\")\n",
    "\n",
    "    print(\"\\nDistribusi kategori:\")\n",
    "    print(df['category'].value_counts(dropna=False).to_frame('count'))\n",
    "\n",
    "# Tampilkan untuk masing-masing split\n",
    "count_answerability_by_order(sft_expanded, \"sft\")\n",
    "count_answerability_by_order(rl_expanded, \"rl\")\n",
    "count_answerability_by_order(test_expanded, \"test\")"
   ]
  },
  {
   "cell_type": "markdown",
   "id": "e7aed705",
   "metadata": {},
   "source": [
    "### **Prompt-Completion Creation**\n",
    "\n",
    "from the data SFT, RL, and Test, create the prompt-completion pairs for the model."
   ]
  },
  {
   "cell_type": "code",
   "execution_count": 64,
   "id": "8ab4987b",
   "metadata": {},
   "outputs": [
    {
     "name": "stdout",
     "output_type": "stream",
     "text": [
      "→ Created 676 prompt-completion pairs in cqa_sft_prompt_completion.jsonl\n",
      "→ Created 2372 prompt-completion pairs in cqa_rl_prompt_completion.jsonl\n",
      "→ Created 340 prompt-completion pairs in cqa_test_prompt_completion.jsonl\n"
     ]
    }
   ],
   "source": [
    "\n",
    "def make_prompt_completion(df_in, out_file):\n",
    "    \"\"\"\n",
    "    Given a DataFrame with columns ['context', 'question', 'answer'], \n",
    "    create a JSONL file with prompt/completion pairs including a system instruction:\n",
    "      - system instruction: You are an Indonesian financial regulation expert...\n",
    "      - prompt: \"<SYSTEM_INSTRUCTION>\\n\\nContext:\\n{context}\\n\\nQuestion: {question}\\nAnswer:\"\n",
    "      - completion: \" {answer}\"\n",
    "    \"\"\"\n",
    "    system_instr = (\n",
    "        \"Anda adalah pakar regulasi keuangan Indonesia. \"\n",
    "        \"Jawablah berdasarkan konteks yang disediakan; \"\n",
    "        \"jika tidak terdapat pada konteks, jawab “Saya tidak tahu terkait {question}.”\"\n",
    "    )\n",
    "    with open(out_file, 'w', encoding='utf-8') as fout:\n",
    "        for _, row in df_in.iterrows():\n",
    "            prompt = (\n",
    "                f\"{system_instr}\\n\\n\"\n",
    "                f\"Context:\\n{row['context']}\\n\\n\"\n",
    "                f\"Question: {row['question']}\\n\"\n",
    "                f\"Answer:\"\n",
    "            )\n",
    "            completion = f\" {row['answer']}\"\n",
    "            entry = {\n",
    "                \"prompt\": prompt,\n",
    "                \"completion\": completion\n",
    "            }\n",
    "            fout.write(json.dumps(entry, ensure_ascii=False) + \"\\n\")\n",
    "\n",
    "# Load expanded datasets and generate prompt-completion files\n",
    "for split in ['sft', 'rl', 'test']:\n",
    "    df_split = pd.read_json(f\"cqa_{split}_expanded.jsonl\", lines=True)\n",
    "    out_file = f\"cqa_{split}_prompt_completion.jsonl\"\n",
    "    make_prompt_completion(df_split, out_file)\n",
    "    print(f\"→ Created {len(df_split)} prompt-completion pairs in {out_file}\")\n"
   ]
  },
  {
   "cell_type": "code",
   "execution_count": 65,
   "id": "38e32b80",
   "metadata": {},
   "outputs": [
    {
     "name": "stdout",
     "output_type": "stream",
     "text": [
      "Anda adalah pakar regulasi keuangan Indonesia. Jawablah berdasarkan konteks yang disediakan; jika tidak terdapat pada konteks, jawab “Saya tidak tahu terkait {question}.”\n",
      "\n",
      "Context:\n",
      "Mengingat : 1. Undang-Undang Nomor 7 Tahun 1992 tentang Perbankan (Lembaran Negara Republik Indonesia Tahun 1992  Nomor 31, Tambahan Lembaran Negara Republik Indonesia Nomor 3472) sebagaimana telah diubah dengan Undang-Undang Nomor 10 Tahun 1998 tentang Perubahan atas Undang-Undang Nomor 7 Tahun 1992 tentang Perbankan (Lembaran Negara Republik Indonesia Tahun 1998 Nomor 182, Tambahan Lembaran Negara Republik Indonesia Nomor 3970); 2. Undang-Undang Nomor 8 Tahun 1995 tentang Pasar Modal (Lembaran Negara Republik Indonesia Tahun 1995  Nomor 64, Tambahan Lembaran Negara Republik Indonesia Nomor 3608); 3. Undang-Undang Nomor 21 Tahun 2008 tentang Perbankan Syariah (Lembaran Negara Republik Indonesia Tahun 2008 Nomor 94, Tambahan Lembaran Negara Republik Indonesia Nomor 4867); 4. Undang-Undang Nomor 21 Tahun 2011 tentang Otoritas Jasa Keuangan (Lembaran Negara Republik Indonesia Tahun 2011 Nomor 111, Tambahan Lembaran Negara Republik Indonesia Nomor 5253);  5. Undang-Undang Nomor 40 Tahun 2014 tentang Perasuransian (Lembaran Negara Republik Indonesia Tahun 2014 Nomor 337, Tambahan Lembaran Negara Republik Indonesia Nomor 5618);\n",
      "\n",
      "Question: Apa saja dasar hukum peraturan ini?\n",
      "Answer:\n"
     ]
    }
   ],
   "source": [
    "import pandas as pd\n",
    "\n",
    "pd.set_option('display.max_colwidth', None)\n",
    "\n",
    "# 1) Load the test prompt-completion dataset\n",
    "df_test = pd.read_json(\"cqa_test_prompt_completion.jsonl\", lines=True)\n",
    "\n",
    "# 2) Ambil 5 sampel acak\n",
    "sampled = df_test.sample(5).reset_index(drop=True)\n",
    "\n",
    "# 3) Tampilkan\n",
    "print(sampled['prompt'][0])\n"
   ]
  },
  {
   "cell_type": "code",
   "execution_count": 66,
   "id": "b6202640",
   "metadata": {},
   "outputs": [
    {
     "name": "stdout",
     "output_type": "stream",
     "text": [
      "→ Combined dataset saved to cqa_full_training_prompt_completion.jsonl with 3048 prompt-completion pairs\n"
     ]
    }
   ],
   "source": [
    "# Combine dataset cqa_sft_prompt_completion.jsonl and cqa_rl_prompt_completion.jsonl into a single file with a new name cqa_full_training_prompt_completion.jsonl\n",
    "import pandas as pd\n",
    "\n",
    "# Load the two datasets\n",
    "sft_data = pd.read_json(\"cqa_sft_prompt_completion.jsonl\", lines=True)\n",
    "rl_data  = pd.read_json(\"cqa_rl_prompt_completion.jsonl\", lines=True)\n",
    "\n",
    "# Combine them\n",
    "full_train_data = pd.concat([sft_data, rl_data], ignore_index=True)\n",
    "\n",
    "# Save to a new file\n",
    "output_file = \"cqa_full_training_prompt_completion.jsonl\"\n",
    "full_train_data.to_json(output_file, orient=\"records\", lines=True, force_ascii=False)\n",
    "\n",
    "print(f\"→ Combined dataset saved to {output_file} with {len(full_train_data)} prompt-completion pairs\")"
   ]
  }
 ],
 "metadata": {
  "kernelspec": {
   "display_name": "ta-datasets-creation",
   "language": "python",
   "name": "python3"
  },
  "language_info": {
   "codemirror_mode": {
    "name": "ipython",
    "version": 3
   },
   "file_extension": ".py",
   "mimetype": "text/x-python",
   "name": "python",
   "nbconvert_exporter": "python",
   "pygments_lexer": "ipython3",
   "version": "3.10.16"
  }
 },
 "nbformat": 4,
 "nbformat_minor": 5
}
