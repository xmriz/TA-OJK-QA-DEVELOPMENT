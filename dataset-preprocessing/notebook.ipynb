{
 "cells": [
  {
   "cell_type": "markdown",
   "id": "88305073",
   "metadata": {},
   "source": [
    "# **Dataset Preprocessing**"
   ]
  },
  {
   "cell_type": "markdown",
   "id": "4de6ee39",
   "metadata": {},
   "source": [
    "## **Import Libraries**"
   ]
  },
  {
   "cell_type": "code",
   "execution_count": 9,
   "id": "cba98e8d",
   "metadata": {},
   "outputs": [],
   "source": [
    "import json\n",
    "import pandas as pd\n",
    "import numpy as np\n",
    "from tqdm.auto import tqdm\n",
    "from sklearn.feature_extraction.text import TfidfVectorizer\n",
    "from sklearn.metrics.pairwise import cosine_similarity\n",
    "from sklearn.model_selection import train_test_split\n",
    "import nltk\n",
    "from nltk.corpus import stopwords"
   ]
  },
  {
   "cell_type": "code",
   "execution_count": 10,
   "id": "4afc0dee",
   "metadata": {},
   "outputs": [
    {
     "name": "stderr",
     "output_type": "stream",
     "text": [
      "[nltk_data] Downloading package stopwords to\n",
      "[nltk_data]     C:\\Users\\acer\\AppData\\Roaming\\nltk_data...\n",
      "[nltk_data]   Package stopwords is already up-to-date!\n"
     ]
    },
    {
     "data": {
      "text/plain": [
       "True"
      ]
     },
     "execution_count": 10,
     "metadata": {},
     "output_type": "execute_result"
    }
   ],
   "source": [
    "# jika belum pernah:\n",
    "nltk.download('stopwords')"
   ]
  },
  {
   "cell_type": "markdown",
   "id": "b0ed410a",
   "metadata": {},
   "source": [
    "## **Load Dataset**"
   ]
  },
  {
   "cell_type": "code",
   "execution_count": null,
   "id": "b27986c2",
   "metadata": {},
   "outputs": [
    {
     "name": "stdout",
     "output_type": "stream",
     "text": [
      "Total QA pairs: 868\n"
     ]
    },
    {
     "data": {
      "text/html": [
       "<div>\n",
       "<style scoped>\n",
       "    .dataframe tbody tr th:only-of-type {\n",
       "        vertical-align: middle;\n",
       "    }\n",
       "\n",
       "    .dataframe tbody tr th {\n",
       "        vertical-align: top;\n",
       "    }\n",
       "\n",
       "    .dataframe thead th {\n",
       "        text-align: right;\n",
       "    }\n",
       "</style>\n",
       "<table border=\"1\" class=\"dataframe\">\n",
       "  <thead>\n",
       "    <tr style=\"text-align: right;\">\n",
       "      <th></th>\n",
       "      <th>context</th>\n",
       "      <th>question</th>\n",
       "      <th>answer</th>\n",
       "      <th>file_url</th>\n",
       "      <th>regulation_number</th>\n",
       "      <th>title</th>\n",
       "      <th>filename</th>\n",
       "      <th>n_pairs_requested</th>\n",
       "    </tr>\n",
       "  </thead>\n",
       "  <tbody>\n",
       "    <tr>\n",
       "      <th>0</th>\n",
       "      <td>Peraturan Otoritas Jasa Keuangan Nomor 27 Tahu...</td>\n",
       "      <td>Apa tujuan dari Peraturan Otoritas Jasa Keuang...</td>\n",
       "      <td>Tujuan dari peraturan ini adalah untuk mencipt...</td>\n",
       "      <td>https://www.ojk.go.id/id/regulasi/Documents/Pa...</td>\n",
       "      <td>27 Tahun 2022</td>\n",
       "      <td>Perubahan Kedua Atas Peraturan Otoritas Jasa K...</td>\n",
       "      <td>ojk-peraturan_ojk-27_tahun_2022-28122022-perub...</td>\n",
       "      <td>3</td>\n",
       "    </tr>\n",
       "    <tr>\n",
       "      <th>1</th>\n",
       "      <td>Perubahan yang diatur dalam Peraturan ini menc...</td>\n",
       "      <td>Apa saja perubahan yang diatur dalam Peraturan...</td>\n",
       "      <td>Perubahan tersebut mencakup kewajiban bank unt...</td>\n",
       "      <td>https://www.ojk.go.id/id/regulasi/Documents/Pa...</td>\n",
       "      <td>27 Tahun 2022</td>\n",
       "      <td>Perubahan Kedua Atas Peraturan Otoritas Jasa K...</td>\n",
       "      <td>ojk-peraturan_ojk-27_tahun_2022-28122022-perub...</td>\n",
       "      <td>3</td>\n",
       "    </tr>\n",
       "    <tr>\n",
       "      <th>2</th>\n",
       "      <td>Peraturan ini juga mengatur tentang penyediaan...</td>\n",
       "      <td>Apa yang harus dilakukan bank mulai 1 Januari ...</td>\n",
       "      <td>Mulai 1 Januari 2024, seluruh bank wajib mempe...</td>\n",
       "      <td>https://www.ojk.go.id/id/regulasi/Documents/Pa...</td>\n",
       "      <td>27 Tahun 2022</td>\n",
       "      <td>Perubahan Kedua Atas Peraturan Otoritas Jasa K...</td>\n",
       "      <td>ojk-peraturan_ojk-27_tahun_2022-28122022-perub...</td>\n",
       "      <td>3</td>\n",
       "    </tr>\n",
       "  </tbody>\n",
       "</table>\n",
       "</div>"
      ],
      "text/plain": [
       "                                             context  \\\n",
       "0  Peraturan Otoritas Jasa Keuangan Nomor 27 Tahu...   \n",
       "1  Perubahan yang diatur dalam Peraturan ini menc...   \n",
       "2  Peraturan ini juga mengatur tentang penyediaan...   \n",
       "\n",
       "                                            question  \\\n",
       "0  Apa tujuan dari Peraturan Otoritas Jasa Keuang...   \n",
       "1  Apa saja perubahan yang diatur dalam Peraturan...   \n",
       "2  Apa yang harus dilakukan bank mulai 1 Januari ...   \n",
       "\n",
       "                                              answer  \\\n",
       "0  Tujuan dari peraturan ini adalah untuk mencipt...   \n",
       "1  Perubahan tersebut mencakup kewajiban bank unt...   \n",
       "2  Mulai 1 Januari 2024, seluruh bank wajib mempe...   \n",
       "\n",
       "                                            file_url regulation_number  \\\n",
       "0  https://www.ojk.go.id/id/regulasi/Documents/Pa...     27 Tahun 2022   \n",
       "1  https://www.ojk.go.id/id/regulasi/Documents/Pa...     27 Tahun 2022   \n",
       "2  https://www.ojk.go.id/id/regulasi/Documents/Pa...     27 Tahun 2022   \n",
       "\n",
       "                                               title  \\\n",
       "0  Perubahan Kedua Atas Peraturan Otoritas Jasa K...   \n",
       "1  Perubahan Kedua Atas Peraturan Otoritas Jasa K...   \n",
       "2  Perubahan Kedua Atas Peraturan Otoritas Jasa K...   \n",
       "\n",
       "                                            filename  n_pairs_requested  \n",
       "0  ojk-peraturan_ojk-27_tahun_2022-28122022-perub...                  3  \n",
       "1  ojk-peraturan_ojk-27_tahun_2022-28122022-perub...                  3  \n",
       "2  ojk-peraturan_ojk-27_tahun_2022-28122022-perub...                  3  "
      ]
     },
     "execution_count": 14,
     "metadata": {},
     "output_type": "execute_result"
    }
   ],
   "source": [
    "input_file = \"cqa_datasets.jsonl\"\n",
    "df = pd.read_json(input_file, lines=True)\n",
    "print(f\"Total QA pairs: {len(df)}\")\n",
    "df.head(3)"
   ]
  },
  {
   "cell_type": "markdown",
   "id": "30b47260",
   "metadata": {},
   "source": [
    "## **Filter Data with High Similarity Context**"
   ]
  },
  {
   "cell_type": "code",
   "execution_count": 22,
   "id": "1baf2d0d",
   "metadata": {},
   "outputs": [
    {
     "name": "stderr",
     "output_type": "stream",
     "text": [
      "c:\\Users\\acer\\miniconda3\\envs\\ta-datasets-creation\\lib\\site-packages\\sklearn\\feature_extraction\\text.py:402: UserWarning: Your stop_words may be inconsistent with your preprocessing. Tokenizing the stop words generated tokens ['baiknya', 'berkali', 'kali', 'kurangnya', 'mata', 'olah', 'sekurang', 'setidak', 'tama', 'tidaknya'] not in stop_words.\n",
      "  warnings.warn(\n",
      "Scanning blocks: 100%|██████████| 2/2 [00:00<00:00, 107.92it/s]"
     ]
    },
    {
     "name": "stdout",
     "output_type": "stream",
     "text": [
      "Ketemu 9 pasangan duplikat >0.8\n",
      "\n",
      "- idx 14 ↔ idx 544: sim=0.834\n",
      "\n",
      "  * Context A (idx=14):\n",
      "Peraturan ini juga mencakup sanksi administratif bagi pihak yang melanggar ketentuan yang ada. Sanksi ini dapat berupa peringatan tertulis, denda, pembatasan kegiatan usaha, hingga pencabutan izin usaha. Otoritas Jasa Keuangan memiliki wewenang untuk menjatuhkan sanksi kepada pihak yang melanggar, termasuk pihak yang menyebabkan pelanggaran tersebut terjadi. Hal ini bertujuan untuk memastikan kepatuhan terhadap peraturan yang ditetapkan.\n",
      "\n",
      "  * Context B (idx=544):\n",
      "Sanksi administratif juga diatur dalam peraturan ini bagi pihak yang melanggar ketentuan. Sanksi dapat berupa denda, pembatasan kegiatan usaha, hingga pencabutan izin usaha. Otoritas Jasa Keuangan memiliki wewenang untuk menjatuhkan sanksi kepada pihak yang melanggar.\n",
      "\n",
      "--------------------------------------------------------------------------------\n",
      "- idx 14 ↔ idx 683: sim=0.856\n",
      "\n",
      "  * Context A (idx=14):\n",
      "Peraturan ini juga mencakup sanksi administratif bagi pihak yang melanggar ketentuan yang ada. Sanksi ini dapat berupa peringatan tertulis, denda, pembatasan kegiatan usaha, hingga pencabutan izin usaha. Otoritas Jasa Keuangan memiliki wewenang untuk menjatuhkan sanksi kepada pihak yang melanggar, termasuk pihak yang menyebabkan pelanggaran tersebut terjadi. Hal ini bertujuan untuk memastikan kepatuhan terhadap peraturan yang ditetapkan.\n",
      "\n",
      "  * Context B (idx=683):\n",
      "Peraturan ini juga memuat ketentuan mengenai sanksi administratif bagi pihak yang melanggar ketentuan penyelesaian transaksi bursa. Sanksi dapat berupa peringatan tertulis, denda, pembatasan kegiatan usaha, hingga pencabutan izin usaha. Otoritas Jasa Keuangan memiliki wewenang untuk menjatuhkan sanksi kepada pihak yang melanggar, termasuk mereka yang menyebabkan terjadinya pelanggaran.\n",
      "\n",
      "--------------------------------------------------------------------------------\n",
      "- idx 172 ↔ idx 367: sim=0.808\n",
      "\n",
      "  * Context A (idx=172):\n",
      "Dalam Pasal 1, definisi yang diberikan mencakup istilah bank umum, yaitu bank yang melaksanakan kegiatan usaha secara konvensional atau syariah. Bank umum konvensional adalah bank yang beroperasi dengan prinsip konvensional, sedangkan bank umum syariah beroperasi berdasarkan syariah. Unit usaha syariah adalah unit kerja dari bank konvensional yang melaksanakan kegiatan usaha berdasarkan prinsip syariah. Selain itu, laporan yang disampaikan kepada Otoritas Jasa Keuangan juga didefinisikan sebagai laporan yang harus disusun oleh bank.\n",
      "\n",
      "  * Context B (idx=367):\n",
      "Dalam Peraturan ini, terdapat beberapa istilah yang didefinisikan, seperti Bank Umum, Bank Umum Konvensional, dan Bank Umum Syariah. Bank Umum adalah bank yang melaksanakan kegiatan usaha secara konvensional atau syariah, sedangkan Bank Umum Syariah adalah yang melaksanakan kegiatan berdasarkan prinsip syariah. Definisi ini penting untuk memahami berbagai jenis bank dan fungsinya dalam konsolidasi.\n",
      "\n",
      "--------------------------------------------------------------------------------\n",
      "- idx 247 ↔ idx 261: sim=0.876\n",
      "\n",
      "  * Context A (idx=247):\n",
      "Pasal 1 menjelaskan istilah-istilah dasar dalam regulasi ini, seperti Dana Investasi Real Estat Syariah (DIRE Syariah), Real Estat, dan Prinsip Syariah di Pasar Modal. DIRE Syariah dimaksudkan sebagai wadah untuk menghimpun dana dari masyarakat untuk diinvestasikan pada aset yang tidak bertentangan dengan Prinsip Syariah. Selain itu, disebutkan juga bahwa Real Estat mencakup tanah dan bangunan yang ada di atasnya.\n",
      "\n",
      "  * Context B (idx=261):\n",
      "Dalam peraturan ini, Dana Investasi Real Estat Syariah (DIRE Syariah) adalah wadah untuk menghimpun dana dari masyarakat pemodal yang selanjutnya diinvestasikan pada aset Real Estat dan/atau kas yang sesuai dengan prinsip syariah. Aset yang dapat diinvestasikan mencakup tanah, bangunan, dan efek perusahaan real estat. Setiap penerbitan DIRE Syariah harus memenuhi ketentuan yang ditetapkan dalam peraturan ini dan tidak bertentangan dengan prinsip syariah.\n",
      "\n",
      "--------------------------------------------------------------------------------\n",
      "- idx 413 ↔ idx 778: sim=0.858\n",
      "\n",
      "  * Context A (idx=413):\n",
      "Menurut peraturan ini, Bank Pembiayaan Rakyat Syariah wajib menyediakan modal minimum yang dihitung menggunakan rasio Kewajiban Penyediaan Modal Minimum (KPMM) paling rendah sebesar 12% dari Aset Tertimbang Menurut Risiko (ATMR) sejak 1 Januari 2020. Modal terdiri atas modal inti, yang mencakup modal inti utama dan modal inti tambahan, serta modal pelengkap yang tidak dapat melebihi 100% dari modal inti.\n",
      "\n",
      "  * Context B (idx=778):\n",
      "Bank Perkreditan Rakyat (BPR) wajib menyediakan modal minimum yang dihitung menggunakan rasio Kewajiban Penyediaan Modal Minimum (KPMM) paling rendah sebesar 12% dari Aset Tertimbang Menurut Risiko (ATMR). Modal terdiri dari modal inti yang meliputi modal inti utama dan modal inti tambahan, serta modal pelengkap. BPR juga diharuskan memiliki modal inti minimal sebesar 8% dari ATMR untuk menjaga stabilitas dan kemampuan operasionalnya.\n",
      "\n",
      "--------------------------------------------------------------------------------\n",
      "- idx 424 ↔ idx 541: sim=0.857\n",
      "\n",
      "  * Context A (idx=424):\n",
      "Perusahaan efek yang melakukan pembiayaan transaksi margin dan/atau transaksi short selling harus memenuhi sejumlah persyaratan penting. Persyaratan tersebut antara lain memiliki izin usaha dari Otoritas Jasa Keuangan untuk kegiatan sebagai perantara pedagang efek, memiliki modal kerja bersih disesuaikan sesuai dengan ketentuan yang berlaku, serta harus mendapatkan persetujuan dari Bursa Efek untuk melakukan transaksi tersebut.\n",
      "\n",
      "  * Context B (idx=541):\n",
      "Perusahaan efek yang ingin memberikan pembiayaan penyelesaian transaksi efek wajib memenuhi persyaratan tertentu. Persyaratan tersebut meliputi memiliki izin usaha dari OJK, memiliki Modal Kerja Bersih Disesuaikan sesuai ketentuan OJK, dan mendapatkan persetujuan dari Bursa Efek untuk melakukan Transaksi Margin atau Short Selling.\n",
      "\n",
      "--------------------------------------------------------------------------------\n",
      "- idx 436 ↔ idx 594: sim=0.802\n",
      "\n",
      "  * Context A (idx=436):\n",
      "Peraturan ini juga mengatur tentang sanksi administratif bagi pihak yang melanggar ketentuan yang telah ditetapkan. Sanksi ini dapat berupa peringatan tertulis, denda, pembatasan kegiatan usaha, hingga pencabutan izin usaha. Otoritas Jasa Keuangan memiliki wewenang untuk menjatuhkan sanksi kepada pihak yang menyebabkan pelanggaran. Pengenaan sanksi dilakukan berdasarkan ketentuan peraturan perundang-undangan yang berlaku, sehingga memberikan kepastian hukum dalam pengawasan pasar modal.\n",
      "\n",
      "  * Context B (idx=594):\n",
      "Otoritas Jasa Keuangan memiliki wewenang untuk memberikan sanksi administratif kepada pihak yang melanggar ketentuan dalam peraturan ini. Sanksi dapat berupa peringatan tertulis, denda, pembatasan kegiatan usaha, hingga pencabutan izin usaha. Proses pengenaan sanksi dilakukan sesuai dengan ketentuan peraturan perundang-undangan yang berlaku.\n",
      "\n",
      "--------------------------------------------------------------------------------\n",
      "- idx 640 ↔ idx 647: sim=0.848\n",
      "\n",
      "  * Context A (idx=640):\n",
      "Peraturan ini juga menetapkan sanksi administratif bagi pihak yang melanggar ketentuan yang berlaku. Jika terjadi pelanggaran, Otoritas Jasa Keuangan dapat memberikan sanksi berupa peringatan tertulis, denda, pembatasan kegiatan usaha, hingga pencabutan izin usaha. Sanksi ini bertujuan untuk menegakkan kepatuhan terhadap peraturan dan menjaga integritas pasar modal.\n",
      "\n",
      "  * Context B (idx=647):\n",
      "Peraturan ini juga menetapkan sanksi administratif bagi pihak-pihak yang melanggar ketentuan yang ada. Sanksi dapat berupa peringatan tertulis, denda, pembatasan kegiatan usaha, hingga pencabutan izin usaha. Otoritas Jasa Keuangan berwenang untuk mengawasi dan menegakkan peraturan ini demi menjaga integritas pasar modal.\n",
      "\n",
      "--------------------------------------------------------------------------------\n",
      "- idx 822 ↔ idx 829: sim=0.857\n",
      "\n",
      "  * Context A (idx=822):\n",
      "Peraturan Otoritas Jasa Keuangan Nomor 11/POJK.05/2014 mengatur tentang pemeriksaan langsung lembaga jasa keuangan non-bank. Pemeriksaan langsung diperlukan untuk mengetahui kondisi faktual lembaga jasa keuangan non-bank dan meningkatkan efektivitas pengawasan. OJK berwenang melakukan pemeriksaan langsung terhadap lembaga jasa keuangan non-bank serta pihak-pihak terkait yang dapat mempengaruhi risiko lembaga tersebut.\n",
      "\n",
      "  * Context B (idx=829):\n",
      "Otoritas Jasa Keuangan (OJK) Republik Indonesia menerbitkan Peraturan OJK Nomor 11/POJK.05/2014 tentang Pemeriksaan Langsung Lembaga Jasa Keuangan Non-Bank. Peraturan ini bertujuan untuk meningkatkan efektivitas pengawasan lembaga jasa keuangan non-bank melalui pemeriksaan langsung. Dalam pelaksanaannya, pemeriksaan ini dilakukan untuk mengetahui kondisi faktual lembaga jasa keuangan non-bank dan untuk menjamin bahwa lembaga tersebut memenuhi janjinya kepada nasabah.\n",
      "\n",
      "--------------------------------------------------------------------------------\n",
      "\n",
      "Klaster dengan >2 anggota:\n",
      "  root=14: anggota=[14, 544, 683]\n",
      "\n",
      "After filtering clusters: 859 pairs remain\n",
      "Filtered data saved to cqa_datasets_clean.jsonl\n"
     ]
    },
    {
     "name": "stderr",
     "output_type": "stream",
     "text": [
      "\n"
     ]
    }
   ],
   "source": [
    "# 1) Ambil stop-words Bahasa Indonesia\n",
    "stop_id = set(stopwords.words(\"indonesian\"))\n",
    "\n",
    "# 2) Hitung TF-IDF\n",
    "vectorizer = TfidfVectorizer(\n",
    "    max_features=5000,\n",
    "    stop_words=list(stop_id),\n",
    "    token_pattern=r\"(?u)\\b\\w+\\b\"\n",
    ")\n",
    "tfidf_matrix = vectorizer.fit_transform(df['context'])\n",
    "\n",
    "# 3) Cari semua duplikat di atas threshold\n",
    "threshold = 0.8\n",
    "pairs_over_threshold = []  # list of (idx1, idx2, sim)\n",
    "\n",
    "for start in tqdm(range(0, tfidf_matrix.shape[0], 500), desc=\"Scanning blocks\"):\n",
    "    end   = min(start+500, tfidf_matrix.shape[0])\n",
    "    block = tfidf_matrix[start:end]\n",
    "    sims  = cosine_similarity(block, tfidf_matrix)\n",
    "    for i, sims_row in enumerate(sims):\n",
    "        idx1 = start + i\n",
    "        high = np.where(sims_row > threshold)[0]\n",
    "        for idx2 in high:\n",
    "            if idx2 > idx1:\n",
    "                pairs_over_threshold.append((idx1, idx2, sims_row[idx2]))\n",
    "\n",
    "print(f\"Ketemu {len(pairs_over_threshold)} pasangan duplikat >{threshold}\\n\")\n",
    "\n",
    "# 4) Tampilkan beberapa contoh untuk inspeksi (konteks penuh)\n",
    "for a, b, sim in pairs_over_threshold[:10]:\n",
    "    print(f\"- idx {a} ↔ idx {b}: sim={sim:.3f}\\n\")\n",
    "    print(f\"  * Context A (idx={a}):\\n{df.loc[a, 'context']}\\n\")\n",
    "    print(f\"  * Context B (idx={b}):\\n{df.loc[b, 'context']}\\n\")\n",
    "    print(\"-\" * 80)\n",
    "\n",
    "# 5) Bangun union-find untuk cluster duplikat\n",
    "parent = list(range(len(df)))\n",
    "def find(x):\n",
    "    while parent[x] != x:\n",
    "        parent[x] = parent[parent[x]]\n",
    "        x = parent[x]\n",
    "    return x\n",
    "def union(a, b):\n",
    "    ra, rb = find(a), find(b)\n",
    "    if ra != rb:\n",
    "        parent[rb] = ra\n",
    "\n",
    "for a, b, _ in pairs_over_threshold:\n",
    "    union(a, b)\n",
    "\n",
    "# 6) Kelompokkan berdasarkan root\n",
    "clusters = {}\n",
    "for idx in range(len(df)):\n",
    "    r = find(idx)\n",
    "    clusters.setdefault(r, []).append(idx)\n",
    "\n",
    "# *** Verifikasi klaster besar ***\n",
    "print(\"\\nKlaster dengan >2 anggota:\")\n",
    "for root, members in clusters.items():\n",
    "    if len(members) > 2:\n",
    "        print(f\"  root={root}: anggota={members}\")\n",
    "\n",
    "# 7) Pilih konteks terpanjang per klaster\n",
    "to_keep = []\n",
    "for members in clusters.values():\n",
    "    if len(members) == 1:\n",
    "        to_keep.append(members[0])\n",
    "    else:\n",
    "        longest = max(members, key=lambda i: len(df.loc[i, 'context']))\n",
    "        to_keep.append(longest)\n",
    "\n",
    "# 8) Bangun DataFrame hasil filter\n",
    "df_filtered = df.loc[sorted(to_keep)].reset_index(drop=True)\n",
    "print(f\"\\nAfter filtering clusters: {len(df_filtered)} pairs remain\")\n",
    "\n",
    "# 9) Simpan hasil\n",
    "output_file = \"cqa_datasets_clean.jsonl\"\n",
    "df_filtered.to_json(output_file, orient=\"records\", lines=True)\n",
    "print(f\"Filtered data saved to {output_file}\")"
   ]
  },
  {
   "cell_type": "markdown",
   "id": "3f37c7bb",
   "metadata": {},
   "source": [
    "## **Split Data into 3 Parts (SFT, PPO, Test)**\n",
    "\n",
    "- SFT: 60% of the data\n",
    "- PPO: 30% of the data\n",
    "- Testing: 10% of the data"
   ]
  },
  {
   "cell_type": "code",
   "execution_count": 23,
   "id": "ea2d2687",
   "metadata": {},
   "outputs": [
    {
     "name": "stdout",
     "output_type": "stream",
     "text": [
      "SFT:  515 (60.0%)\n",
      "PPO:  258 (30.0%)\n",
      "Test: 86 (10.0%)\n"
     ]
    }
   ],
   "source": [
    "train_val, test = train_test_split(\n",
    "    df_filtered,\n",
    "    test_size=0.10,\n",
    "    random_state=42,\n",
    "    shuffle=True\n",
    ")\n",
    "sft, ppo = train_test_split(\n",
    "    train_val,\n",
    "    test_size=0.30 / 0.90,\n",
    "    random_state=42,\n",
    "    shuffle=True\n",
    ")\n",
    "\n",
    "print(f\"SFT:  {len(sft)} ({len(sft)/len(df_filtered):.1%})\")\n",
    "print(f\"PPO:  {len(ppo)} ({len(ppo)/len(df_filtered):.1%})\")\n",
    "print(f\"Test: {len(test)} ({len(test)/len(df_filtered):.1%})\")\n",
    "\n",
    "## **Save ke File JSONL**\n",
    "sft.to_json(\"cqa_sft.jsonl\", orient=\"records\", lines=True, force_ascii=False)\n",
    "ppo.to_json(\"cqa_ppo.jsonl\", orient=\"records\", lines=True, force_ascii=False)\n",
    "test.to_json(\"cqa_test.jsonl\", orient=\"records\", lines=True, force_ascii=False)"
   ]
  }
 ],
 "metadata": {
  "kernelspec": {
   "display_name": "ta-datasets-creation",
   "language": "python",
   "name": "python3"
  },
  "language_info": {
   "codemirror_mode": {
    "name": "ipython",
    "version": 3
   },
   "file_extension": ".py",
   "mimetype": "text/x-python",
   "name": "python",
   "nbconvert_exporter": "python",
   "pygments_lexer": "ipython3",
   "version": "3.10.16"
  }
 },
 "nbformat": 4,
 "nbformat_minor": 5
}
