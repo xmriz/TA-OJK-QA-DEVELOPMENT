{
 "cells": [
  {
   "cell_type": "markdown",
   "id": "ad829332",
   "metadata": {},
   "source": [
    "# **Rejected Response Inference**"
   ]
  },
  {
   "cell_type": "markdown",
   "id": "b39100a4",
   "metadata": {},
   "source": [
    "## **Config**"
   ]
  },
  {
   "cell_type": "code",
   "execution_count": 1,
   "id": "b84041aa",
   "metadata": {},
   "outputs": [],
   "source": [
    "import os\n",
    "os.environ[\"CUDA_VISIBLE_DEVICES\"] = \"6\"  # sesuaikan dengan GPU yang tersedia\n",
    "\n",
    "seed = 42\n",
    "DATASET_PATH    = \"../datasets4545/cqa_rl_prompt_completion.jsonl\"\n",
    "CACHE_FOLDER    = \"../model_cache\"\n",
    "SFT_MODEL_NAMES = {\n",
    "    \"Meta-Llama-3.1-8B\": os.path.join(\"../sft/sft_output_Meta-Llama-3.1-8B\", \"final_checkpoint\"),\n",
    "    \"Aya-23-8B\":     os.path.join(\"../sft/sft_output_Aya-23-8B\", \"final_checkpoint\"), \n",
    "    \"SeaLLMs-v3-7B\": os.path.join(\"../sft/sft_output_SeaLLMs-v3-7B\", \"final_checkpoint\"),\n",
    "    \"SEA-LION-v3-8B\":    os.path.join(\"../sft/sft_output_SEA-LION-v3-8B\", \"final_checkpoint\"),\n",
    "    \"Sahabat-AI-8B\":     os.path.join(\"../sft/sft_output_Sahabat-AI-8B\", \"final_checkpoint\"),\n",
    "}\n",
    "BATCH_SIZE      = 32"
   ]
  },
  {
   "cell_type": "markdown",
   "id": "83097bd6",
   "metadata": {},
   "source": [
    "## **Import Libraries**"
   ]
  },
  {
   "cell_type": "code",
   "execution_count": 2,
   "id": "98e26ded",
   "metadata": {},
   "outputs": [
    {
     "name": "stderr",
     "output_type": "stream",
     "text": [
      "/raid/home/llmsosmed/rlaif/lib/python3.10/site-packages/tqdm/auto.py:21: TqdmWarning: IProgress not found. Please update jupyter and ipywidgets. See https://ipywidgets.readthedocs.io/en/stable/user_install.html\n",
      "  from .autonotebook import tqdm as notebook_tqdm\n"
     ]
    }
   ],
   "source": [
    "import gc\n",
    "import time\n",
    "import json\n",
    "import random\n",
    "import torch\n",
    "import pandas as pd\n",
    "from tqdm.auto import tqdm\n",
    "from transformers import (\n",
    "    AutoTokenizer,\n",
    "    AutoModelForCausalLM,\n",
    "    BitsAndBytesConfig,\n",
    "    set_seed\n",
    ")\n",
    "\n",
    "pd.set_option(\"display.max_colwidth\", None)"
   ]
  },
  {
   "cell_type": "markdown",
   "id": "fa25291c",
   "metadata": {},
   "source": [
    "## **Utility Functions**"
   ]
  },
  {
   "cell_type": "code",
   "execution_count": 3,
   "id": "45832892",
   "metadata": {},
   "outputs": [],
   "source": [
    "def set_global_seed(s: int = seed):\n",
    "    random.seed(s)\n",
    "    torch.manual_seed(s)\n",
    "    torch.cuda.manual_seed_all(s)\n",
    "    set_seed(s)\n",
    "\n",
    "def load_sft_model_and_tokenizer(model_path: str, tokenizer_path: str, hf_token: str = None):\n",
    "    set_global_seed()\n",
    "    tokenizer = AutoTokenizer.from_pretrained(\n",
    "        tokenizer_path,\n",
    "        use_auth_token=hf_token,\n",
    "        local_files_only=True\n",
    "    )\n",
    "    if tokenizer.pad_token is None:\n",
    "        tokenizer.pad_token = tokenizer.eos_token\n",
    "    tokenizer.padding_side = \"left\"\n",
    "\n",
    "    quant_config = BitsAndBytesConfig(\n",
    "        load_in_4bit=True,\n",
    "        bnb_4bit_compute_dtype=torch.bfloat16,\n",
    "        bnb_4bit_quant_type=\"nf4\",\n",
    "    )\n",
    "    model = AutoModelForCausalLM.from_pretrained(\n",
    "        model_path,\n",
    "        device_map=\"auto\",\n",
    "        quantization_config=quant_config,\n",
    "        low_cpu_mem_usage=True,\n",
    "        use_auth_token=hf_token,\n",
    "        local_files_only=True\n",
    "    )\n",
    "    model.config.use_cache = False\n",
    "    model.eval()\n",
    "    return tokenizer, model\n",
    "\n",
    "def generate_sft_batch(tokenizer, model, prompts, max_new_tokens=256):\n",
    "    inputs = tokenizer(\n",
    "        prompts,\n",
    "        return_tensors=\"pt\",\n",
    "        padding=True,\n",
    "        truncation=True,\n",
    "        max_length=1792\n",
    "    ).to(model.device)\n",
    "    with torch.no_grad():\n",
    "        outputs = model.generate(\n",
    "            **inputs,\n",
    "            max_new_tokens=max_new_tokens,\n",
    "            do_sample=False,\n",
    "            pad_token_id=tokenizer.eos_token_id\n",
    "        )\n",
    "    decoded = tokenizer.batch_decode(outputs, skip_special_tokens=True)\n",
    "    return [\n",
    "        text[len(prompt):].split(\"\\n\", 1)[0]\n",
    "        for text, prompt in zip(decoded, prompts)\n",
    "    ]\n"
   ]
  },
  {
   "cell_type": "code",
   "execution_count": 4,
   "id": "f6be416d",
   "metadata": {},
   "outputs": [],
   "source": [
    "set_global_seed()"
   ]
  },
  {
   "cell_type": "markdown",
   "id": "33f56c20",
   "metadata": {},
   "source": [
    "## **Load Dataset**"
   ]
  },
  {
   "cell_type": "code",
   "execution_count": 5,
   "id": "d527634c",
   "metadata": {},
   "outputs": [
    {
     "name": "stdout",
     "output_type": "stream",
     "text": [
      "Total examples: 1524\n"
     ]
    },
    {
     "data": {
      "text/html": [
       "<div>\n",
       "<style scoped>\n",
       "    .dataframe tbody tr th:only-of-type {\n",
       "        vertical-align: middle;\n",
       "    }\n",
       "\n",
       "    .dataframe tbody tr th {\n",
       "        vertical-align: top;\n",
       "    }\n",
       "\n",
       "    .dataframe thead th {\n",
       "        text-align: right;\n",
       "    }\n",
       "</style>\n",
       "<table border=\"1\" class=\"dataframe\">\n",
       "  <thead>\n",
       "    <tr style=\"text-align: right;\">\n",
       "      <th></th>\n",
       "      <th>prompt</th>\n",
       "      <th>completion</th>\n",
       "    </tr>\n",
       "  </thead>\n",
       "  <tbody>\n",
       "    <tr>\n",
       "      <th>782</th>\n",
       "      <td>Anda adalah pakar regulasi keuangan Indonesia. Jawablah berdasarkan konteks yang disediakan; jika tidak terdapat pada konteks, jawab “Saya tidak tahu terkait {question}.”\\n\\nContext:\\nPasal 50 Pada saat Peraturan Otoritas Jasa Keuangan ini mulai berlaku, Peraturan Otoritas Jasa Keuangan Nomor 30/POJK.04/2017 tentang Pembelian Kembali Saham yang Dikeluarkan oleh Perusahaan Terbuka (Lembaran Negara Republik Indonesia Tahun 2017 Nomor 130, Tambahan Lembaran Negara Republik Indonesia Nomor 6077), dicabut dan dinyatakan tidak berlaku.  Pasal 51 Peraturan Otoritas Jasa Keuangan ini mulai berlaku pada tanggal diundangkan.\\n\\nQuestion: Apa saja cakupan dokumen menurut Pasal 50?\\nAnswer:</td>\n",
       "      <td>Dokumen ini mencakup pencabutan dan penggantian Peraturan Otoritas Jasa Keuangan Nomor 30/POJK.04/2017 tentang Pembelian Kembali Saham yang Dikeluarkan oleh Perusahaan Terbuka.</td>\n",
       "    </tr>\n",
       "    <tr>\n",
       "      <th>76</th>\n",
       "      <td>Anda adalah pakar regulasi keuangan Indonesia. Jawablah berdasarkan konteks yang disediakan; jika tidak terdapat pada konteks, jawab “Saya tidak tahu terkait {question}.”\\n\\nContext:\\nPasal 17 (1) BPRS yang melanggar ketentuan sebagaimana dimaksud dalam Pasal 2 dan/atau Pasal 5 ayat (5) dikenai sanksi administratif berupa teguran tertulis sebanyak 2 (dua) kali dengan tenggang waktu 10 (sepuluh) hari kerja untuk setiap teguran tertulis. (2) Dalam hal BPRS telah dikenai sanksi sebagaimana dimaksud pada ayat (1) dan tidak memperbaiki atau tidak menyampaikan laporan dalam jangka waktu 10 (sepuluh) hari kerja setelah surat teguran terakhir, BPRS dikenai sanksi administratif berupa denda sebesar Rp5.000.000,00 (lima juta rupiah) dan: a. penurunan tingkat kesehatan BPRS sesuai dengan Peraturan Otoritas Jasa Keuangan mengenai sistem penilaian tingkat kesehatan bank pembiayaan rakyat syariah; dan/atau b. larangan sebagai pihak utama lembaga jasa keuangan sesuai dengan Peraturan Otoritas Jasa Keuangan mengenai penilaian kembali bagi pihak utama lembaga jasa keuangan.\\n\\nQuestion: Apa sanksi administratif bagi BPRS yang melanggar Pasal 2 dan/atau Pasal 5 ayat (5)?\\nAnswer:</td>\n",
       "      <td>Sanksi administratif bagi BPRS yang melanggar Pasal 2 dan/atau Pasal 5 ayat (5) adalah teguran tertulis sebanyak 2 kali dengan tenggang waktu 10 hari kerja untuk setiap teguran tertulis.</td>\n",
       "    </tr>\n",
       "    <tr>\n",
       "      <th>1009</th>\n",
       "      <td>Anda adalah pakar regulasi keuangan Indonesia. Jawablah berdasarkan konteks yang disediakan; jika tidak terdapat pada konteks, jawab “Saya tidak tahu terkait {question}.”\\n\\nContext:\\nPasal 5 Fungsi sekretaris perusahaan melaksanakan tugas paling kurang: a. mengikuti perkembangan Pasar Modal khususnya  peraturan perundang-undangan yang berlaku di bidang Pasar Modal; b. memberikan masukan kepada Direksi dan Dewan Komisaris Emiten atau Perusahaan Publik untuk mematuhi ketentuan peraturan perundang-undangan di bidang Pasar Modal; c. membantu Direksi dan Dewan Komisaris dalam pelaksanaan tata kelola perusahaan yang meliputi: 1. keterbukaan informasi kepada masyarakat, termasuk ketersediaan informasi pada Situs Web Emiten atau Perusahaan Publik; 2. penyampaian laporan kepada Otoritas Jasa Keuangan tepat waktu; 3. penyelenggaraan dan dokumentasi Rapat Umum Pemegang Saham; 4. penyelenggaraan dan dokumentasi rapat Direksi dan/atau Dewan Komisaris; dan 5. pelaksanaan program orientasi terhadap perusahaan bagi Direksi dan/atau Dewan Komisaris. d. sebagai penghubung antara Emiten atau Perusahaan Publik dengan pemegang saham Emiten atau Perusahaan Publik, Otoritas Jasa Keuangan, dan pemangku kepentingan lainnya.\\n\\nQuestion: Apa kewajiban yang ditetapkan terkait audit internal?\\nAnswer:</td>\n",
       "      <td>Saya tidak tahu terkait kewajiban yang ditetapkan terkait audit internal.</td>\n",
       "    </tr>\n",
       "  </tbody>\n",
       "</table>\n",
       "</div>"
      ],
      "text/plain": [
       "                                                                                                                                                                                                                                                                                                                                                                                                                                                                                                                                                                                                                                                                                                                                                                                                                                                                                                                                                                                                                                                                                                                                                                                                                                                                                                                                               prompt  \\\n",
       "782                                                                                                                                                                                                                                                                                                                                                                                                                                                                                                                                                                                                                                   Anda adalah pakar regulasi keuangan Indonesia. Jawablah berdasarkan konteks yang disediakan; jika tidak terdapat pada konteks, jawab “Saya tidak tahu terkait {question}.”\\n\\nContext:\\nPasal 50 Pada saat Peraturan Otoritas Jasa Keuangan ini mulai berlaku, Peraturan Otoritas Jasa Keuangan Nomor 30/POJK.04/2017 tentang Pembelian Kembali Saham yang Dikeluarkan oleh Perusahaan Terbuka (Lembaran Negara Republik Indonesia Tahun 2017 Nomor 130, Tambahan Lembaran Negara Republik Indonesia Nomor 6077), dicabut dan dinyatakan tidak berlaku.  Pasal 51 Peraturan Otoritas Jasa Keuangan ini mulai berlaku pada tanggal diundangkan.\\n\\nQuestion: Apa saja cakupan dokumen menurut Pasal 50?\\nAnswer:   \n",
       "76                                                                                                                       Anda adalah pakar regulasi keuangan Indonesia. Jawablah berdasarkan konteks yang disediakan; jika tidak terdapat pada konteks, jawab “Saya tidak tahu terkait {question}.”\\n\\nContext:\\nPasal 17 (1) BPRS yang melanggar ketentuan sebagaimana dimaksud dalam Pasal 2 dan/atau Pasal 5 ayat (5) dikenai sanksi administratif berupa teguran tertulis sebanyak 2 (dua) kali dengan tenggang waktu 10 (sepuluh) hari kerja untuk setiap teguran tertulis. (2) Dalam hal BPRS telah dikenai sanksi sebagaimana dimaksud pada ayat (1) dan tidak memperbaiki atau tidak menyampaikan laporan dalam jangka waktu 10 (sepuluh) hari kerja setelah surat teguran terakhir, BPRS dikenai sanksi administratif berupa denda sebesar Rp5.000.000,00 (lima juta rupiah) dan: a. penurunan tingkat kesehatan BPRS sesuai dengan Peraturan Otoritas Jasa Keuangan mengenai sistem penilaian tingkat kesehatan bank pembiayaan rakyat syariah; dan/atau b. larangan sebagai pihak utama lembaga jasa keuangan sesuai dengan Peraturan Otoritas Jasa Keuangan mengenai penilaian kembali bagi pihak utama lembaga jasa keuangan.\\n\\nQuestion: Apa sanksi administratif bagi BPRS yang melanggar Pasal 2 dan/atau Pasal 5 ayat (5)?\\nAnswer:   \n",
       "1009  Anda adalah pakar regulasi keuangan Indonesia. Jawablah berdasarkan konteks yang disediakan; jika tidak terdapat pada konteks, jawab “Saya tidak tahu terkait {question}.”\\n\\nContext:\\nPasal 5 Fungsi sekretaris perusahaan melaksanakan tugas paling kurang: a. mengikuti perkembangan Pasar Modal khususnya  peraturan perundang-undangan yang berlaku di bidang Pasar Modal; b. memberikan masukan kepada Direksi dan Dewan Komisaris Emiten atau Perusahaan Publik untuk mematuhi ketentuan peraturan perundang-undangan di bidang Pasar Modal; c. membantu Direksi dan Dewan Komisaris dalam pelaksanaan tata kelola perusahaan yang meliputi: 1. keterbukaan informasi kepada masyarakat, termasuk ketersediaan informasi pada Situs Web Emiten atau Perusahaan Publik; 2. penyampaian laporan kepada Otoritas Jasa Keuangan tepat waktu; 3. penyelenggaraan dan dokumentasi Rapat Umum Pemegang Saham; 4. penyelenggaraan dan dokumentasi rapat Direksi dan/atau Dewan Komisaris; dan 5. pelaksanaan program orientasi terhadap perusahaan bagi Direksi dan/atau Dewan Komisaris. d. sebagai penghubung antara Emiten atau Perusahaan Publik dengan pemegang saham Emiten atau Perusahaan Publik, Otoritas Jasa Keuangan, dan pemangku kepentingan lainnya.\\n\\nQuestion: Apa kewajiban yang ditetapkan terkait audit internal?\\nAnswer:   \n",
       "\n",
       "                                                                                                                                                                                       completion  \n",
       "782              Dokumen ini mencakup pencabutan dan penggantian Peraturan Otoritas Jasa Keuangan Nomor 30/POJK.04/2017 tentang Pembelian Kembali Saham yang Dikeluarkan oleh Perusahaan Terbuka.  \n",
       "76     Sanksi administratif bagi BPRS yang melanggar Pasal 2 dan/atau Pasal 5 ayat (5) adalah teguran tertulis sebanyak 2 kali dengan tenggang waktu 10 hari kerja untuk setiap teguran tertulis.  \n",
       "1009                                                                                                                    Saya tidak tahu terkait kewajiban yang ditetapkan terkait audit internal.  "
      ]
     },
     "execution_count": 5,
     "metadata": {},
     "output_type": "execute_result"
    }
   ],
   "source": [
    "df = pd.read_json(DATASET_PATH, lines=True)\n",
    "print(f\"Total examples: {len(df)}\")\n",
    "df.sample(3)"
   ]
  },
  {
   "cell_type": "markdown",
   "id": "4cf425b3",
   "metadata": {},
   "source": [
    "## **Generate Rejected Responses & Build Preference Pairs**"
   ]
  },
  {
   "cell_type": "code",
   "execution_count": 6,
   "id": "117a1549",
   "metadata": {},
   "outputs": [
    {
     "name": "stdout",
     "output_type": "stream",
     "text": [
      "\n",
      "▶ Generating rejected responses with SFT Meta-Llama-3.1-8B\n",
      "[2025-06-07 10:42:36,629] [INFO] [real_accelerator.py:239:get_accelerator] Setting ds_accelerator to cuda (auto detect)\n"
     ]
    },
    {
     "name": "stderr",
     "output_type": "stream",
     "text": [
      "/usr/bin/ld: cannot find -laio: No such file or directory\n",
      "collect2: error: ld returned 1 exit status\n",
      "/usr/bin/ld: cannot find -laio: No such file or directory\n",
      "collect2: error: ld returned 1 exit status\n",
      "Loading checkpoint shards: 100%|██████████| 4/4 [00:28<00:00,  7.18s/it]\n",
      "Inferring Meta-Llama-3.1-8B:   0%|          | 0/48 [00:00<?, ?it/s]/raid/home/llmsosmed/rlaif/lib/python3.10/site-packages/transformers/generation/configuration_utils.py:631: UserWarning: `do_sample` is set to `False`. However, `temperature` is set to `0.6` -- this flag is only used in sample-based generation modes. You should set `do_sample=True` or unset `temperature`.\n",
      "  warnings.warn(\n",
      "/raid/home/llmsosmed/rlaif/lib/python3.10/site-packages/transformers/generation/configuration_utils.py:636: UserWarning: `do_sample` is set to `False`. However, `top_p` is set to `0.9` -- this flag is only used in sample-based generation modes. You should set `do_sample=True` or unset `top_p`.\n",
      "  warnings.warn(\n",
      "Inferring Meta-Llama-3.1-8B: 100%|██████████| 48/48 [32:07<00:00, 40.16s/it]"
     ]
    },
    {
     "name": "stdout",
     "output_type": "stream",
     "text": [
      "→ Inference time: 1927.9s, total pairs: 1524\n",
      "✔️ Saved raw preference dataset to `preference_Meta-Llama-3.1-8B.jsonl`\n",
      "✔️ Cleaned preference dataset saved to `preference_Meta-Llama-3.1-8B_clean.jsonl`\n"
     ]
    },
    {
     "name": "stderr",
     "output_type": "stream",
     "text": [
      "\n"
     ]
    },
    {
     "data": {
      "text/html": [
       "<div>\n",
       "<style scoped>\n",
       "    .dataframe tbody tr th:only-of-type {\n",
       "        vertical-align: middle;\n",
       "    }\n",
       "\n",
       "    .dataframe tbody tr th {\n",
       "        vertical-align: top;\n",
       "    }\n",
       "\n",
       "    .dataframe thead th {\n",
       "        text-align: right;\n",
       "    }\n",
       "</style>\n",
       "<table border=\"1\" class=\"dataframe\">\n",
       "  <thead>\n",
       "    <tr style=\"text-align: right;\">\n",
       "      <th></th>\n",
       "      <th>prompt</th>\n",
       "      <th>chosen</th>\n",
       "      <th>rejected</th>\n",
       "    </tr>\n",
       "  </thead>\n",
       "  <tbody>\n",
       "    <tr>\n",
       "      <th>0</th>\n",
       "      <td>Anda adalah pakar regulasi keuangan Indonesia. Jawablah berdasarkan konteks yang disediakan; jika tidak terdapat pada konteks, jawab “Saya tidak tahu terkait {question}.”\\n\\nContext:\\nPasal 39 Perusahaan Efek yang melakukan Transaksi Short Selling untuk kepentingan sendiri wajib mengikuti ketentuan sebagai berikut: a. sebelum melakukan Transaksi Short Selling, Perusahaan Efek: 1. telah membuka rekening terpisah untuk Transaksi Short Selling; 2. telah menyisihkan dana dan/atau Efek dalam rekening sebagaimana dimaksud pada angka 1 paling sedikit 50% (lima puluh persen) dari nilai Transaksi Short Selling sebagai aset yang disisihkan Perusahaan Efek untuk menutup risiko Transaksi Short Selling; dan 3. memastikan telah tersedia Efek pada saat penyelesaian Transaksi Short Selling meliputi: a) memiliki Efek lain yang dapat dikonversi atau ditukar menjadi Efek yang digunakan untuk penyelesaian Transaksi Short Selling; b) telah melaksanakan hak atas opsi atau waran untuk memperoleh Efek yang digunakan untuk penyelesaian Transaksi Short Selling; dan/atau c) telah melakukan perjanjian pinjam-meminjam Efek dalam Transaksi Short Selling dari dan/atau melalui pihak-pihak sebagaimana dimaksud dalam Pasal 35. Perjanjian pinjam-meminjam Efek dibuat dengan menggunakan kontrak sebagaimana dimaksud dalam Pasal 36 sampai dengan Pasal 38; b. pada saat Transaksi Short Selling pertama terjadi, nilai aset yang disisihkan sebagaimana dimaksud pada huruf a angka 2 ditambah dana yang diterima dari penjualan Efek melalui Transaksi Short Selling paling sedikit 150% (seratus lima puluh persen) dari nilai Transaksi Short Selling; c. nilai aset yang disisihkan ditambah dana yang diterima dari penjualan Efek melalui Transaksi Short Selling sebagaimana dimaksud pada huruf b dipelihara Perusahaan Efek paling sedikit 135% (seratus tiga puluh lima persen) dari nilai pasar wajar Efek pada Posisi Short; d. jika nilai aset yang disisihkan ditambah dana yang diterima dari penjualan Efek melalui Transaksi Short Selling sebagaimana dimaksud pada huruf b mengalami penurunan dan/atau nilai pasar wajar Efek dalam Posisi Short mengalami kenaikan sehingga nilai aset yang disisihkan ditambah dana yang diterima dari penjualan Efek melalui Transaksi Short Selling kurang dari: 1. 135% (seratus tiga puluh lima persen) dari nilai pasar wajar Efek dalam Posisi Short, Perusahaan Efek menambah aset yang disisihkan dan/atau membeli Efek yang ditransaksikan secara short selling paling lambat 3 (tiga) Hari Bursa, sehingga nilai aset yang disisihkan ditambah dana yang diterima dari penjualan Efek melalui Transaksi Short Selling tidak kurang dari 135% (seratus tiga puluh lima persen) dari nilai pasar wajar Efek dalam Posisi Short sebagaimana dimaksud pada huruf c; dan 2. 120% (seratus dua puluh persen) dari nilai pasar wajar Efek dalam Posisi Short, Perusahaan Efek segera menambah aset yang disisihkan dan/atau membeli Efek yang ditransaksikan secara short selling, sehingga nilai aset yang disisihkan ditambah dana yang diterima dari penjualan Efek melalui Transaksi Short Selling tidak kurang dari 135% (seratus tiga puluh lima persen) dari nilai pasar wajar Efek dalam Posisi Short sebagaimana dimaksud pada huruf c; e. Transaksi Short Selling Perusahaan Efek dibatasi dengan ketentuan: 1. harga penawaran jual yang dimasukkan dalam sistem perdagangan Bursa Efek harus di atas harga yang terjadi terakhir di Bursa Efek; dan 2. Perusahaan Efek memberi tanda “short” pada saat pelaksanaan order jual pada sistem perdagangan Bursa Efek; f. Perusahaan Efek dilarang melakukan Transaksi Short Selling atas selain Efek yang ditetapkan Bursa Efek sebagai Efek yang dapat ditransaksikan secara short selling; dan” g. apabila Efek tidak lagi memenuhi syarat yang ditetapkan Bursa Efek sebagai Efek yang dapat ditransaksikan secara short selling, Transaksi Short Selling Perusahaan Efek yang sudah berjalan diselesaikan paling lambat 5 (lima) Hari Bursa sejak Efek tidak lagi memenuhi syarat yang ditetapkan Bursa Efek.\\n\\nQuestion: Apa saja kewajiban Perusahaan Efek saat melakukan Transaksi Short Selling untuk kepentingan sendiri menurut Pasal 39?\\nAnswer:</td>\n",
       "      <td>Objek yang diatur meliputi pembukaan rekening terpisah, penyisihan dana minimal 50%, pemeliharaan aset minimal 135%, pembatasan harga penawaran, dan larangan atas Efek yang tidak memenuhi syarat.</td>\n",
       "      <td>Menurut Pasal 39, Perusahaan Efek wajib mengikuti ketentuan sebagai berikut: a. sebelum melakukan Transaksi Short Selling, Perusahaan Efek: 1. telah membuka rekening terpisah untuk Transaksi Short Selling; 2. telah menyisihkan dana dan/atau Efek dalam rekening sebagaimana dimaksud pada angka 1 paling sedikit 50% (lima puluh persen) dari nilai Transaksi Short Selling sebagai aset yang disisihkan Perusahaan Efek untuk menutup risiko Transaksi Short Selling; dan 3. memastikan telah tersedia Efek pada saat penyelesaian Transaksi Short Selling meliputi: a) memiliki Efek lain yang dapat dikonversi atau ditukar menjadi Efek yang digunakan untuk penyelesaian Transaksi Short Selling; b) telah melaksanakan hak atas opsi atau waran untuk memperoleh Efek yang digunakan untuk penyelesaian Transaksi Short Selling; dan/atau c) telah melakukan perjanjian pinjam-meminjam Efek dalam Transaksi Short Selling dari dan/atau mel</td>\n",
       "    </tr>\n",
       "    <tr>\n",
       "      <th>1</th>\n",
       "      <td>Anda adalah pakar regulasi keuangan Indonesia. Jawablah berdasarkan konteks yang disediakan; jika tidak terdapat pada konteks, jawab “Saya tidak tahu terkait {question}.”\\n\\nContext:\\nPasal 11 \\n\\n(1) Lembaga Penjaminan dilarang: a. memberikan pinjaman; atau  \\n\\n\\nb. menerima pinjaman. \\n\\n\\n(2) Ketentuan sebagaimana dimaksud pada ayat (1) huruf a dikecualikan bagi Perusahaan Penjaminan dan Perusahaan Penjaminan Syariah dalam rangka melakukan restrukturisasi penjaminan bagi usaha mikro, kecil, dan menengah. \\n\\n\\n(3) Ketentuan sebagaimana dimaksud pada ayat (1) huruf b dikecualikan bagi Perusahaan Penjaminan dan Perusahaan Penjaminan Syariah yang menerima pinjaman dengan menerbitkan obligasi wajib konversi (mandatory convertible bonds).\\n\\nQuestion: Apa mekanisme pelaporan pelanggaran larangan pada Pasal 11 ayat (1)?\\nAnswer:</td>\n",
       "      <td>Saya tidak tahu terkait mekanisme pelaporan pelanggaran larangan pada Pasal 11 ayat (1).</td>\n",
       "      <td>Saya tidak tahu terkait mekanisme pelaporan pelanggaran larangan pada Pasal 11 ayat (1). Silakan lihat konteks yang disediakan untuk informasi lebih lanjut. Terima kasih.  Saya tidak tahu terkait mekanisme pelaporan pelanggaran larangan pada Pasal 11 ayat (1). Silakan lihat konteks yang disediakan untuk informasi lebih lanjut. Terima kasih.  Saya tidak tahu terkait mekanisme pelaporan pelanggaran larangan pada Pasal 11 ayat (1). Silakan lihat konteks yang disediakan untuk informasi lebih lanjut. Terima kasih.  Saya tidak tahu terkait mekanisme pelaporan pelanggaran larangan pada Pasal 11 ayat (1). Silakan lihat konteks yang disediakan untuk informasi lebih lanjut. Terima kasih.  Saya tidak tahu terkait mekanisme pelaporan pelanggaran larangan pada Pasal 11 ayat (1). Silakan lihat konteks yang disediakan untuk informasi lebih lanjut. Terima kasih.  S</td>\n",
       "    </tr>\n",
       "    <tr>\n",
       "      <th>2</th>\n",
       "      <td>Anda adalah pakar regulasi keuangan Indonesia. Jawablah berdasarkan konteks yang disediakan; jika tidak terdapat pada konteks, jawab “Saya tidak tahu terkait {question}.”\\n\\nContext:\\nPasal 12 Perjanjian Pembiayaan Transaksi Margin dan/atau Transaksi Short Selling sebagaimana dimaksud dalam Pasal 9 huruf f wajib memuat klausul paling sedikit: a. tingginya tingkat risiko investasi nasabah; b. kebijakan penilaian Jaminan Pembiayaan berupa Efek, meliputi jenis Efek yang dapat diterima sebagai Jaminan Pembiayaan, penetapan nilai pasar wajarnya, dan penetapan Haircut; c. kewajiban nasabah untuk setiap saat memenuhi permintaan Perusahaan Efek sehubungan dengan kegiatan pembiayaan transaksi Efek nasabah yang dimaksud; d. kewajiban Perusahaan Efek untuk melakukan pemberitahuan Permintaan Pemenuhan Jaminan kepada nasabah; e. hak Perusahaan Efek, dalam hal nasabah tidak memenuhi Permintaan Pemenuhan Jaminan, untuk setiap saat tanpa memberikan alasan atau pemberitahuan atau memperoleh persetujuan terlebih dahulu untuk menjual atau membeli Efek atau tindakan lain yang disepakati dengan nasabah guna memenuhi: 1. persyaratan nilai Jaminan Pembiayaan yang ditentukan dalam Perjanjian Pembiayaan; dan 2. kewajiban nasabah dalam penyelesaian transaksi Efek; f. nasabah Perusahaan Efek tidak dapat memilih Efek yang akan dilikuidasi atau dijual untuk memenuhi kewajibannya; g. batasan maksimal Efek nasabah yang menjadi Jaminan Pembiayaan yang dapat dijual atau dibeli oleh Perusahaan Efek dalam rangka Permintaan Pemenuhan Jaminan, penyelesaian Transaksi Margin, dan/atau Transaksi Short Selling; h. hal yang menyebabkan Perusahaan Efek dapat setiap saat menutup Rekening Efek Pembiayaan Transaksi Margin atau Rekening Efek Pembiayaan Transaksi Short Selling; i. ketentuan pembiayaan yang meliputi perhitungan tingkat bunga pembiayaan, dan metode perhitungan bunga pembiayaan; j. ketentuan mengenai perjanjian pinjam-meminjam Efek antara nasabah dengan Perusahaan Efek dalam Transaksi Short Selling nasabah; k. jangka waktu pembiayaan Transaksi Margin dan/atau Transaksi Short Selling paling lama 12 (dua belas) bulan dan dapat diperpanjang kembali berdasarkan hasil evaluasi oleh Perusahaan Efek; l. dalam hal Perusahaan Efek menggunakan pendanaan dari Lembaga Pendanaan Efek untuk memberikan pembiayaan Transaksi Margin bagi nasabah tertentu, Perusahaan Efek wajib: 1. memindahkan Efek jaminan nasabah tersebut dari sub rekening nasabah dalam pengadministrasian Perusahaan Efek ke sub rekening nasabah dalam pengadministrasian Lembaga Pendanaan Efek; dan 2. mensyaratkan adanya pemberian kuasa dari nasabah kepada Perusahaan Efek terkait penggunaan Efek jaminan nasabah oleh Lembaga Pendanaan Efek; m. pengambilalihan kewajiban penyelesaian Transaksi Margin nasabah dari Perusahaan Efek lain; n. penyelesaian sengketa; dan o. keadaan kahar.\\n\\nQuestion: Apa saja ketentuan umum yang ditetapkan dalam Pasal 12 mengenai isi Perjanjian Pembiayaan Transaksi Margin?\\nAnswer:</td>\n",
       "      <td>Ketentuan umum yang ditetapkan adalah Perjanjian Pembiayaan Transaksi Margin wajib memuat klausul risiko investasi, kebijakan penilaian jaminan, kewajiban nasabah, hak Perusahaan Efek, dan ketentuan lain sebagaimana diatur.</td>\n",
       "      <td>Pasal 12 Perjanjian Pembiayaan Transaksi Margin dan/atau Transaksi Short Selling sebagaimana dimaksud dalam Pasal 9 huruf f wajib memuat klausul paling sedikit: a. tingginya tingkat risiko investasi nasabah; b. kebijakan penilaian Jaminan Pembiayaan berupa Efek, meliputi jenis Efek yang dapat diterima sebagai Jaminan Pembiayaan, penetapan nilai pasar wajarnya, dan penetapan Haircut; c. kewajiban nasabah untuk setiap saat memenuhi permintaan Perusahaan Efek sehubungan dengan kegiatan pembiayaan transaksi Efek nasabah yang dimaksud; d. kewajiban Perusahaan Efek untuk melakukan pemberitahuan Permintaan Pemenuhan Jaminan kepada nasabah; e. hak Perusahaan Efek, dalam hal nasabah tidak memenuhi Permintaan Pemenuhan Jaminan, untuk setiap saat tanpa memberikan alasan atau pemberitahuan atau memperoleh persetujuan terlebih</td>\n",
       "    </tr>\n",
       "    <tr>\n",
       "      <th>3</th>\n",
       "      <td>Anda adalah pakar regulasi keuangan Indonesia. Jawablah berdasarkan konteks yang disediakan; jika tidak terdapat pada konteks, jawab “Saya tidak tahu terkait {question}.”\\n\\nContext:\\nPasal 11 (1) Pembatasan atas Aset yang Diperkenankan dalam bentuk investasi sebagaimana dimaksud dalam Pasal 5 ayat (2) adalah sebagai berikut:  a. investasi berupa deposito berjangka pada Bank, termasuk deposit on call dan deposito yang berjangka waktu kurang dari atau sama dengan 1 (satu) bulan, untuk setiap Bank paling tinggi 20% (dua puluh persen) dari jumlah investasi;  b. investasi berupa deposito berjangka, untuk setiap BPR dan BPRS paling tinggi 1% (satu persen) dari jumlah investasi dan seluruhnya paling tinggi 5% (lima persen) dari jumlah investasi;  c. investasi berupa sertifikat deposito untuk setiap Bank paling tinggi 50% (lima puluh persen) dari total investasi berupa deposito berjangka pada Bank sebagaimana dimaksud dalam huruf a;  d. investasi berupa saham yang tercatat di bursa efek, untuk setiap emiten paling tinggi 10% (sepuluh persen) dari jumlah investasi dan seluruhnya paling tinggi 40% (empat puluh persen) dari jumlah investasi; e. investasi berupa obligasi korporasi yang tercatat di bursa efek, untuk setiap emiten paling tinggi 20% (dua puluh persen) dari jumlah investasi dan seluruhnya paling tinggi 50% (lima puluh persen) dari jumlah investasi; f. investasi berupa MTN dan surat berharga yang diterbitkan oleh lembaga multinasional yang Negara Republik Indonesia menjadi salah satu anggota atau pemegang sahamnya, untuk setiap penerbit paling tinggi 20% (dua puluh persen) dari jumlah investasi dan seluruhnya paling tinggi 40% (empat puluh persen) dari jumlah investasi; g. investasi berupa surat berharga yang diterbitkan oleh negara selain negara Republik Indonesia untuk setiap penerbit paling tinggi 10% (sepuluh persen) dari jumlah investasi; h. investasi berupa reksa dana, untuk setiap Manajer Investasi paling tinggi 20% (dua puluh persen) dari jumlah investasi dan seluruhnya paling tinggi 50% (lima puluh persen) dari jumlah investasi;  i. investasi berupa efek beragun aset untuk setiap Manajer Investasi paling tinggi 10% (sepuluh persen) dari jumlah investasi dan seluruhnya paling tinggi 20% (dua puluh persen) dari jumlah investasi;  j. investasi berupa dana investasi real estat berbentuk kontrak investasi kolektif, untuk setiap Manajer Investasi paling tinggi 10% (sepuluh persen) dari jumlah investasi dan seluruhnya paling tinggi 20% (dua puluh persen) dari jumlah investasi;  k. investasi berupa REPO, untuk setiap counterparty paling tinggi 2% (dua persen) dari jumlah investasi dan seluruhnya paling tinggi 10% (sepuluh persen) dari jumlah investasi; l. investasi berupa penyertaan langsung (saham yang tidak tercatat di bursa efek), seluruhnya paling tinggi 10% (sepuluh persen) dari jumlah investasi;  m. investasi berupa tanah, bangunan dengan hak strata (strata title), atau tanah dengan bangunan, untuk investasi, seluruhnya paling tinggi 20% (dua puluh persen) dari jumlah investasi;  n. investasi berupa tanah untuk investasi, seluruhnya paling tinggi 1/3 (satu per tiga) dari jumlah investasi sebagaimana dimaksud dalam huruf m;   o. investasi berupa pembiayaan melalui mekanisme kerja sama dengan Pihak lain dalam bentuk kerja sama pemberian kredit (executing), untuk setiap Pihak paling tinggi 10% (sepuluh persen) dari jumlah investasi dan seluruhnya paling tinggi 20% (dua puluh persen) dari jumlah investasi;  p. investasi berupa emas murni, seluruhnya paling tinggi 10% (sepuluh persen) dari jumlah investasi;  q. investasi berupa pinjaman yang dijamin dengan hak tanggungan, seluruhnya paling tinggi 10% (sepuluh persen) dari jumlah investasi;  r. investasi berupa pinjaman polis, dengan besarnya pinjaman polis paling tinggi 80% (delapan puluh persen) dari nilai tunai polis yang bersangkutan. s. investasi berupa obligasi daerah, untuk setiap emiten paling tinggi 10% (sepuluh persen) dari jumlah investasi dan seluruhnya paling tinggi 20% (dua puluh persen) dari jumlah investasi; dan/atau t. investasi berupa dana investasi infrastruktur berbentuk kontrak investasi kolektif, untuk setiap Manajer Investasi paling tinggi 10% (sepuluh persen) dari jumlah investasi dan seluruhnya paling tinggi 20% (dua puluh persen) dari jumlah investasi. (2) Penempatan atas Aset yang Diperkenankan dalam bentuk investasi berupa reksa dana sebagaimana dimaksud dalam Pasal 5 ayat (2) huruf j, yang underlying asetnya seluruhnya berupa investasi surat berharga yang diterbitkan oleh negara Republik Indonesia dikecualikan dari ketentuan sebagaimana dimaksud pada ayat (1) huruf h. (3) Penempatan atas Aset yang Diperkenankan dalam bentuk investasi berupa reksa dana sebagaimana dimaksud dalam Pasal 5 ayat (2) huruf j dalam bentuk kontrak investasi kolektif penyertaan terbatas untuk setiap Manajer Investasi paling tinggi 10% (sepuluh persen) dari jumlah investasi dan seluruhnya paling tinggi 20% (dua puluh persen) dari jumlah investasi. (4) Penempatan atas Aset yang Diperkenankan dalam bentuk investasi sebagaimana dimaksud pada ayat (1) huruf d, huruf e, huruf f, huruf g, huruf h, huruf i, huruf j, huruf k, huruf s, dan huruf t jumlah seluruhnya paling tinggi 80% (delapan puluh persen) dari jumlah investasi.\\n\\nQuestion: Berapa batas maksimum investasi pada saham yang tercatat di bursa efek untuk setiap emiten menurut Pasal 11 ayat (1)?\\nAnswer:</td>\n",
       "      <td>Kewajiban yang ditetapkan adalah paling tinggi 10% (sepuluh persen) dari jumlah investasi untuk setiap emiten.</td>\n",
       "      <td>10% (sepuluh persen) dari jumlah investasi. Seluruhnya paling tinggi 40% (empat puluh persen) dari jumlah investasi.</td>\n",
       "    </tr>\n",
       "    <tr>\n",
       "      <th>4</th>\n",
       "      <td>Anda adalah pakar regulasi keuangan Indonesia. Jawablah berdasarkan konteks yang disediakan; jika tidak terdapat pada konteks, jawab “Saya tidak tahu terkait {question}.”\\n\\nContext:\\nMengingat : 1. Undang-Undang Nomor 21 Tahun 2011 tentang Otoritas Jasa Keuangan (Lembaran Negara Republik Indonesia Tahun 2011 Nomor 111, Tambahan Lembaran Negara Republik Indonesia Nomor 5253);  2. Undang-Undang Nomor 1 Tahun 2016 tentang Penjaminan (Lembaran Negara Republik Indonesia Tahun 2016 Nomor 9, Tambahan Lembaran Negara Republik Indonesia Nomor 5835);  3. Peraturan Otoritas Jasa Keuangan Nomor 2/POJK.05/2017 tentang Penyelenggaraan Usaha Lembaga Penjamin (Lembaran Negara Republik Indonesia Tahun 2017 Nomor 7, Tambahan Lembaran Negara Republik Indonesia Nomor 6014);\\n\\nQuestion: Apa saja dasar hukum dari peraturan ini?\\nAnswer:</td>\n",
       "      <td>Dasar hukum peraturan ini adalah Undang-Undang Nomor 21 Tahun 2011, Undang-Undang Nomor 1 Tahun 2016, dan Peraturan Otoritas Jasa Keuangan Nomor 2/POJK.05/2017.</td>\n",
       "      <td>1. Undang-Undang Nomor 21 Tahun 2011 tentang Otoritas Jasa Keuangan (Lembaran Negara Republik Indonesia Tahun 2011 Nomor 111, Tambahan Lembaran Negara Republik Indonesia Nomor 5253); 2. Undang-Undang Nomor 1 Tahun 2016 tentang Penjaminan (Lembaran Negara Republik Indonesia Tahun 2016 Nomor 9, Tambahan Lembaran Negara Republik Indonesia Nomor 5835); 3. Peraturan Otoritas Jasa Keuangan Nomor 2/POJK.05/2017 tentang Penyelenggaraan Usaha Lembaga Penjamin (Lembaran Negara Republik Indonesia Tahun 2017 Nomor 7, Tambahan Lembaran Negara Republik Indonesia Nomor 6014).</td>\n",
       "    </tr>\n",
       "  </tbody>\n",
       "</table>\n",
       "</div>"
      ],
      "text/plain": [
       "                                                                                                                                                                                                                                                                                                                                                                                                                                                                                                                                                                                                                                                                                                                                                                                                                                                                                                                                                                                                                                                                                                                                                                                                                                                                                                                                                                                                                                                                                                                                                                                                                                                                                                                                                                                                                                                                                                                                                                                                                                                                                                                                                                                                                                                                                                                                                                                                                                                                                                                                                                                                                                                                                                                                                                                                                                                                                                                                                                                                                                                                                                                                                                                                                                                                                                                                                                                                                                                                                                                                                                                                                                                                                                                                                                                                                                                                                                                                                                                                                                                                                                                                                                                                                                                                                                                                                                                                                                                                                                                                                                                                                                                                                                                                                                                                                                                                                                                                                                                                                                                                                                                                                                                                                                                                                                                                                                                                                                                                                                                                                                                                                                prompt  \\\n",
       "0                                                                                                                                                                                                                                                                                                                                                                                                                                                                                                                                                                                                                                                                                                                                                                                                                                                                                                                                                                                                                                                                                                                                                                                                                                                                                                                       Anda adalah pakar regulasi keuangan Indonesia. Jawablah berdasarkan konteks yang disediakan; jika tidak terdapat pada konteks, jawab “Saya tidak tahu terkait {question}.”\\n\\nContext:\\nPasal 39 Perusahaan Efek yang melakukan Transaksi Short Selling untuk kepentingan sendiri wajib mengikuti ketentuan sebagai berikut: a. sebelum melakukan Transaksi Short Selling, Perusahaan Efek: 1. telah membuka rekening terpisah untuk Transaksi Short Selling; 2. telah menyisihkan dana dan/atau Efek dalam rekening sebagaimana dimaksud pada angka 1 paling sedikit 50% (lima puluh persen) dari nilai Transaksi Short Selling sebagai aset yang disisihkan Perusahaan Efek untuk menutup risiko Transaksi Short Selling; dan 3. memastikan telah tersedia Efek pada saat penyelesaian Transaksi Short Selling meliputi: a) memiliki Efek lain yang dapat dikonversi atau ditukar menjadi Efek yang digunakan untuk penyelesaian Transaksi Short Selling; b) telah melaksanakan hak atas opsi atau waran untuk memperoleh Efek yang digunakan untuk penyelesaian Transaksi Short Selling; dan/atau c) telah melakukan perjanjian pinjam-meminjam Efek dalam Transaksi Short Selling dari dan/atau melalui pihak-pihak sebagaimana dimaksud dalam Pasal 35. Perjanjian pinjam-meminjam Efek dibuat dengan menggunakan kontrak sebagaimana dimaksud dalam Pasal 36 sampai dengan Pasal 38; b. pada saat Transaksi Short Selling pertama terjadi, nilai aset yang disisihkan sebagaimana dimaksud pada huruf a angka 2 ditambah dana yang diterima dari penjualan Efek melalui Transaksi Short Selling paling sedikit 150% (seratus lima puluh persen) dari nilai Transaksi Short Selling; c. nilai aset yang disisihkan ditambah dana yang diterima dari penjualan Efek melalui Transaksi Short Selling sebagaimana dimaksud pada huruf b dipelihara Perusahaan Efek paling sedikit 135% (seratus tiga puluh lima persen) dari nilai pasar wajar Efek pada Posisi Short; d. jika nilai aset yang disisihkan ditambah dana yang diterima dari penjualan Efek melalui Transaksi Short Selling sebagaimana dimaksud pada huruf b mengalami penurunan dan/atau nilai pasar wajar Efek dalam Posisi Short mengalami kenaikan sehingga nilai aset yang disisihkan ditambah dana yang diterima dari penjualan Efek melalui Transaksi Short Selling kurang dari: 1. 135% (seratus tiga puluh lima persen) dari nilai pasar wajar Efek dalam Posisi Short, Perusahaan Efek menambah aset yang disisihkan dan/atau membeli Efek yang ditransaksikan secara short selling paling lambat 3 (tiga) Hari Bursa, sehingga nilai aset yang disisihkan ditambah dana yang diterima dari penjualan Efek melalui Transaksi Short Selling tidak kurang dari 135% (seratus tiga puluh lima persen) dari nilai pasar wajar Efek dalam Posisi Short sebagaimana dimaksud pada huruf c; dan 2. 120% (seratus dua puluh persen) dari nilai pasar wajar Efek dalam Posisi Short, Perusahaan Efek segera menambah aset yang disisihkan dan/atau membeli Efek yang ditransaksikan secara short selling, sehingga nilai aset yang disisihkan ditambah dana yang diterima dari penjualan Efek melalui Transaksi Short Selling tidak kurang dari 135% (seratus tiga puluh lima persen) dari nilai pasar wajar Efek dalam Posisi Short sebagaimana dimaksud pada huruf c; e. Transaksi Short Selling Perusahaan Efek dibatasi dengan ketentuan: 1. harga penawaran jual yang dimasukkan dalam sistem perdagangan Bursa Efek harus di atas harga yang terjadi terakhir di Bursa Efek; dan 2. Perusahaan Efek memberi tanda “short” pada saat pelaksanaan order jual pada sistem perdagangan Bursa Efek; f. Perusahaan Efek dilarang melakukan Transaksi Short Selling atas selain Efek yang ditetapkan Bursa Efek sebagai Efek yang dapat ditransaksikan secara short selling; dan” g. apabila Efek tidak lagi memenuhi syarat yang ditetapkan Bursa Efek sebagai Efek yang dapat ditransaksikan secara short selling, Transaksi Short Selling Perusahaan Efek yang sudah berjalan diselesaikan paling lambat 5 (lima) Hari Bursa sejak Efek tidak lagi memenuhi syarat yang ditetapkan Bursa Efek.\\n\\nQuestion: Apa saja kewajiban Perusahaan Efek saat melakukan Transaksi Short Selling untuk kepentingan sendiri menurut Pasal 39?\\nAnswer:   \n",
       "1                                                                                                                                                                                                                                                                                                                                                                                                                                                                                                                                                                                                                                                                                                                                                                                                                                                                                                                                                                                                                                                                                                                                                                                                                                                                                                                                                                                                                                                                                                                                                                                                                                                                                                                                                                                                                                                                                                                                                                                                                                                                                                                                                                                                                                                                                                                                                                                                                                                                                                                                                                                                                                                                                                                                                                                                                                                                                                                                                                                                                                                                                                                                                                                                                                                                                                                                                                                                                                                                                                                                                                                                                                                                                                                                                                                                                                                                                                                                                                                                                                                                                                                                                                                                                                                                                                                                                                                                                                                                                                                                                                                                                                                                                                                                                               Anda adalah pakar regulasi keuangan Indonesia. Jawablah berdasarkan konteks yang disediakan; jika tidak terdapat pada konteks, jawab “Saya tidak tahu terkait {question}.”\\n\\nContext:\\nPasal 11 \\n\\n(1) Lembaga Penjaminan dilarang: a. memberikan pinjaman; atau  \\n\\n\\nb. menerima pinjaman. \\n\\n\\n(2) Ketentuan sebagaimana dimaksud pada ayat (1) huruf a dikecualikan bagi Perusahaan Penjaminan dan Perusahaan Penjaminan Syariah dalam rangka melakukan restrukturisasi penjaminan bagi usaha mikro, kecil, dan menengah. \\n\\n\\n(3) Ketentuan sebagaimana dimaksud pada ayat (1) huruf b dikecualikan bagi Perusahaan Penjaminan dan Perusahaan Penjaminan Syariah yang menerima pinjaman dengan menerbitkan obligasi wajib konversi (mandatory convertible bonds).\\n\\nQuestion: Apa mekanisme pelaporan pelanggaran larangan pada Pasal 11 ayat (1)?\\nAnswer:   \n",
       "2                                                                                                                                                                                                                                                                                                                                                                                                                                                                                                                                                                                                                                                                                                                                                                                                                                                                                                                                                                                                                                                                                                                                                                                                                                                                                                                                                                                                                                                                                                                                                                                                                                                                                                                                                                                                                                                                                                                                                                                                                                                                                                                                                                                                                                                                                                                                                                                                                                                                                                                                        Anda adalah pakar regulasi keuangan Indonesia. Jawablah berdasarkan konteks yang disediakan; jika tidak terdapat pada konteks, jawab “Saya tidak tahu terkait {question}.”\\n\\nContext:\\nPasal 12 Perjanjian Pembiayaan Transaksi Margin dan/atau Transaksi Short Selling sebagaimana dimaksud dalam Pasal 9 huruf f wajib memuat klausul paling sedikit: a. tingginya tingkat risiko investasi nasabah; b. kebijakan penilaian Jaminan Pembiayaan berupa Efek, meliputi jenis Efek yang dapat diterima sebagai Jaminan Pembiayaan, penetapan nilai pasar wajarnya, dan penetapan Haircut; c. kewajiban nasabah untuk setiap saat memenuhi permintaan Perusahaan Efek sehubungan dengan kegiatan pembiayaan transaksi Efek nasabah yang dimaksud; d. kewajiban Perusahaan Efek untuk melakukan pemberitahuan Permintaan Pemenuhan Jaminan kepada nasabah; e. hak Perusahaan Efek, dalam hal nasabah tidak memenuhi Permintaan Pemenuhan Jaminan, untuk setiap saat tanpa memberikan alasan atau pemberitahuan atau memperoleh persetujuan terlebih dahulu untuk menjual atau membeli Efek atau tindakan lain yang disepakati dengan nasabah guna memenuhi: 1. persyaratan nilai Jaminan Pembiayaan yang ditentukan dalam Perjanjian Pembiayaan; dan 2. kewajiban nasabah dalam penyelesaian transaksi Efek; f. nasabah Perusahaan Efek tidak dapat memilih Efek yang akan dilikuidasi atau dijual untuk memenuhi kewajibannya; g. batasan maksimal Efek nasabah yang menjadi Jaminan Pembiayaan yang dapat dijual atau dibeli oleh Perusahaan Efek dalam rangka Permintaan Pemenuhan Jaminan, penyelesaian Transaksi Margin, dan/atau Transaksi Short Selling; h. hal yang menyebabkan Perusahaan Efek dapat setiap saat menutup Rekening Efek Pembiayaan Transaksi Margin atau Rekening Efek Pembiayaan Transaksi Short Selling; i. ketentuan pembiayaan yang meliputi perhitungan tingkat bunga pembiayaan, dan metode perhitungan bunga pembiayaan; j. ketentuan mengenai perjanjian pinjam-meminjam Efek antara nasabah dengan Perusahaan Efek dalam Transaksi Short Selling nasabah; k. jangka waktu pembiayaan Transaksi Margin dan/atau Transaksi Short Selling paling lama 12 (dua belas) bulan dan dapat diperpanjang kembali berdasarkan hasil evaluasi oleh Perusahaan Efek; l. dalam hal Perusahaan Efek menggunakan pendanaan dari Lembaga Pendanaan Efek untuk memberikan pembiayaan Transaksi Margin bagi nasabah tertentu, Perusahaan Efek wajib: 1. memindahkan Efek jaminan nasabah tersebut dari sub rekening nasabah dalam pengadministrasian Perusahaan Efek ke sub rekening nasabah dalam pengadministrasian Lembaga Pendanaan Efek; dan 2. mensyaratkan adanya pemberian kuasa dari nasabah kepada Perusahaan Efek terkait penggunaan Efek jaminan nasabah oleh Lembaga Pendanaan Efek; m. pengambilalihan kewajiban penyelesaian Transaksi Margin nasabah dari Perusahaan Efek lain; n. penyelesaian sengketa; dan o. keadaan kahar.\\n\\nQuestion: Apa saja ketentuan umum yang ditetapkan dalam Pasal 12 mengenai isi Perjanjian Pembiayaan Transaksi Margin?\\nAnswer:   \n",
       "3  Anda adalah pakar regulasi keuangan Indonesia. Jawablah berdasarkan konteks yang disediakan; jika tidak terdapat pada konteks, jawab “Saya tidak tahu terkait {question}.”\\n\\nContext:\\nPasal 11 (1) Pembatasan atas Aset yang Diperkenankan dalam bentuk investasi sebagaimana dimaksud dalam Pasal 5 ayat (2) adalah sebagai berikut:  a. investasi berupa deposito berjangka pada Bank, termasuk deposit on call dan deposito yang berjangka waktu kurang dari atau sama dengan 1 (satu) bulan, untuk setiap Bank paling tinggi 20% (dua puluh persen) dari jumlah investasi;  b. investasi berupa deposito berjangka, untuk setiap BPR dan BPRS paling tinggi 1% (satu persen) dari jumlah investasi dan seluruhnya paling tinggi 5% (lima persen) dari jumlah investasi;  c. investasi berupa sertifikat deposito untuk setiap Bank paling tinggi 50% (lima puluh persen) dari total investasi berupa deposito berjangka pada Bank sebagaimana dimaksud dalam huruf a;  d. investasi berupa saham yang tercatat di bursa efek, untuk setiap emiten paling tinggi 10% (sepuluh persen) dari jumlah investasi dan seluruhnya paling tinggi 40% (empat puluh persen) dari jumlah investasi; e. investasi berupa obligasi korporasi yang tercatat di bursa efek, untuk setiap emiten paling tinggi 20% (dua puluh persen) dari jumlah investasi dan seluruhnya paling tinggi 50% (lima puluh persen) dari jumlah investasi; f. investasi berupa MTN dan surat berharga yang diterbitkan oleh lembaga multinasional yang Negara Republik Indonesia menjadi salah satu anggota atau pemegang sahamnya, untuk setiap penerbit paling tinggi 20% (dua puluh persen) dari jumlah investasi dan seluruhnya paling tinggi 40% (empat puluh persen) dari jumlah investasi; g. investasi berupa surat berharga yang diterbitkan oleh negara selain negara Republik Indonesia untuk setiap penerbit paling tinggi 10% (sepuluh persen) dari jumlah investasi; h. investasi berupa reksa dana, untuk setiap Manajer Investasi paling tinggi 20% (dua puluh persen) dari jumlah investasi dan seluruhnya paling tinggi 50% (lima puluh persen) dari jumlah investasi;  i. investasi berupa efek beragun aset untuk setiap Manajer Investasi paling tinggi 10% (sepuluh persen) dari jumlah investasi dan seluruhnya paling tinggi 20% (dua puluh persen) dari jumlah investasi;  j. investasi berupa dana investasi real estat berbentuk kontrak investasi kolektif, untuk setiap Manajer Investasi paling tinggi 10% (sepuluh persen) dari jumlah investasi dan seluruhnya paling tinggi 20% (dua puluh persen) dari jumlah investasi;  k. investasi berupa REPO, untuk setiap counterparty paling tinggi 2% (dua persen) dari jumlah investasi dan seluruhnya paling tinggi 10% (sepuluh persen) dari jumlah investasi; l. investasi berupa penyertaan langsung (saham yang tidak tercatat di bursa efek), seluruhnya paling tinggi 10% (sepuluh persen) dari jumlah investasi;  m. investasi berupa tanah, bangunan dengan hak strata (strata title), atau tanah dengan bangunan, untuk investasi, seluruhnya paling tinggi 20% (dua puluh persen) dari jumlah investasi;  n. investasi berupa tanah untuk investasi, seluruhnya paling tinggi 1/3 (satu per tiga) dari jumlah investasi sebagaimana dimaksud dalam huruf m;   o. investasi berupa pembiayaan melalui mekanisme kerja sama dengan Pihak lain dalam bentuk kerja sama pemberian kredit (executing), untuk setiap Pihak paling tinggi 10% (sepuluh persen) dari jumlah investasi dan seluruhnya paling tinggi 20% (dua puluh persen) dari jumlah investasi;  p. investasi berupa emas murni, seluruhnya paling tinggi 10% (sepuluh persen) dari jumlah investasi;  q. investasi berupa pinjaman yang dijamin dengan hak tanggungan, seluruhnya paling tinggi 10% (sepuluh persen) dari jumlah investasi;  r. investasi berupa pinjaman polis, dengan besarnya pinjaman polis paling tinggi 80% (delapan puluh persen) dari nilai tunai polis yang bersangkutan. s. investasi berupa obligasi daerah, untuk setiap emiten paling tinggi 10% (sepuluh persen) dari jumlah investasi dan seluruhnya paling tinggi 20% (dua puluh persen) dari jumlah investasi; dan/atau t. investasi berupa dana investasi infrastruktur berbentuk kontrak investasi kolektif, untuk setiap Manajer Investasi paling tinggi 10% (sepuluh persen) dari jumlah investasi dan seluruhnya paling tinggi 20% (dua puluh persen) dari jumlah investasi. (2) Penempatan atas Aset yang Diperkenankan dalam bentuk investasi berupa reksa dana sebagaimana dimaksud dalam Pasal 5 ayat (2) huruf j, yang underlying asetnya seluruhnya berupa investasi surat berharga yang diterbitkan oleh negara Republik Indonesia dikecualikan dari ketentuan sebagaimana dimaksud pada ayat (1) huruf h. (3) Penempatan atas Aset yang Diperkenankan dalam bentuk investasi berupa reksa dana sebagaimana dimaksud dalam Pasal 5 ayat (2) huruf j dalam bentuk kontrak investasi kolektif penyertaan terbatas untuk setiap Manajer Investasi paling tinggi 10% (sepuluh persen) dari jumlah investasi dan seluruhnya paling tinggi 20% (dua puluh persen) dari jumlah investasi. (4) Penempatan atas Aset yang Diperkenankan dalam bentuk investasi sebagaimana dimaksud pada ayat (1) huruf d, huruf e, huruf f, huruf g, huruf h, huruf i, huruf j, huruf k, huruf s, dan huruf t jumlah seluruhnya paling tinggi 80% (delapan puluh persen) dari jumlah investasi.\\n\\nQuestion: Berapa batas maksimum investasi pada saham yang tercatat di bursa efek untuk setiap emiten menurut Pasal 11 ayat (1)?\\nAnswer:   \n",
       "4                                                                                                                                                                                                                                                                                                                                                                                                                                                                                                                                                                                                                                                                                                                                                                                                                                                                                                                                                                                                                                                                                                                                                                                                                                                                                                                                                                                                                                                                                                                                                                                                                                                                                                                                                                                                                                                                                                                                                                                                                                                                                                                                                                                                                                                                                                                                                                                                                                                                                                                                                                                                                                                                                                                                                                                                                                                                                                                                                                                                                                                                                                                                                                                                                                                                                                                                                                                                                                                                                                                                                                                                                                                                                                                                                                                                                                                                                                                                                                                                                                                                                                                                                                                                                                                                                                                                                                                                                                                                                                                                                                                                                                                                                                                                                                         Anda adalah pakar regulasi keuangan Indonesia. Jawablah berdasarkan konteks yang disediakan; jika tidak terdapat pada konteks, jawab “Saya tidak tahu terkait {question}.”\\n\\nContext:\\nMengingat : 1. Undang-Undang Nomor 21 Tahun 2011 tentang Otoritas Jasa Keuangan (Lembaran Negara Republik Indonesia Tahun 2011 Nomor 111, Tambahan Lembaran Negara Republik Indonesia Nomor 5253);  2. Undang-Undang Nomor 1 Tahun 2016 tentang Penjaminan (Lembaran Negara Republik Indonesia Tahun 2016 Nomor 9, Tambahan Lembaran Negara Republik Indonesia Nomor 5835);  3. Peraturan Otoritas Jasa Keuangan Nomor 2/POJK.05/2017 tentang Penyelenggaraan Usaha Lembaga Penjamin (Lembaran Negara Republik Indonesia Tahun 2017 Nomor 7, Tambahan Lembaran Negara Republik Indonesia Nomor 6014);\\n\\nQuestion: Apa saja dasar hukum dari peraturan ini?\\nAnswer:   \n",
       "\n",
       "                                                                                                                                                                                                                             chosen  \\\n",
       "0                               Objek yang diatur meliputi pembukaan rekening terpisah, penyisihan dana minimal 50%, pemeliharaan aset minimal 135%, pembatasan harga penawaran, dan larangan atas Efek yang tidak memenuhi syarat.   \n",
       "1                                                                                                                                          Saya tidak tahu terkait mekanisme pelaporan pelanggaran larangan pada Pasal 11 ayat (1).   \n",
       "2   Ketentuan umum yang ditetapkan adalah Perjanjian Pembiayaan Transaksi Margin wajib memuat klausul risiko investasi, kebijakan penilaian jaminan, kewajiban nasabah, hak Perusahaan Efek, dan ketentuan lain sebagaimana diatur.   \n",
       "3                                                                                                                    Kewajiban yang ditetapkan adalah paling tinggi 10% (sepuluh persen) dari jumlah investasi untuk setiap emiten.   \n",
       "4                                                                  Dasar hukum peraturan ini adalah Undang-Undang Nomor 21 Tahun 2011, Undang-Undang Nomor 1 Tahun 2016, dan Peraturan Otoritas Jasa Keuangan Nomor 2/POJK.05/2017.   \n",
       "\n",
       "                                                                                                                                                                                                                                                                                                                                                                                                                                                                                                                                                                                                                                                                                                                                                                                                                                                                                                                                                   rejected  \n",
       "0   Menurut Pasal 39, Perusahaan Efek wajib mengikuti ketentuan sebagai berikut: a. sebelum melakukan Transaksi Short Selling, Perusahaan Efek: 1. telah membuka rekening terpisah untuk Transaksi Short Selling; 2. telah menyisihkan dana dan/atau Efek dalam rekening sebagaimana dimaksud pada angka 1 paling sedikit 50% (lima puluh persen) dari nilai Transaksi Short Selling sebagai aset yang disisihkan Perusahaan Efek untuk menutup risiko Transaksi Short Selling; dan 3. memastikan telah tersedia Efek pada saat penyelesaian Transaksi Short Selling meliputi: a) memiliki Efek lain yang dapat dikonversi atau ditukar menjadi Efek yang digunakan untuk penyelesaian Transaksi Short Selling; b) telah melaksanakan hak atas opsi atau waran untuk memperoleh Efek yang digunakan untuk penyelesaian Transaksi Short Selling; dan/atau c) telah melakukan perjanjian pinjam-meminjam Efek dalam Transaksi Short Selling dari dan/atau mel  \n",
       "1                                                             Saya tidak tahu terkait mekanisme pelaporan pelanggaran larangan pada Pasal 11 ayat (1). Silakan lihat konteks yang disediakan untuk informasi lebih lanjut. Terima kasih.  Saya tidak tahu terkait mekanisme pelaporan pelanggaran larangan pada Pasal 11 ayat (1). Silakan lihat konteks yang disediakan untuk informasi lebih lanjut. Terima kasih.  Saya tidak tahu terkait mekanisme pelaporan pelanggaran larangan pada Pasal 11 ayat (1). Silakan lihat konteks yang disediakan untuk informasi lebih lanjut. Terima kasih.  Saya tidak tahu terkait mekanisme pelaporan pelanggaran larangan pada Pasal 11 ayat (1). Silakan lihat konteks yang disediakan untuk informasi lebih lanjut. Terima kasih.  Saya tidak tahu terkait mekanisme pelaporan pelanggaran larangan pada Pasal 11 ayat (1). Silakan lihat konteks yang disediakan untuk informasi lebih lanjut. Terima kasih.  S  \n",
       "2                                                                                                 Pasal 12 Perjanjian Pembiayaan Transaksi Margin dan/atau Transaksi Short Selling sebagaimana dimaksud dalam Pasal 9 huruf f wajib memuat klausul paling sedikit: a. tingginya tingkat risiko investasi nasabah; b. kebijakan penilaian Jaminan Pembiayaan berupa Efek, meliputi jenis Efek yang dapat diterima sebagai Jaminan Pembiayaan, penetapan nilai pasar wajarnya, dan penetapan Haircut; c. kewajiban nasabah untuk setiap saat memenuhi permintaan Perusahaan Efek sehubungan dengan kegiatan pembiayaan transaksi Efek nasabah yang dimaksud; d. kewajiban Perusahaan Efek untuk melakukan pemberitahuan Permintaan Pemenuhan Jaminan kepada nasabah; e. hak Perusahaan Efek, dalam hal nasabah tidak memenuhi Permintaan Pemenuhan Jaminan, untuk setiap saat tanpa memberikan alasan atau pemberitahuan atau memperoleh persetujuan terlebih  \n",
       "3                                                                                                                                                                                                                                                                                                                                                                                                                                                                                                                                                                                                                                                                                                                                                                                                                                     10% (sepuluh persen) dari jumlah investasi. Seluruhnya paling tinggi 40% (empat puluh persen) dari jumlah investasi.   \n",
       "4                                                                                                                                                                                                                                                                                                                                                                  1. Undang-Undang Nomor 21 Tahun 2011 tentang Otoritas Jasa Keuangan (Lembaran Negara Republik Indonesia Tahun 2011 Nomor 111, Tambahan Lembaran Negara Republik Indonesia Nomor 5253); 2. Undang-Undang Nomor 1 Tahun 2016 tentang Penjaminan (Lembaran Negara Republik Indonesia Tahun 2016 Nomor 9, Tambahan Lembaran Negara Republik Indonesia Nomor 5835); 3. Peraturan Otoritas Jasa Keuangan Nomor 2/POJK.05/2017 tentang Penyelenggaraan Usaha Lembaga Penjamin (Lembaran Negara Republik Indonesia Tahun 2017 Nomor 7, Tambahan Lembaran Negara Republik Indonesia Nomor 6014).   "
      ]
     },
     "metadata": {},
     "output_type": "display_data"
    },
    {
     "name": "stdout",
     "output_type": "stream",
     "text": [
      "\n",
      "▶ Generating rejected responses with SFT Aya-23-8B\n"
     ]
    },
    {
     "name": "stderr",
     "output_type": "stream",
     "text": [
      "Loading checkpoint shards: 100%|██████████| 4/4 [00:13<00:00,  3.33s/it]\n",
      "Inferring Aya-23-8B: 100%|██████████| 48/48 [29:45<00:00, 37.19s/it]"
     ]
    },
    {
     "name": "stdout",
     "output_type": "stream",
     "text": [
      "→ Inference time: 1785.1s, total pairs: 1524\n",
      "✔️ Saved raw preference dataset to `preference_Aya-23-8B.jsonl`\n",
      "✔️ Cleaned preference dataset saved to `preference_Aya-23-8B_clean.jsonl`\n"
     ]
    },
    {
     "name": "stderr",
     "output_type": "stream",
     "text": [
      "\n"
     ]
    },
    {
     "data": {
      "text/html": [
       "<div>\n",
       "<style scoped>\n",
       "    .dataframe tbody tr th:only-of-type {\n",
       "        vertical-align: middle;\n",
       "    }\n",
       "\n",
       "    .dataframe tbody tr th {\n",
       "        vertical-align: top;\n",
       "    }\n",
       "\n",
       "    .dataframe thead th {\n",
       "        text-align: right;\n",
       "    }\n",
       "</style>\n",
       "<table border=\"1\" class=\"dataframe\">\n",
       "  <thead>\n",
       "    <tr style=\"text-align: right;\">\n",
       "      <th></th>\n",
       "      <th>prompt</th>\n",
       "      <th>chosen</th>\n",
       "      <th>rejected</th>\n",
       "    </tr>\n",
       "  </thead>\n",
       "  <tbody>\n",
       "    <tr>\n",
       "      <th>0</th>\n",
       "      <td>Anda adalah pakar regulasi keuangan Indonesia. Jawablah berdasarkan konteks yang disediakan; jika tidak terdapat pada konteks, jawab “Saya tidak tahu terkait {question}.”\\n\\nContext:\\nPasal 25 \\n\\n(1) Perusahaan Perasuransian, Perusahaan \\nPembiayaan\\natau \\nPerusahaan \\nPenjaminan \\nyang \\nmelakukan \\n           pelanggaran...\\n\\n-24- \\n\\npelanggaran \\nterhadap \\nketentuan \\nsebagaimana \\ndimaksud dalam Pasal 19 ayat (1), ayat (2), Pasal 20,\\ndan/atau \\nPasal \\n21 \\nayat \\n(5) \\ndikenakan \\nsanksi \\nadministratif berupa: \\na. peringatan tertulis; \\nb. pembekuan kegiatan usaha; atau \\nc. pencabutan izin usaha. \\n\\n\\n(2) Peringatan tertulis sebagaimana dimaksud ayat (1) \\nhuruf a berlaku masing-masing untuk jangka waktu 60\\n(enam puluh) hari sejak surat peringatan tertulis\\nditetapkan.   \\n\\n\\n(3) Dalam \\nhal \\nsebelum \\nberakhirnya \\njangka \\nwaktu \\nperingatan tertulis sebagaimana dimaksud pada ayat \\n(2), \\nPerusahaan \\nPerasuransian, \\nPerusahaan \\nPembiayaan, \\natau \\nPerusahaan \\nPenjaminan \\ntelah \\nmemenuhi ketentuan maka peringatan tertulis berakhir \\ndengan sendirinya.  \\n(4) Dalam \\nhal \\nsetelah \\ndiberikan \\nperingatan \\ntertulis \\nsebanyak 3 (tiga) kali berturut-turut Perusahaan \\nPerasuransian, Perusahaan \\nPembiayaan, \\natau \\nPerusahaan \\nPenjaminan \\ntetap \\ntidak \\nmemenuhi \\nketentuan maka OJK menetapkan sanksi pembekuan \\nkegiatan usaha. \\n\\n\\n(5) Pembekuan kegiatan usaha sebagaimana dimaksud \\npada ayat (1) huruf b diberikan secara tertulis dan \\nberlaku untuk jangka waktu 6 (enam) bulan sejak surat \\npembekuan kegiatan usaha ditetapkan.  \\n\\n\\n(6) Selama masa pembekuan kegiatan usaha sebagaimana \\ndimaksud pada ayat (4), Perusahaan Perasuransian, \\nPerusahaan Pembiayaan, atau Perusahaan Penjaminan: \\na. dilarang mengeluarkan produk dan/atau layanan\\nbaru; dan \\nb. bertanggung jawab untuk menyelesaikan segala \\nkewajiban yang telah dilakukan. \\n\\n\\n(7) Dalam \\nhal \\nsebelum \\nberakhirnya \\njangka \\nwaktu \\npembekuan kegiatan usaha sebagaimana dimaksud \\npada ayat (4), Perusahaan Perasuransiaan, Perusahaan \\nPembiayaan...\\n\\nQuestion: Apa saja sanksi administratif yang dapat dikenakan menurut Pasal 25 ayat (1)?\\nAnswer:</td>\n",
       "      <td>Mekanisme proses dijelaskan sebagai sanksi administratif berupa peringatan tertulis, pembekuan kegiatan usaha, atau pencabutan izin usaha.</td>\n",
       "      <td>peringatan tertulis; pembekuan kegiatan usaha; atau pencabutan izin usaha.</td>\n",
       "    </tr>\n",
       "    <tr>\n",
       "      <th>1</th>\n",
       "      <td>Anda adalah pakar regulasi keuangan Indonesia. Jawablah berdasarkan konteks yang disediakan; jika tidak terdapat pada konteks, jawab “Saya tidak tahu terkait {question}.”\\n\\nContext:\\nPasal 1 Dalam Peraturan Otoritas Jasa Keuangan ini, yang dimaksud dengan: 1. Bursa Efek adalah Pihak yang menyelenggarakan dan menyediakan sistem dan/atau sarana untuk mempertemukan penawaran jual dan beli Efek Pihak- Pihak lain dengan tujuan memperdagangkan Efek di antara mereka. 2. Lembaga Kliring dan Penjaminan adalah Pihak yang menyelenggarakan jasa kliring dan penjaminan penyelesaian Transaksi Bursa. 3. Lembaga Penyimpanan dan Penyelesaian adalah Pihak yang menyelenggarakan kegiatan Kustodian sentral bagi Bank Kustodian, Perusahaan Efek, dan Pihak lain. 4. Dewan Komisaris adalah organ Lembaga Penyimpanan dan Penyelesaian yang bertugas melakukan pengawasan secara umum dan/atau khusus sesuai dengan anggaran dasar serta memberi nasihat kepada Direksi.\\n\\nQuestion: Apa saja tugas Dewan Komisaris di luar pengawasan menurut peraturan ini?\\nAnswer:</td>\n",
       "      <td>Saya tidak tahu terkait tugas Dewan Komisaris di luar pengawasan menurut peraturan ini.</td>\n",
       "      <td>Saya tidak tahu terkait pertanyaan ini.</td>\n",
       "    </tr>\n",
       "    <tr>\n",
       "      <th>2</th>\n",
       "      <td>Anda adalah pakar regulasi keuangan Indonesia. Jawablah berdasarkan konteks yang disediakan; jika tidak terdapat pada konteks, jawab “Saya tidak tahu terkait {question}.”\\n\\nContext:\\nPasal 13 (1) Permohonan perizinan Penyelenggara sebagaimana dimaksud dalam Pasal 5 disampaikan oleh Penyelenggara kepada Kepala Eksekutif Pengawas Pasar Modal sesuai dengan format Permohonan Perizinan Penyelenggara tercantum dalam Lampiran yang merupakan bagian tidak terpisahkan dari Peraturan Otoritas Jasa Keuangan ini dengan disertai dokumen paling sedikit:  a. fotokopi akta pendirian badan hukum; b. fotokopi akta perubahan anggaran dasar terakhir, yang telah disahkan atau disetujui oleh instansi yang berwenang atau diberitahukan kepada instansi yang berwenang, yang memuat kegiatan usaha layanan jasa keuangan yang mencakup Layanan Urun Dana;  c. data pemegang saham, jika Penyelenggara merupakan perseroan terbatas: 1. untuk pemegang saham orang perseorangan, dengan melampirkan:  a) fotokopi tanda pengenal berupa kartu tanda penduduk atau paspor bagi warga negara asing, yang masih berlaku;  b) fotokopi Nomor Pokok Wajib Pajak;  c) daftar riwayat hidup sesuai dengan format Daftar Riwayat Hidup tercantum dalam Lampiran yang merupakan bagian yang tidak terpisahkan dari Peraturan Otoritas Jasa Keuangan ini, dengan dilengkapi pasfoto berwarna terbaru berukuran 4x6 cm; dan  d) pernyataan dari pemegang saham sesuai dengan format Surat Pernyataan Pemegang Saham Orang\\n\\nQuestion: Apa saja dokumen yang harus disertakan dalam permohonan perizinan Penyelenggara?\\nAnswer:</td>\n",
       "      <td>Kategori penilaian meliputi fotokopi akta pendirian badan hukum, fotokopi akta perubahan anggaran dasar terakhir, dan data pemegang saham.</td>\n",
       "      <td>fotokopi akta pendirian badan hukum; fotokopi akta perubahan anggaran dasar terakhir, yang telah disahkan atau disetujui oleh instansi yang berwenang atau diberitahukan kepada instansi yang berwenang, yang memuat kegiatan usaha layanan jasa keuangan yang mencakup Layanan Urun Dana; data pemegang saham, jika Penyelenggara merupakan perseroan terbatas: untuk pemegang saham orang perseorangan, dengan melampirkan: a) fotokopi tanda pengenal berupa kartu tanda penduduk atau paspor bagi warga negara asing, yang masih berlaku; b) fotokopi Nomor Pokok Wajib Pajak; c) daftar riwayat hidup sesuai dengan format Daftar Riwayat Hidup tercantum dalam Lampiran yang merupakan bagian yang tidak terpisahkan dari Peraturan Otoritas Jasa Keuangan ini, dengan dilengkapi pasfoto berwarna terbaru berukuran 4x6 cm; dan d) pernyataan dari pemegang saham sesuai dengan format Surat Pernyataan Pemegang Saham Orang</td>\n",
       "    </tr>\n",
       "    <tr>\n",
       "      <th>3</th>\n",
       "      <td>Anda adalah pakar regulasi keuangan Indonesia. Jawablah berdasarkan konteks yang disediakan; jika tidak terdapat pada konteks, jawab “Saya tidak tahu terkait {question}.”\\n\\nContext:\\nPasal 24  \\n \\n Manajer Investasi dapat mengalihkan pelaksanaan \\nfungsi \\nteknologi \\ninformasi, \\nfungsi \\npengembangan \\nsumber daya manusia, serta fungsi akuntansi dan \\nkeuangan kepada penyedia jasa yang berbentuk badan \\nhukum dengan tetap memperhatikan ketentuan yang \\nterkait \\ndengan \\npelaksanaan \\nfungsi-fungsi \\ntersebut \\ndalam Peraturan Otoritas Jasa Keuangan ini dan \\nperaturan perundang-undangan yang berlaku.  \\nPasal 25  \\n \\n Dalam hal Manajer Investasi mengalihkan fungsi-fungsi \\nsebagaimana dimaksud dalam Pasal 24, Manajer \\nInvestasi bertanggung jawab terhadap perilaku dan \\nkegiatan yang dilakukan oleh penyedia jasa yang \\nmenerima \\npengalihan \\nfungsi-fungsi \\ndari \\nManajer \\nInvestasi dimaksud. \\nPasal 26  \\n \\n Manajer \\nInvestasi \\nyang \\nmelakukan \\npengalihan \\npelaksanaan \\nfungsi-fungsi \\nsebagaimana \\ndimaksud \\ndalam Pasal 24 wajib memastikan bahwa penyedia jasa \\nyang menerima pengalihan pelaksanaan fungsi-fungsi \\ntersebut adalah profesional yang mempunyai standar \\nkapasitas...\\n\\nQuestion: Fungsi apa saja yang dapat dialihkan pelaksanaannya kepada penyedia jasa menurut Pasal 24?\\nAnswer:</td>\n",
       "      <td>Cakupan Dokumen ini mencakup fungsi teknologi informasi, fungsi pengembangan sumber daya manusia, serta fungsi akuntansi dan keuangan.</td>\n",
       "      <td>fungsi teknologi informasi, fungsi pengembangan sumber daya manusia, serta fungsi akuntansi dan keuangan</td>\n",
       "    </tr>\n",
       "    <tr>\n",
       "      <th>4</th>\n",
       "      <td>Anda adalah pakar regulasi keuangan Indonesia. Jawablah berdasarkan konteks yang disediakan; jika tidak terdapat pada konteks, jawab “Saya tidak tahu terkait {question}.”\\n\\nContext:\\nPasal 1  Dalam Peraturan Otoritas Jasa Keuangan ini yang dimaksud dengan: 1. Pihak adalah orang perseorangan, badan hukum, perusahaan, usaha bersama, asosiasi, atau kelompok yang terorganisasi. 2. Layanan Administrasi Prinsip Mengenali Nasabah yang selanjutnya disingkat LAPMN adalah layanan penyimpanan data dan dokumen calon nasabah dan/atau nasabah pengguna LAPMN yang tersentralisasi untuk dapat digunakan dalam mendukung pelaksanaan kegiatan customer due diligence dan/atau enhanced due diligence oleh pengguna LAPMN. 3. Penyelenggara Layanan Administrasi Prinsip Mengenali Nasabah yang selanjutnya disebut Penyelenggara LAPMN adalah Pihak yang menyediakan dan mengelola LAPMN. 4. Pengguna Layanan Administrasi Prinsip Mengenali Nasabah yang selanjutnya disebut Pengguna LAPMN adalah Pihak yang menggunakan layanan dari Penyelenggara LAPMN. 5. Calon Nasabah adalah Pihak yang akan menggunakan jasa Pengguna LAPMN. 6. Nasabah adalah Pihak yang menggunakan jasa Pengguna LAPMN. 7. Customer Due Diligence yang selanjutnya disingkat CDD adalah kegiatan berupa identifikasi, verifikasi, dan pemantauan yang dilakukan oleh Pengguna LAPMN untuk memastikan transaksi sesuai dengan profil, karakteristik, dan/atau pola transaksi Calon Nasabah, Nasabah, atau walk in customer. 8. Enhanced Due Diligence yang selanjutnya disingkat EDD adalah tindakan CDD lebih mendalam yang dilakukan Pengguna LAPMN terhadap Calon Nasabah, walk in customer, atau Nasabah, yang berisiko tinggi termasuk politically exposed person dan/atau dalam area berisiko tinggi. 9. Efek adalah surat berharga atau kontrak investasi baik dalam bentuk konvensional dan digital atau bentuk lain sesuai dengan perkembangan teknologi yang\\n\\nQuestion: Apa tujuan utama dari Layanan Administrasi Prinsip Mengenali Nasabah (LAPMN)?\\nAnswer:</td>\n",
       "      <td>Saya tidak tahu terkait tujuan utama dari Layanan Administrasi Prinsip Mengenali Nasabah (LAPMN).</td>\n",
       "      <td>Saya tidak tahu terkait Layanan Administrasi Prinsip Mengenali Nasabah (LAPMN).</td>\n",
       "    </tr>\n",
       "  </tbody>\n",
       "</table>\n",
       "</div>"
      ],
      "text/plain": [
       "                                                                                                                                                                                                                                                                                                                                                                                                                                                                                                                                                                                                                                                                                                                                                                                                                                                                                                                                                                                                                                                                                                                                                                                                                                                                                                                                                                                                                                                                                                                                                                                                                                                                                                                                                                                                                                                                                                                                                                                                                                                                                                                                                                                                                                                              prompt  \\\n",
       "0  Anda adalah pakar regulasi keuangan Indonesia. Jawablah berdasarkan konteks yang disediakan; jika tidak terdapat pada konteks, jawab “Saya tidak tahu terkait {question}.”\\n\\nContext:\\nPasal 25 \\n\\n(1) Perusahaan Perasuransian, Perusahaan \\nPembiayaan\\natau \\nPerusahaan \\nPenjaminan \\nyang \\nmelakukan \\n           pelanggaran...\\n\\n-24- \\n\\npelanggaran \\nterhadap \\nketentuan \\nsebagaimana \\ndimaksud dalam Pasal 19 ayat (1), ayat (2), Pasal 20,\\ndan/atau \\nPasal \\n21 \\nayat \\n(5) \\ndikenakan \\nsanksi \\nadministratif berupa: \\na. peringatan tertulis; \\nb. pembekuan kegiatan usaha; atau \\nc. pencabutan izin usaha. \\n\\n\\n(2) Peringatan tertulis sebagaimana dimaksud ayat (1) \\nhuruf a berlaku masing-masing untuk jangka waktu 60\\n(enam puluh) hari sejak surat peringatan tertulis\\nditetapkan.   \\n\\n\\n(3) Dalam \\nhal \\nsebelum \\nberakhirnya \\njangka \\nwaktu \\nperingatan tertulis sebagaimana dimaksud pada ayat \\n(2), \\nPerusahaan \\nPerasuransian, \\nPerusahaan \\nPembiayaan, \\natau \\nPerusahaan \\nPenjaminan \\ntelah \\nmemenuhi ketentuan maka peringatan tertulis berakhir \\ndengan sendirinya.  \\n(4) Dalam \\nhal \\nsetelah \\ndiberikan \\nperingatan \\ntertulis \\nsebanyak 3 (tiga) kali berturut-turut Perusahaan \\nPerasuransian, Perusahaan \\nPembiayaan, \\natau \\nPerusahaan \\nPenjaminan \\ntetap \\ntidak \\nmemenuhi \\nketentuan maka OJK menetapkan sanksi pembekuan \\nkegiatan usaha. \\n\\n\\n(5) Pembekuan kegiatan usaha sebagaimana dimaksud \\npada ayat (1) huruf b diberikan secara tertulis dan \\nberlaku untuk jangka waktu 6 (enam) bulan sejak surat \\npembekuan kegiatan usaha ditetapkan.  \\n\\n\\n(6) Selama masa pembekuan kegiatan usaha sebagaimana \\ndimaksud pada ayat (4), Perusahaan Perasuransian, \\nPerusahaan Pembiayaan, atau Perusahaan Penjaminan: \\na. dilarang mengeluarkan produk dan/atau layanan\\nbaru; dan \\nb. bertanggung jawab untuk menyelesaikan segala \\nkewajiban yang telah dilakukan. \\n\\n\\n(7) Dalam \\nhal \\nsebelum \\nberakhirnya \\njangka \\nwaktu \\npembekuan kegiatan usaha sebagaimana dimaksud \\npada ayat (4), Perusahaan Perasuransiaan, Perusahaan \\nPembiayaan...\\n\\nQuestion: Apa saja sanksi administratif yang dapat dikenakan menurut Pasal 25 ayat (1)?\\nAnswer:   \n",
       "1                                                                                                                                                                                                                                                                                                                                                                                                                                                                                                                                                                                                                                                                                                                                                                                                                                                                                                                                                                                                                                                                                                                                                                                 Anda adalah pakar regulasi keuangan Indonesia. Jawablah berdasarkan konteks yang disediakan; jika tidak terdapat pada konteks, jawab “Saya tidak tahu terkait {question}.”\\n\\nContext:\\nPasal 1 Dalam Peraturan Otoritas Jasa Keuangan ini, yang dimaksud dengan: 1. Bursa Efek adalah Pihak yang menyelenggarakan dan menyediakan sistem dan/atau sarana untuk mempertemukan penawaran jual dan beli Efek Pihak- Pihak lain dengan tujuan memperdagangkan Efek di antara mereka. 2. Lembaga Kliring dan Penjaminan adalah Pihak yang menyelenggarakan jasa kliring dan penjaminan penyelesaian Transaksi Bursa. 3. Lembaga Penyimpanan dan Penyelesaian adalah Pihak yang menyelenggarakan kegiatan Kustodian sentral bagi Bank Kustodian, Perusahaan Efek, dan Pihak lain. 4. Dewan Komisaris adalah organ Lembaga Penyimpanan dan Penyelesaian yang bertugas melakukan pengawasan secara umum dan/atau khusus sesuai dengan anggaran dasar serta memberi nasihat kepada Direksi.\\n\\nQuestion: Apa saja tugas Dewan Komisaris di luar pengawasan menurut peraturan ini?\\nAnswer:   \n",
       "2                                                                                                                                                                                                                                                                                                                                                                                                                                                                                                                                                                                                                                     Anda adalah pakar regulasi keuangan Indonesia. Jawablah berdasarkan konteks yang disediakan; jika tidak terdapat pada konteks, jawab “Saya tidak tahu terkait {question}.”\\n\\nContext:\\nPasal 13 (1) Permohonan perizinan Penyelenggara sebagaimana dimaksud dalam Pasal 5 disampaikan oleh Penyelenggara kepada Kepala Eksekutif Pengawas Pasar Modal sesuai dengan format Permohonan Perizinan Penyelenggara tercantum dalam Lampiran yang merupakan bagian tidak terpisahkan dari Peraturan Otoritas Jasa Keuangan ini dengan disertai dokumen paling sedikit:  a. fotokopi akta pendirian badan hukum; b. fotokopi akta perubahan anggaran dasar terakhir, yang telah disahkan atau disetujui oleh instansi yang berwenang atau diberitahukan kepada instansi yang berwenang, yang memuat kegiatan usaha layanan jasa keuangan yang mencakup Layanan Urun Dana;  c. data pemegang saham, jika Penyelenggara merupakan perseroan terbatas: 1. untuk pemegang saham orang perseorangan, dengan melampirkan:  a) fotokopi tanda pengenal berupa kartu tanda penduduk atau paspor bagi warga negara asing, yang masih berlaku;  b) fotokopi Nomor Pokok Wajib Pajak;  c) daftar riwayat hidup sesuai dengan format Daftar Riwayat Hidup tercantum dalam Lampiran yang merupakan bagian yang tidak terpisahkan dari Peraturan Otoritas Jasa Keuangan ini, dengan dilengkapi pasfoto berwarna terbaru berukuran 4x6 cm; dan  d) pernyataan dari pemegang saham sesuai dengan format Surat Pernyataan Pemegang Saham Orang\\n\\nQuestion: Apa saja dokumen yang harus disertakan dalam permohonan perizinan Penyelenggara?\\nAnswer:   \n",
       "3                                                                                                                                                                                                                                                                                                                                                                                                                                                                                                                                                                                                                                                                                                                                                                                                                                                                                     Anda adalah pakar regulasi keuangan Indonesia. Jawablah berdasarkan konteks yang disediakan; jika tidak terdapat pada konteks, jawab “Saya tidak tahu terkait {question}.”\\n\\nContext:\\nPasal 24  \\n \\n Manajer Investasi dapat mengalihkan pelaksanaan \\nfungsi \\nteknologi \\ninformasi, \\nfungsi \\npengembangan \\nsumber daya manusia, serta fungsi akuntansi dan \\nkeuangan kepada penyedia jasa yang berbentuk badan \\nhukum dengan tetap memperhatikan ketentuan yang \\nterkait \\ndengan \\npelaksanaan \\nfungsi-fungsi \\ntersebut \\ndalam Peraturan Otoritas Jasa Keuangan ini dan \\nperaturan perundang-undangan yang berlaku.  \\nPasal 25  \\n \\n Dalam hal Manajer Investasi mengalihkan fungsi-fungsi \\nsebagaimana dimaksud dalam Pasal 24, Manajer \\nInvestasi bertanggung jawab terhadap perilaku dan \\nkegiatan yang dilakukan oleh penyedia jasa yang \\nmenerima \\npengalihan \\nfungsi-fungsi \\ndari \\nManajer \\nInvestasi dimaksud. \\nPasal 26  \\n \\n Manajer \\nInvestasi \\nyang \\nmelakukan \\npengalihan \\npelaksanaan \\nfungsi-fungsi \\nsebagaimana \\ndimaksud \\ndalam Pasal 24 wajib memastikan bahwa penyedia jasa \\nyang menerima pengalihan pelaksanaan fungsi-fungsi \\ntersebut adalah profesional yang mempunyai standar \\nkapasitas...\\n\\nQuestion: Fungsi apa saja yang dapat dialihkan pelaksanaannya kepada penyedia jasa menurut Pasal 24?\\nAnswer:   \n",
       "4                                                                                                                                                                                                     Anda adalah pakar regulasi keuangan Indonesia. Jawablah berdasarkan konteks yang disediakan; jika tidak terdapat pada konteks, jawab “Saya tidak tahu terkait {question}.”\\n\\nContext:\\nPasal 1  Dalam Peraturan Otoritas Jasa Keuangan ini yang dimaksud dengan: 1. Pihak adalah orang perseorangan, badan hukum, perusahaan, usaha bersama, asosiasi, atau kelompok yang terorganisasi. 2. Layanan Administrasi Prinsip Mengenali Nasabah yang selanjutnya disingkat LAPMN adalah layanan penyimpanan data dan dokumen calon nasabah dan/atau nasabah pengguna LAPMN yang tersentralisasi untuk dapat digunakan dalam mendukung pelaksanaan kegiatan customer due diligence dan/atau enhanced due diligence oleh pengguna LAPMN. 3. Penyelenggara Layanan Administrasi Prinsip Mengenali Nasabah yang selanjutnya disebut Penyelenggara LAPMN adalah Pihak yang menyediakan dan mengelola LAPMN. 4. Pengguna Layanan Administrasi Prinsip Mengenali Nasabah yang selanjutnya disebut Pengguna LAPMN adalah Pihak yang menggunakan layanan dari Penyelenggara LAPMN. 5. Calon Nasabah adalah Pihak yang akan menggunakan jasa Pengguna LAPMN. 6. Nasabah adalah Pihak yang menggunakan jasa Pengguna LAPMN. 7. Customer Due Diligence yang selanjutnya disingkat CDD adalah kegiatan berupa identifikasi, verifikasi, dan pemantauan yang dilakukan oleh Pengguna LAPMN untuk memastikan transaksi sesuai dengan profil, karakteristik, dan/atau pola transaksi Calon Nasabah, Nasabah, atau walk in customer. 8. Enhanced Due Diligence yang selanjutnya disingkat EDD adalah tindakan CDD lebih mendalam yang dilakukan Pengguna LAPMN terhadap Calon Nasabah, walk in customer, atau Nasabah, yang berisiko tinggi termasuk politically exposed person dan/atau dalam area berisiko tinggi. 9. Efek adalah surat berharga atau kontrak investasi baik dalam bentuk konvensional dan digital atau bentuk lain sesuai dengan perkembangan teknologi yang\\n\\nQuestion: Apa tujuan utama dari Layanan Administrasi Prinsip Mengenali Nasabah (LAPMN)?\\nAnswer:   \n",
       "\n",
       "                                                                                                                                        chosen  \\\n",
       "0   Mekanisme proses dijelaskan sebagai sanksi administratif berupa peringatan tertulis, pembekuan kegiatan usaha, atau pencabutan izin usaha.   \n",
       "1                                                      Saya tidak tahu terkait tugas Dewan Komisaris di luar pengawasan menurut peraturan ini.   \n",
       "2   Kategori penilaian meliputi fotokopi akta pendirian badan hukum, fotokopi akta perubahan anggaran dasar terakhir, dan data pemegang saham.   \n",
       "3       Cakupan Dokumen ini mencakup fungsi teknologi informasi, fungsi pengembangan sumber daya manusia, serta fungsi akuntansi dan keuangan.   \n",
       "4                                            Saya tidak tahu terkait tujuan utama dari Layanan Administrasi Prinsip Mengenali Nasabah (LAPMN).   \n",
       "\n",
       "                                                                                                                                                                                                                                                                                                                                                                                                                                                                                                                                                                                                                                                                                                                                                                                                                                                                                                                               rejected  \n",
       "0                                                                                                                                                                                                                                                                                                                                                                                                                                                                                                                                                                                                                                                                                                                                                                                                                                                            peringatan tertulis; pembekuan kegiatan usaha; atau pencabutan izin usaha.  \n",
       "1                                                                                                                                                                                                                                                                                                                                                                                                                                                                                                                                                                                                                                                                                                                                                                                                                                                                                               Saya tidak tahu terkait pertanyaan ini.  \n",
       "2   fotokopi akta pendirian badan hukum; fotokopi akta perubahan anggaran dasar terakhir, yang telah disahkan atau disetujui oleh instansi yang berwenang atau diberitahukan kepada instansi yang berwenang, yang memuat kegiatan usaha layanan jasa keuangan yang mencakup Layanan Urun Dana; data pemegang saham, jika Penyelenggara merupakan perseroan terbatas: untuk pemegang saham orang perseorangan, dengan melampirkan: a) fotokopi tanda pengenal berupa kartu tanda penduduk atau paspor bagi warga negara asing, yang masih berlaku; b) fotokopi Nomor Pokok Wajib Pajak; c) daftar riwayat hidup sesuai dengan format Daftar Riwayat Hidup tercantum dalam Lampiran yang merupakan bagian yang tidak terpisahkan dari Peraturan Otoritas Jasa Keuangan ini, dengan dilengkapi pasfoto berwarna terbaru berukuran 4x6 cm; dan d) pernyataan dari pemegang saham sesuai dengan format Surat Pernyataan Pemegang Saham Orang  \n",
       "3                                                                                                                                                                                                                                                                                                                                                                                                                                                                                                                                                                                                                                                                                                                                                                                                                              fungsi teknologi informasi, fungsi pengembangan sumber daya manusia, serta fungsi akuntansi dan keuangan  \n",
       "4                                                                                                                                                                                                                                                                                                                                                                                                                                                                                                                                                                                                                                                                                                                                                                                                                                                       Saya tidak tahu terkait Layanan Administrasi Prinsip Mengenali Nasabah (LAPMN).  "
      ]
     },
     "metadata": {},
     "output_type": "display_data"
    },
    {
     "name": "stdout",
     "output_type": "stream",
     "text": [
      "\n",
      "▶ Generating rejected responses with SFT SeaLLMs-v3-7B\n"
     ]
    },
    {
     "name": "stderr",
     "output_type": "stream",
     "text": [
      "Sliding Window Attention is enabled but not implemented for `sdpa`; unexpected results may be encountered.\n",
      "Loading checkpoint shards: 100%|██████████| 7/7 [00:15<00:00,  2.27s/it]\n",
      "Inferring SeaLLMs-v3-7B: 100%|██████████| 48/48 [26:42<00:00, 33.38s/it]"
     ]
    },
    {
     "name": "stdout",
     "output_type": "stream",
     "text": [
      "→ Inference time: 1602.1s, total pairs: 1524\n",
      "✔️ Saved raw preference dataset to `preference_SeaLLMs-v3-7B.jsonl`\n",
      "✔️ Cleaned preference dataset saved to `preference_SeaLLMs-v3-7B_clean.jsonl`\n"
     ]
    },
    {
     "name": "stderr",
     "output_type": "stream",
     "text": [
      "\n"
     ]
    },
    {
     "data": {
      "text/html": [
       "<div>\n",
       "<style scoped>\n",
       "    .dataframe tbody tr th:only-of-type {\n",
       "        vertical-align: middle;\n",
       "    }\n",
       "\n",
       "    .dataframe tbody tr th {\n",
       "        vertical-align: top;\n",
       "    }\n",
       "\n",
       "    .dataframe thead th {\n",
       "        text-align: right;\n",
       "    }\n",
       "</style>\n",
       "<table border=\"1\" class=\"dataframe\">\n",
       "  <thead>\n",
       "    <tr style=\"text-align: right;\">\n",
       "      <th></th>\n",
       "      <th>prompt</th>\n",
       "      <th>chosen</th>\n",
       "      <th>rejected</th>\n",
       "    </tr>\n",
       "  </thead>\n",
       "  <tbody>\n",
       "    <tr>\n",
       "      <th>0</th>\n",
       "      <td>Anda adalah pakar regulasi keuangan Indonesia. Jawablah berdasarkan konteks yang disediakan; jika tidak terdapat pada konteks, jawab “Saya tidak tahu terkait {question}.”\\n\\nContext:\\nDireksi dan/atau anggota Dewan Komisaris; b. menyusun kebijakan atas Remunerasi bagi anggota Direksi dan/atau anggota Dewan Komisaris; dan c. menyusun besaran atas Remunerasi bagi anggota Direksi dan/atau anggota Dewan Komisaris.  (2) Struktur Remunerasi sebagaimana dimaksud pada ayat (1) huruf a dapat berupa: a. gaji;  b. honorarium;  c. insentif; dan/atau  d. tunjangan yang bersifat tetap dan/atau variabel. (3) Penyusunan struktur, kebijakan, dan besaran Remunerasi sebagaimana dimaksud pada ayat (1) harus memperhatikan: a. Remunerasi yang berlaku pada industri sesuai dengan kegiatan usaha Emiten atau Perusahaan Publik sejenis dan skala usaha dari Emiten atau Perusahaan Publik dalam industrinya; b. tugas, tanggung jawab, dan wewenang anggota Direksi dan/atau anggota Dewan Komisaris dikaitkan dengan pencapaian tujuan dan kinerja Emiten atau Perusahaan Publik; c. target kinerja atau kinerja masing-masing anggota Direksi dan/atau anggota Dewan Komisaris; dan d. keseimbangan tunjangan antara yang bersifat tetap dan bersifat variabel. (4) Struktur...\\n\\nQuestion: Apa saja bentuk struktur Remunerasi menurut Pasal 10 ayat (2)?\\nAnswer:</td>\n",
       "      <td>Ketentuan umum yang ditetapkan adalah gaji, honorarium, insentif, dan/atau tunjangan yang bersifat tetap dan/atau variabel.</td>\n",
       "      <td>Menurut Pasal 10 ayat (2), struktur Remunerasi dapat berupa gaji, honorarium, insentif, dan/atau tunjangan yang bersifat tetap dan/atau variabel.</td>\n",
       "    </tr>\n",
       "    <tr>\n",
       "      <th>1</th>\n",
       "      <td>Anda adalah pakar regulasi keuangan Indonesia. Jawablah berdasarkan konteks yang disediakan; jika tidak terdapat pada konteks, jawab “Saya tidak tahu terkait {question}.”\\n\\nContext:\\nPasal 18 Peraturan Otoritas Jasa Keuangan ini mulai berlaku pada tanggal diundangkan.  - 13 -  Salinan ini sesuai dengan aslinya Direktur Hukum 1 Departemen Hukum  ttd  Yuliana Agar setiap orang mengetahuinya, memerintahkan pengundangan Peraturan Otoritas Jasa Keuangan ini dengan penempatannya dalam Lembaran Negara Republik Indonesia.   Ditetapkan di Jakarta pada tanggal 12 Juli 2017        KETUA DEWAN KOMISIONER OTORITAS JASA KEUANGAN,   ttd  MULIAMAN D. HADAD  Diundangkan di Jakarta pada tanggal 12 Juli 2017  MENTERI HUKUM DAN HAK ASASI MANUSIA REPUBLIK INDONESIA,  ttd  YASONNA H. LAOLY   LEMBARAN NEGARA REPUBLIK INDONESIA TAHUN 2017 NOMOR 144\\n\\nQuestion: Kapan peraturan ini mulai berlaku?\\nAnswer:</td>\n",
       "      <td>Masa berlaku peraturan ini sampai mulai berlaku pada tanggal diundangkan.</td>\n",
       "      <td>Peraturan ini mulai berlaku pada tanggal diundangkan.</td>\n",
       "    </tr>\n",
       "    <tr>\n",
       "      <th>2</th>\n",
       "      <td>Anda adalah pakar regulasi keuangan Indonesia. Jawablah berdasarkan konteks yang disediakan; jika tidak terdapat pada konteks, jawab “Saya tidak tahu terkait {question}.”\\n\\nContext:\\nPasal II Peraturan Otoritas Jasa Keuangan ini mulai berlaku pada tanggal diundangkan. - 9 - Salinan ini sesuai dengan aslinya Deputi Direktur Konsultansi Hukum dan Harmonisasi Peraturan Perbankan 1 Direktorat Hukum 1 Departemen Hukum ttd Wiwit Puspasari Agar setiap orang mengetahuinya, memerintahkan pengundangan Peraturan Otoritas Jasa Keuangan ini dengan penempatannya dalam Lembaran Negara Republik Indonesia. Ditetapkan di Jakarta pada tanggal 19 April 2018 KETUA DEWAN KOMISIONER OTORITAS JASA KEUANGAN, ttd WIMBOH SANTOSO Diundangkan di Jakarta pada tanggal 22 April 2018 MENTERI HUKUM DAN HAK ASASI MANUSIA REPUBLIK INDONESIA, ttd YASONNA H. LAOLY LEMBARAN NEGARA REPUBLIK INDONESIA TAHUN 2018 NOMOR 67\\n\\nQuestion: Kapan peraturan ini mulai berlaku?\\nAnswer:</td>\n",
       "      <td>Masa berlaku peraturan ini sampai mulai berlaku pada tanggal diundangkan.</td>\n",
       "      <td>Peraturan ini mulai berlaku pada tanggal diundangkan.</td>\n",
       "    </tr>\n",
       "    <tr>\n",
       "      <th>3</th>\n",
       "      <td>Anda adalah pakar regulasi keuangan Indonesia. Jawablah berdasarkan konteks yang disediakan; jika tidak terdapat pada konteks, jawab “Saya tidak tahu terkait {question}.”\\n\\nContext:\\nPasal 1 Dalam Peraturan Otoritas Jasa Keuangan ini, yang dimaksud dengan: 1. Bank Umum yang selanjutnya disebut Bank adalah bank yang melaksanakan kegiatan usaha secara konvensional atau melaksanakan kegiatan usaha berdasarkan prinsip syariah, yang dalam kegiatannya memberikan jasa dalam lalu lintas pembayaran, termasuk kantor cabang dari bank yang berkedudukan di luar negeri dan unit usaha syariah. 2. Penyertaan Modal adalah penanaman dana Bank dalam bentuk saham, termasuk penanaman dalam bentuk surat utang konversi wajib atau surat investasi konversi wajib atau jenis transaksi tertentu yang berakibat Bank memiliki atau akan memiliki saham pada perusahaan penerima Penyertaan Modal. 3. Penyertaan Modal Sementara adalah penanaman dana Bank dalam bentuk saham pada debitur berbentuk perusahaan untuk mengatasi akibat kegagalan kredit atau kegagalan pembiayaan berdasarkan prinsip syariah. 4. Penerima Penyertaan Modal yang selanjutnya disebut Investee adalah perusahaan tempat Bank melakukan Penyertaan Modal. 5. Perusahaan Anak adalah entitas yang dikendalikan oleh Bank sebagaimana dimaksud dalam standar akuntansi keuangan di Indonesia. 6. Divestasi adalah pelepasan atau pengurangan Penyertaan Modal pada Investee baik yang dilakukan secara langsung maupun melalui pasar modal.\\n\\nQuestion: Apa definisi Penyertaan Modal menurut Pasal 1?\\nAnswer:</td>\n",
       "      <td>Subjek yang diatur meliputi penanaman dana Bank dalam bentuk saham, termasuk penanaman dalam bentuk surat utang konversi wajib atau surat investasi konversi wajib atau jenis transaksi tertentu yang berakibat Bank memiliki atau akan memiliki saham pada perusahaan penerima Penyertaan Modal.</td>\n",
       "      <td>Penyertaan Modal adalah penanaman dana Bank dalam bentuk saham, termasuk penanaman dalam bentuk surat utang konversi wajib atau surat investasi konversi wajib atau jenis transaksi tertentu yang berakibat Bank memiliki atau akan memiliki saham pada perusahaan penerima Penyertaan Modal.</td>\n",
       "    </tr>\n",
       "    <tr>\n",
       "      <th>4</th>\n",
       "      <td>Anda adalah pakar regulasi keuangan Indonesia. Jawablah berdasarkan konteks yang disediakan; jika tidak terdapat pada konteks, jawab “Saya tidak tahu terkait {question}.”\\n\\nContext:\\nPasal 36 (1) Bank yang terlambat menyampaikan laporan evaluasi sebagaimana dimaksud dalam Pasal 32 ayat (2) dikenai sanksi administratif berupa denda sebesar Rp1.000.000,00 (satu juta rupiah) per hari kerja keterlambatan per laporan dan paling banyak Rp50.000.000,00 (lima puluh juta rupiah) per laporan. (2) Pengenaan sanksi administratif sebagaimana dimaksud pada ayat (1) tidak menghilangkan kewajiban penyampaian laporan bagi Bank yang belum menyampaikan laporan sebagaimana dimaksud dalam Pasal 32 ayat (2). (3) Bank yang menyampaikan laporan sebagaimana dimaksud dalam Pasal 32 ayat (2), namun: a. dinilai tidak lengkap; dan/atau b. tidak dilampiri dengan dokumen dan informasi yang material, sesuai dengan format yang ditentukan, dikenai sanksi administratif berupa teguran tertulis. (4) Bank yang tidak memperbaiki laporan evaluasi dalam jangka waktu yang telah ditetapkan pada teguran tertulis sebagaimana dimaksud pada ayat (3), dikenai sanksi administratif berupa denda sebesar Rp50.000.000,00 (lima puluh juta rupiah).\\n\\nQuestion: Apa saja sanksi hukum yang dikenakan menurut Pasal 36?\\nAnswer:</td>\n",
       "      <td>Sanksi yang dikenakan adalah denda administratif per hari keterlambatan, teguran tertulis, dan denda tambahan jika tidak memperbaiki laporan evaluasi.</td>\n",
       "      <td>Sanksi hukum yang dikenakan menurut Pasal 36 adalah denda sebesar Rp1.000.000,00 (satu juta rupiah) per hari kerja keterlambatan per laporan dan paling banyak Rp50.000.000,00 (lima puluh juta rupiah) per laporan.</td>\n",
       "    </tr>\n",
       "  </tbody>\n",
       "</table>\n",
       "</div>"
      ],
      "text/plain": [
       "                                                                                                                                                                                                                                                                                                                                                                                                                                                                                                                                                                                                                                                                                                                                                                                                                                                                                                                                                                                                                                                                                                                                                                                                                                                                                                                                                                                                                                                                                                                                                                                                   prompt  \\\n",
       "0                                                                                                                                                                                                                     Anda adalah pakar regulasi keuangan Indonesia. Jawablah berdasarkan konteks yang disediakan; jika tidak terdapat pada konteks, jawab “Saya tidak tahu terkait {question}.”\\n\\nContext:\\nDireksi dan/atau anggota Dewan Komisaris; b. menyusun kebijakan atas Remunerasi bagi anggota Direksi dan/atau anggota Dewan Komisaris; dan c. menyusun besaran atas Remunerasi bagi anggota Direksi dan/atau anggota Dewan Komisaris.  (2) Struktur Remunerasi sebagaimana dimaksud pada ayat (1) huruf a dapat berupa: a. gaji;  b. honorarium;  c. insentif; dan/atau  d. tunjangan yang bersifat tetap dan/atau variabel. (3) Penyusunan struktur, kebijakan, dan besaran Remunerasi sebagaimana dimaksud pada ayat (1) harus memperhatikan: a. Remunerasi yang berlaku pada industri sesuai dengan kegiatan usaha Emiten atau Perusahaan Publik sejenis dan skala usaha dari Emiten atau Perusahaan Publik dalam industrinya; b. tugas, tanggung jawab, dan wewenang anggota Direksi dan/atau anggota Dewan Komisaris dikaitkan dengan pencapaian tujuan dan kinerja Emiten atau Perusahaan Publik; c. target kinerja atau kinerja masing-masing anggota Direksi dan/atau anggota Dewan Komisaris; dan d. keseimbangan tunjangan antara yang bersifat tetap dan bersifat variabel. (4) Struktur...\\n\\nQuestion: Apa saja bentuk struktur Remunerasi menurut Pasal 10 ayat (2)?\\nAnswer:   \n",
       "1                                                                                                                                                                                                                                                                                                                                                                                                                                                                                                                                                                                                                                                                          Anda adalah pakar regulasi keuangan Indonesia. Jawablah berdasarkan konteks yang disediakan; jika tidak terdapat pada konteks, jawab “Saya tidak tahu terkait {question}.”\\n\\nContext:\\nPasal 18 Peraturan Otoritas Jasa Keuangan ini mulai berlaku pada tanggal diundangkan.  - 13 -  Salinan ini sesuai dengan aslinya Direktur Hukum 1 Departemen Hukum  ttd  Yuliana Agar setiap orang mengetahuinya, memerintahkan pengundangan Peraturan Otoritas Jasa Keuangan ini dengan penempatannya dalam Lembaran Negara Republik Indonesia.   Ditetapkan di Jakarta pada tanggal 12 Juli 2017        KETUA DEWAN KOMISIONER OTORITAS JASA KEUANGAN,   ttd  MULIAMAN D. HADAD  Diundangkan di Jakarta pada tanggal 12 Juli 2017  MENTERI HUKUM DAN HAK ASASI MANUSIA REPUBLIK INDONESIA,  ttd  YASONNA H. LAOLY   LEMBARAN NEGARA REPUBLIK INDONESIA TAHUN 2017 NOMOR 144\\n\\nQuestion: Kapan peraturan ini mulai berlaku?\\nAnswer:   \n",
       "2                                                                                                                                                                                                                                                                                                                                                                                                                                                                                                                                                                                                                 Anda adalah pakar regulasi keuangan Indonesia. Jawablah berdasarkan konteks yang disediakan; jika tidak terdapat pada konteks, jawab “Saya tidak tahu terkait {question}.”\\n\\nContext:\\nPasal II Peraturan Otoritas Jasa Keuangan ini mulai berlaku pada tanggal diundangkan. - 9 - Salinan ini sesuai dengan aslinya Deputi Direktur Konsultansi Hukum dan Harmonisasi Peraturan Perbankan 1 Direktorat Hukum 1 Departemen Hukum ttd Wiwit Puspasari Agar setiap orang mengetahuinya, memerintahkan pengundangan Peraturan Otoritas Jasa Keuangan ini dengan penempatannya dalam Lembaran Negara Republik Indonesia. Ditetapkan di Jakarta pada tanggal 19 April 2018 KETUA DEWAN KOMISIONER OTORITAS JASA KEUANGAN, ttd WIMBOH SANTOSO Diundangkan di Jakarta pada tanggal 22 April 2018 MENTERI HUKUM DAN HAK ASASI MANUSIA REPUBLIK INDONESIA, ttd YASONNA H. LAOLY LEMBARAN NEGARA REPUBLIK INDONESIA TAHUN 2018 NOMOR 67\\n\\nQuestion: Kapan peraturan ini mulai berlaku?\\nAnswer:   \n",
       "3  Anda adalah pakar regulasi keuangan Indonesia. Jawablah berdasarkan konteks yang disediakan; jika tidak terdapat pada konteks, jawab “Saya tidak tahu terkait {question}.”\\n\\nContext:\\nPasal 1 Dalam Peraturan Otoritas Jasa Keuangan ini, yang dimaksud dengan: 1. Bank Umum yang selanjutnya disebut Bank adalah bank yang melaksanakan kegiatan usaha secara konvensional atau melaksanakan kegiatan usaha berdasarkan prinsip syariah, yang dalam kegiatannya memberikan jasa dalam lalu lintas pembayaran, termasuk kantor cabang dari bank yang berkedudukan di luar negeri dan unit usaha syariah. 2. Penyertaan Modal adalah penanaman dana Bank dalam bentuk saham, termasuk penanaman dalam bentuk surat utang konversi wajib atau surat investasi konversi wajib atau jenis transaksi tertentu yang berakibat Bank memiliki atau akan memiliki saham pada perusahaan penerima Penyertaan Modal. 3. Penyertaan Modal Sementara adalah penanaman dana Bank dalam bentuk saham pada debitur berbentuk perusahaan untuk mengatasi akibat kegagalan kredit atau kegagalan pembiayaan berdasarkan prinsip syariah. 4. Penerima Penyertaan Modal yang selanjutnya disebut Investee adalah perusahaan tempat Bank melakukan Penyertaan Modal. 5. Perusahaan Anak adalah entitas yang dikendalikan oleh Bank sebagaimana dimaksud dalam standar akuntansi keuangan di Indonesia. 6. Divestasi adalah pelepasan atau pengurangan Penyertaan Modal pada Investee baik yang dilakukan secara langsung maupun melalui pasar modal.\\n\\nQuestion: Apa definisi Penyertaan Modal menurut Pasal 1?\\nAnswer:   \n",
       "4                                                                                                                                                                                                                                                             Anda adalah pakar regulasi keuangan Indonesia. Jawablah berdasarkan konteks yang disediakan; jika tidak terdapat pada konteks, jawab “Saya tidak tahu terkait {question}.”\\n\\nContext:\\nPasal 36 (1) Bank yang terlambat menyampaikan laporan evaluasi sebagaimana dimaksud dalam Pasal 32 ayat (2) dikenai sanksi administratif berupa denda sebesar Rp1.000.000,00 (satu juta rupiah) per hari kerja keterlambatan per laporan dan paling banyak Rp50.000.000,00 (lima puluh juta rupiah) per laporan. (2) Pengenaan sanksi administratif sebagaimana dimaksud pada ayat (1) tidak menghilangkan kewajiban penyampaian laporan bagi Bank yang belum menyampaikan laporan sebagaimana dimaksud dalam Pasal 32 ayat (2). (3) Bank yang menyampaikan laporan sebagaimana dimaksud dalam Pasal 32 ayat (2), namun: a. dinilai tidak lengkap; dan/atau b. tidak dilampiri dengan dokumen dan informasi yang material, sesuai dengan format yang ditentukan, dikenai sanksi administratif berupa teguran tertulis. (4) Bank yang tidak memperbaiki laporan evaluasi dalam jangka waktu yang telah ditetapkan pada teguran tertulis sebagaimana dimaksud pada ayat (3), dikenai sanksi administratif berupa denda sebesar Rp50.000.000,00 (lima puluh juta rupiah).\\n\\nQuestion: Apa saja sanksi hukum yang dikenakan menurut Pasal 36?\\nAnswer:   \n",
       "\n",
       "                                                                                                                                                                                                                                                                                               chosen  \\\n",
       "0                                                                                                                                                                         Ketentuan umum yang ditetapkan adalah gaji, honorarium, insentif, dan/atau tunjangan yang bersifat tetap dan/atau variabel.   \n",
       "1                                                                                                                                                                                                                           Masa berlaku peraturan ini sampai mulai berlaku pada tanggal diundangkan.   \n",
       "2                                                                                                                                                                                                                           Masa berlaku peraturan ini sampai mulai berlaku pada tanggal diundangkan.   \n",
       "3   Subjek yang diatur meliputi penanaman dana Bank dalam bentuk saham, termasuk penanaman dalam bentuk surat utang konversi wajib atau surat investasi konversi wajib atau jenis transaksi tertentu yang berakibat Bank memiliki atau akan memiliki saham pada perusahaan penerima Penyertaan Modal.   \n",
       "4                                                                                                                                              Sanksi yang dikenakan adalah denda administratif per hari keterlambatan, teguran tertulis, dan denda tambahan jika tidak memperbaiki laporan evaluasi.   \n",
       "\n",
       "                                                                                                                                                                                                                                                                                         rejected  \n",
       "0                                                                                                                                               Menurut Pasal 10 ayat (2), struktur Remunerasi dapat berupa gaji, honorarium, insentif, dan/atau tunjangan yang bersifat tetap dan/atau variabel.  \n",
       "1                                                                                                                                                                                                                                           Peraturan ini mulai berlaku pada tanggal diundangkan.  \n",
       "2                                                                                                                                                                                                                                           Peraturan ini mulai berlaku pada tanggal diundangkan.  \n",
       "3   Penyertaan Modal adalah penanaman dana Bank dalam bentuk saham, termasuk penanaman dalam bentuk surat utang konversi wajib atau surat investasi konversi wajib atau jenis transaksi tertentu yang berakibat Bank memiliki atau akan memiliki saham pada perusahaan penerima Penyertaan Modal.  \n",
       "4                                                                            Sanksi hukum yang dikenakan menurut Pasal 36 adalah denda sebesar Rp1.000.000,00 (satu juta rupiah) per hari kerja keterlambatan per laporan dan paling banyak Rp50.000.000,00 (lima puluh juta rupiah) per laporan.  "
      ]
     },
     "metadata": {},
     "output_type": "display_data"
    },
    {
     "name": "stdout",
     "output_type": "stream",
     "text": [
      "\n",
      "▶ Generating rejected responses with SFT SEA-LION-v3-8B\n"
     ]
    },
    {
     "name": "stderr",
     "output_type": "stream",
     "text": [
      "Loading checkpoint shards: 100%|██████████| 4/4 [00:14<00:00,  3.58s/it]\n",
      "Inferring SEA-LION-v3-8B:   0%|          | 0/48 [00:00<?, ?it/s]/raid/home/llmsosmed/rlaif/lib/python3.10/site-packages/transformers/generation/configuration_utils.py:631: UserWarning: `do_sample` is set to `False`. However, `temperature` is set to `0.6` -- this flag is only used in sample-based generation modes. You should set `do_sample=True` or unset `temperature`.\n",
      "  warnings.warn(\n",
      "/raid/home/llmsosmed/rlaif/lib/python3.10/site-packages/transformers/generation/configuration_utils.py:636: UserWarning: `do_sample` is set to `False`. However, `top_p` is set to `0.9` -- this flag is only used in sample-based generation modes. You should set `do_sample=True` or unset `top_p`.\n",
      "  warnings.warn(\n",
      "Inferring SEA-LION-v3-8B: 100%|██████████| 48/48 [32:01<00:00, 40.03s/it]"
     ]
    },
    {
     "name": "stdout",
     "output_type": "stream",
     "text": [
      "→ Inference time: 1921.4s, total pairs: 1524\n",
      "✔️ Saved raw preference dataset to `preference_SEA-LION-v3-8B.jsonl`\n",
      "✔️ Cleaned preference dataset saved to `preference_SEA-LION-v3-8B_clean.jsonl`\n"
     ]
    },
    {
     "name": "stderr",
     "output_type": "stream",
     "text": [
      "\n"
     ]
    },
    {
     "data": {
      "text/html": [
       "<div>\n",
       "<style scoped>\n",
       "    .dataframe tbody tr th:only-of-type {\n",
       "        vertical-align: middle;\n",
       "    }\n",
       "\n",
       "    .dataframe tbody tr th {\n",
       "        vertical-align: top;\n",
       "    }\n",
       "\n",
       "    .dataframe thead th {\n",
       "        text-align: right;\n",
       "    }\n",
       "</style>\n",
       "<table border=\"1\" class=\"dataframe\">\n",
       "  <thead>\n",
       "    <tr style=\"text-align: right;\">\n",
       "      <th></th>\n",
       "      <th>prompt</th>\n",
       "      <th>chosen</th>\n",
       "      <th>rejected</th>\n",
       "    </tr>\n",
       "  </thead>\n",
       "  <tbody>\n",
       "    <tr>\n",
       "      <th>0</th>\n",
       "      <td>Anda adalah pakar regulasi keuangan Indonesia. Jawablah berdasarkan konteks yang disediakan; jika tidak terdapat pada konteks, jawab “Saya tidak tahu terkait {question}.”\\n\\nContext:\\nPasal 12 (1) Perubahan Rencana Bisnis sebagaimana dimaksud dalam Pasal 11 ayat (1) hanya dapat dilakukan 1 (satu) kali. (2) Perubahan Rencana Bisnis sebagaimana dimaksud pada ayat (1) hanya dapat dilakukan paling lambat pada akhir bulan Juni tahun berjalan. (3) Ketentuan sebagaimana dimaksud pada ayat (1) dan ayat (2) dikecualikan bagi perubahan Rencana Bisnis yang dilaksanakan dalam rangka penugasan pemerintah pada LJKNB.\\n\\nQuestion: Berapa kali perubahan Rencana Bisnis dapat dilakukan menurut Pasal 12 ayat (1)?\\nAnswer:</td>\n",
       "      <td>Ketentuan umum yang ditetapkan adalah hanya dapat dilakukan 1 (satu) kali.</td>\n",
       "      <td>1 (satu) kali.</td>\n",
       "    </tr>\n",
       "    <tr>\n",
       "      <th>1</th>\n",
       "      <td>Anda adalah pakar regulasi keuangan Indonesia. Jawablah berdasarkan konteks yang disediakan; jika tidak terdapat pada konteks, jawab “Saya tidak tahu terkait {question}.”\\n\\nContext:\\nPasal 1  Beberapa ketentuan dalam Peraturan Otoritas Jasa Keuangan Nomor 23/POJK.04/2016 tentang Reksa Dana Berbentuk Kontrak Investasi Kolektif (Lembaran Negara Republik Indonesia Tahun 2016 Nomor 109, Tambahan Lembaran Negara Republik Indonesia Nomor 5886) sebagaimana telah diubah dengan Peraturan Otoritas Jasa Keuangan Nomor 2/POJK.04/2020 tentang Perubahan Atas Peraturan Otoritas Jasa Keuangan Nomor 23/POJK.04/2016 tentang Reksa Dana Berbentuk Kontrak Investasi Kolektif (Lembaran Negara Republik Indonesia Tahun 2020 Nomor 6, Tambahan Lembaran Negara Republik Indonesia Nomor 6455) diubah sebagai berikut: 1. Di antara Pasal 15 dan Pasal 16 disisipkan 1 (satu) pasal, yakni Pasal 15A sehingga berbunyi sebagai berikut: Pasal 15A Pelaksanaan penghitungan Nilai Pasar Wajar, pengumuman, dan pelaporan Nilai Aktiva Bersih Reksa Dana berbasis Efek luar negeri berlaku ketentuan: a. batasan waktu kewajiban penghitungan dan penyampaian Nilai Pasar Wajar dari Efek dalam portofolio Reksa Dana oleh Manajer Investasi kepada\\n\\nQuestion: Apa objek yang diatur dalam Pasal 15A terkait Reksa Dana berbasis Efek luar negeri?\\nAnswer:</td>\n",
       "      <td>Objek yang diatur meliputi pelaksanaan penghitungan Nilai Pasar Wajar, pengumuman, dan pelaporan Nilai Aktiva Bersih Reksa Dana berbasis Efek luar negeri.</td>\n",
       "      <td>Nilai Pasar Wajar, pengumuman, dan pelaporan Nilai Aktiva Bersih Reksa Dana berbasis Efek luar negeri. Saya tidak tahu terkait {question}. Saya tidak tahu terkait {question}. Saya tidak tahu terkait {question}. Saya tidak tahu terkait {question}. Saya tidak tahu terkait {question}. Saya tidak tahu terkait {question}. Saya tidak tahu terkait {question}. Saya tidak tahu terkait {question}. Saya tidak tahu terkait {question}. Saya tidak tahu terkait {question}. Saya tidak tahu terkait {question}. Saya tidak tahu terkait {question}. Saya tidak tahu terkait {question}. Saya tidak tahu terkait {question}. Saya tidak tahu terkait {question}. Saya tidak tahu terkait {question}. Saya tidak tahu terkait {question}. Saya tidak tahu terkait {question}. Saya tidak tahu terkait {question}. Saya tidak tahu terkait {question}. Saya tidak tahu terkait {question}. Saya tidak tahu terkait {question}. Saya tidak</td>\n",
       "    </tr>\n",
       "    <tr>\n",
       "      <th>2</th>\n",
       "      <td>Anda adalah pakar regulasi keuangan Indonesia. Jawablah berdasarkan konteks yang disediakan; jika tidak terdapat pada konteks, jawab “Saya tidak tahu terkait {question}.”\\n\\nContext:\\nBAB VA PENILAIAN, PENETAPAN, DAN PELAPORAN KUALITAS PENDANAAN TRANSAKSI EFEK  Pasal 29A (1)  LPE wajib melakukan penilaian dan penetapan kualitas Pendanaan Transaksi Efek. (2)  LPE wajib melaporkan hasil penilaian dan penetapan kualitas Pendanaan Transaksi Efek sebagaimana dimaksud pada ayat (1) kepada Otoritas Jasa Keuangan melalui SLIK.  Pasal 29B (1)  Otoritas Jasa Keuangan dapat melakukan asesmen lebih lanjut atas penilaian kualitas pendanaan yang dilaporkan LPE melalui pemeriksaan sumber informasi atau dokumen lainnya.  (2)  Dalam hal terjadi perbedaan penilaian kualitas Pendanaan Transaksi Efek antara LPE dan Otoritas Jasa Keuangan, kualitas Pendanaan Transaksi Efek yang berlaku yang ditetapkan oleh Otoritas Jasa Keuangan. (3)  LPE wajib menyesuaikan kualitas Pendanaan Transaksi Efek sesuai dengan penetapan Otoritas Jasa Keuangan sebagaimana dimaksud pada ayat (2) setelah memperoleh pemberitahuan dari Otoritas Jasa Keuangan. (4)  LPE wajib melaporkan hasil penyesuaian kualitas sebagaimana dimaksud pada ayat (3) kepada Otoritas Jasa Keuangan melalui SLIK.\\n\\nQuestion: Apa saja ketentuan umum yang ditetapkan untuk pelaporan pajak di Pasal 29A dan 29B?\\nAnswer:</td>\n",
       "      <td>Saya tidak tahu terkait ketentuan umum yang ditetapkan untuk pelaporan pajak di Pasal 29A dan 29B.</td>\n",
       "      <td>Saya tidak tahu terkait {question}. Pasal 29A dan 29B tidak membahas ketentuan umum pelaporan pajak. Pasal 29A dan 29B membahas penilaian, penetapan, dan pelaporan kualitas pendanaan transaksi efek. Pasal 29B juga membahas asesmen lebih lanjut oleh Otoritas Jasa Keuangan dan penyesuaian kualitas pendanaan transaksi efek. Pasal 29B tidak membahas ketentuan umum pelaporan pajak. Pasal 29A dan 29B tidak membahas ketentuan umum pelaporan pajak. Pasal 29A dan 29B tidak membahas ketentuan umum pelaporan pajak. Pasal 29A dan 29B tidak membahas ketentuan umum pelaporan pajak. Pasal 29A dan 29B tidak membahas ketentuan umum pelaporan pajak. Pasal 29A dan 29B tidak membahas ketentuan umum pelaporan pajak. Pasal 29A dan 29B tidak membahas ketentuan umum pelaporan pajak. Pasal</td>\n",
       "    </tr>\n",
       "    <tr>\n",
       "      <th>3</th>\n",
       "      <td>Anda adalah pakar regulasi keuangan Indonesia. Jawablah berdasarkan konteks yang disediakan; jika tidak terdapat pada konteks, jawab “Saya tidak tahu terkait {question}.”\\n\\nContext:\\nPasal 6 (1) Permohonan pernyataan Kepailitan terhadap Perusahaan Efek yang diajukan oleh Perusahaan Efek sendiri sebagaimana dimaksud dalam Pasal 3 ayat (1) huruf b disampaikan kepada Kepala Eksekutif Pengawas Pasar Modal secara langsung atau melalui surat elektronik ke tata persuratan Otoritas Jasa Keuangan. (2) Permohonan Kepailitan sebagaimana dimaksud pada  ayat (1) disampaikan dengan melampirkan dokumen pendukung: a. anggaran dasar Perusahaan Efek beserta seluruh perubahannya; b. surat keputusan tentang pemberian izin usaha Perusahaan Efek dari Otoritas Jasa Keuangan; c. daftar seluruh Kreditor Perusahaan Efek; d. seluruh perjanjian atau bentuk lain yang dapat menunjukkan adanya hubungan utang-piutang antara Perusahaan Efek dan Kreditor serta paling sedikit 1 (satu) hubungan utang piutang telah jatuh tempo dan dapat ditagih; e. laporan keuangan Perusahaan Efek terakhir yang tidak melampaui 90 (sembilan puluh) hari pada saat disampaikan yang telah diaudit oleh akuntan publik yang terdaftar di Otoritas Jasa Keuangan disertai dengan opini atas laporan keuangan dan opini atas kemampuan membayar kewajiban jangka pendek;\\n\\nQuestion: Apa saja dokumen pendukung yang harus dilampirkan dalam permohonan Kepailitan oleh Perusahaan Efek sendiri menurut Pasal 6 ayat (2)?\\nAnswer:</td>\n",
       "      <td>Mekanisme pelaporan dijelaskan sebagai anggaran dasar, surat izin usaha, daftar kreditor, perjanjian utang-piutang, laporan keuangan terakhir, rencana penyelesaian kewajiban, dan dokumen pendukung lain.</td>\n",
       "      <td>Dokumen pendukung yang harus dilampirkan dalam permohonan Kepailitan oleh Perusahaan Efek sendiri menurut Pasal 6 ayat (2) adalah: a. anggaran dasar Perusahaan Efek beserta seluruh perubahannya; b. surat keputusan tentang pemberian izin usaha Perusahaan Efek dari Otoritas Jasa Keuangan; c. daftar seluruh Kreditor Perusahaan Efek; d. seluruh perjanjian atau bentuk lain yang dapat menunjukkan adanya hubungan utang-piutang antara Perusahaan Efek dan Kreditor serta paling sedikit 1 (satu) hubungan utang piutang telah jatuh tempo dan dapat ditagih; e. laporan keuangan Perusahaan Efek terakhir yang tidak melampaui 90 (sembilan puluh) hari pada saat disampaikan yang telah diaudit oleh akuntan publik yang terdaftar di Otoritas Jasa Keuangan disertai dengan opini atas laporan keuangan dan opini atas kemampuan membayar kewajiban jangka pendek. Answer:</td>\n",
       "    </tr>\n",
       "    <tr>\n",
       "      <th>4</th>\n",
       "      <td>Anda adalah pakar regulasi keuangan Indonesia. Jawablah berdasarkan konteks yang disediakan; jika tidak terdapat pada konteks, jawab “Saya tidak tahu terkait {question}.”\\n\\nContext:\\nPasal 41 Peraturan Otoritas Jasa Keuangan ini mulai berlaku setelah  6 (enam) bulan terhitung sejak tanggal diundangkan. - 16 -  Salinan ini sesuai dengan aslinya Direktur Hukum 1 Departemen Hukum  ttd  Mufli Asmawidjaja Agar setiap orang mengetahuinya, memerintahkan pengundangan Peraturan Otoritas Jasa Keuangan ini dengan penempatannya dalam Lembaran Negara Republik Indonesia.  Ditetapkan di Jakarta pada tanggal 18 Agustus 2022                 KETUA DEWAN KOMISIONER OTORITAS JASA KEUANGAN REPUBLIK INDONESIA,    ttd  MAHENDRA SIREGAR  Diundangkan di Jakarta pada tanggal 22 Agustus 2022  MENTERI HUKUM DAN HAK ASASI MANUSIA REPUBLIK INDONESIA,  ttd  YASONNA H. LAOLY   LEMBARAN NEGARA REPUBLIK INDONESIA TAHUN 2022 NOMOR 17/OJK\\n\\nQuestion: Sampai kapan masa berlaku peraturan ini?\\nAnswer:</td>\n",
       "      <td>Masa berlaku peraturan ini sampai setelah 6 (enam) bulan terhitung sejak tanggal diundangkan.</td>\n",
       "      <td>Pasal 41 Peraturan Otoritas Jasa Keuangan ini mulai berlaku setelah 6 (enam) bulan terhitung sejak tanggal diundangkan. - 16 - Salinan ini sesuai dengan aslinya Direktur Hukum 1 Departemen Hukum ttd Mufli Asmawidjaja Agar setiap orang mengetahuinya, memerintahkan pengundangan Peraturan Otoritas Jasa Keuangan ini dengan penempatannya dalam Lembaran Negara Republik Indonesia. Ditetapkan di Jakarta pada tanggal 18 Agustus 2022 KETUA DEWAN KOMISIONER OTORITAS JASA KEUANGAN REPUBLIK INDONESIA, ttd MAHENDRA SIREGAR Diundangkan di Jakarta pada tanggal 22 Agustus 2022 MENTERI HUKUM DAN HAK ASASI MANUSIA REPUBLIK INDONESIA, ttd YASONNA H. LAOLY LEMBARAN NEGARA REPUBLIK INDONESIA TAHUN 2022 NOMOR 17/OJK</td>\n",
       "    </tr>\n",
       "  </tbody>\n",
       "</table>\n",
       "</div>"
      ],
      "text/plain": [
       "                                                                                                                                                                                                                                                                                                                                                                                                                                                                                                                                                                                                                                                                                                                                                                                                                                                                                                                                                                                                                                                                                                                                                                                                                                                                                                                                                                                                                                                                                                                                 prompt  \\\n",
       "0                                                                                                                                                                                                                                                                                                                                                                                                                                                                                                                                                                                                                                                                                                                                                                                              Anda adalah pakar regulasi keuangan Indonesia. Jawablah berdasarkan konteks yang disediakan; jika tidak terdapat pada konteks, jawab “Saya tidak tahu terkait {question}.”\\n\\nContext:\\nPasal 12 (1) Perubahan Rencana Bisnis sebagaimana dimaksud dalam Pasal 11 ayat (1) hanya dapat dilakukan 1 (satu) kali. (2) Perubahan Rencana Bisnis sebagaimana dimaksud pada ayat (1) hanya dapat dilakukan paling lambat pada akhir bulan Juni tahun berjalan. (3) Ketentuan sebagaimana dimaksud pada ayat (1) dan ayat (2) dikecualikan bagi perubahan Rencana Bisnis yang dilaksanakan dalam rangka penugasan pemerintah pada LJKNB.\\n\\nQuestion: Berapa kali perubahan Rencana Bisnis dapat dilakukan menurut Pasal 12 ayat (1)?\\nAnswer:   \n",
       "1                                                                                                                                                                   Anda adalah pakar regulasi keuangan Indonesia. Jawablah berdasarkan konteks yang disediakan; jika tidak terdapat pada konteks, jawab “Saya tidak tahu terkait {question}.”\\n\\nContext:\\nPasal 1  Beberapa ketentuan dalam Peraturan Otoritas Jasa Keuangan Nomor 23/POJK.04/2016 tentang Reksa Dana Berbentuk Kontrak Investasi Kolektif (Lembaran Negara Republik Indonesia Tahun 2016 Nomor 109, Tambahan Lembaran Negara Republik Indonesia Nomor 5886) sebagaimana telah diubah dengan Peraturan Otoritas Jasa Keuangan Nomor 2/POJK.04/2020 tentang Perubahan Atas Peraturan Otoritas Jasa Keuangan Nomor 23/POJK.04/2016 tentang Reksa Dana Berbentuk Kontrak Investasi Kolektif (Lembaran Negara Republik Indonesia Tahun 2020 Nomor 6, Tambahan Lembaran Negara Republik Indonesia Nomor 6455) diubah sebagai berikut: 1. Di antara Pasal 15 dan Pasal 16 disisipkan 1 (satu) pasal, yakni Pasal 15A sehingga berbunyi sebagai berikut: Pasal 15A Pelaksanaan penghitungan Nilai Pasar Wajar, pengumuman, dan pelaporan Nilai Aktiva Bersih Reksa Dana berbasis Efek luar negeri berlaku ketentuan: a. batasan waktu kewajiban penghitungan dan penyampaian Nilai Pasar Wajar dari Efek dalam portofolio Reksa Dana oleh Manajer Investasi kepada\\n\\nQuestion: Apa objek yang diatur dalam Pasal 15A terkait Reksa Dana berbasis Efek luar negeri?\\nAnswer:   \n",
       "2                                                                                                                Anda adalah pakar regulasi keuangan Indonesia. Jawablah berdasarkan konteks yang disediakan; jika tidak terdapat pada konteks, jawab “Saya tidak tahu terkait {question}.”\\n\\nContext:\\nBAB VA PENILAIAN, PENETAPAN, DAN PELAPORAN KUALITAS PENDANAAN TRANSAKSI EFEK  Pasal 29A (1)  LPE wajib melakukan penilaian dan penetapan kualitas Pendanaan Transaksi Efek. (2)  LPE wajib melaporkan hasil penilaian dan penetapan kualitas Pendanaan Transaksi Efek sebagaimana dimaksud pada ayat (1) kepada Otoritas Jasa Keuangan melalui SLIK.  Pasal 29B (1)  Otoritas Jasa Keuangan dapat melakukan asesmen lebih lanjut atas penilaian kualitas pendanaan yang dilaporkan LPE melalui pemeriksaan sumber informasi atau dokumen lainnya.  (2)  Dalam hal terjadi perbedaan penilaian kualitas Pendanaan Transaksi Efek antara LPE dan Otoritas Jasa Keuangan, kualitas Pendanaan Transaksi Efek yang berlaku yang ditetapkan oleh Otoritas Jasa Keuangan. (3)  LPE wajib menyesuaikan kualitas Pendanaan Transaksi Efek sesuai dengan penetapan Otoritas Jasa Keuangan sebagaimana dimaksud pada ayat (2) setelah memperoleh pemberitahuan dari Otoritas Jasa Keuangan. (4)  LPE wajib melaporkan hasil penyesuaian kualitas sebagaimana dimaksud pada ayat (3) kepada Otoritas Jasa Keuangan melalui SLIK.\\n\\nQuestion: Apa saja ketentuan umum yang ditetapkan untuk pelaporan pajak di Pasal 29A dan 29B?\\nAnswer:   \n",
       "3  Anda adalah pakar regulasi keuangan Indonesia. Jawablah berdasarkan konteks yang disediakan; jika tidak terdapat pada konteks, jawab “Saya tidak tahu terkait {question}.”\\n\\nContext:\\nPasal 6 (1) Permohonan pernyataan Kepailitan terhadap Perusahaan Efek yang diajukan oleh Perusahaan Efek sendiri sebagaimana dimaksud dalam Pasal 3 ayat (1) huruf b disampaikan kepada Kepala Eksekutif Pengawas Pasar Modal secara langsung atau melalui surat elektronik ke tata persuratan Otoritas Jasa Keuangan. (2) Permohonan Kepailitan sebagaimana dimaksud pada  ayat (1) disampaikan dengan melampirkan dokumen pendukung: a. anggaran dasar Perusahaan Efek beserta seluruh perubahannya; b. surat keputusan tentang pemberian izin usaha Perusahaan Efek dari Otoritas Jasa Keuangan; c. daftar seluruh Kreditor Perusahaan Efek; d. seluruh perjanjian atau bentuk lain yang dapat menunjukkan adanya hubungan utang-piutang antara Perusahaan Efek dan Kreditor serta paling sedikit 1 (satu) hubungan utang piutang telah jatuh tempo dan dapat ditagih; e. laporan keuangan Perusahaan Efek terakhir yang tidak melampaui 90 (sembilan puluh) hari pada saat disampaikan yang telah diaudit oleh akuntan publik yang terdaftar di Otoritas Jasa Keuangan disertai dengan opini atas laporan keuangan dan opini atas kemampuan membayar kewajiban jangka pendek;\\n\\nQuestion: Apa saja dokumen pendukung yang harus dilampirkan dalam permohonan Kepailitan oleh Perusahaan Efek sendiri menurut Pasal 6 ayat (2)?\\nAnswer:   \n",
       "4                                                                                                                                                                                                                                                                                                                                                                                                                                                                                                                  Anda adalah pakar regulasi keuangan Indonesia. Jawablah berdasarkan konteks yang disediakan; jika tidak terdapat pada konteks, jawab “Saya tidak tahu terkait {question}.”\\n\\nContext:\\nPasal 41 Peraturan Otoritas Jasa Keuangan ini mulai berlaku setelah  6 (enam) bulan terhitung sejak tanggal diundangkan. - 16 -  Salinan ini sesuai dengan aslinya Direktur Hukum 1 Departemen Hukum  ttd  Mufli Asmawidjaja Agar setiap orang mengetahuinya, memerintahkan pengundangan Peraturan Otoritas Jasa Keuangan ini dengan penempatannya dalam Lembaran Negara Republik Indonesia.  Ditetapkan di Jakarta pada tanggal 18 Agustus 2022                 KETUA DEWAN KOMISIONER OTORITAS JASA KEUANGAN REPUBLIK INDONESIA,    ttd  MAHENDRA SIREGAR  Diundangkan di Jakarta pada tanggal 22 Agustus 2022  MENTERI HUKUM DAN HAK ASASI MANUSIA REPUBLIK INDONESIA,  ttd  YASONNA H. LAOLY   LEMBARAN NEGARA REPUBLIK INDONESIA TAHUN 2022 NOMOR 17/OJK\\n\\nQuestion: Sampai kapan masa berlaku peraturan ini?\\nAnswer:   \n",
       "\n",
       "                                                                                                                                                                                                        chosen  \\\n",
       "0                                                                                                                                   Ketentuan umum yang ditetapkan adalah hanya dapat dilakukan 1 (satu) kali.   \n",
       "1                                                   Objek yang diatur meliputi pelaksanaan penghitungan Nilai Pasar Wajar, pengumuman, dan pelaporan Nilai Aktiva Bersih Reksa Dana berbasis Efek luar negeri.   \n",
       "2                                                                                                           Saya tidak tahu terkait ketentuan umum yang ditetapkan untuk pelaporan pajak di Pasal 29A dan 29B.   \n",
       "3   Mekanisme pelaporan dijelaskan sebagai anggaran dasar, surat izin usaha, daftar kreditor, perjanjian utang-piutang, laporan keuangan terakhir, rencana penyelesaian kewajiban, dan dokumen pendukung lain.   \n",
       "4                                                                                                                Masa berlaku peraturan ini sampai setelah 6 (enam) bulan terhitung sejak tanggal diundangkan.   \n",
       "\n",
       "                                                                                                                                                                                                                                                                                                                                                                                                                                                                                                                                                                                                                                                                                                                                                                                                                                                                                                                                     rejected  \n",
       "0                                                                                                                                                                                                                                                                                                                                                                                                                                                                                                                                                                                                                                                                                                                                                                                                                                                                                                                             1 (satu) kali.   \n",
       "1   Nilai Pasar Wajar, pengumuman, dan pelaporan Nilai Aktiva Bersih Reksa Dana berbasis Efek luar negeri. Saya tidak tahu terkait {question}. Saya tidak tahu terkait {question}. Saya tidak tahu terkait {question}. Saya tidak tahu terkait {question}. Saya tidak tahu terkait {question}. Saya tidak tahu terkait {question}. Saya tidak tahu terkait {question}. Saya tidak tahu terkait {question}. Saya tidak tahu terkait {question}. Saya tidak tahu terkait {question}. Saya tidak tahu terkait {question}. Saya tidak tahu terkait {question}. Saya tidak tahu terkait {question}. Saya tidak tahu terkait {question}. Saya tidak tahu terkait {question}. Saya tidak tahu terkait {question}. Saya tidak tahu terkait {question}. Saya tidak tahu terkait {question}. Saya tidak tahu terkait {question}. Saya tidak tahu terkait {question}. Saya tidak tahu terkait {question}. Saya tidak tahu terkait {question}. Saya tidak  \n",
       "2                                                                                                                                     Saya tidak tahu terkait {question}. Pasal 29A dan 29B tidak membahas ketentuan umum pelaporan pajak. Pasal 29A dan 29B membahas penilaian, penetapan, dan pelaporan kualitas pendanaan transaksi efek. Pasal 29B juga membahas asesmen lebih lanjut oleh Otoritas Jasa Keuangan dan penyesuaian kualitas pendanaan transaksi efek. Pasal 29B tidak membahas ketentuan umum pelaporan pajak. Pasal 29A dan 29B tidak membahas ketentuan umum pelaporan pajak. Pasal 29A dan 29B tidak membahas ketentuan umum pelaporan pajak. Pasal 29A dan 29B tidak membahas ketentuan umum pelaporan pajak. Pasal 29A dan 29B tidak membahas ketentuan umum pelaporan pajak. Pasal 29A dan 29B tidak membahas ketentuan umum pelaporan pajak. Pasal 29A dan 29B tidak membahas ketentuan umum pelaporan pajak. Pasal  \n",
       "3                                                       Dokumen pendukung yang harus dilampirkan dalam permohonan Kepailitan oleh Perusahaan Efek sendiri menurut Pasal 6 ayat (2) adalah: a. anggaran dasar Perusahaan Efek beserta seluruh perubahannya; b. surat keputusan tentang pemberian izin usaha Perusahaan Efek dari Otoritas Jasa Keuangan; c. daftar seluruh Kreditor Perusahaan Efek; d. seluruh perjanjian atau bentuk lain yang dapat menunjukkan adanya hubungan utang-piutang antara Perusahaan Efek dan Kreditor serta paling sedikit 1 (satu) hubungan utang piutang telah jatuh tempo dan dapat ditagih; e. laporan keuangan Perusahaan Efek terakhir yang tidak melampaui 90 (sembilan puluh) hari pada saat disampaikan yang telah diaudit oleh akuntan publik yang terdaftar di Otoritas Jasa Keuangan disertai dengan opini atas laporan keuangan dan opini atas kemampuan membayar kewajiban jangka pendek. Answer:  \n",
       "4                                                                                                                                                                                                              Pasal 41 Peraturan Otoritas Jasa Keuangan ini mulai berlaku setelah 6 (enam) bulan terhitung sejak tanggal diundangkan. - 16 - Salinan ini sesuai dengan aslinya Direktur Hukum 1 Departemen Hukum ttd Mufli Asmawidjaja Agar setiap orang mengetahuinya, memerintahkan pengundangan Peraturan Otoritas Jasa Keuangan ini dengan penempatannya dalam Lembaran Negara Republik Indonesia. Ditetapkan di Jakarta pada tanggal 18 Agustus 2022 KETUA DEWAN KOMISIONER OTORITAS JASA KEUANGAN REPUBLIK INDONESIA, ttd MAHENDRA SIREGAR Diundangkan di Jakarta pada tanggal 22 Agustus 2022 MENTERI HUKUM DAN HAK ASASI MANUSIA REPUBLIK INDONESIA, ttd YASONNA H. LAOLY LEMBARAN NEGARA REPUBLIK INDONESIA TAHUN 2022 NOMOR 17/OJK  "
      ]
     },
     "metadata": {},
     "output_type": "display_data"
    },
    {
     "name": "stdout",
     "output_type": "stream",
     "text": [
      "\n",
      "▶ Generating rejected responses with SFT Sahabat-AI-8B\n"
     ]
    },
    {
     "name": "stderr",
     "output_type": "stream",
     "text": [
      "Loading checkpoint shards: 100%|██████████| 4/4 [00:14<00:00,  3.62s/it]\n",
      "Inferring Sahabat-AI-8B: 100%|██████████| 48/48 [9:12:22<00:00, 690.48s/it]  "
     ]
    },
    {
     "name": "stdout",
     "output_type": "stream",
     "text": [
      "→ Inference time: 33143.0s, total pairs: 1524\n",
      "✔️ Saved raw preference dataset to `preference_Sahabat-AI-8B.jsonl`\n",
      "✔️ Cleaned preference dataset saved to `preference_Sahabat-AI-8B_clean.jsonl`\n"
     ]
    },
    {
     "name": "stderr",
     "output_type": "stream",
     "text": [
      "\n"
     ]
    },
    {
     "data": {
      "text/html": [
       "<div>\n",
       "<style scoped>\n",
       "    .dataframe tbody tr th:only-of-type {\n",
       "        vertical-align: middle;\n",
       "    }\n",
       "\n",
       "    .dataframe tbody tr th {\n",
       "        vertical-align: top;\n",
       "    }\n",
       "\n",
       "    .dataframe thead th {\n",
       "        text-align: right;\n",
       "    }\n",
       "</style>\n",
       "<table border=\"1\" class=\"dataframe\">\n",
       "  <thead>\n",
       "    <tr style=\"text-align: right;\">\n",
       "      <th></th>\n",
       "      <th>prompt</th>\n",
       "      <th>chosen</th>\n",
       "      <th>rejected</th>\n",
       "    </tr>\n",
       "  </thead>\n",
       "  <tbody>\n",
       "    <tr>\n",
       "      <th>0</th>\n",
       "      <td>Anda adalah pakar regulasi keuangan Indonesia. Jawablah berdasarkan konteks yang disediakan; jika tidak terdapat pada konteks, jawab “Saya tidak tahu terkait {question}.”\\n\\nContext:\\nPasal 8 (1) Permohonan persetujuan prinsip pendirian BUS hasil Pemisahan sebagaimana dimaksud dalam Pasal  7 huruf a disampaikan oleh BUK yang memiliki UUS kepada Otoritas Jasa Keuangan dilampiri dengan: a. dokumen permohonan persetujuan prinsip sesuai dengan ketentuan peraturan perundang-undangan mengenai bank umum syariah;  b. rancangan Pemisahan yang telah disetujui oleh Dewan Komisaris; c. konsep akta Pemisahan; d. rancangan perubahan anggaran dasar BUK yang memiliki UUS; e. laporan posisi keuangan intern UUS posisi bulan terakhir sebelum permohonan izin prinsip pendirian BUS hasil Pemisahan yang menunjukkan terpenuhinya modal minimum pendirian BUS sebagaimana dimaksud dalam Pasal 6 ayat (2) dan ayat (3) dan/atau bukti tambahan setoran modal dari calon pemegang saham; dan f. rencana tindak penyelesaian pelampauan batas maksimum penyaluran dana, jika ada.\\n\\nQuestion: Apa mekanisme pelaporan permohonan persetujuan prinsip pada Pasal 8?\\nAnswer:</td>\n",
       "      <td>Saya tidak tahu terkait mekanisme pelaporan permohonan persetujuan prinsip pada Pasal 8.</td>\n",
       "      <td>Permohonan persetujuan prinsip pendirian BUS hasil Pemisahan disampaikan oleh BUK yang memiliki UUS kepada Otoritas Jasa Keuangan dilampiri dengan dokumen permohonan persetujuan prinsip sesuai dengan ketentuan peraturan perundang-undangan mengenai bank umum syariah; rancangan Pemisahan yang telah disetujui oleh Dewan Komisaris; konsep akta Pemisahan; rancangan perubahan anggaran dasar BUK yang memiliki UUS; laporan posisi keuangan intern UUS posisi bulan terakhir sebelum permohonan izin prinsip pendirian BUS hasil Pemisahan yang menunjukkan terpenuhinya modal minimum pendirian BUS sebagaimana dimaksud dalam Pasal 6 ayat (2) dan ayat (3) dan/atau bukti tambahan setoran modal dari calon pemegang saham; dan rencana tindak penyelesaian pelampauan batas maksimum penyaluran dana, jika ada.</td>\n",
       "    </tr>\n",
       "    <tr>\n",
       "      <th>1</th>\n",
       "      <td>Anda adalah pakar regulasi keuangan Indonesia. Jawablah berdasarkan konteks yang disediakan; jika tidak terdapat pada konteks, jawab “Saya tidak tahu terkait {question}.”\\n\\nContext:\\nBAB I \\nKETENTUAN UMUM \\nPasal 1 \\nDalam Peraturan Otoritas Jasa Keuangan ini yang dimaksud \\ndengan: \\n1.\\nLembaga Jasa Keuangan yang selanjutnya disingkat LJK\\nadalah lembaga yang melaksanakan kegiatan di sektor\\nPerbankan, Pasar Modal, Perasuransian, Dana Pensiun,\\nLembaga Pembiayaan, dan Lembaga Jasa Keuangan\\nLainnya sebagaimana dimaksud dalam Undang-Undang\\nmengenai Otoritas Jasa Keuangan.\\n2.\\nPerizinan Secara Elektronik di Sektor Jasa Keuangan\\nadalah perizinan dalam satu kesatuan proses yang\\ndimulai dari tahap permohonan sampai dengan tahap\\npenyelesaian \\nmelalui \\n1 \\n(satu) \\nsistem \\ndengan\\nmemanfaatkan teknologi informasi.\\n3.\\nSistem \\nPerizinan \\nSecara \\nElektronik \\nadalah \\nsistem\\npelayanan perizinan satu pintu dengan memanfaatkan\\nteknologi informasi.\\n4.\\nPemohon adalah LJK, orang perseorangan, atau badan\\nusaha, baik yang berbentuk badan hukum maupun yang\\ntidak berbentuk badan hukum, perusahaan, usaha\\nbersama, asosiasi, atau kelompok yang terorganisasi\\nyang telah atau akan melakukan kegiatan di sektor jasa\\nkeuangan \\nyang \\nmengajukan \\npermohonan \\nproses\\nperizinan melalui Sistem Perizinan Secara Elektronik.\\n\\nQuestion: Apa saja cakupan dokumen menurut Pasal 1?\\nAnswer:</td>\n",
       "      <td>Dokumen ini mencakup definisi Lembaga Jasa Keuangan, Perizinan Secara Elektronik di Sektor Jasa Keuangan, Sistem Perizinan Secara Elektronik, dan Pemohon.</td>\n",
       "      <td>Saya tidak tahu terkait cakupan dokumen menurut Pasal 1.</td>\n",
       "    </tr>\n",
       "    <tr>\n",
       "      <th>2</th>\n",
       "      <td>Anda adalah pakar regulasi keuangan Indonesia. Jawablah berdasarkan konteks yang disediakan; jika tidak terdapat pada konteks, jawab “Saya tidak tahu terkait {question}.”\\n\\nContext:\\nPasal 1 Dalam Peraturan Otoritas Jasa Keuangan ini yang  dimaksud dengan: 1. Lembaga Jasa Keuangan yang selanjutnya disingkat LJK adalah lembaga yang melaksanakan kegiatan di sektor perbankan, pasar modal, lembaga pembiayaan, dan Lembaga Jasa Keuangan lainnya. 2. Perbankan yang selanjutnya disebut Bank adalah segala sesuatu yang menyangkut tentang bank, mencakup kelembagaan, kegiatan usaha, serta cara dan proses dalam melaksanakan kegiatan usahanya. 3. Bank Umum Konvensional yang selanjutnya disingkat BUK adalah bank umum yang melaksanakan kegiatan usaha secara konvensional termasuk kantor cabang dari bank yang berkedudukan di luar negeri. 4. Bank Umum Syariah yang selanjutnya disingkat BUS adalah bank umum yang melaksanakan kegiatan usaha berdasarkan prinsip syariah. 5. Unit Usaha Syariah yang selanjutnya disingkat UUS adalah unit kerja dari kantor pusat BUK yang berfungsi sebagai kantor induk dari kantor atau unit yang melaksanakan kegiatan usaha berdasarkan prinsip syariah.\\n\\nQuestion: Apa yang dimaksud dengan Lembaga Jasa Keuangan menurut Pasal 1?\\nAnswer:</td>\n",
       "      <td>Objek yang diatur meliputi lembaga yang melaksanakan kegiatan di sektor perbankan, pasar modal, lembaga pembiayaan, dan Lembaga Jasa Keuangan lainnya.</td>\n",
       "      <td>Lembaga Jasa Keuangan yang selanjutnya disingkat LJK adalah lembaga yang melaksanakan kegiatan di sektor perbankan, pasar modal, lembaga pembiayaan, dan Lembaga Jasa Keuangan lainnya.</td>\n",
       "    </tr>\n",
       "    <tr>\n",
       "      <th>3</th>\n",
       "      <td>Anda adalah pakar regulasi keuangan Indonesia. Jawablah berdasarkan konteks yang disediakan; jika tidak terdapat pada konteks, jawab “Saya tidak tahu terkait {question}.”\\n\\nContext:\\nPasal 11 (1) Dana Jaminan hanya dapat digunakan oleh Lembaga Kliring dan Penjaminan dalam rangka Penjaminan Penyelesaian Transaksi Bursa. (2) Penggunaan Dana Jaminan sebagaimana dimaksud pada ayat (1) dilaksanakan dengan ketentuan sebagai berikut: a. jika sumber keuangan berupa Cadangan Jaminan dan kredit bank telah digunakan tetapi tidak mencukupi untuk menyelesaikan kewajiban Anggota Kliring yang gagal memenuhi kewajiban penyelesaian Transaksi Bursa; dan b. sebagai jaminan untuk memperoleh kredit bank yang hanya ditujukan untuk Penjaminan Penyelesaian Transaksi Bursa. (3) Dana Jaminan yang digunakan untuk memperoleh kredit bank sebagaimana dimaksud pada ayat (2) huruf b wajib terlebih dahulu mendapatkan persetujuan Komite Kebijakan Kredit dan Pengendalian Risiko.  (4) Setiap penggunaan Dana Jaminan sebagaimana dimaksud pada ayat (2) wajib dilaporkan Lembaga Kliring dan Penjaminan kepada Otoritas Jasa Keuangan paling lambat 1 (satu) hari kerja berikutnya setelah penggunaan Dana Jaminan.\\n\\nQuestion: Apa mekanisme proses penggunaan Dana Jaminan untuk memperoleh kredit bank?\\nAnswer:</td>\n",
       "      <td>Mekanisme proses dijelaskan sebagai Dana Jaminan yang digunakan untuk memperoleh kredit bank wajib terlebih dahulu mendapatkan persetujuan Komite Kebijakan Kredit dan Pengendalian Risiko.</td>\n",
       "      <td>Penggunaan Dana Jaminan untuk memperoleh kredit bank sebagaimana dimaksud pada ayat (2) huruf b wajib terlebih dahulu mendapatkan persetujuan Komite Kebijakan Kredit dan Pengendalian Risiko. Setiap penggunaan Dana Jaminan sebagaimana dimaksud pada ayat (2) wajib dilaporkan Lembaga Kliring dan Penjaminan kepada Otoritas Jasa Keuangan paling lambat 1 (satu) hari kerja berikutnya setelah penggunaan Dana Jaminan.</td>\n",
       "    </tr>\n",
       "    <tr>\n",
       "      <th>4</th>\n",
       "      <td>Anda adalah pakar regulasi keuangan Indonesia. Jawablah berdasarkan konteks yang disediakan; jika tidak terdapat pada konteks, jawab “Saya tidak tahu terkait {question}.”\\n\\nContext:\\nPasal 47 (1) Agunan yang akan digunakan sebagai faktor pengurang PPA sebagaimana dimaksud dalam  Pasal 45, paling sedikit harus dinilai oleh: a. penilai independen sebagaimana dimaksud dalam Pasal 35 ayat (6) untuk Aset Produktif yang berasal dari nasabah atau Kelompok Peminjam dengan jumlah lebih dari Rp5.000.000.000,00 (lima miliar rupiah); atau b. penilai intern Bank untuk Aset Produktif yang berasal dari nasabah atau Kelompok Peminjam dengan jumlah sampai dengan Rp5.000.000.000,00 (lima miliar rupiah).  (2) Bank wajib melakukan penilaian terhadap agunan sebagaimana dimaksud pada ayat (1) sejak awal pemberian Aset Produktif. (3) Ketentuan sebagaimana dimaksud pada ayat (1) dikecualikan untuk agunan berupa rumah tinggal yang akan digunakan sebagai faktor pengurang PPA sebagaimana dimaksud dalam Pasal 45  huruf b.\\n\\nQuestion: Apa perubahan regulasi terkait penilaian agunan dalam Pasal 47?\\nAnswer:</td>\n",
       "      <td>Perubahan yang diatur mencakup penambahan pengecualian untuk agunan berupa rumah tinggal sebagai faktor pengurang PPA.</td>\n",
       "      <td>Saya tidak tahu terkait perubahan regulasi terkait penilaian agunan dalam Pasal 47.</td>\n",
       "    </tr>\n",
       "  </tbody>\n",
       "</table>\n",
       "</div>"
      ],
      "text/plain": [
       "                                                                                                                                                                                                                                                                                                                                                                                                                                                                                                                                                                                                                                                                                                                                                                                                                                                                                                                                                                                                                                                                                                                                                                                                                                                                                                                                                                                                                                                         prompt  \\\n",
       "0                                                                                                                                                                                                                                                                     Anda adalah pakar regulasi keuangan Indonesia. Jawablah berdasarkan konteks yang disediakan; jika tidak terdapat pada konteks, jawab “Saya tidak tahu terkait {question}.”\\n\\nContext:\\nPasal 8 (1) Permohonan persetujuan prinsip pendirian BUS hasil Pemisahan sebagaimana dimaksud dalam Pasal  7 huruf a disampaikan oleh BUK yang memiliki UUS kepada Otoritas Jasa Keuangan dilampiri dengan: a. dokumen permohonan persetujuan prinsip sesuai dengan ketentuan peraturan perundang-undangan mengenai bank umum syariah;  b. rancangan Pemisahan yang telah disetujui oleh Dewan Komisaris; c. konsep akta Pemisahan; d. rancangan perubahan anggaran dasar BUK yang memiliki UUS; e. laporan posisi keuangan intern UUS posisi bulan terakhir sebelum permohonan izin prinsip pendirian BUS hasil Pemisahan yang menunjukkan terpenuhinya modal minimum pendirian BUS sebagaimana dimaksud dalam Pasal 6 ayat (2) dan ayat (3) dan/atau bukti tambahan setoran modal dari calon pemegang saham; dan f. rencana tindak penyelesaian pelampauan batas maksimum penyaluran dana, jika ada.\\n\\nQuestion: Apa mekanisme pelaporan permohonan persetujuan prinsip pada Pasal 8?\\nAnswer:   \n",
       "1  Anda adalah pakar regulasi keuangan Indonesia. Jawablah berdasarkan konteks yang disediakan; jika tidak terdapat pada konteks, jawab “Saya tidak tahu terkait {question}.”\\n\\nContext:\\nBAB I \\nKETENTUAN UMUM \\nPasal 1 \\nDalam Peraturan Otoritas Jasa Keuangan ini yang dimaksud \\ndengan: \\n1.\\nLembaga Jasa Keuangan yang selanjutnya disingkat LJK\\nadalah lembaga yang melaksanakan kegiatan di sektor\\nPerbankan, Pasar Modal, Perasuransian, Dana Pensiun,\\nLembaga Pembiayaan, dan Lembaga Jasa Keuangan\\nLainnya sebagaimana dimaksud dalam Undang-Undang\\nmengenai Otoritas Jasa Keuangan.\\n2.\\nPerizinan Secara Elektronik di Sektor Jasa Keuangan\\nadalah perizinan dalam satu kesatuan proses yang\\ndimulai dari tahap permohonan sampai dengan tahap\\npenyelesaian \\nmelalui \\n1 \\n(satu) \\nsistem \\ndengan\\nmemanfaatkan teknologi informasi.\\n3.\\nSistem \\nPerizinan \\nSecara \\nElektronik \\nadalah \\nsistem\\npelayanan perizinan satu pintu dengan memanfaatkan\\nteknologi informasi.\\n4.\\nPemohon adalah LJK, orang perseorangan, atau badan\\nusaha, baik yang berbentuk badan hukum maupun yang\\ntidak berbentuk badan hukum, perusahaan, usaha\\nbersama, asosiasi, atau kelompok yang terorganisasi\\nyang telah atau akan melakukan kegiatan di sektor jasa\\nkeuangan \\nyang \\nmengajukan \\npermohonan \\nproses\\nperizinan melalui Sistem Perizinan Secara Elektronik.\\n\\nQuestion: Apa saja cakupan dokumen menurut Pasal 1?\\nAnswer:   \n",
       "2                                                                                                                                                 Anda adalah pakar regulasi keuangan Indonesia. Jawablah berdasarkan konteks yang disediakan; jika tidak terdapat pada konteks, jawab “Saya tidak tahu terkait {question}.”\\n\\nContext:\\nPasal 1 Dalam Peraturan Otoritas Jasa Keuangan ini yang  dimaksud dengan: 1. Lembaga Jasa Keuangan yang selanjutnya disingkat LJK adalah lembaga yang melaksanakan kegiatan di sektor perbankan, pasar modal, lembaga pembiayaan, dan Lembaga Jasa Keuangan lainnya. 2. Perbankan yang selanjutnya disebut Bank adalah segala sesuatu yang menyangkut tentang bank, mencakup kelembagaan, kegiatan usaha, serta cara dan proses dalam melaksanakan kegiatan usahanya. 3. Bank Umum Konvensional yang selanjutnya disingkat BUK adalah bank umum yang melaksanakan kegiatan usaha secara konvensional termasuk kantor cabang dari bank yang berkedudukan di luar negeri. 4. Bank Umum Syariah yang selanjutnya disingkat BUS adalah bank umum yang melaksanakan kegiatan usaha berdasarkan prinsip syariah. 5. Unit Usaha Syariah yang selanjutnya disingkat UUS adalah unit kerja dari kantor pusat BUK yang berfungsi sebagai kantor induk dari kantor atau unit yang melaksanakan kegiatan usaha berdasarkan prinsip syariah.\\n\\nQuestion: Apa yang dimaksud dengan Lembaga Jasa Keuangan menurut Pasal 1?\\nAnswer:   \n",
       "3                                                                                                                           Anda adalah pakar regulasi keuangan Indonesia. Jawablah berdasarkan konteks yang disediakan; jika tidak terdapat pada konteks, jawab “Saya tidak tahu terkait {question}.”\\n\\nContext:\\nPasal 11 (1) Dana Jaminan hanya dapat digunakan oleh Lembaga Kliring dan Penjaminan dalam rangka Penjaminan Penyelesaian Transaksi Bursa. (2) Penggunaan Dana Jaminan sebagaimana dimaksud pada ayat (1) dilaksanakan dengan ketentuan sebagai berikut: a. jika sumber keuangan berupa Cadangan Jaminan dan kredit bank telah digunakan tetapi tidak mencukupi untuk menyelesaikan kewajiban Anggota Kliring yang gagal memenuhi kewajiban penyelesaian Transaksi Bursa; dan b. sebagai jaminan untuk memperoleh kredit bank yang hanya ditujukan untuk Penjaminan Penyelesaian Transaksi Bursa. (3) Dana Jaminan yang digunakan untuk memperoleh kredit bank sebagaimana dimaksud pada ayat (2) huruf b wajib terlebih dahulu mendapatkan persetujuan Komite Kebijakan Kredit dan Pengendalian Risiko.  (4) Setiap penggunaan Dana Jaminan sebagaimana dimaksud pada ayat (2) wajib dilaporkan Lembaga Kliring dan Penjaminan kepada Otoritas Jasa Keuangan paling lambat 1 (satu) hari kerja berikutnya setelah penggunaan Dana Jaminan.\\n\\nQuestion: Apa mekanisme proses penggunaan Dana Jaminan untuk memperoleh kredit bank?\\nAnswer:   \n",
       "4                                                                                                                                                                                                                                                                                                                      Anda adalah pakar regulasi keuangan Indonesia. Jawablah berdasarkan konteks yang disediakan; jika tidak terdapat pada konteks, jawab “Saya tidak tahu terkait {question}.”\\n\\nContext:\\nPasal 47 (1) Agunan yang akan digunakan sebagai faktor pengurang PPA sebagaimana dimaksud dalam  Pasal 45, paling sedikit harus dinilai oleh: a. penilai independen sebagaimana dimaksud dalam Pasal 35 ayat (6) untuk Aset Produktif yang berasal dari nasabah atau Kelompok Peminjam dengan jumlah lebih dari Rp5.000.000.000,00 (lima miliar rupiah); atau b. penilai intern Bank untuk Aset Produktif yang berasal dari nasabah atau Kelompok Peminjam dengan jumlah sampai dengan Rp5.000.000.000,00 (lima miliar rupiah).  (2) Bank wajib melakukan penilaian terhadap agunan sebagaimana dimaksud pada ayat (1) sejak awal pemberian Aset Produktif. (3) Ketentuan sebagaimana dimaksud pada ayat (1) dikecualikan untuk agunan berupa rumah tinggal yang akan digunakan sebagai faktor pengurang PPA sebagaimana dimaksud dalam Pasal 45  huruf b.\\n\\nQuestion: Apa perubahan regulasi terkait penilaian agunan dalam Pasal 47?\\nAnswer:   \n",
       "\n",
       "                                                                                                                                                                                         chosen  \\\n",
       "0                                                                                                      Saya tidak tahu terkait mekanisme pelaporan permohonan persetujuan prinsip pada Pasal 8.   \n",
       "1                                    Dokumen ini mencakup definisi Lembaga Jasa Keuangan, Perizinan Secara Elektronik di Sektor Jasa Keuangan, Sistem Perizinan Secara Elektronik, dan Pemohon.   \n",
       "2                                        Objek yang diatur meliputi lembaga yang melaksanakan kegiatan di sektor perbankan, pasar modal, lembaga pembiayaan, dan Lembaga Jasa Keuangan lainnya.   \n",
       "3   Mekanisme proses dijelaskan sebagai Dana Jaminan yang digunakan untuk memperoleh kredit bank wajib terlebih dahulu mendapatkan persetujuan Komite Kebijakan Kredit dan Pengendalian Risiko.   \n",
       "4                                                                        Perubahan yang diatur mencakup penambahan pengecualian untuk agunan berupa rumah tinggal sebagai faktor pengurang PPA.   \n",
       "\n",
       "                                                                                                                                                                                                                                                                                                                                                                                                                                                                                                                                                                                                                                                                                                                                                                                                                      rejected  \n",
       "0   Permohonan persetujuan prinsip pendirian BUS hasil Pemisahan disampaikan oleh BUK yang memiliki UUS kepada Otoritas Jasa Keuangan dilampiri dengan dokumen permohonan persetujuan prinsip sesuai dengan ketentuan peraturan perundang-undangan mengenai bank umum syariah; rancangan Pemisahan yang telah disetujui oleh Dewan Komisaris; konsep akta Pemisahan; rancangan perubahan anggaran dasar BUK yang memiliki UUS; laporan posisi keuangan intern UUS posisi bulan terakhir sebelum permohonan izin prinsip pendirian BUS hasil Pemisahan yang menunjukkan terpenuhinya modal minimum pendirian BUS sebagaimana dimaksud dalam Pasal 6 ayat (2) dan ayat (3) dan/atau bukti tambahan setoran modal dari calon pemegang saham; dan rencana tindak penyelesaian pelampauan batas maksimum penyaluran dana, jika ada.  \n",
       "1                                                                                                                                                                                                                                                                                                                                                                                                                                                                                                                                                                                                                                                                                                                                                                     Saya tidak tahu terkait cakupan dokumen menurut Pasal 1.  \n",
       "2                                                                                                                                                                                                                                                                                                                                                                                                                                                                                                                                                                                                                                      Lembaga Jasa Keuangan yang selanjutnya disingkat LJK adalah lembaga yang melaksanakan kegiatan di sektor perbankan, pasar modal, lembaga pembiayaan, dan Lembaga Jasa Keuangan lainnya.  \n",
       "3                                                                                                                                                                                                                                                                                                                                                                                                 Penggunaan Dana Jaminan untuk memperoleh kredit bank sebagaimana dimaksud pada ayat (2) huruf b wajib terlebih dahulu mendapatkan persetujuan Komite Kebijakan Kredit dan Pengendalian Risiko. Setiap penggunaan Dana Jaminan sebagaimana dimaksud pada ayat (2) wajib dilaporkan Lembaga Kliring dan Penjaminan kepada Otoritas Jasa Keuangan paling lambat 1 (satu) hari kerja berikutnya setelah penggunaan Dana Jaminan.  \n",
       "4                                                                                                                                                                                                                                                                                                                                                                                                                                                                                                                                                                                                                                                                                                                                          Saya tidak tahu terkait perubahan regulasi terkait penilaian agunan dalam Pasal 47.  "
      ]
     },
     "metadata": {},
     "output_type": "display_data"
    }
   ],
   "source": [
    "# kita pakai satu SFT model (atau bisa loop jika mau multi-model)\n",
    "for model_key, sft_path in SFT_MODEL_NAMES.items():\n",
    "    print(f\"\\n▶ Generating rejected responses with SFT {model_key}\")\n",
    "    tokenizer_dir = os.path.join(CACHE_FOLDER, model_key)\n",
    "    tokenizer, model = load_sft_model_and_tokenizer(\n",
    "        sft_path, tokenizer_dir, hf_token=os.getenv(\"HF_TOKEN\")\n",
    "    )\n",
    "\n",
    "    output_path = f\"preference_{model_key}.jsonl\"\n",
    "\n",
    "    # warm-up…\n",
    "    _ = model.generate(\n",
    "        **tokenizer(\"Warm up\", return_tensors=\"pt\").to(model.device),\n",
    "        max_new_tokens=1,\n",
    "        pad_token_id=tokenizer.eos_token_id\n",
    "    )\n",
    "\n",
    "    records = []\n",
    "    start = time.time()\n",
    "    for i in tqdm(range(0, len(df), BATCH_SIZE), desc=f\"Inferring {model_key}\"):\n",
    "        batch   = df.iloc[i : i + BATCH_SIZE]\n",
    "        prompts = batch[\"prompt\"].tolist()\n",
    "        preds   = generate_sft_batch(tokenizer, model, prompts)\n",
    "\n",
    "        for prompt, chosen, rejected in zip(prompts, batch[\"completion\"], preds):\n",
    "            records.append({\n",
    "                \"prompt\":   prompt,\n",
    "                \"chosen\":   chosen,\n",
    "                \"rejected\": rejected\n",
    "            })\n",
    "\n",
    "    print(f\"→ Inference time: {time.time()-start:.1f}s, total pairs: {len(records)}\")\n",
    "\n",
    "    # simpan raw preference file per model\n",
    "    with open(output_path, \"w\", encoding=\"utf-8\") as f:\n",
    "        for rec in records:\n",
    "            f.write(json.dumps(rec, ensure_ascii=False) + \"\\n\")\n",
    "    print(f\"✔️ Saved raw preference dataset to `{output_path}`\")\n",
    "\n",
    "    # cleaning duplicates\n",
    "    df_pref = pd.read_json(output_path, lines=True)\n",
    "    mask_same = df_pref[\"chosen\"].str.strip() == df_pref[\"rejected\"].str.strip()\n",
    "    df_clean = df_pref[~mask_same].reset_index(drop=True)\n",
    "    clean_path = output_path.replace(\".jsonl\", \"_clean.jsonl\")\n",
    "    df_clean.to_json(clean_path, orient=\"records\", lines=True, force_ascii=False)\n",
    "    print(f\"✔️ Cleaned preference dataset saved to `{clean_path}`\")\n",
    "\n",
    "    # tampil sampel\n",
    "    display(df_clean.sample(5).reset_index(drop=True))\n",
    "\n",
    "    # selesai untuk model ini\n",
    "    del model, tokenizer\n",
    "    torch.cuda.empty_cache()\n",
    "    gc.collect()"
   ]
  },
  {
   "cell_type": "code",
   "execution_count": null,
   "id": "b1236801",
   "metadata": {},
   "outputs": [],
   "source": [
    "import signal\n",
    "\n",
    "os.kill(os.getpid(), signal.SIGTERM)"
   ]
  },
  {
   "cell_type": "code",
   "execution_count": null,
   "id": "eb829a26",
   "metadata": {},
   "outputs": [],
   "source": []
  }
 ],
 "metadata": {
  "kernelspec": {
   "display_name": "Python (rlaifenv )",
   "language": "python",
   "name": "rlaifenv"
  },
  "language_info": {
   "codemirror_mode": {
    "name": "ipython",
    "version": 3
   },
   "file_extension": ".py",
   "mimetype": "text/x-python",
   "name": "python",
   "nbconvert_exporter": "python",
   "pygments_lexer": "ipython3",
   "version": "3.10.16"
  }
 },
 "nbformat": 4,
 "nbformat_minor": 5
}
