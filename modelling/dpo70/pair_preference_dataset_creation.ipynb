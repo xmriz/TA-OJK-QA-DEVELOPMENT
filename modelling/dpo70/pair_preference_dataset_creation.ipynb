{
 "cells": [
  {
   "cell_type": "markdown",
   "id": "ad829332",
   "metadata": {},
   "source": [
    "# **Rejected Response Inference**"
   ]
  },
  {
   "cell_type": "markdown",
   "id": "b39100a4",
   "metadata": {},
   "source": [
    "## **Config**"
   ]
  },
  {
   "cell_type": "code",
   "execution_count": 1,
   "id": "b84041aa",
   "metadata": {},
   "outputs": [],
   "source": [
    "import os\n",
    "os.environ[\"CUDA_VISIBLE_DEVICES\"] = \"5\"  # sesuaikan dengan GPU yang tersedia\n",
    "\n",
    "seed = 42\n",
    "DATASET_PATH    = \"../datasets2070/cqa_rl_prompt_completion.jsonl\"\n",
    "CACHE_FOLDER    = \"../model_cache\"\n",
    "SFT_MODEL_NAMES = {\n",
    "    \"Meta-Llama-3.1-8B\": os.path.join(\"../sft/sft_output_Meta-Llama-3.1-8B\", \"final_checkpoint\"),\n",
    "    \"Aya-23-8B\":     os.path.join(\"../sft/sft_output_Aya-23-8B\", \"final_checkpoint\"), \n",
    "    \"SeaLLMs-v3-7B\": os.path.join(\"../sft/sft_output_SeaLLMs-v3-7B\", \"final_checkpoint\"),\n",
    "    \"SEA-LION-v3-8B\":    os.path.join(\"../sft/sft_output_SEA-LION-v3-8B\", \"final_checkpoint\"),\n",
    "    \"Sahabat-AI-8B\":     os.path.join(\"../sft/sft_output_Sahabat-AI-8B\", \"final_checkpoint\"),\n",
    "}\n",
    "BATCH_SIZE      = 32"
   ]
  },
  {
   "cell_type": "markdown",
   "id": "83097bd6",
   "metadata": {},
   "source": [
    "## **Import Libraries**"
   ]
  },
  {
   "cell_type": "code",
   "execution_count": 2,
   "id": "98e26ded",
   "metadata": {},
   "outputs": [
    {
     "name": "stderr",
     "output_type": "stream",
     "text": [
      "/raid/home/llmsosmed/rlaif/lib/python3.10/site-packages/tqdm/auto.py:21: TqdmWarning: IProgress not found. Please update jupyter and ipywidgets. See https://ipywidgets.readthedocs.io/en/stable/user_install.html\n",
      "  from .autonotebook import tqdm as notebook_tqdm\n"
     ]
    }
   ],
   "source": [
    "import gc\n",
    "import time\n",
    "import json\n",
    "import random\n",
    "import torch\n",
    "import pandas as pd\n",
    "from tqdm.auto import tqdm\n",
    "from transformers import (\n",
    "    AutoTokenizer,\n",
    "    AutoModelForCausalLM,\n",
    "    BitsAndBytesConfig,\n",
    "    set_seed\n",
    ")\n",
    "\n",
    "pd.set_option(\"display.max_colwidth\", None)"
   ]
  },
  {
   "cell_type": "markdown",
   "id": "fa25291c",
   "metadata": {},
   "source": [
    "## **Utility Functions**"
   ]
  },
  {
   "cell_type": "code",
   "execution_count": 3,
   "id": "45832892",
   "metadata": {},
   "outputs": [],
   "source": [
    "def set_global_seed(s: int = seed):\n",
    "    random.seed(s)\n",
    "    torch.manual_seed(s)\n",
    "    torch.cuda.manual_seed_all(s)\n",
    "    set_seed(s)\n",
    "\n",
    "def load_sft_model_and_tokenizer(model_path: str, tokenizer_path: str, hf_token: str = None):\n",
    "    set_global_seed()\n",
    "    tokenizer = AutoTokenizer.from_pretrained(\n",
    "        tokenizer_path,\n",
    "        use_auth_token=hf_token,\n",
    "        local_files_only=True\n",
    "    )\n",
    "    if tokenizer.pad_token is None:\n",
    "        tokenizer.pad_token = tokenizer.eos_token\n",
    "    tokenizer.padding_side = \"left\"\n",
    "\n",
    "    quant_config = BitsAndBytesConfig(\n",
    "        load_in_4bit=True,\n",
    "        bnb_4bit_compute_dtype=torch.bfloat16,\n",
    "        bnb_4bit_quant_type=\"nf4\",\n",
    "    )\n",
    "    model = AutoModelForCausalLM.from_pretrained(\n",
    "        model_path,\n",
    "        device_map=\"auto\",\n",
    "        quantization_config=quant_config,\n",
    "        low_cpu_mem_usage=True,\n",
    "        use_auth_token=hf_token,\n",
    "        local_files_only=True\n",
    "    )\n",
    "    model.config.use_cache = False\n",
    "    model.eval()\n",
    "    return tokenizer, model\n",
    "\n",
    "def generate_sft_batch(tokenizer, model, prompts, max_new_tokens=256):\n",
    "    inputs = tokenizer(\n",
    "        prompts,\n",
    "        return_tensors=\"pt\",\n",
    "        padding=True,\n",
    "        truncation=True,\n",
    "        max_length=1792\n",
    "    ).to(model.device)\n",
    "    with torch.no_grad():\n",
    "        outputs = model.generate(\n",
    "            **inputs,\n",
    "            max_new_tokens=max_new_tokens,\n",
    "            do_sample=False,\n",
    "            pad_token_id=tokenizer.eos_token_id\n",
    "        )\n",
    "    decoded = tokenizer.batch_decode(outputs, skip_special_tokens=True)\n",
    "    return [\n",
    "        text[len(prompt):].split(\"\\n\", 1)[0]\n",
    "        for text, prompt in zip(decoded, prompts)\n",
    "    ]\n"
   ]
  },
  {
   "cell_type": "code",
   "execution_count": 4,
   "id": "f6be416d",
   "metadata": {},
   "outputs": [],
   "source": [
    "set_global_seed()"
   ]
  },
  {
   "cell_type": "markdown",
   "id": "33f56c20",
   "metadata": {},
   "source": [
    "## **Load Dataset**"
   ]
  },
  {
   "cell_type": "code",
   "execution_count": 5,
   "id": "d527634c",
   "metadata": {},
   "outputs": [
    {
     "name": "stdout",
     "output_type": "stream",
     "text": [
      "Total examples: 2372\n"
     ]
    },
    {
     "data": {
      "text/html": [
       "<div>\n",
       "<style scoped>\n",
       "    .dataframe tbody tr th:only-of-type {\n",
       "        vertical-align: middle;\n",
       "    }\n",
       "\n",
       "    .dataframe tbody tr th {\n",
       "        vertical-align: top;\n",
       "    }\n",
       "\n",
       "    .dataframe thead th {\n",
       "        text-align: right;\n",
       "    }\n",
       "</style>\n",
       "<table border=\"1\" class=\"dataframe\">\n",
       "  <thead>\n",
       "    <tr style=\"text-align: right;\">\n",
       "      <th></th>\n",
       "      <th>prompt</th>\n",
       "      <th>completion</th>\n",
       "    </tr>\n",
       "  </thead>\n",
       "  <tbody>\n",
       "    <tr>\n",
       "      <th>834</th>\n",
       "      <td>Anda adalah pakar regulasi keuangan Indonesia. Jawablah berdasarkan konteks yang disediakan; jika tidak terdapat pada konteks, jawab “Saya tidak tahu terkait {question}.”\\n\\nContext:\\nPasal 25 (1) Keputusan RUPS diambil berdasarkan musyawarah untuk mufakat. (2) Dalam hal keputusan berdasarkan musyawarah untuk mufakat sebagaimana dimaksud pada ayat (1) tidak tercapai, keputusan diambil melalui pemungutan suara. (3) Pengambilan keputusan melalui pemungutan suara sebagaimana dimaksud pada ayat (2) wajib dilakukan dengan memperhatikan ketentuan kuorum kehadiran dan kuorum keputusan RUPS.\\n\\nQuestion: Bagaimana cara pengambilan keputusan RUPS menurut Pasal 25?\\nAnswer:</td>\n",
       "      <td>Objek yang diatur meliputi musyawarah untuk mufakat dan pemungutan suara jika mufakat tidak tercapai.</td>\n",
       "    </tr>\n",
       "    <tr>\n",
       "      <th>1509</th>\n",
       "      <td>Anda adalah pakar regulasi keuangan Indonesia. Jawablah berdasarkan konteks yang disediakan; jika tidak terdapat pada konteks, jawab “Saya tidak tahu terkait {question}.”\\n\\nContext:\\nPasal 3\\n(1) \\nKebijakan sebagaimana dimaksud dalam Pasal 2 \\nmeliputi: \\na. \\npenetapan tata cara pelaksanaan kegiatan di Pasar \\nModal;  \\nb. \\npenetapan tata cara dan batas waktu penyampaian \\nlaporan berkala dan insidentil pelaku industri di \\nPasar Modal; \\nc. \\npenetapan tata cara pemberian izin, persetujuan, \\ndan/atau pendaftaran di bidang Pasar Modal; \\nd. \\npenetapan \\njangka \\nwaktu \\nberlakunya \\nizin, \\npersetujuan, \\npendaftaran, \\ndan \\npenggunaan \\ndokumen di bidang Pasar Modal;    \\ne. \\npelaksanaan penilaian kemampuan dan kepatutan \\ncalon pihak utama pelaku industri di Pasar Modal; \\nf. \\npemberian perintah kepada Bursa Efek, Lembaga \\nKliring \\ndan \\nPenjaminan \\ndan/atau \\nLembaga \\nPenyimpanan dan Penyelesaian untuk menetapkan\\nperaturan dan/atau kebijakan yang mendukung \\nterwujudnya stabilitas Pasar Modal; dan/atau  \\ng. \\npenetapan kebijakan lainnya. \\n(2) \\nPenerapan kebijakan sebagaimana dimaksud pada ayat \\n(1) \\ndilaksanakan \\ndengan \\ntetap \\nmemperhatikan \\npenerapan \\nprinsip \\nketerbukaan, \\nkehati-hatian, \\nmanajemen risiko, tata kelola perusahaan yang baik \\ndan sesuai dengan kondisi Pasar Modal terkini. \\n(3) \\nDalam \\nrangka \\npengambilan \\nkebijakan \\ndan \\nmengevaluasi kebijakan yang telah ditetapkan untuk \\nmengantisipasi dampak akibat COVID-19, Otoritas Jasa \\nKeuangan berwenang meminta data dan informasi \\ntambahan kepada pelaku industri di bidang Pasar \\nModal di luar kewajiban pelaporan sebagaimana \\ndimaksud dalam ketentuan peraturan perundang-\\nundangan di bidang Pasar Modal.\\n\\nQuestion: Apa dasar hukum utama untuk Pasal 3 ayat (1)?\\nAnswer:</td>\n",
       "      <td>Saya tidak tahu terkait dasar hukum utama untuk Pasal 3 ayat (1).</td>\n",
       "    </tr>\n",
       "    <tr>\n",
       "      <th>100</th>\n",
       "      <td>Anda adalah pakar regulasi keuangan Indonesia. Jawablah berdasarkan konteks yang disediakan; jika tidak terdapat pada konteks, jawab “Saya tidak tahu terkait {question}.”\\n\\nContext:\\nPasal 32 \\n\\n(1) Lembaga Penjaminan yang tidak memenuhi ketentuan Pasal 3 ayat (3), Pasal 3 ayat (6), Pasal 6 ayat (2), Pasal 7, Pasal 8, Pasal 9, Pasal 10 ayat (1), Pasal 11, Pasal 19, Pasal 21 ayat (1), Pasal 21 ayat (4), Pasal  23  ayat  (3),  Pasal 23  ayat (5), Pasal 24,  \\n\\n                                                                Pasal 25…\\n\\n-24- \\n\\nPasal 25, dan Pasal 26 Peraturan Otoritas Jasa Keuangan ini, dikenakan sanksi administratif berupa:  a. surat peringatan; b. pembekuan kegiatan usaha; atau   c. pencabutan izin usaha. \\n\\n\\n(2) Sanksi administratif berupa surat peringatan sebagaimana dimaksud pada ayat (1) huruf a,  diberikan secara tertulis paling banyak 3 (tiga) kali berturut-turut dengan masa berlaku masing-masing 60 (enam puluh) hari.   \\n\\n\\n(3) Dalam hal sebelum berakhirnya masa berlaku surat peringatan sebagaimana dimaksud pada ayat (2), Lembaga Penjaminan telah memenuhi ketentuan sebagaimana dimaksud pada ayat (1), Otoritas Jasa Keuangan mencabut sanksi peringatan. \\n\\n\\n(4) Dalam hal masa berlaku sanksi surat peringatan ketiga sebagaimana dimaksud pada ayat (2) berakhir serta Lembaga Penjaminan tetap tidak memenuhi ketentuan sebagaimana dimaksud pada ayat (1), Otoritas Jasa Keuangan mengenakan sanksi administratif berupa pembekuan kegiatan usaha. \\n\\n\\n(5) Sanksi pembekuan kegiatan usaha sebagaimana dimaksud pada ayat (4) diberikan secara tertulis dan berlaku selama jangka waktu 6 (enam) bulan sejak surat sanksi pembekuan kegiatan usaha diterbitkan.         \\n\\nQuestion: Bagaimana mekanisme sanksi administratif bagi Lembaga Penjaminan menurut Pasal 32?\\nAnswer:</td>\n",
       "      <td>Mekanisme proses dijelaskan sebagai pemberian surat peringatan maksimal 3 kali, pembekuan usaha 6 bulan, dan pencabutan izin jika tidak dipenuhi.</td>\n",
       "    </tr>\n",
       "  </tbody>\n",
       "</table>\n",
       "</div>"
      ],
      "text/plain": [
       "                                                                                                                                                                                                                                                                                                                                                                                                                                                                                                                                                                                                                                                                                                                                                                                                                                                                                                                                                                                                                                                                                                                                                                                                                                                                                                                                                                                                                                                                                                                                                                                                                                                                                                                                                                                                                                                                                prompt  \\\n",
       "834                                                                                                                                                                                                                                                                                                                                                                                                                                                                                                                                                                                                                                                                                                                                                                                                                                                                                                                                                                                                                                                                                                                                                                                   Anda adalah pakar regulasi keuangan Indonesia. Jawablah berdasarkan konteks yang disediakan; jika tidak terdapat pada konteks, jawab “Saya tidak tahu terkait {question}.”\\n\\nContext:\\nPasal 25 (1) Keputusan RUPS diambil berdasarkan musyawarah untuk mufakat. (2) Dalam hal keputusan berdasarkan musyawarah untuk mufakat sebagaimana dimaksud pada ayat (1) tidak tercapai, keputusan diambil melalui pemungutan suara. (3) Pengambilan keputusan melalui pemungutan suara sebagaimana dimaksud pada ayat (2) wajib dilakukan dengan memperhatikan ketentuan kuorum kehadiran dan kuorum keputusan RUPS.\\n\\nQuestion: Bagaimana cara pengambilan keputusan RUPS menurut Pasal 25?\\nAnswer:   \n",
       "1509            Anda adalah pakar regulasi keuangan Indonesia. Jawablah berdasarkan konteks yang disediakan; jika tidak terdapat pada konteks, jawab “Saya tidak tahu terkait {question}.”\\n\\nContext:\\nPasal 3\\n(1) \\nKebijakan sebagaimana dimaksud dalam Pasal 2 \\nmeliputi: \\na. \\npenetapan tata cara pelaksanaan kegiatan di Pasar \\nModal;  \\nb. \\npenetapan tata cara dan batas waktu penyampaian \\nlaporan berkala dan insidentil pelaku industri di \\nPasar Modal; \\nc. \\npenetapan tata cara pemberian izin, persetujuan, \\ndan/atau pendaftaran di bidang Pasar Modal; \\nd. \\npenetapan \\njangka \\nwaktu \\nberlakunya \\nizin, \\npersetujuan, \\npendaftaran, \\ndan \\npenggunaan \\ndokumen di bidang Pasar Modal;    \\ne. \\npelaksanaan penilaian kemampuan dan kepatutan \\ncalon pihak utama pelaku industri di Pasar Modal; \\nf. \\npemberian perintah kepada Bursa Efek, Lembaga \\nKliring \\ndan \\nPenjaminan \\ndan/atau \\nLembaga \\nPenyimpanan dan Penyelesaian untuk menetapkan\\nperaturan dan/atau kebijakan yang mendukung \\nterwujudnya stabilitas Pasar Modal; dan/atau  \\ng. \\npenetapan kebijakan lainnya. \\n(2) \\nPenerapan kebijakan sebagaimana dimaksud pada ayat \\n(1) \\ndilaksanakan \\ndengan \\ntetap \\nmemperhatikan \\npenerapan \\nprinsip \\nketerbukaan, \\nkehati-hatian, \\nmanajemen risiko, tata kelola perusahaan yang baik \\ndan sesuai dengan kondisi Pasar Modal terkini. \\n(3) \\nDalam \\nrangka \\npengambilan \\nkebijakan \\ndan \\nmengevaluasi kebijakan yang telah ditetapkan untuk \\nmengantisipasi dampak akibat COVID-19, Otoritas Jasa \\nKeuangan berwenang meminta data dan informasi \\ntambahan kepada pelaku industri di bidang Pasar \\nModal di luar kewajiban pelaporan sebagaimana \\ndimaksud dalam ketentuan peraturan perundang-\\nundangan di bidang Pasar Modal.\\n\\nQuestion: Apa dasar hukum utama untuk Pasal 3 ayat (1)?\\nAnswer:   \n",
       "100   Anda adalah pakar regulasi keuangan Indonesia. Jawablah berdasarkan konteks yang disediakan; jika tidak terdapat pada konteks, jawab “Saya tidak tahu terkait {question}.”\\n\\nContext:\\nPasal 32 \\n\\n(1) Lembaga Penjaminan yang tidak memenuhi ketentuan Pasal 3 ayat (3), Pasal 3 ayat (6), Pasal 6 ayat (2), Pasal 7, Pasal 8, Pasal 9, Pasal 10 ayat (1), Pasal 11, Pasal 19, Pasal 21 ayat (1), Pasal 21 ayat (4), Pasal  23  ayat  (3),  Pasal 23  ayat (5), Pasal 24,  \\n\\n                                                                Pasal 25…\\n\\n-24- \\n\\nPasal 25, dan Pasal 26 Peraturan Otoritas Jasa Keuangan ini, dikenakan sanksi administratif berupa:  a. surat peringatan; b. pembekuan kegiatan usaha; atau   c. pencabutan izin usaha. \\n\\n\\n(2) Sanksi administratif berupa surat peringatan sebagaimana dimaksud pada ayat (1) huruf a,  diberikan secara tertulis paling banyak 3 (tiga) kali berturut-turut dengan masa berlaku masing-masing 60 (enam puluh) hari.   \\n\\n\\n(3) Dalam hal sebelum berakhirnya masa berlaku surat peringatan sebagaimana dimaksud pada ayat (2), Lembaga Penjaminan telah memenuhi ketentuan sebagaimana dimaksud pada ayat (1), Otoritas Jasa Keuangan mencabut sanksi peringatan. \\n\\n\\n(4) Dalam hal masa berlaku sanksi surat peringatan ketiga sebagaimana dimaksud pada ayat (2) berakhir serta Lembaga Penjaminan tetap tidak memenuhi ketentuan sebagaimana dimaksud pada ayat (1), Otoritas Jasa Keuangan mengenakan sanksi administratif berupa pembekuan kegiatan usaha. \\n\\n\\n(5) Sanksi pembekuan kegiatan usaha sebagaimana dimaksud pada ayat (4) diberikan secara tertulis dan berlaku selama jangka waktu 6 (enam) bulan sejak surat sanksi pembekuan kegiatan usaha diterbitkan.         \\n\\nQuestion: Bagaimana mekanisme sanksi administratif bagi Lembaga Penjaminan menurut Pasal 32?\\nAnswer:   \n",
       "\n",
       "                                                                                                                                              completion  \n",
       "834                                                Objek yang diatur meliputi musyawarah untuk mufakat dan pemungutan suara jika mufakat tidak tercapai.  \n",
       "1509                                                                                   Saya tidak tahu terkait dasar hukum utama untuk Pasal 3 ayat (1).  \n",
       "100    Mekanisme proses dijelaskan sebagai pemberian surat peringatan maksimal 3 kali, pembekuan usaha 6 bulan, dan pencabutan izin jika tidak dipenuhi.  "
      ]
     },
     "execution_count": 5,
     "metadata": {},
     "output_type": "execute_result"
    }
   ],
   "source": [
    "df = pd.read_json(DATASET_PATH, lines=True)\n",
    "print(f\"Total examples: {len(df)}\")\n",
    "df.sample(3)"
   ]
  },
  {
   "cell_type": "markdown",
   "id": "4cf425b3",
   "metadata": {},
   "source": [
    "## **Generate Rejected Responses & Build Preference Pairs**"
   ]
  },
  {
   "cell_type": "code",
   "execution_count": null,
   "id": "117a1549",
   "metadata": {},
   "outputs": [
    {
     "name": "stdout",
     "output_type": "stream",
     "text": [
      "\n",
      "▶ Generating rejected responses with SFT Meta-Llama-3.1-8B\n",
      "[2025-06-09 03:11:05,259] [INFO] [real_accelerator.py:239:get_accelerator] Setting ds_accelerator to cuda (auto detect)\n"
     ]
    },
    {
     "name": "stderr",
     "output_type": "stream",
     "text": [
      "/usr/bin/ld: cannot find -laio: No such file or directory\n",
      "collect2: error: ld returned 1 exit status\n",
      "/usr/bin/ld: cannot find -laio: No such file or directory\n",
      "collect2: error: ld returned 1 exit status\n",
      "Loading checkpoint shards: 100%|██████████| 4/4 [00:33<00:00,  8.33s/it]\n",
      "Inferring Meta-Llama-3.1-8B:   0%|          | 0/75 [00:00<?, ?it/s]/raid/home/llmsosmed/rlaif/lib/python3.10/site-packages/transformers/generation/configuration_utils.py:631: UserWarning: `do_sample` is set to `False`. However, `temperature` is set to `0.6` -- this flag is only used in sample-based generation modes. You should set `do_sample=True` or unset `temperature`.\n",
      "  warnings.warn(\n",
      "/raid/home/llmsosmed/rlaif/lib/python3.10/site-packages/transformers/generation/configuration_utils.py:636: UserWarning: `do_sample` is set to `False`. However, `top_p` is set to `0.9` -- this flag is only used in sample-based generation modes. You should set `do_sample=True` or unset `top_p`.\n",
      "  warnings.warn(\n",
      "Inferring Meta-Llama-3.1-8B:   3%|▎         | 2/75 [01:18<47:51, 39.34s/it]"
     ]
    }
   ],
   "source": [
    "# kita pakai satu SFT model (atau bisa loop jika mau multi-model)\n",
    "for model_key, sft_path in SFT_MODEL_NAMES.items():\n",
    "    print(f\"\\n▶ Generating rejected responses with SFT {model_key}\")\n",
    "    tokenizer_dir = os.path.join(CACHE_FOLDER, model_key)\n",
    "    tokenizer, model = load_sft_model_and_tokenizer(\n",
    "        sft_path, tokenizer_dir, hf_token=os.getenv(\"HF_TOKEN\")\n",
    "    )\n",
    "\n",
    "    output_path = f\"preference_{model_key}.jsonl\"\n",
    "\n",
    "    # warm-up…\n",
    "    _ = model.generate(\n",
    "        **tokenizer(\"Warm up\", return_tensors=\"pt\").to(model.device),\n",
    "        max_new_tokens=1,\n",
    "        pad_token_id=tokenizer.eos_token_id\n",
    "    )\n",
    "\n",
    "    records = []\n",
    "    start = time.time()\n",
    "    for i in tqdm(range(0, len(df), BATCH_SIZE), desc=f\"Inferring {model_key}\"):\n",
    "        batch   = df.iloc[i : i + BATCH_SIZE]\n",
    "        prompts = batch[\"prompt\"].tolist()\n",
    "        preds   = generate_sft_batch(tokenizer, model, prompts)\n",
    "\n",
    "        for prompt, chosen, rejected in zip(prompts, batch[\"completion\"], preds):\n",
    "            records.append({\n",
    "                \"prompt\":   prompt,\n",
    "                \"chosen\":   chosen,\n",
    "                \"rejected\": rejected\n",
    "            })\n",
    "\n",
    "    print(f\"→ Inference time: {time.time()-start:.1f}s, total pairs: {len(records)}\")\n",
    "\n",
    "    # simpan raw preference file per model\n",
    "    with open(output_path, \"w\", encoding=\"utf-8\") as f:\n",
    "        for rec in records:\n",
    "            f.write(json.dumps(rec, ensure_ascii=False) + \"\\n\")\n",
    "    print(f\"✔️ Saved raw preference dataset to `{output_path}`\")\n",
    "\n",
    "    # cleaning duplicates\n",
    "    df_pref = pd.read_json(output_path, lines=True)\n",
    "    mask_same = df_pref[\"chosen\"].str.strip() == df_pref[\"rejected\"].str.strip()\n",
    "    df_clean = df_pref[~mask_same].reset_index(drop=True)\n",
    "    clean_path = output_path.replace(\".jsonl\", \"_clean.jsonl\")\n",
    "    df_clean.to_json(clean_path, orient=\"records\", lines=True, force_ascii=False)\n",
    "    print(f\"✔️ Cleaned preference dataset saved to `{clean_path}`\")\n",
    "\n",
    "    # tampil sampel\n",
    "    display(df_clean.sample(5).reset_index(drop=True))\n",
    "\n",
    "    # selesai untuk model ini\n",
    "    del model, tokenizer\n",
    "    torch.cuda.empty_cache()\n",
    "    gc.collect()"
   ]
  },
  {
   "cell_type": "code",
   "execution_count": null,
   "id": "b1236801",
   "metadata": {},
   "outputs": [],
   "source": [
    "import signal\n",
    "\n",
    "os.kill(os.getpid(), signal.SIGTERM)"
   ]
  },
  {
   "cell_type": "code",
   "execution_count": null,
   "id": "eb829a26",
   "metadata": {},
   "outputs": [],
   "source": []
  }
 ],
 "metadata": {
  "kernelspec": {
   "display_name": "Python (rlaifenv )",
   "language": "python",
   "name": "rlaifenv"
  },
  "language_info": {
   "codemirror_mode": {
    "name": "ipython",
    "version": 3
   },
   "file_extension": ".py",
   "mimetype": "text/x-python",
   "name": "python",
   "nbconvert_exporter": "python",
   "pygments_lexer": "ipython3",
   "version": "3.10.16"
  }
 },
 "nbformat": 4,
 "nbformat_minor": 5
}
