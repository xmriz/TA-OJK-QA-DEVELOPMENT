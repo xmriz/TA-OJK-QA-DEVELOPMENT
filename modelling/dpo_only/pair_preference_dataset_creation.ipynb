{
 "cells": [
  {
   "cell_type": "markdown",
   "id": "ad829332",
   "metadata": {},
   "source": [
    "# **Rejected Response Inference**"
   ]
  },
  {
   "cell_type": "markdown",
   "id": "b39100a4",
   "metadata": {},
   "source": [
    "## **Config**"
   ]
  },
  {
   "cell_type": "code",
   "execution_count": 1,
   "id": "b84041aa",
   "metadata": {},
   "outputs": [],
   "source": [
    "import os\n",
    "os.environ[\"CUDA_VISIBLE_DEVICES\"] = \"7\"  # sesuaikan dengan GPU yang tersedia\n",
    "\n",
    "seed = 42\n",
    "DATASET_PATH    = \"../datasets_full_training_and_test/cqa_full_training_prompt_completion.jsonl\"\n",
    "CACHE_FOLDER    = \"../model_cache\"\n",
    "SFT_MODEL_NAMES = {\n",
    "    \"Meta-Llama-3.1-8B\": \"../model_cache/Meta-Llama-3.1-8B\",\n",
    "    \"Aya-23-8B\":         \"../model_cache/Aya-23-8B\",\n",
    "    \"SeaLLMs-v3-7B\":     \"../model_cache/SeaLLMs-v3-7B\",\n",
    "    \"SEA-LION-v3-8B\":    \"../model_cache/SEA-LION-v3-8B\",\n",
    "    \"Sahabat-AI-8B\":     \"../model_cache/Sahabat-AI-8B\"\n",
    "}\n",
    "BATCH_SIZE      = 32"
   ]
  },
  {
   "cell_type": "markdown",
   "id": "83097bd6",
   "metadata": {},
   "source": [
    "## **Import Libraries**"
   ]
  },
  {
   "cell_type": "code",
   "execution_count": 2,
   "id": "98e26ded",
   "metadata": {},
   "outputs": [
    {
     "name": "stderr",
     "output_type": "stream",
     "text": [
      "/raid/home/llmsosmed/rlaif/lib/python3.10/site-packages/tqdm/auto.py:21: TqdmWarning: IProgress not found. Please update jupyter and ipywidgets. See https://ipywidgets.readthedocs.io/en/stable/user_install.html\n",
      "  from .autonotebook import tqdm as notebook_tqdm\n"
     ]
    }
   ],
   "source": [
    "import gc\n",
    "import time\n",
    "import json\n",
    "import random\n",
    "import torch\n",
    "import pandas as pd\n",
    "from tqdm.auto import tqdm\n",
    "from transformers import (\n",
    "    AutoTokenizer,\n",
    "    AutoModelForCausalLM,\n",
    "    BitsAndBytesConfig,\n",
    "    set_seed\n",
    ")\n",
    "\n",
    "pd.set_option(\"display.max_colwidth\", None)"
   ]
  },
  {
   "cell_type": "markdown",
   "id": "fa25291c",
   "metadata": {},
   "source": [
    "## **Utility Functions**"
   ]
  },
  {
   "cell_type": "code",
   "execution_count": 3,
   "id": "45832892",
   "metadata": {},
   "outputs": [],
   "source": [
    "def set_global_seed(s: int = seed):\n",
    "    random.seed(s)\n",
    "    torch.manual_seed(s)\n",
    "    torch.cuda.manual_seed_all(s)\n",
    "    set_seed(s)\n",
    "\n",
    "def load_sft_model_and_tokenizer(model_path: str, tokenizer_path: str, hf_token: str = None):\n",
    "    set_global_seed()\n",
    "    tokenizer = AutoTokenizer.from_pretrained(\n",
    "        tokenizer_path,\n",
    "        use_auth_token=hf_token,\n",
    "        local_files_only=True\n",
    "    )\n",
    "    if tokenizer.pad_token is None:\n",
    "        tokenizer.pad_token = tokenizer.eos_token\n",
    "    tokenizer.padding_side = \"left\"\n",
    "\n",
    "    quant_config = BitsAndBytesConfig(\n",
    "        load_in_4bit=True,\n",
    "        bnb_4bit_compute_dtype=torch.bfloat16,\n",
    "        bnb_4bit_quant_type=\"nf4\",\n",
    "    )\n",
    "    model = AutoModelForCausalLM.from_pretrained(\n",
    "        model_path,\n",
    "        device_map=\"auto\",\n",
    "        quantization_config=quant_config,\n",
    "        low_cpu_mem_usage=True,\n",
    "        use_auth_token=hf_token,\n",
    "        local_files_only=True\n",
    "    )\n",
    "    model.config.use_cache = False\n",
    "    model.eval()\n",
    "    return tokenizer, model\n",
    "\n",
    "def generate_sft_batch(tokenizer, model, prompts, max_new_tokens=256):\n",
    "    inputs = tokenizer(\n",
    "        prompts,\n",
    "        return_tensors=\"pt\",\n",
    "        padding=True,\n",
    "        truncation=True,\n",
    "        max_length=1792\n",
    "    ).to(model.device)\n",
    "    with torch.no_grad():\n",
    "        outputs = model.generate(\n",
    "            **inputs,\n",
    "            max_new_tokens=max_new_tokens,\n",
    "            do_sample=False,\n",
    "            pad_token_id=tokenizer.eos_token_id\n",
    "        )\n",
    "    decoded = tokenizer.batch_decode(outputs, skip_special_tokens=True)\n",
    "    return [\n",
    "        text[len(prompt):].split(\"\\n\", 1)[0]\n",
    "        for text, prompt in zip(decoded, prompts)\n",
    "    ]\n"
   ]
  },
  {
   "cell_type": "code",
   "execution_count": 4,
   "id": "f6be416d",
   "metadata": {},
   "outputs": [],
   "source": [
    "set_global_seed()"
   ]
  },
  {
   "cell_type": "markdown",
   "id": "33f56c20",
   "metadata": {},
   "source": [
    "## **Load Dataset**"
   ]
  },
  {
   "cell_type": "code",
   "execution_count": 5,
   "id": "d527634c",
   "metadata": {},
   "outputs": [
    {
     "name": "stdout",
     "output_type": "stream",
     "text": [
      "Total examples: 3048\n"
     ]
    },
    {
     "data": {
      "text/html": [
       "<div>\n",
       "<style scoped>\n",
       "    .dataframe tbody tr th:only-of-type {\n",
       "        vertical-align: middle;\n",
       "    }\n",
       "\n",
       "    .dataframe tbody tr th {\n",
       "        vertical-align: top;\n",
       "    }\n",
       "\n",
       "    .dataframe thead th {\n",
       "        text-align: right;\n",
       "    }\n",
       "</style>\n",
       "<table border=\"1\" class=\"dataframe\">\n",
       "  <thead>\n",
       "    <tr style=\"text-align: right;\">\n",
       "      <th></th>\n",
       "      <th>prompt</th>\n",
       "      <th>completion</th>\n",
       "    </tr>\n",
       "  </thead>\n",
       "  <tbody>\n",
       "    <tr>\n",
       "      <th>1582</th>\n",
       "      <td>Anda adalah pakar regulasi keuangan Indonesia. Jawablah berdasarkan konteks yang disediakan; jika tidak terdapat pada konteks, jawab “Saya tidak tahu terkait {question}.”\\n\\nContext:\\nPasal 1 Dalam Peraturan Otoritas Jasa Keuangan ini yang dimaksud dengan: 1. Bank adalah bank umum sebagaimana dimaksud dalam Undang-Undang mengenai perbankan, termasuk kantor cabang dari bank yang berkedudukan di luar negeri, serta bank umum syariah dan unit usaha syariah sebagaimana dimaksud dalam Undang-Undang mengenai perbankan syariah.\\n\\n2. Direksi adalah organ perseroan yang berwenang dan bertanggung jawab penuh atas pengurusan untuk kepentingan perseroan, sesuai dengan maksud dan tujuan perseroan serta mewakili perseroan, baik di dalam maupun di luar pengadilan sesuai dengan ketentuan anggaran dasar bagi Bank yang berbadan hukum perseroan terbatas atau pemimpin kantor cabang dan pejabat satu tingkat di bawah pemimpin kantor cabang bagi kantor cabang dari bank yang berkedudukan  di luar negeri. 3. Dewan Komisaris adalah organ perseroan yang bertugas melakukan pengawasan secara umum dan/atau khusus sesuai dengan anggaran dasar serta memberi nasihat kepada Direksi bagi Bank yang berbadan hukum perseroan terbatas atau organ atau pihak yang ditunjuk untuk melaksanakan fungsi pengawasan bagi kantor cabang dari bank yang berkedudukan di luar negeri. 4. Dewan Pengawas Syariah adalah dewan yang bertugas memberikan nasihat dan saran kepada Direksi serta mengawasi kegiatan Bank agar sesuai dengan  prinsip syariah. 5. Komite Audit adalah komite yang dibentuk oleh dan bertanggung jawab kepada Dewan Komisaris dalam membantu melaksanakan tugas dan fungsi  Dewan Komisaris. 6. Audit Intern adalah kegiatan pemberian keyakinan dan konsultasi yang bersifat independen dan objektif, dengan tujuan untuk meningkatkan nilai dan memperbaiki operasional Bank, melalui pendekatan yang sistematis, dengan cara mengevaluasi dan meningkatkan efektivitas  manajemen risiko, pengendalian, dan proses  tata kelola Bank. 7. Standar Profesional Audit Intern adalah standar pelaksanaan audit intern secara profesional sebagaimana ditetapkan oleh asosiasi profesi audit intern, termasuk pedoman pelaksanaan standar.\\n\\nQuestion: Apa pengertian Audit Intern menurut peraturan ini?\\nAnswer:</td>\n",
       "      <td>Audit Intern adalah kegiatan pemberian keyakinan dan konsultasi yang bersifat independen dan objektif, dengan tujuan untuk meningkatkan nilai dan memperbaiki operasional Bank, melalui pendekatan yang sistematis, dengan cara mengevaluasi dan meningkatkan efektivitas manajemen risiko, pengendalian, dan proses tata kelola Bank.</td>\n",
       "    </tr>\n",
       "    <tr>\n",
       "      <th>2669</th>\n",
       "      <td>Anda adalah pakar regulasi keuangan Indonesia. Jawablah berdasarkan konteks yang disediakan; jika tidak terdapat pada konteks, jawab “Saya tidak tahu terkait {question}.”\\n\\nContext:\\nPasal 2 BPRS wajib menyediakan modal minimum yang dihitung dengan menggunakan rasio KPMM paling rendah sebesar 12% (dua belas persen) dari ATMR sejak 1 Januari 2020. Pasal 3 (1) Modal terdiri atas: a. modal inti (tier 1) yang meliputi : 1. modal inti utama; 2. modal inti tambahan; dan b. modal pelengkap (tier 2). (2) Modal pelengkap sebagaimana dimaksud pada ayat (1) huruf b hanya dapat diperhitungkan paling tinggi sebesar 100% (seratus persen) dari modal inti.\\n\\nQuestion: Apa kategori penilaian untuk modal pelengkap?\\nAnswer:</td>\n",
       "      <td>Saya tidak tahu terkait kategori penilaian untuk modal pelengkap.</td>\n",
       "    </tr>\n",
       "    <tr>\n",
       "      <th>2091</th>\n",
       "      <td>Anda adalah pakar regulasi keuangan Indonesia. Jawablah berdasarkan konteks yang disediakan; jika tidak terdapat pada konteks, jawab “Saya tidak tahu terkait {question}.”\\n\\nContext:\\nPasal 3 Ruang Lingkup Layanan Pengaduan terdiri atas: a. penerimaan Pengaduan; b. penanganan Pengaduan; dan c. penyelesaian Pengaduan. Bagian Ketiga Prinsip Layanan Pengaduan Pasal 4 PUJK dilarang mengenakan biaya Layanan Pengaduan kepada Konsumen. Pasal 5 (1) PUJK wajib memiliki prosedur secara tertulis mengenai Layanan Pengaduan. (2) PUJK wajib mencantumkan prosedur singkat Layanan Pengaduan sebagaimana dimaksud pada ayat (1) dalam perjanjian dan/atau dokumen Transaksi Keuangan.\\n\\nQuestion: Apakah ruang lingkup Layanan Pengaduan mencakup audit internal?\\nAnswer:</td>\n",
       "      <td>Saya tidak tahu terkait ruang lingkup Layanan Pengaduan mencakup audit internal.</td>\n",
       "    </tr>\n",
       "  </tbody>\n",
       "</table>\n",
       "</div>"
      ],
      "text/plain": [
       "                                                                                                                                                                                                                                                                                                                                                                                                                                                                                                                                                                                                                                                                                                                                                                                                                                                                                                                                                                                                                                                                                                                                                                                                                                                                                                                                                                                                                                                                                                                                                                                                                                                                                                                                                                                                                                                                                                                                                                                                                                                                                                                                                                                                                                                                                                                                                             prompt  \\\n",
       "1582  Anda adalah pakar regulasi keuangan Indonesia. Jawablah berdasarkan konteks yang disediakan; jika tidak terdapat pada konteks, jawab “Saya tidak tahu terkait {question}.”\\n\\nContext:\\nPasal 1 Dalam Peraturan Otoritas Jasa Keuangan ini yang dimaksud dengan: 1. Bank adalah bank umum sebagaimana dimaksud dalam Undang-Undang mengenai perbankan, termasuk kantor cabang dari bank yang berkedudukan di luar negeri, serta bank umum syariah dan unit usaha syariah sebagaimana dimaksud dalam Undang-Undang mengenai perbankan syariah.\\n\\n2. Direksi adalah organ perseroan yang berwenang dan bertanggung jawab penuh atas pengurusan untuk kepentingan perseroan, sesuai dengan maksud dan tujuan perseroan serta mewakili perseroan, baik di dalam maupun di luar pengadilan sesuai dengan ketentuan anggaran dasar bagi Bank yang berbadan hukum perseroan terbatas atau pemimpin kantor cabang dan pejabat satu tingkat di bawah pemimpin kantor cabang bagi kantor cabang dari bank yang berkedudukan  di luar negeri. 3. Dewan Komisaris adalah organ perseroan yang bertugas melakukan pengawasan secara umum dan/atau khusus sesuai dengan anggaran dasar serta memberi nasihat kepada Direksi bagi Bank yang berbadan hukum perseroan terbatas atau organ atau pihak yang ditunjuk untuk melaksanakan fungsi pengawasan bagi kantor cabang dari bank yang berkedudukan di luar negeri. 4. Dewan Pengawas Syariah adalah dewan yang bertugas memberikan nasihat dan saran kepada Direksi serta mengawasi kegiatan Bank agar sesuai dengan  prinsip syariah. 5. Komite Audit adalah komite yang dibentuk oleh dan bertanggung jawab kepada Dewan Komisaris dalam membantu melaksanakan tugas dan fungsi  Dewan Komisaris. 6. Audit Intern adalah kegiatan pemberian keyakinan dan konsultasi yang bersifat independen dan objektif, dengan tujuan untuk meningkatkan nilai dan memperbaiki operasional Bank, melalui pendekatan yang sistematis, dengan cara mengevaluasi dan meningkatkan efektivitas  manajemen risiko, pengendalian, dan proses  tata kelola Bank. 7. Standar Profesional Audit Intern adalah standar pelaksanaan audit intern secara profesional sebagaimana ditetapkan oleh asosiasi profesi audit intern, termasuk pedoman pelaksanaan standar.\\n\\nQuestion: Apa pengertian Audit Intern menurut peraturan ini?\\nAnswer:   \n",
       "2669                                                                                                                                                                                                                                                                                                                                                                                                                                                                                                                                                                                                                                                                                                                                                                                                                                                                                                                                                                                                                                                                                                                                                                                                                                                                                                                                                                                                                                                                                                                                                                                                                  Anda adalah pakar regulasi keuangan Indonesia. Jawablah berdasarkan konteks yang disediakan; jika tidak terdapat pada konteks, jawab “Saya tidak tahu terkait {question}.”\\n\\nContext:\\nPasal 2 BPRS wajib menyediakan modal minimum yang dihitung dengan menggunakan rasio KPMM paling rendah sebesar 12% (dua belas persen) dari ATMR sejak 1 Januari 2020. Pasal 3 (1) Modal terdiri atas: a. modal inti (tier 1) yang meliputi : 1. modal inti utama; 2. modal inti tambahan; dan b. modal pelengkap (tier 2). (2) Modal pelengkap sebagaimana dimaksud pada ayat (1) huruf b hanya dapat diperhitungkan paling tinggi sebesar 100% (seratus persen) dari modal inti.\\n\\nQuestion: Apa kategori penilaian untuk modal pelengkap?\\nAnswer:   \n",
       "2091                                                                                                                                                                                                                                                                                                                                                                                                                                                                                                                                                                                                                                                                                                                                                                                                                                                                                                                                                                                                                                                                                                                                                                                                                                                                                                                                                                                                                                                                                                                                                                            Anda adalah pakar regulasi keuangan Indonesia. Jawablah berdasarkan konteks yang disediakan; jika tidak terdapat pada konteks, jawab “Saya tidak tahu terkait {question}.”\\n\\nContext:\\nPasal 3 Ruang Lingkup Layanan Pengaduan terdiri atas: a. penerimaan Pengaduan; b. penanganan Pengaduan; dan c. penyelesaian Pengaduan. Bagian Ketiga Prinsip Layanan Pengaduan Pasal 4 PUJK dilarang mengenakan biaya Layanan Pengaduan kepada Konsumen. Pasal 5 (1) PUJK wajib memiliki prosedur secara tertulis mengenai Layanan Pengaduan. (2) PUJK wajib mencantumkan prosedur singkat Layanan Pengaduan sebagaimana dimaksud pada ayat (1) dalam perjanjian dan/atau dokumen Transaksi Keuangan.\\n\\nQuestion: Apakah ruang lingkup Layanan Pengaduan mencakup audit internal?\\nAnswer:   \n",
       "\n",
       "                                                                                                                                                                                                                                                                                                                                   completion  \n",
       "1582   Audit Intern adalah kegiatan pemberian keyakinan dan konsultasi yang bersifat independen dan objektif, dengan tujuan untuk meningkatkan nilai dan memperbaiki operasional Bank, melalui pendekatan yang sistematis, dengan cara mengevaluasi dan meningkatkan efektivitas manajemen risiko, pengendalian, dan proses tata kelola Bank.  \n",
       "2669                                                                                                                                                                                                                                                                        Saya tidak tahu terkait kategori penilaian untuk modal pelengkap.  \n",
       "2091                                                                                                                                                                                                                                                         Saya tidak tahu terkait ruang lingkup Layanan Pengaduan mencakup audit internal.  "
      ]
     },
     "execution_count": 5,
     "metadata": {},
     "output_type": "execute_result"
    }
   ],
   "source": [
    "df = pd.read_json(DATASET_PATH, lines=True)\n",
    "print(f\"Total examples: {len(df)}\")\n",
    "df.sample(3)"
   ]
  },
  {
   "cell_type": "markdown",
   "id": "4cf425b3",
   "metadata": {},
   "source": [
    "## **Generate Rejected Responses & Build Preference Pairs**"
   ]
  },
  {
   "cell_type": "code",
   "execution_count": null,
   "id": "117a1549",
   "metadata": {},
   "outputs": [
    {
     "name": "stdout",
     "output_type": "stream",
     "text": [
      "\n",
      "▶ Generating rejected responses with SFT Sahabat-AI-8B\n",
      "[2025-06-08 07:58:52,071] [INFO] [real_accelerator.py:239:get_accelerator] Setting ds_accelerator to cuda (auto detect)\n"
     ]
    },
    {
     "name": "stderr",
     "output_type": "stream",
     "text": [
      "/usr/bin/ld: cannot find -laio: No such file or directory\n",
      "collect2: error: ld returned 1 exit status\n",
      "/usr/bin/ld: cannot find -laio: No such file or directory\n",
      "collect2: error: ld returned 1 exit status\n",
      "Loading checkpoint shards: 100%|██████████| 4/4 [00:14<00:00,  3.53s/it]\n",
      "Inferring Sahabat-AI-8B:  14%|█▎        | 13/96 [2:08:26<15:02:32, 652.44s/it]"
     ]
    }
   ],
   "source": [
    "# kita pakai satu SFT model (atau bisa loop jika mau multi-model)\n",
    "for model_key, sft_path in SFT_MODEL_NAMES.items():\n",
    "    print(f\"\\n▶ Generating rejected responses with SFT {model_key}\")\n",
    "    tokenizer_dir = os.path.join(CACHE_FOLDER, model_key)\n",
    "    tokenizer, model = load_sft_model_and_tokenizer(\n",
    "        sft_path, tokenizer_dir, hf_token=os.getenv(\"HF_TOKEN\")\n",
    "    )\n",
    "\n",
    "    output_path = f\"preference_{model_key}.jsonl\"\n",
    "\n",
    "    # warm-up…\n",
    "    _ = model.generate(\n",
    "        **tokenizer(\"Warm up\", return_tensors=\"pt\").to(model.device),\n",
    "        max_new_tokens=1,\n",
    "        pad_token_id=tokenizer.eos_token_id\n",
    "    )\n",
    "\n",
    "    records = []\n",
    "    start = time.time()\n",
    "    for i in tqdm(range(0, len(df), BATCH_SIZE), desc=f\"Inferring {model_key}\"):\n",
    "        batch   = df.iloc[i : i + BATCH_SIZE]\n",
    "        prompts = batch[\"prompt\"].tolist()\n",
    "        preds   = generate_sft_batch(tokenizer, model, prompts)\n",
    "\n",
    "        for prompt, chosen, rejected in zip(prompts, batch[\"completion\"], preds):\n",
    "            records.append({\n",
    "                \"prompt\":   prompt,\n",
    "                \"chosen\":   chosen,\n",
    "                \"rejected\": rejected\n",
    "            })\n",
    "\n",
    "    print(f\"→ Inference time: {time.time()-start:.1f}s, total pairs: {len(records)}\")\n",
    "\n",
    "    # simpan raw preference file per model\n",
    "    with open(output_path, \"w\", encoding=\"utf-8\") as f:\n",
    "        for rec in records:\n",
    "            f.write(json.dumps(rec, ensure_ascii=False) + \"\\n\")\n",
    "    print(f\"✔️ Saved raw preference dataset to `{output_path}`\")\n",
    "\n",
    "    # cleaning duplicates\n",
    "    df_pref = pd.read_json(output_path, lines=True)\n",
    "    mask_same = df_pref[\"chosen\"].str.strip() == df_pref[\"rejected\"].str.strip()\n",
    "    df_clean = df_pref[~mask_same].reset_index(drop=True)\n",
    "    clean_path = output_path.replace(\".jsonl\", \"_clean.jsonl\")\n",
    "    df_clean.to_json(clean_path, orient=\"records\", lines=True, force_ascii=False)\n",
    "    print(f\"✔️ Cleaned preference dataset saved to `{clean_path}`\")\n",
    "\n",
    "    # tampil sampel\n",
    "    display(df_clean.sample(5).reset_index(drop=True))\n",
    "\n",
    "    # selesai untuk model ini\n",
    "    del model, tokenizer\n",
    "    torch.cuda.empty_cache()\n",
    "    gc.collect()"
   ]
  },
  {
   "cell_type": "code",
   "execution_count": null,
   "id": "b1236801",
   "metadata": {},
   "outputs": [],
   "source": [
    "import signal\n",
    "\n",
    "os.kill(os.getpid(), signal.SIGTERM)"
   ]
  },
  {
   "cell_type": "code",
   "execution_count": null,
   "id": "eb829a26",
   "metadata": {},
   "outputs": [],
   "source": []
  }
 ],
 "metadata": {
  "kernelspec": {
   "display_name": "Python (rlaifenv )",
   "language": "python",
   "name": "rlaifenv"
  },
  "language_info": {
   "codemirror_mode": {
    "name": "ipython",
    "version": 3
   },
   "file_extension": ".py",
   "mimetype": "text/x-python",
   "name": "python",
   "nbconvert_exporter": "python",
   "pygments_lexer": "ipython3",
   "version": "3.10.16"
  }
 },
 "nbformat": 4,
 "nbformat_minor": 5
}
